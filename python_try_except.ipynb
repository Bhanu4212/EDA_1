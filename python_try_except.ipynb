{
 "cells": [
  {
   "cell_type": "code",
   "execution_count": 2,
   "id": "e0f20108-a5f3-4f45-8a99-af8a04844ca5",
   "metadata": {},
   "outputs": [
    {
     "name": "stdin",
     "output_type": "stream",
     "text": [
      "enter the number1 20\n",
      "enter the number2 ten\n"
     ]
    },
    {
     "name": "stdout",
     "output_type": "stream",
     "text": [
      "name 'ten' is not defined\n"
     ]
    }
   ],
   "source": [
    "try:\n",
    "    number1=eval(input('enter the number1'))\n",
    "    number2=eval(input('enter the number2'))\n",
    "    number3=eval(input('enter the number3'))\n",
    "    total=number1+number2+number3\n",
    "    average=number1+number2+number3/3\n",
    "    print(f'the total of numbers is:{total}')\n",
    "    print(f'the average of number is:{average}')\n",
    "except  Exception as e:\n",
    "    print(e)\n",
    "    "
   ]
  },
  {
   "cell_type": "code",
   "execution_count": 4,
   "id": "4ae4fd11-e60c-4a38-a6ba-5b3da354c7f3",
   "metadata": {},
   "outputs": [
    {
     "name": "stdin",
     "output_type": "stream",
     "text": [
      "enter the number1: 20\n",
      "enter the number2: ten\n"
     ]
    },
    {
     "name": "stdout",
     "output_type": "stream",
     "text": [
      "name 'ten' is not defined\n"
     ]
    }
   ],
   "source": [
    "try:\n",
    "    num1=eval(input(\"enter the number1:\"))\n",
    "    num2=eval(input(\"enter the number2:\"))\n",
    "    add=(num1)+(num2)\n",
    "    sub=(num1)-(num2)\n",
    "    multi=(num1)*(num2)\n",
    "    div=(num1)/(num2)\n",
    "    print(f'the addition of num1 and num2 is:{add}')\n",
    "    print(f'the subtraction of num1 and num2 is:{sub}')\n",
    "    print(f'the multiplication of num1 and num2 is:{multi}')\n",
    "    print(f'the division of num1 and num2 is:{div}')\n",
    "except Exception as e:\n",
    "    print(e)"
   ]
  },
  {
   "cell_type": "code",
   "execution_count": 9,
   "id": "105c76f5-6205-4f2a-8426-f817f4cfb1c6",
   "metadata": {},
   "outputs": [
    {
     "name": "stdin",
     "output_type": "stream",
     "text": [
      "enter the number1: 67\n",
      "enter the number2: three\n"
     ]
    },
    {
     "name": "stdout",
     "output_type": "stream",
     "text": [
      "name 'three' is not defined\n"
     ]
    }
   ],
   "source": [
    "try:\n",
    "    radius=eval(input(\"enter the number1:\"))\n",
    "    pi_value=eval(input(\"enter the number2:\"))\n",
    "    area=radius*radius*pi_value\n",
    "    print(f'the area of a circle is:{area}')\n",
    "except Exception as e:\n",
    "    print(e)\n"
   ]
  },
  {
   "cell_type": "code",
   "execution_count": null,
   "id": "d006e91c-5f13-4598-846a-8cda89004e06",
   "metadata": {},
   "outputs": [],
   "source": []
  }
 ],
 "metadata": {
  "kernelspec": {
   "display_name": "Python 3 (ipykernel)",
   "language": "python",
   "name": "python3"
  },
  "language_info": {
   "codemirror_mode": {
    "name": "ipython",
    "version": 3
   },
   "file_extension": ".py",
   "mimetype": "text/x-python",
   "name": "python",
   "nbconvert_exporter": "python",
   "pygments_lexer": "ipython3",
   "version": "3.11.7"
  }
 },
 "nbformat": 4,
 "nbformat_minor": 5
}
