{
 "cells": [
  {
   "cell_type": "code",
   "execution_count": 2,
   "id": "8432c3cc-c21e-47c5-bbe1-ef345bff5776",
   "metadata": {},
   "outputs": [
    {
     "name": "stdout",
     "output_type": "stream",
     "text": [
      "3\n"
     ]
    }
   ],
   "source": [
    "#Q14 string1='ola ola ola'\n",
    "#number of ola =3\n",
    "count=0\n",
    "s1='ola ola ola'\n",
    "s2=s1.split()\n",
    "for i in range(len(s2)):\n",
    "    if 'ola' in s2:\n",
    "        count=count+1\n",
    "print(count)\n"
   ]
  },
  {
   "cell_type": "code",
   "execution_count": 9,
   "id": "0acf4bc1-ce01-48f0-8743-f904aeae1ce8",
   "metadata": {},
   "outputs": [
    {
     "name": "stdout",
     "output_type": "stream",
     "text": [
      "how == 4\n"
     ]
    }
   ],
   "source": [
    "#Q15 string1='hello hello hello how how how how how are you'\n",
    "#what is the most repeated word :how\n",
    "\n",
    "s11='hello hello hello how how how how are you'\n",
    "s22=s11.split()\n",
    "list=[]\n",
    "b=0\n",
    "for i in s22:\n",
    "    if i in s22:\n",
    "       if i not in list:\n",
    "          list+=[i]\n",
    "list\n",
    "ide=''\n",
    "for i in list:\n",
    "    count=0\n",
    "    for j in s22:\n",
    "        if i==j:\n",
    "           count+=1\n",
    "           if count>b:\n",
    "               b=count\n",
    "               ide=i\n",
    "print(ide,\"==\",b)\n"
   ]
  },
  {
   "cell_type": "code",
   "execution_count": 11,
   "id": "a4e5d663-6917-4e9e-ae98-3c6a666abf0c",
   "metadata": {},
   "outputs": [
    {
     "name": "stdout",
     "output_type": "stream",
     "text": [
      "hello\n",
      "u\n"
     ]
    }
   ],
   "source": [
    "#Q16 string1='helllo how are u'\n",
    "# what is max length of word : hello\n",
    "# what is min length of word : u\n",
    "\n",
    "str1='hello how are u'\n",
    "str2=str1.split()\n",
    "for j in range(len(str2)-1):\n",
    "    for i in range(len(str2)-1):\n",
    "        if len(str2[i])<len(str2[i+1]):\n",
    "            c=str2[i]\n",
    "            str2[i]=str2[i+1]\n",
    "            str2[i+1]=c\n",
    "print(str2[0])\n",
    "print(str2[len(str2)-1])"
   ]
  },
  {
   "cell_type": "code",
   "execution_count": 2,
   "id": "51994dee-c6d4-4182-aa85-9b1bf2edba38",
   "metadata": {},
   "outputs": [
    {
     "name": "stdout",
     "output_type": "stream",
     "text": [
      "['U', 'N', 'H', 'B', 'A']\n"
     ]
    }
   ],
   "source": [
    "#**Q17 sort the letters without using sorted\n",
    "str3='BHANU'\n",
    "list3=[]\n",
    "for i in str3 :\n",
    "    list3+=[i]\n",
    "for k in range(len(list3)-1):\n",
    "    for j in range(len(list3)-1):\n",
    "        if list3[j]<list3[j+1]:\n",
    "            d=list3[j]\n",
    "            list3[j]=list3[j+1]\n",
    "            list3[j+1]=d\n",
    "print(list3)"
   ]
  },
  {
   "cell_type": "code",
   "execution_count": null,
   "id": "f04ce723-a87e-45c0-96fc-85c5f7bc022a",
   "metadata": {},
   "outputs": [],
   "source": []
  }
 ],
 "metadata": {
  "kernelspec": {
   "display_name": "Python 3 (ipykernel)",
   "language": "python",
   "name": "python3"
  },
  "language_info": {
   "codemirror_mode": {
    "name": "ipython",
    "version": 3
   },
   "file_extension": ".py",
   "mimetype": "text/x-python",
   "name": "python",
   "nbconvert_exporter": "python",
   "pygments_lexer": "ipython3",
   "version": "3.11.7"
  }
 },
 "nbformat": 4,
 "nbformat_minor": 5
}
