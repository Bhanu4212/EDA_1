{
 "cells": [
  {
   "cell_type": "markdown",
   "id": "8f2d45d7-37de-4549-b49a-e567a2e17700",
   "metadata": {},
   "source": [
    "**FUNCTIONS**\n",
    "- A BLOCK of code which we can use many times"
   ]
  },
  {
   "cell_type": "code",
   "execution_count": 1,
   "id": "eb51018e-77d0-4a58-8184-d97b561de231",
   "metadata": {},
   "outputs": [],
   "source": [
    "def addition():\n",
    "    num1=10\n",
    "    num2=20\n",
    "    add=num1+num2\n",
    "    print(add)"
   ]
  },
  {
   "cell_type": "code",
   "execution_count": 2,
   "id": "98bd8b52-6634-44db-b2b3-b87856d885e1",
   "metadata": {},
   "outputs": [
    {
     "name": "stdout",
     "output_type": "stream",
     "text": [
      "30\n"
     ]
    }
   ],
   "source": [
    "addition()"
   ]
  },
  {
   "cell_type": "code",
   "execution_count": 6,
   "id": "31b9e94f-47fb-4b53-80a5-f7fa16146f44",
   "metadata": {},
   "outputs": [],
   "source": [
    "#function name and variable name should not be same \n",
    "def average():\n",
    "    num1=10\n",
    "    num2=20\n",
    "    num3=30\n",
    "    avg=num1+num2+num3/3\n",
    "    avg1=round(avg,2)\n",
    "    print(f' the avg of {num1} and {num2} and {num3} is: {avg1}')"
   ]
  },
  {
   "cell_type": "code",
   "execution_count": 5,
   "id": "35fd3b67-08c1-41b7-8bc8-416aa599912c",
   "metadata": {},
   "outputs": [
    {
     "name": "stdout",
     "output_type": "stream",
     "text": [
      " the avg of 10 and 20 and 30 is: 40.0\n"
     ]
    }
   ],
   "source": [
    "average()"
   ]
  },
  {
   "cell_type": "code",
   "execution_count": 7,
   "id": "6d69356a-4dcf-4336-ab75-095009fda0f3",
   "metadata": {},
   "outputs": [],
   "source": [
    "def area():\n",
    "    radius=eval(input('enter a radius value'))\n",
    "    pi=3.14\n",
    "    area=radius*radius*pi\n",
    "    print(f'the area of a circle is:{area}')"
   ]
  },
  {
   "cell_type": "code",
   "execution_count": 8,
   "id": "6b08e12e-7228-401f-8fdd-589aace3f3fe",
   "metadata": {},
   "outputs": [
    {
     "name": "stdin",
     "output_type": "stream",
     "text": [
      "enter a radius value 25.2\n"
     ]
    },
    {
     "name": "stdout",
     "output_type": "stream",
     "text": [
      "the area of a circle is:1994.0256\n"
     ]
    }
   ],
   "source": [
    "area()"
   ]
  },
  {
   "cell_type": "code",
   "execution_count": 9,
   "id": "14bd1628-54c6-4cbb-8b72-67d35bccbdef",
   "metadata": {},
   "outputs": [
    {
     "name": "stdin",
     "output_type": "stream",
     "text": [
      "enter height of the triangle 25\n",
      "enter base of the triangle 36\n"
     ]
    },
    {
     "name": "stdout",
     "output_type": "stream",
     "text": [
      "area of triangle is:900\n"
     ]
    }
   ],
   "source": [
    "height=eval(input('enter height of the triangle'))\n",
    "base=eval(input('enter base of the triangle'))\n",
    "area=height*base\n",
    "print(f'area of triangle is:{area}')"
   ]
  },
  {
   "cell_type": "code",
   "execution_count": 10,
   "id": "dca18430-f3d6-4cf7-985f-0f1a2b1e2b24",
   "metadata": {},
   "outputs": [],
   "source": [
    "def area():\n",
    "    height=eval(input('enter height of the triangle'))\n",
    "    base=eval(input('enter base of the triangle'))\n",
    "    area=height*base\n",
    "    print(f'area of triangle is:{area}')"
   ]
  },
  {
   "cell_type": "code",
   "execution_count": 11,
   "id": "17602816-c4e7-4f27-8a2e-4f9ce6055638",
   "metadata": {},
   "outputs": [
    {
     "name": "stdin",
     "output_type": "stream",
     "text": [
      "enter height of the triangle 20.5\n",
      "enter base of the triangle 36\n"
     ]
    },
    {
     "name": "stdout",
     "output_type": "stream",
     "text": [
      "area of triangle is:738.0\n"
     ]
    }
   ],
   "source": [
    "area()"
   ]
  },
  {
   "cell_type": "code",
   "execution_count": null,
   "id": "a678ce26-167f-4a0a-af3b-69d1cedb6615",
   "metadata": {},
   "outputs": [],
   "source": [
    "bill_amount=eval(input(\"enter tha bill amount\"))\n",
    "pr"
   ]
  },
  {
   "cell_type": "markdown",
   "id": "58a6796d-4913-4627-ae43-2f2c49815902",
   "metadata": {},
   "source": [
    "** functions with argument**\n",
    "   - first look at how many arguments or variables are there\n",
    " -  in  that how many input variable are  there\n",
    " -  how "
   ]
  },
  {
   "cell_type": "code",
   "execution_count": 13,
   "id": "56ec7de9-26ef-4d19-88dd-673f53d06106",
   "metadata": {},
   "outputs": [],
   "source": [
    "def addition2(num1,num2):\n",
    "    add=num1+num2\n",
    "    print(f' the addition of num1 and num2 is:{add}')"
   ]
  },
  {
   "cell_type": "code",
   "execution_count": 14,
   "id": "040c3b48-41e4-4e0d-973c-327efc4b1e7e",
   "metadata": {},
   "outputs": [
    {
     "name": "stdout",
     "output_type": "stream",
     "text": [
      " the addition of num1 and num2 is:30\n"
     ]
    }
   ],
   "source": [
    "addition2(10,20)"
   ]
  },
  {
   "cell_type": "code",
   "execution_count": 15,
   "id": "890f7068-58ae-43ee-8f92-6cf14c7f3a35",
   "metadata": {},
   "outputs": [],
   "source": [
    "#function name and variable name should not be same \n",
    "def average(num1,num2,num3):\n",
    "    avg=num1+num2+num3/3\n",
    "    avg1=round(avg,2)\n",
    "    print(f' the avg of {num1} and {num2} and {num3} is: {avg1}')"
   ]
  },
  {
   "cell_type": "code",
   "execution_count": 16,
   "id": "4edf3d31-949a-4d66-9f13-ea5e23c2beec",
   "metadata": {},
   "outputs": [
    {
     "name": "stdout",
     "output_type": "stream",
     "text": [
      " the avg of 20 and 30 and 60 is: 70.0\n"
     ]
    }
   ],
   "source": [
    "average(20,30,60)"
   ]
  },
  {
   "cell_type": "code",
   "execution_count": 17,
   "id": "208cc311-eea3-4e26-94c6-15afdc2ec3e9",
   "metadata": {},
   "outputs": [],
   "source": [
    "def area_triangle(height,base):\n",
    "    area=height*base\n",
    "    print(f'area of triangle is:{area}')"
   ]
  },
  {
   "cell_type": "code",
   "execution_count": 20,
   "id": "5e7278f1-26a0-455e-bab9-fb24b669efef",
   "metadata": {},
   "outputs": [
    {
     "name": "stdout",
     "output_type": "stream",
     "text": [
      "area of triangle is:720\n"
     ]
    }
   ],
   "source": [
    "area_triangle(20,36)"
   ]
  },
  {
   "cell_type": "code",
   "execution_count": 21,
   "id": "e80ea213-d564-449f-bfaa-dcec4f2d76ea",
   "metadata": {},
   "outputs": [],
   "source": [
    "def area_circle(radius,pi):\n",
    "    area=radius*radius*pi\n",
    "    print(f'area of circle is:{area}')"
   ]
  },
  {
   "cell_type": "code",
   "execution_count": 22,
   "id": "bb3e43ff-e517-4f2a-b461-7937799300ef",
   "metadata": {},
   "outputs": [
    {
     "name": "stdout",
     "output_type": "stream",
     "text": [
      "area of circle is:4069.44\n"
     ]
    }
   ],
   "source": [
    "area_circle(36,3.14)"
   ]
  },
  {
   "cell_type": "markdown",
   "id": "8980aa14-fe85-411b-8bf0-f7266d39bf3e",
   "metadata": {},
   "source": [
    "- do not give function name and variable name same"
   ]
  },
  {
   "cell_type": "code",
   "execution_count": 3,
   "id": "33662c6b-6341-497d-bca7-5204d2eeccb3",
   "metadata": {},
   "outputs": [
    {
     "name": "stdin",
     "output_type": "stream",
     "text": [
      "enter bill amount 25336\n",
      "enter percentage 15\n"
     ]
    },
    {
     "name": "stdout",
     "output_type": "stream",
     "text": [
      "the total bill is:29136.4\n"
     ]
    }
   ],
   "source": [
    "\n",
    "#bill amount problem\n",
    "\n",
    "bill=eval(input('enter bill amount'))\n",
    "tip_percentage=eval(input('enter percentage'))\n",
    "tip_amount=bill*tip_percentage/100\n",
    "total=bill+tip_amount\n",
    "print(f'the total bill is:{total}')"
   ]
  },
  {
   "cell_type": "code",
   "execution_count": 4,
   "id": "fe406313-a5ca-4c72-8345-da7c2f604890",
   "metadata": {},
   "outputs": [],
   "source": [
    "def bill():\n",
    "    bill=eval(input('enter bill amount'))\n",
    "    tip_percentage=eval(input('enter percentage'))\n",
    "    tip_amount=bill*tip_percentage/100\n",
    "    total=bill+tip_amount\n",
    "    print(f'the total bill is:{total}')"
   ]
  },
  {
   "cell_type": "code",
   "execution_count": 5,
   "id": "aa923086-35cc-4277-876c-87e04fda08b3",
   "metadata": {},
   "outputs": [
    {
     "name": "stdin",
     "output_type": "stream",
     "text": [
      "enter bill amount 2536\n",
      "enter percentage 15\n"
     ]
    },
    {
     "name": "stdout",
     "output_type": "stream",
     "text": [
      "the total bill is:2916.4\n"
     ]
    }
   ],
   "source": [
    "bill()"
   ]
  },
  {
   "cell_type": "code",
   "execution_count": 12,
   "id": "864b0b66-4813-4ff5-8e12-4323c999f394",
   "metadata": {},
   "outputs": [],
   "source": [
    "def amount(bill,tip_percentage):\n",
    "    tip_amount=bill*tip_percentage/100\n",
    "    total=bill+tip_amount\n",
    "    print('the total bill is:',total)"
   ]
  },
  {
   "cell_type": "code",
   "execution_count": 13,
   "id": "b8f4fb6b-be4e-416a-87b6-a9822ecbae36",
   "metadata": {},
   "outputs": [
    {
     "name": "stdout",
     "output_type": "stream",
     "text": [
      "the total bill is: 2909.5\n"
     ]
    }
   ],
   "source": [
    "amount(2530,15)"
   ]
  },
  {
   "cell_type": "code",
   "execution_count": 22,
   "id": "f7e8520f-6336-4a26-8f03-daa719ffc5b8",
   "metadata": {},
   "outputs": [],
   "source": [
    "def average(num1,num2,num3=50):\n",
    "    print('num1',num1)\n",
    "    print('num2',num2)\n",
    "    print('num3',num3)\n",
    "    avg=(num1+num2+num3)/3\n",
    "    avg1=round(avg,3)\n",
    "    print(f'the average of {num1} ,{num2} and {num3} is:{avg1}')"
   ]
  },
  {
   "cell_type": "code",
   "execution_count": 23,
   "id": "be28b908-aa22-494d-a439-6469efd21847",
   "metadata": {},
   "outputs": [
    {
     "name": "stdout",
     "output_type": "stream",
     "text": [
      "num1 20\n",
      "num2 30\n",
      "num3 50\n",
      "the average of 20 ,30 and 50 is:33.333\n"
     ]
    }
   ],
   "source": [
    "average(20,30)"
   ]
  },
  {
   "cell_type": "markdown",
   "id": "4d220d52-aea9-4224-b6b4-4be8a1c2adbe",
   "metadata": {},
   "source": [
    "**note**\n",
    "- default arguments  always at last "
   ]
  },
  {
   "cell_type": "markdown",
   "id": "133fb9fb-0b55-4ed7-ab25-e32218c7d77e",
   "metadata": {},
   "source": [
    "average1(num1,num2,num3=50)  #w\n",
    "average1(num1,num2=30,num3)   #f\n",
    "average1(num1=10,num2,num3)    #f\n",
    "average1(num1,num2=20,num3=28)    #W\n",
    "average1(num1=15,num2,num3=80)    #f\n",
    "average1(num1=5,num2=25,num3=50)   #W"
   ]
  },
  {
   "cell_type": "code",
   "execution_count": 27,
   "id": "dbece2fc-5629-476b-a082-cf55d9131796",
   "metadata": {},
   "outputs": [],
   "source": [
    "#case1\n",
    "def addition(n1,n2=600):\n",
    "    add=n1+n2\n",
    "    print(add)"
   ]
  },
  {
   "cell_type": "code",
   "execution_count": 28,
   "id": "652b3c03-8c02-4021-8a95-d71527d86411",
   "metadata": {},
   "outputs": [
    {
     "name": "stdout",
     "output_type": "stream",
     "text": [
      "1100\n"
     ]
    }
   ],
   "source": [
    "addition(500)"
   ]
  },
  {
   "cell_type": "code",
   "execution_count": 29,
   "id": "f0c47a4c-2914-4c3e-b6a1-cb2f89c0ac5e",
   "metadata": {},
   "outputs": [],
   "source": [
    "def addition(n1,n2=1000):\n",
    "    add=n1+n2\n",
    "    print(add)"
   ]
  },
  {
   "cell_type": "code",
   "execution_count": 30,
   "id": "fac6216a-2365-4033-9e6e-b65da8673bdf",
   "metadata": {},
   "outputs": [
    {
     "name": "stdout",
     "output_type": "stream",
     "text": [
      "1500\n"
     ]
    }
   ],
   "source": [
    "addition(500)"
   ]
  },
  {
   "cell_type": "code",
   "execution_count": null,
   "id": "e34387de-d13d-4060-8d59-c6a1b25f5323",
   "metadata": {},
   "outputs": [],
   "source": [
    "# f1rst we are defining function\n",
    "#while define the function we given n2=600\n",
    "# now we are calling  the function,\n",
    "# while wwe are calling n2=1000\n",
    "#python always takes latest value\n",
    "# so we will overright"
   ]
  },
  {
   "cell_type": "code",
   "execution_count": 32,
   "id": "d556d726-f2a4-4bb3-ac22-ef22720dd679",
   "metadata": {},
   "outputs": [
    {
     "name": "stdout",
     "output_type": "stream",
     "text": [
      "2500\n"
     ]
    }
   ],
   "source": [
    "def addition(n1,n2=600):\n",
    "    n2=2000\n",
    "    add=n1+n2\n",
    "    print(add)\n",
    "\n",
    "\n",
    "addition(500,1000)"
   ]
  },
  {
   "cell_type": "markdown",
   "id": "8ad9d3d0-1e21-4888-b03b-421089c9e202",
   "metadata": {},
   "source": [
    "#step1- define the function\n",
    "#step2- call the function\n",
    "#step3- run the function"
   ]
  },
  {
   "cell_type": "code",
   "execution_count": 35,
   "id": "fa6d4070-f996-4f17-9bc6-e888274d3ebe",
   "metadata": {},
   "outputs": [
    {
     "name": "stdout",
     "output_type": "stream",
     "text": [
      "2500\n"
     ]
    }
   ],
   "source": [
    " # case-4\n",
    "def addition(n1,n2=1000):\n",
    "    n2=2000\n",
    "    add=n1+n2\n",
    "    print(add)\n",
    "n2=3000\n",
    "\n",
    "addition(500,1000)"
   ]
  },
  {
   "cell_type": "markdown",
   "id": "54af85d0-5b63-48b5-bf52-10d9e3c161be",
   "metadata": {},
   "source": [
    "**local variable and global variable**\n",
    "- local variable means the variables inside function call\n",
    "- global variable means the variable is outside the fuction call\n",
    "- once you define the variables outside means, you can use those variables \n",
    "- you can use global variables inside function call but local variable cannot be used outside the function call"
   ]
  },
  {
   "cell_type": "code",
   "execution_count": 41,
   "id": "0771ce98-4573-4589-b0ba-44808b6467ab",
   "metadata": {},
   "outputs": [
    {
     "name": "stdout",
     "output_type": "stream",
     "text": [
      "150\n"
     ]
    }
   ],
   "source": [
    "def multiplication():\n",
    "    a=10\n",
    "    b=15\n",
    "    mul=a*b\n",
    "    print(mul)\n",
    "\n",
    "multiplication()\n",
    "\n",
    "# a,b are local variable\n",
    "# these values "
   ]
  },
  {
   "cell_type": "code",
   "execution_count": 38,
   "id": "4334fd48-7027-4a1f-82b4-8935e7e099d7",
   "metadata": {},
   "outputs": [
    {
     "name": "stdout",
     "output_type": "stream",
     "text": [
      "150\n"
     ]
    }
   ],
   "source": [
    "a=10\n",
    "b=20\n",
    "def multiplication1():\n",
    "    mult=a*b\n",
    "    print(mult)\n",
    "\n",
    "multiplication()"
   ]
  },
  {
   "cell_type": "code",
   "execution_count": 40,
   "id": "e0852243-a7ba-4e88-a8aa-34c659b966c7",
   "metadata": {},
   "outputs": [
    {
     "data": {
      "text/plain": [
       "10"
      ]
     },
     "execution_count": 40,
     "metadata": {},
     "output_type": "execute_result"
    }
   ],
   "source": [
    "a"
   ]
  },
  {
   "cell_type": "code",
   "execution_count": 46,
   "id": "6b5bccb5-278c-4482-a5c0-cda608d39741",
   "metadata": {},
   "outputs": [
    {
     "name": "stdout",
     "output_type": "stream",
     "text": [
      "1200\n"
     ]
    }
   ],
   "source": [
    "a=100\n",
    "b=200\n",
    "def add1(a=1000):\n",
    "    add=a+b\n",
    "    print(add)\n",
    "add1()\n",
    "\n",
    "# step 1- global variable intialization\n",
    "# step 2- define function\n",
    "# step 3- call the function\n",
    "# step 4- run the function\n"
   ]
  },
  {
   "cell_type": "code",
   "execution_count": 1,
   "id": "71bc1386-6bbd-4a71-99be-7eaf3e366070",
   "metadata": {},
   "outputs": [
    {
     "ename": "TypeError",
     "evalue": "add1() got an unexpected keyword argument 'b1'",
     "output_type": "error",
     "traceback": [
      "\u001b[1;31m---------------------------------------------------------------------------\u001b[0m",
      "\u001b[1;31mTypeError\u001b[0m                                 Traceback (most recent call last)",
      "Cell \u001b[1;32mIn[1], line 6\u001b[0m\n\u001b[0;32m      4\u001b[0m     add\u001b[38;5;241m=\u001b[39ma1\u001b[38;5;241m+\u001b[39mb1\n\u001b[0;32m      5\u001b[0m     \u001b[38;5;28mprint\u001b[39m(add)\n\u001b[1;32m----> 6\u001b[0m add1(a1\u001b[38;5;241m=\u001b[39m\u001b[38;5;241m2000\u001b[39m,b1\u001b[38;5;241m=\u001b[39m\u001b[38;5;241m3000\u001b[39m)\n",
      "\u001b[1;31mTypeError\u001b[0m: add1() got an unexpected keyword argument 'b1'"
     ]
    }
   ],
   "source": [
    "a1=100\n",
    "b1=200\n",
    "def add1(a1=1000):\n",
    "    add=a1+b1\n",
    "    print(add)\n",
    "add1(a1=2000,b1=3000)\n",
    "\n",
    "# while defining function only one argument is there\n",
    "# while calling function we have two argument then it is not posible"
   ]
  },
  {
   "cell_type": "code",
   "execution_count": 49,
   "id": "384eb2d8-fd2c-4e71-983b-79dbad2fac65",
   "metadata": {},
   "outputs": [
    {
     "name": "stdout",
     "output_type": "stream",
     "text": [
      "2200\n"
     ]
    }
   ],
   "source": [
    "a1=100\n",
    "b1=200\n",
    "def add1(a1=1000):\n",
    "    add=a1+b1\n",
    "    print(add)\n",
    "add1(a1=2000)"
   ]
  },
  {
   "cell_type": "code",
   "execution_count": 51,
   "id": "baf60912-5ad6-4aa3-8ec6-e17366d8f9d4",
   "metadata": {},
   "outputs": [
    {
     "name": "stdout",
     "output_type": "stream",
     "text": [
      "6000\n"
     ]
    }
   ],
   "source": [
    "a1=100\n",
    "b1=200\n",
    "def add1(a1=1000,b1=3000):\n",
    "    add=a1+b1\n",
    "    print(add)\n",
    "add1(a1=2000,b1=4000)"
   ]
  },
  {
   "cell_type": "code",
   "execution_count": 53,
   "id": "9e063a8b-5adf-425f-971b-91412a72cb9b",
   "metadata": {},
   "outputs": [
    {
     "name": "stdout",
     "output_type": "stream",
     "text": [
      "5200\n"
     ]
    }
   ],
   "source": [
    "#case-8\n",
    "\n",
    "a1=100\n",
    "b1=200\n",
    "def add1(a1=1000):\n",
    "    a1=5000\n",
    "    add=a1+b1\n",
    "    print(add)\n",
    "add1(a1=2000)"
   ]
  },
  {
   "cell_type": "code",
   "execution_count": 54,
   "id": "932d1bbd-6d6c-4fc6-9399-67526106e5e9",
   "metadata": {},
   "outputs": [
    {
     "name": "stdout",
     "output_type": "stream",
     "text": [
      "5200\n"
     ]
    }
   ],
   "source": [
    "#case-9\n",
    "\n",
    "a1=100\n",
    "b1=200\n",
    "def add1(a1=1000):\n",
    "    a1=5000\n",
    "    add=a1+b1\n",
    "    print(add)\n",
    "a1=6000\n",
    "add1(a1=2000)"
   ]
  },
  {
   "cell_type": "code",
   "execution_count": 55,
   "id": "0f8d7f97-6fc6-43fd-840d-b59c8867c029",
   "metadata": {},
   "outputs": [
    {
     "data": {
      "text/plain": [
       "6000"
      ]
     },
     "execution_count": 55,
     "metadata": {},
     "output_type": "execute_result"
    }
   ],
   "source": [
    "a1"
   ]
  },
  {
   "cell_type": "code",
   "execution_count": 57,
   "id": "7134090c-6450-438f-9ba6-2590476f1534",
   "metadata": {},
   "outputs": [
    {
     "name": "stdout",
     "output_type": "stream",
     "text": [
      "6200\n"
     ]
    }
   ],
   "source": [
    "#case-10\n",
    "b1=200\n",
    "def add1():\n",
    "    add=a1+b1\n",
    "    print(add)\n",
    "a1=6000\n",
    "add1()\n",
    "\n",
    "# b1=200\n",
    "#define the function\n",
    "#call the function\n",
    "#run the function"
   ]
  },
  {
   "cell_type": "code",
   "execution_count": 4,
   "id": "46877046-93e1-44fe-86b0-42da9e793199",
   "metadata": {},
   "outputs": [
    {
     "name": "stdout",
     "output_type": "stream",
     "text": [
      "10\n"
     ]
    }
   ],
   "source": [
    "s1=0\n",
    "def add():\n",
    "    s=s1+10\n",
    "    print(s)\n",
    "add()"
   ]
  },
  {
   "cell_type": "code",
   "execution_count": 7,
   "id": "195de4ab-eca1-4f42-9d91-1c0c2f2c82c2",
   "metadata": {},
   "outputs": [
    {
     "ename": "UnboundLocalError",
     "evalue": "cannot access local variable 's' where it is not associated with a value",
     "output_type": "error",
     "traceback": [
      "\u001b[1;31m---------------------------------------------------------------------------\u001b[0m",
      "\u001b[1;31mUnboundLocalError\u001b[0m                         Traceback (most recent call last)",
      "Cell \u001b[1;32mIn[7], line 6\u001b[0m\n\u001b[0;32m      4\u001b[0m     s\u001b[38;5;241m=\u001b[39mc                \u001b[38;5;66;03m#lv\u001b[39;00m\n\u001b[0;32m      5\u001b[0m     \u001b[38;5;28mprint\u001b[39m(s)\n\u001b[1;32m----> 6\u001b[0m add()\n",
      "Cell \u001b[1;32mIn[7], line 3\u001b[0m, in \u001b[0;36madd\u001b[1;34m()\u001b[0m\n\u001b[0;32m      2\u001b[0m \u001b[38;5;28;01mdef\u001b[39;00m \u001b[38;5;21madd\u001b[39m():\n\u001b[1;32m----> 3\u001b[0m     c\u001b[38;5;241m=\u001b[39ms\u001b[38;5;241m+\u001b[39m\u001b[38;5;241m10\u001b[39m\n\u001b[0;32m      4\u001b[0m     s\u001b[38;5;241m=\u001b[39mc                \u001b[38;5;66;03m#lv\u001b[39;00m\n\u001b[0;32m      5\u001b[0m     \u001b[38;5;28mprint\u001b[39m(s)\n",
      "\u001b[1;31mUnboundLocalError\u001b[0m: cannot access local variable 's' where it is not associated with a value"
     ]
    }
   ],
   "source": [
    "s=0                         #gv\n",
    "def add():\n",
    "    c=s+10\n",
    "    s=c                #lv\n",
    "    print(s)\n",
    "add()"
   ]
  },
  {
   "cell_type": "code",
   "execution_count": 8,
   "id": "e15c9af2-3aca-48d8-8420-e1d5e7c0f82e",
   "metadata": {},
   "outputs": [
    {
     "name": "stdout",
     "output_type": "stream",
     "text": [
      "300 100 200\n"
     ]
    }
   ],
   "source": [
    "m1=10\n",
    "def addition():\n",
    "    m1=100\n",
    "    m2=200\n",
    "    m3=m1+m2\n",
    "    print(m3,m1,m2)\n",
    "addition()"
   ]
  },
  {
   "cell_type": "code",
   "execution_count": 15,
   "id": "e5debe16-8401-4618-b639-c13d57c60b92",
   "metadata": {},
   "outputs": [
    {
     "name": "stdout",
     "output_type": "stream",
     "text": [
      "100 200 300\n"
     ]
    }
   ],
   "source": [
    "n16=10\n",
    "def addition():\n",
    "    n16=100\n",
    "    n26=200\n",
    "    n36=n16+n26\n",
    "    print(n16,n26,n36)\n",
    "addition()\n",
    "\n",
    "#n16=10\n",
    "#define a function\n",
    "#call the function\n",
    "#run the function\n",
    "#n16is global variable passing inside the function\n",
    "#n26 is local variable"
   ]
  },
  {
   "cell_type": "markdown",
   "id": "9f683791-fbfb-4f9a-8944-d3864a9f31b6",
   "metadata": {},
   "source": [
    "**Global**\n",
    "- Global keyword is used to take the local variable value outside the function"
   ]
  },
  {
   "cell_type": "code",
   "execution_count": 16,
   "id": "c7ff1bb6-b43f-4649-a424-41f603b39715",
   "metadata": {},
   "outputs": [
    {
     "name": "stdout",
     "output_type": "stream",
     "text": [
      "hello\n"
     ]
    }
   ],
   "source": [
    "value=100\n",
    "def greet():\n",
    "    global value\n",
    "    value=200\n",
    "    print('hello')\n",
    "greet()"
   ]
  },
  {
   "cell_type": "code",
   "execution_count": 17,
   "id": "fb1ad12c-7c08-452d-a6b1-8d6b973c8fd7",
   "metadata": {},
   "outputs": [
    {
     "data": {
      "text/plain": [
       "200"
      ]
     },
     "execution_count": 17,
     "metadata": {},
     "output_type": "execute_result"
    }
   ],
   "source": [
    "value"
   ]
  },
  {
   "cell_type": "code",
   "execution_count": 18,
   "id": "049da992-117d-4051-93c9-099e630626b0",
   "metadata": {},
   "outputs": [
    {
     "name": "stdout",
     "output_type": "stream",
     "text": [
      "100 200 300\n"
     ]
    }
   ],
   "source": [
    "n16=10\n",
    "def addition():\n",
    "    n16=100\n",
    "    n26=200\n",
    "    n36=n16+n26\n",
    "    print(n16,n26,n36)\n",
    "addition()\n"
   ]
  },
  {
   "cell_type": "code",
   "execution_count": 19,
   "id": "9a5843b8-680c-418d-a562-fdebb465b5d6",
   "metadata": {},
   "outputs": [
    {
     "ename": "NameError",
     "evalue": "name 'n33' is not defined",
     "output_type": "error",
     "traceback": [
      "\u001b[1;31m---------------------------------------------------------------------------\u001b[0m",
      "\u001b[1;31mNameError\u001b[0m                                 Traceback (most recent call last)",
      "Cell \u001b[1;32mIn[19], line 1\u001b[0m\n\u001b[1;32m----> 1\u001b[0m n33\n",
      "\u001b[1;31mNameError\u001b[0m: name 'n33' is not defined"
     ]
    }
   ],
   "source": [
    "n33"
   ]
  },
  {
   "cell_type": "code",
   "execution_count": 24,
   "id": "6c4a9145-8182-4f71-86c9-67fbf4624fbe",
   "metadata": {},
   "outputs": [
    {
     "name": "stdout",
     "output_type": "stream",
     "text": [
      "100 200 300\n"
     ]
    }
   ],
   "source": [
    "n16=10\n",
    "def addition():\n",
    "    n16=100\n",
    "    global n26\n",
    "    n26=200\n",
    "    n36=n16+n26\n",
    "    print(n16,n26,n36)\n",
    "addition()"
   ]
  },
  {
   "cell_type": "code",
   "execution_count": 25,
   "id": "fa8687c9-66d0-403a-9ccc-7e65db3c2239",
   "metadata": {},
   "outputs": [
    {
     "data": {
      "text/plain": [
       "200"
      ]
     },
     "execution_count": 25,
     "metadata": {},
     "output_type": "execute_result"
    }
   ],
   "source": [
    "n26"
   ]
  },
  {
   "cell_type": "code",
   "execution_count": 33,
   "id": "346f99fa-a5a7-47a4-b33d-0fff7459581b",
   "metadata": {},
   "outputs": [
    {
     "name": "stdout",
     "output_type": "stream",
     "text": [
      "100 200 300\n"
     ]
    }
   ],
   "source": [
    "n16=10\n",
    "def addition():\n",
    "    n16=100\n",
    "    global n26,n36\n",
    "    n26=200\n",
    "    n36=n16+n26\n",
    "    print(n16,n26,n36)\n",
    "addition()"
   ]
  },
  {
   "cell_type": "code",
   "execution_count": 34,
   "id": "bacf1d9c-f058-4560-a4a7-cf9fc64db2a6",
   "metadata": {},
   "outputs": [
    {
     "data": {
      "text/plain": [
       "300"
      ]
     },
     "execution_count": 34,
     "metadata": {},
     "output_type": "execute_result"
    }
   ],
   "source": [
    "n36"
   ]
  },
  {
   "cell_type": "code",
   "execution_count": 35,
   "id": "f0dce190-64f1-46d4-8842-b18321bfda40",
   "metadata": {},
   "outputs": [
    {
     "data": {
      "text/plain": [
       "10"
      ]
     },
     "execution_count": 35,
     "metadata": {},
     "output_type": "execute_result"
    }
   ],
   "source": [
    "n16"
   ]
  },
  {
   "cell_type": "code",
   "execution_count": 36,
   "id": "c08d73fb-18b7-450b-b3b6-023e144d9fa2",
   "metadata": {},
   "outputs": [
    {
     "data": {
      "text/plain": [
       "200"
      ]
     },
     "execution_count": 36,
     "metadata": {},
     "output_type": "execute_result"
    }
   ],
   "source": [
    "n26"
   ]
  },
  {
   "cell_type": "code",
   "execution_count": 41,
   "id": "26be179b-215e-427c-88e8-045b08ecddd7",
   "metadata": {},
   "outputs": [
    {
     "name": "stdin",
     "output_type": "stream",
     "text": [
      " 52\n"
     ]
    },
    {
     "ename": "TypeError",
     "evalue": "eval() arg 1 must be a string, bytes or code object",
     "output_type": "error",
     "traceback": [
      "\u001b[1;31m---------------------------------------------------------------------------\u001b[0m",
      "\u001b[1;31mTypeError\u001b[0m                                 Traceback (most recent call last)",
      "Cell \u001b[1;32mIn[41], line 6\u001b[0m\n\u001b[0;32m      1\u001b[0m \u001b[38;5;28;01mdef\u001b[39;00m \u001b[38;5;21mmul\u001b[39m(a,b):\n\u001b[0;32m      2\u001b[0m     \u001b[38;5;28mprint\u001b[39m(a\u001b[38;5;241m*\u001b[39mb)\n\u001b[0;32m      5\u001b[0m mul(\u001b[38;5;28meval\u001b[39m(\u001b[38;5;28minput\u001b[39m()),\n\u001b[1;32m----> 6\u001b[0m     \u001b[38;5;28meval\u001b[39m(\u001b[38;5;28minput\u001b[39m))\n",
      "\u001b[1;31mTypeError\u001b[0m: eval() arg 1 must be a string, bytes or code object"
     ]
    }
   ],
   "source": [
    "def mul(a,b):\n",
    "    print(a*b)\n",
    "\n",
    "\n",
    "mul(eval(input()),\n",
    "    eval(input))"
   ]
  },
  {
   "cell_type": "code",
   "execution_count": null,
   "id": "b6976d45-a97f-4206-ae11-aab8bd73f2fa",
   "metadata": {},
   "outputs": [],
   "source": [
    "*return*\n",
    "\n",
    "- we can use the local variable or function outside the function\n",
    "\n",
    "-print is different\n",
    "\n",
    "- return is different\n",
    "- print is used only to print the value\n",
    "- that value you can only see  but you can not use\n",
    "-"
   ]
  },
  {
   "cell_type": "code",
   "execution_count": 42,
   "id": "4730d5fa-bab1-4810-800f-d36e172888e0",
   "metadata": {},
   "outputs": [
    {
     "name": "stdout",
     "output_type": "stream",
     "text": [
      "20.0\n"
     ]
    }
   ],
   "source": [
    "def average():\n",
    "    n1=10\n",
    "    n2=20\n",
    "    n3=30\n",
    "    avg=(n1+n2+n3)/3\n",
    "    print(avg)\n",
    "average()"
   ]
  },
  {
   "cell_type": "code",
   "execution_count": 44,
   "id": "4c5fe594-0cd9-4718-8811-3f58b92db1e2",
   "metadata": {},
   "outputs": [
    {
     "data": {
      "text/plain": [
       "20.0"
      ]
     },
     "execution_count": 44,
     "metadata": {},
     "output_type": "execute_result"
    }
   ],
   "source": [
    "def average():\n",
    "    n1=10\n",
    "    n2=20\n",
    "    n3=30\n",
    "    avg=(n1+n2+n3)/3\n",
    "    return(avg)\n",
    "average()\n",
    "\n",
    "# function is ready  to return values to me "
   ]
  },
  {
   "cell_type": "code",
   "execution_count": 46,
   "id": "008e9e1d-6532-43f6-a4ec-18ab883be750",
   "metadata": {},
   "outputs": [],
   "source": [
    "def average():\n",
    "    n1=10\n",
    "    n2=20\n",
    "    n3=30\n",
    "    avg=(n1+n2+n3)/3\n",
    "    return(avg)\n",
    "avg=average()\n",
    "\n",
    "#so i need to  the value"
   ]
  },
  {
   "cell_type": "code",
   "execution_count": 47,
   "id": "d94e6bf3-be9e-43bd-9258-34bf0d60b2c1",
   "metadata": {},
   "outputs": [
    {
     "data": {
      "text/plain": [
       "20.0"
      ]
     },
     "execution_count": 47,
     "metadata": {},
     "output_type": "execute_result"
    }
   ],
   "source": [
    "avg"
   ]
  },
  {
   "cell_type": "code",
   "execution_count": 56,
   "id": "c704cbde-a775-4bb2-a7b5-1a39f6bbb5d5",
   "metadata": {},
   "outputs": [],
   "source": [
    "def average():\n",
    "    n1=10\n",
    "    n2=20\n",
    "    n3=30\n",
    "    avg=(n1+n2+n3)/3\n",
    "    return(avg,n3)\n",
    "bhanu,n3=average()\n",
    "\n",
    "#so i need to  the value\n",
    "# how many value we returning\n",
    "#we will store each return values in different variables \n",
    "# because two valves are different\n",
    "#if you use only variable \n",
    "# return always at last line of function not in middle line"
   ]
  },
  {
   "cell_type": "code",
   "execution_count": 57,
   "id": "0d118a46-c334-475e-a8d1-900c993e425e",
   "metadata": {},
   "outputs": [
    {
     "data": {
      "text/plain": [
       "20.0"
      ]
     },
     "execution_count": 57,
     "metadata": {},
     "output_type": "execute_result"
    }
   ],
   "source": [
    "bhanu"
   ]
  },
  {
   "cell_type": "code",
   "execution_count": 58,
   "id": "f26bdcfd-fd2c-4f86-8501-98e3f69bfa2c",
   "metadata": {},
   "outputs": [
    {
     "data": {
      "text/plain": [
       "20.0"
      ]
     },
     "execution_count": 58,
     "metadata": {},
     "output_type": "execute_result"
    }
   ],
   "source": [
    "bhanu"
   ]
  },
  {
   "cell_type": "code",
   "execution_count": 59,
   "id": "241709ee-3ca0-4682-ab96-dab354fcdc4a",
   "metadata": {},
   "outputs": [
    {
     "data": {
      "text/plain": [
       "30"
      ]
     },
     "execution_count": 59,
     "metadata": {},
     "output_type": "execute_result"
    }
   ],
   "source": [
    "n3"
   ]
  },
  {
   "cell_type": "code",
   "execution_count": 62,
   "id": "ab5085da-4eb6-4041-8552-52e1118ef22a",
   "metadata": {},
   "outputs": [],
   "source": [
    "def sub():\n",
    "    a1=10\n",
    "    b1=20\n",
    "    subb=b1-a1\n",
    "    return(subb)\n",
    "subb=sub()"
   ]
  },
  {
   "cell_type": "code",
   "execution_count": 63,
   "id": "3363fc01-9871-4afc-9564-f10f229079a9",
   "metadata": {},
   "outputs": [
    {
     "data": {
      "text/plain": [
       "10"
      ]
     },
     "execution_count": 63,
     "metadata": {},
     "output_type": "execute_result"
    }
   ],
   "source": [
    "subb"
   ]
  },
  {
   "cell_type": "code",
   "execution_count": 66,
   "id": "41ce4b9e-317d-49e2-893a-4ed81a77c457",
   "metadata": {},
   "outputs": [],
   "source": [
    "def sub():\n",
    "    a1=10\n",
    "    b1=20\n",
    "    subb=b1-a1\n",
    "    return(a1,b1,subb)\n",
    "out=sub()"
   ]
  },
  {
   "cell_type": "code",
   "execution_count": 67,
   "id": "210f4fca-1d8b-461f-935e-a009e8b429eb",
   "metadata": {},
   "outputs": [
    {
     "data": {
      "text/plain": [
       "(10, 20, 10)"
      ]
     },
     "execution_count": 67,
     "metadata": {},
     "output_type": "execute_result"
    }
   ],
   "source": [
    "out"
   ]
  },
  {
   "cell_type": "code",
   "execution_count": null,
   "id": "5cefef86-9b7e-4b5d-ae53-41c37acd4eaa",
   "metadata": {},
   "outputs": [],
   "source": [
    "-without and with arguments\n",
    "- default arguments\n",
    "- global keywords\n",
    "- return\n",
    "- function in fuction\n",
    "-"
   ]
  }
 ],
 "metadata": {
  "kernelspec": {
   "display_name": "Python 3 (ipykernel)",
   "language": "python",
   "name": "python3"
  },
  "language_info": {
   "codemirror_mode": {
    "name": "ipython",
    "version": 3
   },
   "file_extension": ".py",
   "mimetype": "text/x-python",
   "name": "python",
   "nbconvert_exporter": "python",
   "pygments_lexer": "ipython3",
   "version": "3.11.7"
  }
 },
 "nbformat": 4,
 "nbformat_minor": 5
}
