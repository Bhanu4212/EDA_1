{
 "cells": [
  {
   "cell_type": "markdown",
   "id": "7d7ac5d5-8c3d-48ea-be4a-9f3080167f91",
   "metadata": {},
   "source": [
    "**list comprehension**"
   ]
  },
  {
   "cell_type": "markdown",
   "id": "1b76bacf-e8a1-463f-8667-2694cc2f51ba",
   "metadata": {},
   "source": [
    "- we can store the  output values by using append operations\n",
    "- we are taking empty list \n",
    "- we iterating through elements  from a given list\n",
    "- the results we are appending in a new list"
   ]
  },
  {
   "cell_type": "code",
   "execution_count": 1,
   "id": "10e8def6-73d7-429f-a56a-6e1c4b98f45a",
   "metadata": {},
   "outputs": [
    {
     "data": {
      "text/plain": [
       "[0, 1, 4, 9, 16, 25, 36, 49, 64, 81]"
      ]
     },
     "execution_count": 1,
     "metadata": {},
     "output_type": "execute_result"
    }
   ],
   "source": [
    "square_list=[]\n",
    "for i in range(10):\n",
    "    square_list.append(i*i)\n",
    "square_list"
   ]
  },
  {
   "cell_type": "markdown",
   "id": "07e360e1-d13c-4f73-853a-4fe654fa0ac3",
   "metadata": {},
   "source": [
    "- there are almost 3 lines in the process \n",
    "- the three lines can be made into single line\n",
    "- this is known as list comprehension"
   ]
  },
  {
   "cell_type": "markdown",
   "id": "60512d9f-b391-48b9-a84e-94a99632e2ca",
   "metadata": {},
   "source": [
    "$pattren-1$\n",
    "\n",
    "\n",
    "**only for loop**\n",
    "  "
   ]
  },
  {
   "cell_type": "code",
   "execution_count": 2,
   "id": "caba5fd4-0d27-4578-83fd-40be152c4c05",
   "metadata": {},
   "outputs": [],
   "source": [
    "#syntax\n",
    "#[<output>  < for loop>]"
   ]
  },
  {
   "cell_type": "code",
   "execution_count": 3,
   "id": "0567cca1-3bf1-4573-b1cf-41e73b822409",
   "metadata": {},
   "outputs": [],
   "source": [
    "square_list=[]\n",
    "for i in range(10):\n",
    "    square_list.append(i*i)\n",
    "square_list\n",
    "\n",
    "#q1) what is the output? i*i\n",
    "#q2) what is output list name? square_list\n",
    "#q3)what is the for loop? for i in range\n",
    "##[<output>  < for loop>]\n",
    "square_list=[i*i for i in range(10)]"
   ]
  },
  {
   "cell_type": "code",
   "execution_count": 4,
   "id": "cdd8af38-a49c-4003-a6d1-69af5d2846af",
   "metadata": {},
   "outputs": [
    {
     "data": {
      "text/plain": [
       "[0, 1, 4, 9, 16, 25, 36, 49, 64, 81]"
      ]
     },
     "execution_count": 4,
     "metadata": {},
     "output_type": "execute_result"
    }
   ],
   "source": [
    "square_list"
   ]
  },
  {
   "cell_type": "code",
   "execution_count": 5,
   "id": "70fe026a-f024-4b67-ae54-558eb8b345cd",
   "metadata": {},
   "outputs": [
    {
     "data": {
      "text/plain": [
       "['HYD', 'MUMBAI', 'CHENNAI', 'BLR']"
      ]
     },
     "execution_count": 5,
     "metadata": {},
     "output_type": "execute_result"
    }
   ],
   "source": [
    "#Q2) l1=['hyd','mumbai','chennai','blr']\n",
    "l1=['hyd','mumbai','chennai','blr']\n",
    "upper_list=[]\n",
    "for i in l1:\n",
    "    upper_list.append(i.upper())\n",
    "upper_list"
   ]
  },
  {
   "cell_type": "code",
   "execution_count": 6,
   "id": "240ce212-983a-44d8-9752-8849d7ecaae1",
   "metadata": {},
   "outputs": [
    {
     "data": {
      "text/plain": [
       "['HYD', 'MUMBAI', 'CHENNAI', 'BLR']"
      ]
     },
     "execution_count": 6,
     "metadata": {},
     "output_type": "execute_result"
    }
   ],
   "source": [
    "#q1) what is the output? i*i\n",
    "#q2) what is output list name? square_list\n",
    "#q3)what is the for loop? for i in range\n",
    "##[<output>  < for loop>]\n",
    "l1=['hyd','mumbai','chennai','blr']\n",
    "upper_list=[i.upper() for i in l1]\n",
    "upper_list"
   ]
  },
  {
   "cell_type": "code",
   "execution_count": 7,
   "id": "1523398b-20f7-4703-a750-7bd938879d24",
   "metadata": {},
   "outputs": [
    {
     "data": {
      "text/plain": [
       "['hyd', 'mumbai', 'chennai', 'blr']"
      ]
     },
     "execution_count": 7,
     "metadata": {},
     "output_type": "execute_result"
    }
   ],
   "source": [
    "l1=['HYD', 'MUMBAI', 'CHENNAI', 'BLR']\n",
    "lower_list=[i.lower() for i in l1]\n",
    "lower_list\n"
   ]
  },
  {
   "cell_type": "code",
   "execution_count": 8,
   "id": "c9ab3985-d0d4-4a38-8469-4d09f8385527",
   "metadata": {},
   "outputs": [
    {
     "data": {
      "text/plain": [
       "6"
      ]
     },
     "execution_count": 8,
     "metadata": {},
     "output_type": "execute_result"
    }
   ],
   "source": [
    "l2=['Hyd','Chennai','Mumbai','Blr']\n",
    "idx_list=[l2.index(i) for i in l2]\n",
    "sum(idx_list)"
   ]
  },
  {
   "cell_type": "code",
   "execution_count": 9,
   "id": "62e29b0b-1ce4-455a-95b5-b6599c1cfae4",
   "metadata": {},
   "outputs": [
    {
     "name": "stdout",
     "output_type": "stream",
     "text": [
      "0\n",
      "1\n",
      "2\n",
      "3\n"
     ]
    }
   ],
   "source": [
    "l1=['Hyd','Chennai','Mumbai','Blr']\n",
    "for i in l1:\n",
    "    print(l1.index(i))"
   ]
  },
  {
   "cell_type": "code",
   "execution_count": 10,
   "id": "b7f9eb3f-174f-4334-a997-2a9da569672c",
   "metadata": {},
   "outputs": [],
   "source": [
    "l2=['Hyd','Chennai','Mumbai','Blr']\n",
    "indexlist=[l2.index(i) for i in l2]\n"
   ]
  },
  {
   "cell_type": "code",
   "execution_count": 11,
   "id": "1a490010-7530-456c-9bf7-42135c7fb7aa",
   "metadata": {},
   "outputs": [
    {
     "data": {
      "text/plain": [
       "6"
      ]
     },
     "execution_count": 11,
     "metadata": {},
     "output_type": "execute_result"
    }
   ],
   "source": [
    "sum(indexlist)"
   ]
  },
  {
   "cell_type": "markdown",
   "id": "2904dcc0-c4ee-4fa5-90fb-8ed4e3d9e101",
   "metadata": {},
   "source": [
    "- making empty list not works  in list comprehension\n",
    "- initaializion wil  not works in list comprehension \n",
    "- assignment operations also not works"
   ]
  },
  {
   "cell_type": "markdown",
   "id": "8bab8b37-859a-499c-b83f-ba3b8fbb6488",
   "metadata": {},
   "source": [
    "$pattren-2$\n",
    "\n",
    "\n",
    "**for loop - if condition**"
   ]
  },
  {
   "cell_type": "code",
   "execution_count": 12,
   "id": "c84f3eaa-3d50-463a-9815-54d57ebd6d4a",
   "metadata": {},
   "outputs": [
    {
     "name": "stdout",
     "output_type": "stream",
     "text": [
      "Chennai\n",
      "Mumbai\n"
     ]
    }
   ],
   "source": [
    "#syntax\n",
    "#[<output> <for loop> <if condition>]\n",
    "l3=['Hyd','Chennai','Mumbai','Blr']\n",
    "for i in l3:\n",
    "    if len(i)>4:\n",
    "        print(i)"
   ]
  },
  {
   "cell_type": "code",
   "execution_count": 13,
   "id": "55bacc6e-710f-440b-85c5-9b644da5e24b",
   "metadata": {},
   "outputs": [
    {
     "data": {
      "text/plain": [
       "['Chennai', 'Mumbai']"
      ]
     },
     "execution_count": 13,
     "metadata": {},
     "output_type": "execute_result"
    }
   ],
   "source": [
    "#q1) what is the output? \n",
    "#q2) what is output list name? \n",
    "#q3)what is the for loop? for i in l3\n",
    "##[<output>  < for loop> <if condition>]\n",
    "\n",
    "l3=['Hyd','Chennai','Mumbai','Blr']\n",
    "op=[i for i in l3 if len(i)>4]\n",
    "op"
   ]
  },
  {
   "cell_type": "code",
   "execution_count": 14,
   "id": "a93f8f73-48cc-4eff-bb8f-475ca038dccd",
   "metadata": {},
   "outputs": [
    {
     "ename": "IndentationError",
     "evalue": "unexpected indent (1934793472.py, line 36)",
     "output_type": "error",
     "traceback": [
      "\u001b[1;36m  Cell \u001b[1;32mIn[14], line 36\u001b[1;36m\u001b[0m\n\u001b[1;33m    'Who is PM of india',\u001b[0m\n\u001b[1;37m    ^\u001b[0m\n\u001b[1;31mIndentationError\u001b[0m\u001b[1;31m:\u001b[0m unexpected indent\n"
     ]
    }
   ],
   "source": [
    "# Q3)l1=['Hyd','Mum#bai','Chen#nai','blr']\n",
    "#  ans=['Mum#bai'',Chen#nai']  \n",
    "#  we want lements which are having '#'\n",
    "\n",
    "# Q4)l1=['hyd','mumbai','chennai','blr']\n",
    "#  ans= ['Hyd','Mumbai','Chennai','Blr']\n",
    "#  we want lements which are len of element >4\n",
    "\n",
    "# Q5)l1=['Hyd','Mumbai','chennai','blr']\n",
    "#  ans= ['Hyd','Mumbai']\n",
    "#  we want lements which are having first letter capital\n",
    "\n",
    "# Q6)l1=['Hyd','Mum#bai','Chen#nai','blr']\n",
    "#  ans_#=['Mum#bai'',Chen#nai']  \n",
    "#  ans_without_#=['Hyd'','blr']\n",
    "#  we want lements which are having '#'\n",
    "\n",
    "# Q7) ask the user get 5 numbers randomly\n",
    "#     even_list and odd_list\n",
    "#     even numbers should append at even_list\n",
    "#     odd number should append at odd_list\n",
    "\n",
    "# Q8) str='hello hai how are you'\n",
    "# Maximum len of word using split and max method\n",
    "# sum of all the indexes of the maximum len of word using append\n",
    "\n",
    "# Q9) str1='virat.kohli@rcb.com, Rohit.sharma@mi.co, KL.Rahul@lucknow.com'\n",
    "# Firstname=[]  second name=[]  cname =[]\n",
    "# append first name should be in first name list\n",
    "#        second name shoul be in second name list\n",
    "#        thirs name will be in thirs name list\n",
    "\n",
    "# 10 )\n",
    "#  You have two lists\n",
    "# qns=['What is capital of India',\n",
    "#      'Who is PM of india',\n",
    "#       'Who is ICT ODI captian']\n",
    "# ans = ['Delhi','Modi','Rohit']\n",
    "\n",
    "# For i in qns:\n",
    "#     print(i)\n",
    "#     ans= delhi\n",
    "#      index should match\n",
    "#      delhi  modi\n",
    "#      marks= marks+1\n",
    "# print the total marks\n"
   ]
  },
  {
   "cell_type": "code",
   "execution_count": null,
   "id": "ca644e06-ab4a-430a-bf37-e3e53cd20daf",
   "metadata": {},
   "outputs": [],
   "source": [
    "# Q3)l1=['Hyd','Mum#bai','Chen#nai','blr']\n",
    "#  ans=['Mum#bai'',Chen#nai']  \n",
    "#  we want lements which are having '#'\n",
    "\n",
    "l1=['Hyd','Mum#bai','Chen#nai','blr']\n",
    "for i in l1:\n",
    "    if '#' in i :\n",
    "      print(i)\n",
    "        \n",
    "    "
   ]
  },
  {
   "cell_type": "code",
   "execution_count": null,
   "id": "7ad74e3c-630d-47c3-a350-04a7bdaa40e8",
   "metadata": {},
   "outputs": [],
   "source": [
    "l1=['Hyd','Mum#bai','Chen#nai','blr']\n",
    "op=[i for i in l1 if '#' in i]\n",
    "op"
   ]
  },
  {
   "cell_type": "code",
   "execution_count": null,
   "id": "9c604b5e-ecb0-44e8-9b5d-417875e5fa14",
   "metadata": {},
   "outputs": [],
   "source": [
    "# Q5)l1=['Hyd','Mumbai','chennai','blr']\n",
    "#  ans= ['Hyd','Mumbai']\n",
    "#  we want lements which are having first letter capital\n",
    "\n",
    "l1=['Hyd','Mumbai','Chennai','blr']\n",
    "op=[i for i in l1  if i.istitle() ]\n",
    "op"
   ]
  },
  {
   "cell_type": "code",
   "execution_count": null,
   "id": "e399cf65-9708-4c7a-9885-7665c2cd6415",
   "metadata": {},
   "outputs": [],
   "source": [
    "# Q6)l1=['Hyd','Mum#bai','Chen#nai','blr']\n",
    "#  ans_#=['Mum#bai'',Chen#nai']  \n",
    "#  ans_without_#=['Hyd'','blr']\n",
    "#  we want lements which are having '#'\n",
    "\n",
    "l1=['Hyd','Mum#bai','Chen#nai','blr']\n",
    "op1=[i for i in l1 if '#' in i]\n",
    "op1"
   ]
  },
  {
   "cell_type": "code",
   "execution_count": null,
   "id": "cd1c41d7-7493-437a-9e50-80d4336d83d4",
   "metadata": {},
   "outputs": [],
   "source": [
    "op2=[i for i in l1 if '#'not in i]\n",
    "op2"
   ]
  },
  {
   "cell_type": "code",
   "execution_count": null,
   "id": "3ab15899-83d1-473b-ab7d-46240292e748",
   "metadata": {},
   "outputs": [],
   "source": [
    "# Q9) str1='virat.kohli@rcb.com, Rohit.sharma@mi.co, KL.Rahul@lucknow.com'\n",
    "# Firstname=[]  second name=[]  cname =[]\n",
    "# append first name should be in first name list\n",
    "#        second name shoul be in second name list\n",
    "#        thirs name will be in thirs name list\n",
    "\n",
    "str1='virat.kohli@rcb.com, Rohit.sharma@mi.co, KL.Rahul@lucknow.com'\n",
    "list1=str1.split('.')\n",
    "list1[0][:list1[0].index('.')]  # virat\n",
    "list1[1][:list1[1].index('.')]  #rohit\n",
    "list1[2][:list1[2].index('.')]  # kl\n",
    "\n",
    "f_name=[]\n",
    "for i in list1:\n",
    "    f_name.append(i[:i.index('.')])\n"
   ]
  },
  {
   "cell_type": "code",
   "execution_count": null,
   "id": "88563424-05d1-4188-a138-fb9c1376f455",
   "metadata": {},
   "outputs": [],
   "source": [
    "str1='virat.kohli@rcb.com, Rohit.sharma@mi.co, KL.Rahul@lucknow.com'\n",
    "list1=str1.split(',')\n",
    "f_name=[]\n",
    "for i in list1:\n",
    "list1[0][:list1[0].index('.')]\n",
    "f_name\n",
    "f_name"
   ]
  },
  {
   "cell_type": "markdown",
   "id": "d599bffa-260e-49c2-befd-764d46b446e7",
   "metadata": {},
   "source": [
    "$pattren-3$\n",
    "\n",
    "**if-else**"
   ]
  },
  {
   "cell_type": "code",
   "execution_count": null,
   "id": "8126d217-34df-4181-b523-9336abdf2ad3",
   "metadata": {},
   "outputs": [],
   "source": [
    "[<output> <for loop>] : for loop \n",
    "[[<output> <for loop> <if condition>] : for-if\n",
    "[<if output> <if> <else> <elseoutput> <for>]: if-else"
   ]
  },
  {
   "cell_type": "markdown",
   "id": "f0b0abe4-0c70-4497-8818-bab1dce34418",
   "metadata": {},
   "source": [
    "**even-odd**"
   ]
  },
  {
   "cell_type": "code",
   "execution_count": 2,
   "id": "1078a70c-aa9e-4c76-a5ad-898057e50c28",
   "metadata": {},
   "outputs": [
    {
     "data": {
      "text/plain": [
       "['odd:1',\n",
       " 'even:2',\n",
       " 'odd:3',\n",
       " 'even:4',\n",
       " 'odd:5',\n",
       " 'even:6',\n",
       " 'odd:7',\n",
       " 'even:8',\n",
       " 'odd:9',\n",
       " 'even:10',\n",
       " 'odd:11',\n",
       " 'even:12',\n",
       " 'odd:13',\n",
       " 'even:14',\n",
       " 'odd:15',\n",
       " 'even:16',\n",
       " 'odd:17',\n",
       " 'even:18',\n",
       " 'odd:19']"
      ]
     },
     "execution_count": 2,
     "metadata": {},
     "output_type": "execute_result"
    }
   ],
   "source": [
    "[f\"even:{i}\" if i%2==0  else f'odd:{i}' for i in range(1,20)]"
   ]
  },
  {
   "cell_type": "code",
   "execution_count": null,
   "id": "82b55b97-53ca-422f-a0ff-aee27b7bb416",
   "metadata": {},
   "outputs": [],
   "source": []
  }
 ],
 "metadata": {
  "kernelspec": {
   "display_name": "Python 3 (ipykernel)",
   "language": "python",
   "name": "python3"
  },
  "language_info": {
   "codemirror_mode": {
    "name": "ipython",
    "version": 3
   },
   "file_extension": ".py",
   "mimetype": "text/x-python",
   "name": "python",
   "nbconvert_exporter": "python",
   "pygments_lexer": "ipython3",
   "version": "3.11.7"
  }
 },
 "nbformat": 4,
 "nbformat_minor": 5
}
