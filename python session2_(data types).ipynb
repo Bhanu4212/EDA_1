{
 "cells": [
  {
   "cell_type": "markdown",
   "id": "0dc1b6a7-773d-4026-bd43-4801d838286a",
   "metadata": {},
   "source": [
    "**Data types**\n",
    "- in python type declare not required\n",
    "- python will automatically take the type based on provided value\n",
    "- The main data types are\n",
    "  - integer\n",
    "  - float\n",
    "  - string\n",
    "  - Boolean\n",
    "  - list\n",
    "  - Dictionary\n",
    "  - Tuple\n",
    "  - complex"
   ]
  },
  {
   "cell_type": "markdown",
   "id": "6e0bf3c8-f88f-40c7-82c9-2e58f3556fc0",
   "metadata": {},
   "source": [
    "#integer"
   ]
  },
  {
   "cell_type": "code",
   "execution_count": 2,
   "id": "b62e6b68-188b-415d-887c-aeb8cdd0ba5d",
   "metadata": {},
   "outputs": [
    {
     "data": {
      "text/plain": [
       "int"
      ]
     },
     "execution_count": 2,
     "metadata": {},
     "output_type": "execute_result"
    }
   ],
   "source": [
    "n=100\n",
    "type(n)"
   ]
  },
  {
   "cell_type": "markdown",
   "id": "4fb24ca0-c8a0-4c62-be29-446be882d3f6",
   "metadata": {},
   "source": [
    "- binary represenation\n",
    "- octa represenation\n",
    "- hexa represenation"
   ]
  },
  {
   "cell_type": "code",
   "execution_count": null,
   "id": "0079bc8d-78ac-4382-bb0c-7884d42fc7ef",
   "metadata": {},
   "outputs": [],
   "source": []
  },
  {
   "cell_type": "markdown",
   "id": "806dab71-a38c-4d3b-a0bc-24fd06a4fdd6",
   "metadata": {},
   "source": [
    "**Binary**\n",
    "- bi mean 2\n",
    "- so it requires 2 digits\n",
    "- Generally we have 0 1 2 3 4 5 6 7 8 9\n",
    "- so it will represent with only 0 and 1\n",
    "- representation is 0b10,0b01111,0B111\n",
    "- wrong representation is 0b12,0b1007"
   ]
  },
  {
   "cell_type": "code",
   "execution_count": 4,
   "id": "760d3200-6eea-40e3-99be-777312755401",
   "metadata": {},
   "outputs": [
    {
     "data": {
      "text/plain": [
       "9"
      ]
     },
     "execution_count": 4,
     "metadata": {},
     "output_type": "execute_result"
    }
   ],
   "source": [
    "0b1001"
   ]
  },
  {
   "cell_type": "code",
   "execution_count": null,
   "id": "bfcf353c-a9eb-47ac-a81b-4a8cf9f163f3",
   "metadata": {},
   "outputs": [],
   "source": []
  }
 ],
 "metadata": {
  "kernelspec": {
   "display_name": "Python 3 (ipykernel)",
   "language": "python",
   "name": "python3"
  },
  "language_info": {
   "codemirror_mode": {
    "name": "ipython",
    "version": 3
   },
   "file_extension": ".py",
   "mimetype": "text/x-python",
   "name": "python",
   "nbconvert_exporter": "python",
   "pygments_lexer": "ipython3",
   "version": "3.11.7"
  }
 },
 "nbformat": 4,
 "nbformat_minor": 5
}
