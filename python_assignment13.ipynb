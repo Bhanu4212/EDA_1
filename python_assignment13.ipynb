{
 "cells": [
  {
   "cell_type": "markdown",
   "id": "5cdaa250-41e2-49d8-9f26-86338bd59a6e",
   "metadata": {},
   "source": [
    "**split**"
   ]
  },
  {
   "cell_type": "code",
   "execution_count": 4,
   "id": "301fb56c-54b4-466f-925f-4f5a30d0cf5a",
   "metadata": {},
   "outputs": [
    {
     "name": "stdout",
     "output_type": "stream",
     "text": [
      " the person name Bhanu\n"
     ]
    }
   ],
   "source": [
    "str1='Bhanu'\n",
    "str1.split()\n",
    "print(f\" the person name {str1}\") # split means it converts string to list"
   ]
  },
  {
   "cell_type": "code",
   "execution_count": 3,
   "id": "c8389522-4fe1-4e6c-b171-42acb7f9988e",
   "metadata": {},
   "outputs": [
    {
     "name": "stdout",
     "output_type": "stream",
     "text": [
      " the digit 11.5\n"
     ]
    }
   ],
   "source": [
    "str1='11.5'\n",
    "str1.split()\n",
    "print(f\" the digit {str1}\") # split means it converts string to list"
   ]
  },
  {
   "cell_type": "markdown",
   "id": "fe945794-6bbb-4718-a0df-afce0b78b67a",
   "metadata": {},
   "source": [
    "**strip**"
   ]
  },
  {
   "cell_type": "code",
   "execution_count": 5,
   "id": "57a06115-ccb1-4b37-ba92-2af9d06608eb",
   "metadata": {},
   "outputs": [
    {
     "data": {
      "text/plain": [
       "'Bhanu'"
      ]
     },
     "execution_count": 5,
     "metadata": {},
     "output_type": "execute_result"
    }
   ],
   "source": [
    "str1=' Bhanu '\n",
    "str1.strip() # strip means it removes space in a string \" sree \"---->"
   ]
  },
  {
   "cell_type": "code",
   "execution_count": 6,
   "id": "2ea14d43-d0d6-47fe-b0d9-2877c735da31",
   "metadata": {},
   "outputs": [
    {
     "data": {
      "text/plain": [
       "'10'"
      ]
     },
     "execution_count": 6,
     "metadata": {},
     "output_type": "execute_result"
    }
   ],
   "source": [
    "str1=' 10 '\n",
    "str1.strip() # its remove the White space before characters after chacters"
   ]
  },
  {
   "cell_type": "code",
   "execution_count": 7,
   "id": "00912ae0-c5f4-46a6-84df-d471a410f0bb",
   "metadata": {},
   "outputs": [
    {
     "data": {
      "text/plain": [
       "'True'"
      ]
     },
     "execution_count": 7,
     "metadata": {},
     "output_type": "execute_result"
    }
   ],
   "source": [
    "str1=' True '\n",
    "str1.strip()"
   ]
  },
  {
   "cell_type": "code",
   "execution_count": 8,
   "id": "b117d0dd-972a-4574-a9ce-b29810b9b77b",
   "metadata": {},
   "outputs": [
    {
     "data": {
      "text/plain": [
       "'10.5'"
      ]
     },
     "execution_count": 8,
     "metadata": {},
     "output_type": "execute_result"
    }
   ],
   "source": [
    "str1=' 10.5 '\n",
    "str1.strip()"
   ]
  },
  {
   "cell_type": "markdown",
   "id": "611d074d-98a3-488d-8129-8af8a37b7bac",
   "metadata": {},
   "source": [
    "**istrip**"
   ]
  },
  {
   "cell_type": "code",
   "execution_count": 13,
   "id": "35b5da20-4ce6-4825-87a9-99e80dd8a4ec",
   "metadata": {},
   "outputs": [
    {
     "data": {
      "text/plain": [
       "'bhanu '"
      ]
     },
     "execution_count": 13,
     "metadata": {},
     "output_type": "execute_result"
    }
   ],
   "source": [
    "str1=' bhanu '\n",
    "str1.lstrip() # \"lstrip\" means its only removes left side space"
   ]
  },
  {
   "cell_type": "code",
   "execution_count": 14,
   "id": "31d3c9f6-5dfc-4f5a-862e-ef850b69d340",
   "metadata": {},
   "outputs": [
    {
     "data": {
      "text/plain": [
       "'10 '"
      ]
     },
     "execution_count": 14,
     "metadata": {},
     "output_type": "execute_result"
    }
   ],
   "source": [
    "str1=' 10 '\n",
    "str1.lstrip()"
   ]
  },
  {
   "cell_type": "code",
   "execution_count": 15,
   "id": "e4e5a7ea-d00b-4a2a-bdb9-8b29f29e4da1",
   "metadata": {},
   "outputs": [
    {
     "data": {
      "text/plain": [
       "'10.4 '"
      ]
     },
     "execution_count": 15,
     "metadata": {},
     "output_type": "execute_result"
    }
   ],
   "source": [
    "str1=' 10.4 '\n",
    "str1.lstrip()"
   ]
  },
  {
   "cell_type": "code",
   "execution_count": 16,
   "id": "56f32b0a-b944-46a4-a316-aca3c513251d",
   "metadata": {},
   "outputs": [
    {
     "data": {
      "text/plain": [
       "'TRUE '"
      ]
     },
     "execution_count": 16,
     "metadata": {},
     "output_type": "execute_result"
    }
   ],
   "source": [
    "str1=' TRUE '\n",
    "str1.lstrip()"
   ]
  },
  {
   "cell_type": "markdown",
   "id": "3a921c31-c326-4a45-ac52-fc5ee0d346e1",
   "metadata": {},
   "source": [
    "**rstrip**"
   ]
  },
  {
   "cell_type": "code",
   "execution_count": 17,
   "id": "3176b022-26f2-4bec-abb0-aa6409ffde9d",
   "metadata": {},
   "outputs": [
    {
     "data": {
      "text/plain": [
       "' bhanu'"
      ]
     },
     "execution_count": 17,
     "metadata": {},
     "output_type": "execute_result"
    }
   ],
   "source": [
    "str1=' bhanu '\n",
    "str1.rstrip() # the \"rstrip removes right side space\""
   ]
  },
  {
   "cell_type": "code",
   "execution_count": 18,
   "id": "187e03d7-6356-4c3c-8795-60150ffa985f",
   "metadata": {},
   "outputs": [
    {
     "data": {
      "text/plain": [
       "' 90'"
      ]
     },
     "execution_count": 18,
     "metadata": {},
     "output_type": "execute_result"
    }
   ],
   "source": [
    "str1=' 90 '\n",
    "str1.rstrip()"
   ]
  },
  {
   "cell_type": "code",
   "execution_count": 19,
   "id": "ad70bfd8-cea6-4736-91bc-550710336d8d",
   "metadata": {},
   "outputs": [
    {
     "data": {
      "text/plain": [
       "' 0.8'"
      ]
     },
     "execution_count": 19,
     "metadata": {},
     "output_type": "execute_result"
    }
   ],
   "source": [
    "str1=' 0.8 '\n",
    "str1.rstrip()"
   ]
  },
  {
   "cell_type": "markdown",
   "id": "7ab2b0a7-949b-414e-8053-9c5a54c812bf",
   "metadata": {},
   "source": [
    "**startswith**"
   ]
  },
  {
   "cell_type": "code",
   "execution_count": 20,
   "id": "dfd62dbf-748b-48ab-ab71-05e7ef294881",
   "metadata": {},
   "outputs": [
    {
     "data": {
      "text/plain": [
       "False"
      ]
     },
     "execution_count": 20,
     "metadata": {},
     "output_type": "execute_result"
    }
   ],
   "source": [
    "tr1='bhanu ,he is one of the person'\n",
    "str1.startswith(\"bhanu,\")"
   ]
  },
  {
   "cell_type": "code",
   "execution_count": 21,
   "id": "a900e047-5b53-4cd9-a4eb-f478ffa8d5df",
   "metadata": {},
   "outputs": [
    {
     "data": {
      "text/plain": [
       "True"
      ]
     },
     "execution_count": 21,
     "metadata": {},
     "output_type": "execute_result"
    }
   ],
   "source": [
    "str1='10,20'\n",
    "str1.startswith(\"10,\")"
   ]
  },
  {
   "cell_type": "code",
   "execution_count": 22,
   "id": "95735be6-eda0-473d-a813-ca9ca0b1de2b",
   "metadata": {},
   "outputs": [
    {
     "data": {
      "text/plain": [
       "False"
      ]
     },
     "execution_count": 22,
     "metadata": {},
     "output_type": "execute_result"
    }
   ],
   "source": [
    "str1='10,20'\n",
    "str1.startswith(\"11\")"
   ]
  },
  {
   "cell_type": "markdown",
   "id": "50627a9f-f056-457d-894f-e6cacb53c833",
   "metadata": {},
   "source": [
    "**endswith**"
   ]
  },
  {
   "cell_type": "code",
   "execution_count": 23,
   "id": "7ce0e6ce-be2f-4c19-8f30-4b917d54c725",
   "metadata": {},
   "outputs": [
    {
     "data": {
      "text/plain": [
       "True"
      ]
     },
     "execution_count": 23,
     "metadata": {},
     "output_type": "execute_result"
    }
   ],
   "source": [
    "str1='10,20'\n",
    "str1.endswith(\",20\")"
   ]
  },
  {
   "cell_type": "code",
   "execution_count": 24,
   "id": "4d130802-11bb-45cf-a0e1-f0f89f2f3503",
   "metadata": {},
   "outputs": [
    {
     "data": {
      "text/plain": [
       "False"
      ]
     },
     "execution_count": 24,
     "metadata": {},
     "output_type": "execute_result"
    }
   ],
   "source": [
    "str1='10,20'\n",
    "str1.endswith(\"10,\")"
   ]
  },
  {
   "cell_type": "code",
   "execution_count": null,
   "id": "1fd77b1a-ac29-464a-a39b-41e105ec2fa2",
   "metadata": {},
   "outputs": [],
   "source": []
  }
 ],
 "metadata": {
  "kernelspec": {
   "display_name": "Python 3 (ipykernel)",
   "language": "python",
   "name": "python3"
  },
  "language_info": {
   "codemirror_mode": {
    "name": "ipython",
    "version": 3
   },
   "file_extension": ".py",
   "mimetype": "text/x-python",
   "name": "python",
   "nbconvert_exporter": "python",
   "pygments_lexer": "ipython3",
   "version": "3.11.7"
  }
 },
 "nbformat": 4,
 "nbformat_minor": 5
}
