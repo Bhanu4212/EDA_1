{
 "cells": [
  {
   "cell_type": "code",
   "execution_count": 1,
   "id": "d5f25c0f-7312-4e93-ad1c-89b2c3454fb2",
   "metadata": {},
   "outputs": [
    {
     "name": "stdout",
     "output_type": "stream",
     "text": [
      "The string repeated 10 times is :\n",
      "Bhanu prasad\n",
      "Bhanu prasad\n",
      "Bhanu prasad\n",
      "Bhanu prasad\n",
      "Bhanu prasad\n",
      "Bhanu prasad\n",
      "Bhanu prasad\n",
      "Bhanu prasad\n",
      "Bhanu prasad\n",
      "Bhanu prasad\n",
      "The total number of characters in a string Bhanu prasad is 12\n",
      "The first character of string Bhanu prasad is B\n",
      "The first three characters of string Bhanu prasad is Bha\n",
      "The last three character of string Bhanu prasad is sad\n",
      "The string backwards of string Bhanu prasad is dasarp unahB\n",
      "The seventh character of string Bhanu prasad is p\n",
      "The string with first and last character removed from the string Bhanu prasad is hanu prasa\n",
      "The total string in caps is BHANU PRASAD\n",
      "The string replaced letter a with letter e is Bhenu presed\n"
     ]
    }
   ],
   "source": [
    "# 1. Write a program that asks the user to enter a string. The program should then print the following:\n",
    "# (a) The total number of characters in the string\n",
    "# (b) The string repeated 10 times\n",
    "# (c) The first character of the string (remember that string indices start at 0) \n",
    "# (d) The first three characters of the string\n",
    "# (e) The last three characters of the string\n",
    "# (f) The string backwards\n",
    "# (g) The seventh character of the string if the string is long enough and a message otherwise\n",
    "# (h) The string with its first and last characters removed\n",
    "# (i) The string in all caps\n",
    "# (j) The string with every a replaced with an e\n",
    "str='Bhanu prasad'\n",
    "total_no_of_characters=len(str)\n",
    "print(\"The string repeated 10 times is :\")\n",
    "for i in range(10):\n",
    "    print(str)\n",
    "first_character=str[0]\n",
    "first_three_character=str[0:3]\n",
    "last_three_character=str[len(str)-3:]\n",
    "string_backwards=str[-1:-(len(str)+1):-1]\n",
    "seventh_character=str[6]\n",
    "string_with_first_last_character_removed=str[1:-1]\n",
    "string_in_caps=str.upper()\n",
    "string_replace_a_with_e=str.replace('a','e')\n",
    "print(f\"The total number of characters in a string {str} is {total_no_of_characters}\")\n",
    "print(f\"The first character of string {str} is {first_character}\")\n",
    "print(f\"The first three characters of string {str} is {first_three_character}\")\n",
    "print(f\"The last three character of string {str} is {last_three_character}\")\n",
    "print(f\"The string backwards of string {str} is {string_backwards}\")\n",
    "print(f\"The seventh character of string {str} is {seventh_character}\")\n",
    "print(f\"The string with first and last character removed from the string {str} is {string_with_first_last_character_removed}\")\n",
    "print(f\"The total string in caps is {string_in_caps}\")\n",
    "print(f\"The string replaced letter a with letter e is {string_replace_a_with_e}\")"
   ]
  },
  {
   "cell_type": "code",
   "execution_count": 2,
   "id": "3a169a1e-7408-4f16-9f56-d45ed5315f02",
   "metadata": {},
   "outputs": [
    {
     "name": "stdout",
     "output_type": "stream",
     "text": [
      "The total number of words in the string are 4\n"
     ]
    }
   ],
   "source": [
    "# 2. A simple way to estimate the number of words in a string is to count the number of spaces in the string.\n",
    "# Write a program that asks the user for a string and returns an estimate of how many words are in the string.\n",
    "count=0\n",
    "str='Hai how are you'\n",
    "for i in str:\n",
    "    if i==' ':\n",
    "        count+=1\n",
    "print(f\"The total number of words in the string are {count+1}\")"
   ]
  },
  {
   "cell_type": "code",
   "execution_count": 6,
   "id": "a272d8cc-1a1e-4051-8218-56072bb6cee1",
   "metadata": {},
   "outputs": [
    {
     "name": "stdout",
     "output_type": "stream",
     "text": [
      "a is Vowel\n",
      "i is Vowel\n",
      "o is Vowel\n",
      "a is Vowel\n",
      "e is Vowel\n",
      "o is Vowel\n",
      "u is Vowel\n"
     ]
    }
   ],
   "source": [
    "# 3.Write a program that asks the user to enter a word and prints out whether that word contains any vowels.\n",
    "str='hai how are you'\n",
    "for i in range(len(str)):\n",
    "    if str[i] in 'aeiou' or str[i] in'AEIOU':\n",
    "        print(f\"{str[i]} is Vowel\")"
   ]
  },
  {
   "cell_type": "code",
   "execution_count": 7,
   "id": "64acc9cc-28f0-4bd7-bd18-2ea0087dae8e",
   "metadata": {},
   "outputs": [
    {
     "name": "stdout",
     "output_type": "stream",
     "text": [
      "The unique vowels are aioeu\n"
     ]
    }
   ],
   "source": [
    "# 4.Improvise above code by providing unique vowels\n",
    "str='hai how are you'\n",
    "str1=''\n",
    "for i in range(len(str)):\n",
    "    if str[i] not in str1:\n",
    "        if str[i] in 'aeiou' or str[i] in'AEIOU':\n",
    "            str1+=str[i]\n",
    "print(f\"The unique vowels are {str1}\")"
   ]
  },
  {
   "cell_type": "code",
   "execution_count": 8,
   "id": "98ab3037-71f4-44c0-a212-3f42e0f51bd5",
   "metadata": {},
   "outputs": [
    {
     "name": "stdout",
     "output_type": "stream",
     "text": [
      "Q*ert!!!\n"
     ]
    }
   ],
   "source": [
    "# 5.Write a program that asks the user to enter a string.\n",
    "# The program should create a new string called new_string from the user’s string.\n",
    "# such that the second character is changed to an asterisk and three exclamation points are attached to the end of the string.\n",
    "# Finally, print new_string.\n",
    "# Typical output is shown below:\n",
    "# Enter your string: Qbert\n",
    "# Output: Q*ert!!!\n",
    "str='Qbert'\n",
    "new_string=''\n",
    "for i in range(len(str)):\n",
    "    if i==1:\n",
    "        new_string+='*'\n",
    "    else:\n",
    "        new_string+=str[i]\n",
    "for j in range(3):\n",
    "    new_string+='!'\n",
    "print(new_string)"
   ]
  },
  {
   "cell_type": "code",
   "execution_count": 3,
   "id": "8f005a7a-dc6e-49cf-8eae-1a37a1598cfb",
   "metadata": {},
   "outputs": [
    {
     "name": "stdin",
     "output_type": "stream",
     "text": [
      "Enter the string : Bhanu\n"
     ]
    },
    {
     "name": "stdout",
     "output_type": "stream",
     "text": [
      "Bhanu is a palindrome\n"
     ]
    }
   ],
   "source": [
    "# 6.Write a program that asks the user to enter a word and determines whether the word is a palindrome or not.\n",
    "# A palindrome is a word that reads the same backwards as forwards.\n",
    "str=input(\"Enter the string :\")\n",
    "for i in range(len(str)):\n",
    "    if str[i]==str[-(i+1)]:\n",
    "        print(\"\",end=\"\")\n",
    "print(f\"{str} is a palindrome\")\n"
   ]
  },
  {
   "cell_type": "code",
   "execution_count": 5,
   "id": "66e401b9-84d3-4a8b-b3ff-138ca644872e",
   "metadata": {},
   "outputs": [
    {
     "name": "stdin",
     "output_type": "stream",
     "text": [
      "Enter the email address : bhanu@prof.college.edu \n"
     ]
    },
    {
     "name": "stdout",
     "output_type": "stream",
     "text": [
      "bhanu@prof.college.edu  is the address of professor\n"
     ]
    },
    {
     "name": "stdin",
     "output_type": "stream",
     "text": [
      "Enter the email address : raviu@student.collage.edu\n"
     ]
    },
    {
     "name": "stdout",
     "output_type": "stream",
     "text": [
      "raviu@student.collage.edu is not the address of either student nor professor\n"
     ]
    }
   ],
   "source": [
    "# 7.At a certain school, student email addresses end with @student.college.edu,\n",
    "# while professor email addresses end with @prof.college.edu.\n",
    "# Write a program that first asks the user how many email addresses they will be entering, and then has the user enter those addresses.\n",
    "# After all the email addresses are entered,\n",
    "# The program should print out a message indicating either that all the addresses are student addresses or that there were some professor addresses entered.\n",
    "email1=''\n",
    "email1.split()\n",
    "for i in range(2):\n",
    "    email=input(\"Enter the email address :\")\n",
    "    email1+=email\n",
    "    if '@student.college.edu' in email :\n",
    "        print(f\"{email} is the address of student\")\n",
    "    elif '@prof.college.edu' in email :\n",
    "        print(f\"{email} is the address of professor\")\n",
    "    else:\n",
    "        print(f\"{email} is not the address of either student nor professor\")"
   ]
  },
  {
   "cell_type": "code",
   "execution_count": 9,
   "id": "be657856-328b-45e3-9622-52898817d4da",
   "metadata": {},
   "outputs": [
    {
     "name": "stdout",
     "output_type": "stream",
     "text": [
      "HH\n",
      "EE\n",
      "YY\n"
     ]
    }
   ],
   "source": [
    "# 8. Write a program that asks the user to enter a string.\n",
    "# Then prints out each letter of the string doubled and on a separate line.\n",
    "# For instance,\n",
    "# if the user entered HEY,\n",
    "# the output would be\n",
    "# HH\n",
    "# EE\n",
    "# YY\n",
    "str='HEY'\n",
    "for i in range(len(str)):\n",
    "    print(str[i]*2)"
   ]
  },
  {
   "cell_type": "code",
   "execution_count": 10,
   "id": "24d5070a-d6d1-4995-bdb6-fa2d3a8d5131",
   "metadata": {},
   "outputs": [
    {
     "name": "stdout",
     "output_type": "stream",
     "text": [
      "buffa\n",
      "lo\n"
     ]
    }
   ],
   "source": [
    "# 9.Write a program that asks the user to enter a word that contains the letter a.\n",
    "# The program should then print the following two lines:\n",
    "# On the first line should be the part of the string up to and including the the first a, and on the second line should be the rest of the string.\n",
    "# Sample output is shown below:\n",
    "# Enter a word: buffalo\n",
    "# buffa\n",
    "# lo\n",
    "str='buffalo'\n",
    "for i in range(len(str)-1):\n",
    "    if str[i]=='a':\n",
    "        print(str[:str.index('a')+1])\n",
    "        print(str[(str.index('a')+1):len(str)])"
   ]
  },
  {
   "cell_type": "code",
   "execution_count": 11,
   "id": "0689230d-7ebf-45d9-bebd-125f08e19238",
   "metadata": {},
   "outputs": [
    {
     "data": {
      "text/plain": [
       "'rHiNoCeRoS'"
      ]
     },
     "execution_count": 11,
     "metadata": {},
     "output_type": "execute_result"
    }
   ],
   "source": [
    "# 10. Write a program that asks the user to enter a word and then capitalizes every other letter of that word.\n",
    "# So if the user enters rhinoceros,\n",
    "# the program should print rHiNoCeRoS.\n",
    "str='rhinoceros'\n",
    "str1=''\n",
    "for i in range(len(str)):\n",
    "    if i%2!=0:\n",
    "        str1+=str[i].capitalize()\n",
    "    else:\n",
    "        str1+=str[i]\n",
    "str1"
   ]
  },
  {
   "cell_type": "code",
   "execution_count": 12,
   "id": "3f0772d2-9426-43ff-9fab-9d919e03811e",
   "metadata": {},
   "outputs": [
    {
     "name": "stdout",
     "output_type": "stream",
     "text": [
      "AaBbCcDdEe"
     ]
    }
   ],
   "source": [
    "# 11.Write a program that asks the user to enter two strings of the same length.\n",
    "# The program should then check to see if the strings are of the same length.\n",
    "# If they are not, the program should print an appropriate message and exit.\n",
    "# If they are of the same length, the program should alternate the characters of the two strings.\n",
    "# For example,\n",
    "# if the user enters abcde and ABCDE\n",
    "# the program should print out AaBbCcDdEe.\n",
    "str='abcde'\n",
    "str1='ABCDE'\n",
    "if len(str)!=len(str1):\n",
    "    print(\"Enter the string with same lengths\")\n",
    "else:\n",
    "    for i in range(len(str)):\n",
    "        print(str1[i]+str[i],end=\"\")"
   ]
  },
  {
   "cell_type": "code",
   "execution_count": 13,
   "id": "dc6643a7-749d-4af4-b5bd-1a8384eaacc9",
   "metadata": {},
   "outputs": [
    {
     "data": {
      "text/plain": [
       "'Bhanu Prasad Reddy'"
      ]
     },
     "execution_count": 13,
     "metadata": {},
     "output_type": "execute_result"
    }
   ],
   "source": [
    "# 12.Write a program that asks the user to enter their name in lowercase and then capitalizes the first letter of each word of their name.\n",
    "str='Bhanu prasad reddy'\n",
    "str1=''\n",
    "for i in range(len(str)):\n",
    "    if i==0:\n",
    "        str1+=str[0].capitalize()\n",
    "    elif str[i-1]==' ':\n",
    "        str1+=str[i].capitalize()\n",
    "    else:\n",
    "        str1+=str[i]\n",
    "str1"
   ]
  },
  {
   "cell_type": "code",
   "execution_count": 14,
   "id": "07f33682-60e4-455d-bfdb-d8dd8c0fd218",
   "metadata": {},
   "outputs": [
    {
     "name": "stdin",
     "output_type": "stream",
     "text": [
      "Enter a letter : f\n"
     ]
    },
    {
     "name": "stdout",
     "output_type": "stream",
     "text": [
      "letter is not there\n"
     ]
    },
    {
     "name": "stdin",
     "output_type": "stream",
     "text": [
      "Enter a letter : d\n"
     ]
    },
    {
     "name": "stdout",
     "output_type": "stream",
     "text": [
      "The letter is repeating 0 times in the string hai how are you\n"
     ]
    },
    {
     "name": "stdin",
     "output_type": "stream",
     "text": [
      "Enter a letter : l\n"
     ]
    }
   ],
   "source": [
    "# 13.The goal of this exercise is to see if you can mimic the behavior of the in operator and the count and index methods using only variables, for loops, and if statements.\n",
    "# (a) Without using the in operator, write a program that asks the user for a string and a letter and prints out whether or not the letter appears in the string.\n",
    "# (b) Without using the count method, write a program that asks the user for a string and a letter and counts how many occurrences there are of the letter in the string.\n",
    "# (c) Without using the index method, write a program that asks the user for a string and a letter and prints out the index of the first occurrence of the letter in the string.\n",
    "# If the letter is not in the string, the program should say so.\n",
    "str='hai how are you'\n",
    "user_input_letter=input(\"Enter a letter :\")\n",
    "for i in range(len(str)):\n",
    "    if str[i]==user_input_letter:\n",
    "        print(\"letter is there\")\n",
    "        break    \n",
    "    else:\n",
    "        print(\"letter is not there\")\n",
    "        break\n",
    "###############################################################################################################################################################\n",
    "\n",
    "str='hai how are you'\n",
    "user_input_letter=input(\"Enter a letter :\")\n",
    "str1=''\n",
    "for i in range(len(str)):\n",
    "    if str[i]==user_input_letter:\n",
    "        str1+=str[i]\n",
    "print(f\"The letter is repeating {len(str1)} times in the string {str}\")\n",
    "\n",
    "###############################################################################################################################################################\n",
    "\n",
    "str='hai how are you'\n",
    "user_input_letter=input(\"Enter a letter :\")\n",
    "for i in range(len(str)):\n",
    "    if str[i]==user_input_letter:\n",
    "        print(f\"The first occurence index of the letter {user_input_letter} is {i}\")\n",
    "        break   \n",
    "   "
   ]
  },
  {
   "cell_type": "code",
   "execution_count": 15,
   "id": "3167edf9-864e-452f-ac7b-8cb42a32e208",
   "metadata": {},
   "outputs": [
    {
     "name": "stdin",
     "output_type": "stream",
     "text": [
      "Enter a mail : gmail\n"
     ]
    }
   ],
   "source": [
    "# 14.Finding a substring within a string\n",
    "# For example, if we were presented a series of lines formatted as follows:\n",
    "# From stephen.marquard@uct.ac.za Sat Jan 5 09:14:16 2008\n",
    "# and we wanted to pull out only the second half of the address (i.e., uct.ac.za)\n",
    "str=input(\"Enter a mail :\")\n",
    "for i in range(len(str)):\n",
    "    if str[i]=='@':\n",
    "        print(str[i+1:len(str)+1])"
   ]
  },
  {
   "cell_type": "code",
   "execution_count": 17,
   "id": "6d04fda3-a019-4d0b-bb42-6fe6e6e1a421",
   "metadata": {},
   "outputs": [
    {
     "name": "stdin",
     "output_type": "stream",
     "text": [
      "Enter the string : abcdef\n"
     ]
    },
    {
     "data": {
      "text/plain": [
       "'abcdefing'"
      ]
     },
     "execution_count": 17,
     "metadata": {},
     "output_type": "execute_result"
    }
   ],
   "source": [
    "# 15.Write a Python program to add &#39;ing&#39; at the end of a given string (length should be at least 3).\n",
    "# If the given string already ends with 'ing' then add 'ly' instead.\n",
    "# If the string length of the given string is less than 3, leave it unchanged.\n",
    "# Go to the editor\n",
    "# Sample String : 'abc'\n",
    "# Expected Result : 'abcing'\n",
    "# Sample String : 'string'\n",
    "# Expected Result : 'stringly'\n",
    "str=input(\"Enter the string :\")\n",
    "str1=''\n",
    "if len(str)>=3:\n",
    "    if str.endswith('ing')==True:\n",
    "        str1+=str+'ly'\n",
    "    else:\n",
    "        str1+=str+'ing'\n",
    "else:\n",
    "    print(str)\n",
    "str1   "
   ]
  },
  {
   "cell_type": "code",
   "execution_count": 18,
   "id": "3717e656-0150-4ef6-9182-edc72393bc54",
   "metadata": {},
   "outputs": [
    {
     "data": {
      "text/plain": [
       "0.8475"
      ]
     },
     "execution_count": 18,
     "metadata": {},
     "output_type": "execute_result"
    }
   ],
   "source": [
    "# 16.Take the following Python code that stores a string:\n",
    "# string = 'X-DSPAM-Confidence: 0.8475'\n",
    "# Extract the portion of the string after the colon character and then use the float function to convert the extracted string into a floating point number.\n",
    "string = 'X-DSPAM-Confidence: 0.8475'\n",
    "str=''\n",
    "for i in range(len(string)):\n",
    "    if string[i]==':':\n",
    "        str+=string[i+1:len(string)+1]\n",
    "float(str)  "
   ]
  },
  {
   "cell_type": "code",
   "execution_count": null,
   "id": "3499a0de-7883-4e0d-84d6-f3132c398397",
   "metadata": {},
   "outputs": [],
   "source": []
  }
 ],
 "metadata": {
  "kernelspec": {
   "display_name": "Python 3 (ipykernel)",
   "language": "python",
   "name": "python3"
  },
  "language_info": {
   "codemirror_mode": {
    "name": "ipython",
    "version": 3
   },
   "file_extension": ".py",
   "mimetype": "text/x-python",
   "name": "python",
   "nbconvert_exporter": "python",
   "pygments_lexer": "ipython3",
   "version": "3.11.7"
  }
 },
 "nbformat": 4,
 "nbformat_minor": 5
}
