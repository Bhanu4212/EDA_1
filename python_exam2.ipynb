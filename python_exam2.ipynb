{
 "cells": [
  {
   "cell_type": "code",
   "execution_count": 41,
   "id": "4f5a12fd-1830-4324-949f-9cc43f77f392",
   "metadata": {},
   "outputs": [],
   "source": [
    "#Q- 1 Write a Python function greet(name) that takes a person's name as an argument and prints a   greeting message in the format \"Hello, [name]!\". \n",
    "\n",
    "def greet(name):\n",
    "    print(f'hello,{name}!')"
   ]
  },
  {
   "cell_type": "code",
   "execution_count": 42,
   "id": "c70353f8-1d61-49c5-b6b8-54f82752f90e",
   "metadata": {},
   "outputs": [
    {
     "name": "stdout",
     "output_type": "stream",
     "text": [
      "hello,Bhanu!\n"
     ]
    }
   ],
   "source": [
    "greet(\"Bhanu\")"
   ]
  },
  {
   "cell_type": "code",
   "execution_count": 26,
   "id": "5469168c-068e-4799-968c-80fcd2db0846",
   "metadata": {},
   "outputs": [],
   "source": [
    "#Q- 2 Write a Python function square(number) that takes an integer as an argument and returns the   square of that number. \n",
    "\n",
    "def square(num):\n",
    "    sqr=num*num\n",
    "    print(f'square of number  is {sqr}')"
   ]
  },
  {
   "cell_type": "code",
   "execution_count": 47,
   "id": "04230d10-8b33-4984-8d7a-5bcd8840a4d7",
   "metadata": {},
   "outputs": [
    {
     "name": "stdout",
     "output_type": "stream",
     "text": [
      "square of number  is 36\n"
     ]
    }
   ],
   "source": [
    "square(6)"
   ]
  },
  {
   "cell_type": "code",
   "execution_count": 48,
   "id": "a36e8777-9359-4d9b-a70b-cafc8706c52f",
   "metadata": {},
   "outputs": [],
   "source": [
    "#Q-3 Write a Python function fahrenheit_to_celsius(fahrenheit) that takes a temperature in  Fahrenheit as an argument \n",
    "# and returns the equivalent temperature in Celsius.\n",
    "#The formula to convert   Fahrenheit to Celsius is: Celsius=(Fahrenheit−32)∗5/9Celsius = (Fahrenheit - 32) *   5/9Celsius=(Fahrenheit−32)∗5/9 \n",
    "\n",
    "def temp(fahrenheit):\n",
    "    celsius=(fahrenheit-32)*5/9\n",
    "    print(f' the  tempaerature conversion of fharenheit to celsius is {celsius}')\n"
   ]
  },
  {
   "cell_type": "code",
   "execution_count": 49,
   "id": "8eb3b089-60b0-4663-b718-49c96c448533",
   "metadata": {},
   "outputs": [
    {
     "name": "stdout",
     "output_type": "stream",
     "text": [
      " the  tempaerature conversion of fharenheit to celsius is 10.0\n"
     ]
    }
   ],
   "source": [
    "temp(50)"
   ]
  },
  {
   "cell_type": "code",
   "execution_count": 2,
   "id": "d9e42c00-9838-4ba5-a7fa-53b777437a84",
   "metadata": {},
   "outputs": [
    {
     "name": "stdin",
     "output_type": "stream",
     "text": [
      "enter a number -58\n"
     ]
    },
    {
     "name": "stdout",
     "output_type": "stream",
     "text": [
      "number is negative\n"
     ]
    }
   ],
   "source": [
    "#Q-4 Write a Python script that takes an integer input from the user and prints \"Positive\" if the number is   greater than zero, \n",
    "#\"Negative\" if the number is less than zero,\n",
    "# and \"Zero\" if the number is exactly zero. \n",
    "\n",
    "\n",
    "num=eval(input('enter a number'))\n",
    "if num>0:\n",
    "    print('number is positive')\n",
    "elif num<0:\n",
    "    print('number is negative')\n",
    "else:\n",
    "    print('zero')"
   ]
  },
  {
   "cell_type": "code",
   "execution_count": 46,
   "id": "7620e1de-c738-40ad-b90b-39c1c36aec9e",
   "metadata": {},
   "outputs": [
    {
     "name": "stdin",
     "output_type": "stream",
     "text": [
      "enter a year 2020\n"
     ]
    },
    {
     "name": "stdout",
     "output_type": "stream",
     "text": [
      "leap year\n"
     ]
    }
   ],
   "source": [
    "#Q-5 Write a Python script that takes a year as input from the user and prints \"Leap Year\" if the year is a   leap year, and \"Not a Leap Year\" otherwise.\n",
    "#(A year is a leap year if it is divisible by 4 but not by 100, unless it is also divisible by 400.)\n",
    "\n",
    "\n",
    "year=eval(input('enter a year'))\n",
    "if year%4==0:\n",
    "    print('leap year')\n",
    "else:\n",
    "    print('not a leap year')"
   ]
  },
  {
   "cell_type": "code",
   "execution_count": null,
   "id": "df197823-b211-43a6-9048-b215e06e3adb",
   "metadata": {},
   "outputs": [],
   "source": []
  }
 ],
 "metadata": {
  "kernelspec": {
   "display_name": "Python 3 (ipykernel)",
   "language": "python",
   "name": "python3"
  },
  "language_info": {
   "codemirror_mode": {
    "name": "ipython",
    "version": 3
   },
   "file_extension": ".py",
   "mimetype": "text/x-python",
   "name": "python",
   "nbconvert_exporter": "python",
   "pygments_lexer": "ipython3",
   "version": "3.11.7"
  }
 },
 "nbformat": 4,
 "nbformat_minor": 5
}
