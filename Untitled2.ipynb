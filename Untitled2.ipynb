{
 "cells": [
  {
   "cell_type": "code",
   "execution_count": 1,
   "id": "33308ae9-8439-41ed-a051-d77b985a2397",
   "metadata": {},
   "outputs": [
    {
     "data": {
      "text/plain": [
       "['__add__',\n",
       " '__class__',\n",
       " '__class_getitem__',\n",
       " '__contains__',\n",
       " '__delattr__',\n",
       " '__dir__',\n",
       " '__doc__',\n",
       " '__eq__',\n",
       " '__format__',\n",
       " '__ge__',\n",
       " '__getattribute__',\n",
       " '__getitem__',\n",
       " '__getnewargs__',\n",
       " '__getstate__',\n",
       " '__gt__',\n",
       " '__hash__',\n",
       " '__init__',\n",
       " '__init_subclass__',\n",
       " '__iter__',\n",
       " '__le__',\n",
       " '__len__',\n",
       " '__lt__',\n",
       " '__mul__',\n",
       " '__ne__',\n",
       " '__new__',\n",
       " '__reduce__',\n",
       " '__reduce_ex__',\n",
       " '__repr__',\n",
       " '__rmul__',\n",
       " '__setattr__',\n",
       " '__sizeof__',\n",
       " '__str__',\n",
       " '__subclasshook__',\n",
       " 'count',\n",
       " 'index']"
      ]
     },
     "execution_count": 1,
     "metadata": {},
     "output_type": "execute_result"
    }
   ],
   "source": [
    "dir(())\n"
   ]
  },
  {
   "cell_type": "markdown",
   "id": "ea154cc3-dca2-4802-a4b6-b6d93a72c937",
   "metadata": {},
   "source": [
    "**Representation**\n",
    "\n",
    "- A tuple is represented with parenthesis()\n",
    "\n",
    "\n"
   ]
  },
  {
   "cell_type": "code",
   "execution_count": 2,
   "id": "98d009d6-dc86-444d-a4f5-b1650f6e9ccd",
   "metadata": {},
   "outputs": [
    {
     "name": "stdout",
     "output_type": "stream",
     "text": [
      "(1, 2, 3, 4, 5)\n"
     ]
    },
    {
     "data": {
      "text/plain": [
       "tuple"
      ]
     },
     "execution_count": 2,
     "metadata": {},
     "output_type": "execute_result"
    }
   ],
   "source": [
    "t=(1,2,3,4,5)\n",
    "print(t)\n",
    "type(t)\n"
   ]
  },
  {
   "cell_type": "code",
   "execution_count": 3,
   "id": "f8fd05cd-d3f3-421f-ac53-a4be5a094a35",
   "metadata": {},
   "outputs": [
    {
     "data": {
      "text/plain": [
       "('A', 'b', 'C', 'd', '2', '3')"
      ]
     },
     "execution_count": 3,
     "metadata": {},
     "output_type": "execute_result"
    }
   ],
   "source": [
    "l1=('A','b','C','d','2','3')\n",
    "l1"
   ]
  },
  {
   "cell_type": "code",
   "execution_count": 4,
   "id": "856e37f7-49eb-40ce-bc93-0345661239ba",
   "metadata": {},
   "outputs": [
    {
     "name": "stdout",
     "output_type": "stream",
     "text": [
      "5\n",
      "6\n",
      "2\n",
      "[2, 3, 5, 6, 6]\n",
      "5 6 6 3 2 "
     ]
    }
   ],
   "source": [
    "l2=(2,3,6,6,5)\n",
    "print(len(l2))\n",
    "print(max(l2))\n",
    "print(min(l2))\n",
    "print(sorted(l2))\n",
    "output=reversed(l2)\n",
    "for i in output:\n",
    "    print(i,end=\" \")\n"
   ]
  },
  {
   "cell_type": "code",
   "execution_count": 5,
   "id": "d7e78b37-115c-4934-a358-3cf84477b21c",
   "metadata": {},
   "outputs": [
    {
     "name": "stdout",
     "output_type": "stream",
     "text": [
      "(4, 6, 'B')\n",
      "()\n",
      "(4,)\n",
      "()\n",
      "()\n",
      "('E',)\n",
      "('E', 'C', 'A')\n"
     ]
    }
   ],
   "source": [
    "l=(1,2,3,4,5,6,'A','B','C','D','E','F','G')\n",
    "print(l[3:9:2])\n",
    "print(l[3:9:-2])\n",
    "print(l[3:-9:2])\n",
    "print(l[-3:9:2])\n",
    "print(l[-3:-9:2])\n",
    "print(l[-3:9:-2])\n",
    "print(l[-3:-9:-2])"
   ]
  },
  {
   "cell_type": "markdown",
   "id": "8c747bdf-5eaf-44f9-ae33-92de97e9e0de",
   "metadata": {},
   "source": [
    "**len**\n",
    "- It displays the length of the tuple\n"
   ]
  },
  {
   "cell_type": "code",
   "execution_count": 8,
   "id": "ba134802-94ba-474c-8326-e2a0131ea078",
   "metadata": {},
   "outputs": [
    {
     "data": {
      "text/plain": [
       "13"
      ]
     },
     "execution_count": 8,
     "metadata": {},
     "output_type": "execute_result"
    }
   ],
   "source": [
    "tup=(1,2,3,4,5,6,'A','B','C','D','E','F','G')\n",
    "len(tup)"
   ]
  },
  {
   "cell_type": "markdown",
   "id": "27d63369-0c25-4800-85b1-490215516d5b",
   "metadata": {},
   "source": [
    "**max**\n",
    "\n",
    "- It gives the maximum value in the tuple\n",
    "- It will not gives output when we print maximum value in combination of numbers ans strings"
   ]
  },
  {
   "cell_type": "code",
   "execution_count": 9,
   "id": "e53f8616-1248-427f-b5a9-d1059e7ff792",
   "metadata": {},
   "outputs": [
    {
     "name": "stdout",
     "output_type": "stream",
     "text": [
      "6\n"
     ]
    },
    {
     "data": {
      "text/plain": [
       "'G'"
      ]
     },
     "execution_count": 9,
     "metadata": {},
     "output_type": "execute_result"
    }
   ],
   "source": [
    "tup=(1,2,3,4,5,6)\n",
    "print(max(tup))\n",
    "tup1=('A','B','C','D','E','F','G')\n",
    "max(tup1)"
   ]
  },
  {
   "cell_type": "markdown",
   "id": "218d048e-a17d-4e19-a2b8-6dcb53c1c3f8",
   "metadata": {},
   "source": [
    "**min**\n",
    "\n",
    "- It gives the minimum value in the tuple\n",
    "- It will not gives output when we print minimum value in combination of numbers ans strings\n"
   ]
  },
  {
   "cell_type": "code",
   "execution_count": 10,
   "id": "630b83ee-a524-4b53-812f-e2b160d64458",
   "metadata": {},
   "outputs": [
    {
     "name": "stdout",
     "output_type": "stream",
     "text": [
      "1\n"
     ]
    },
    {
     "data": {
      "text/plain": [
       "'A'"
      ]
     },
     "execution_count": 10,
     "metadata": {},
     "output_type": "execute_result"
    }
   ],
   "source": [
    "tup=(1,2,3,4,5,6)\n",
    "print(min(tup))\n",
    "tup1=('A','B','C','D','E','F','G')\n",
    "min(tup1)\n"
   ]
  },
  {
   "cell_type": "code",
   "execution_count": null,
   "id": "601886ce-cbaa-4a72-8d06-b3a2f0703c97",
   "metadata": {},
   "outputs": [],
   "source": []
  }
 ],
 "metadata": {
  "kernelspec": {
   "display_name": "Python 3 (ipykernel)",
   "language": "python",
   "name": "python3"
  },
  "language_info": {
   "codemirror_mode": {
    "name": "ipython",
    "version": 3
   },
   "file_extension": ".py",
   "mimetype": "text/x-python",
   "name": "python",
   "nbconvert_exporter": "python",
   "pygments_lexer": "ipython3",
   "version": "3.11.7"
  }
 },
 "nbformat": 4,
 "nbformat_minor": 5
}
