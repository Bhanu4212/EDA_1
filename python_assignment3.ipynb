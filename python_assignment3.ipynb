{
 "cells": [
  {
   "cell_type": "code",
   "execution_count": 6,
   "id": "b223d120-4564-4a8e-aa03-0d4901147ad7",
   "metadata": {},
   "outputs": [
    {
     "name": "stdin",
     "output_type": "stream",
     "text": [
      "enter the  basic_salary of ramesh 50000\n"
     ]
    },
    {
     "name": "stdout",
     "output_type": "stream",
     "text": [
      " the gross salary of ramesh is:80000.0\n"
     ]
    }
   ],
   "source": [
    "#Ramesh’s basic salary is input through the keyboard. His dearness allowance is 40% of basic salary, and\n",
    "#house rent allowance is 20% of basic salary. Write a program to calculate his gross salary.\n",
    "\n",
    "basic_salary=eval(input(\"enter the  basic_salary of ramesh\"))\n",
    "personal_percentage=basic_salary*(40/100)\n",
    "rent_percentage=basic_salary*(20/100)\n",
    "gross_salary=basic_salary+personal_percentage+rent_percentage\n",
    "print(f\" the gross salary of ramesh is:{gross_salary}\")"
   ]
  },
  {
   "cell_type": "code",
   "execution_count": 11,
   "id": "c0b22ac7-e37e-4f2a-8c88-cfcf4edaeca1",
   "metadata": {},
   "outputs": [
    {
     "name": "stdin",
     "output_type": "stream",
     "text": [
      "enter the distance between two cities in km 50\n"
     ]
    },
    {
     "name": "stdout",
     "output_type": "stream",
     "text": [
      "the distance between two cities in km converted to meters is:50000\n",
      "the distance between two cities in km converted to  feet is:164050\n",
      "the distance between two cities in km converted to inches is:1968500\n",
      "the distance between two cities in km converted to centimeters is:5000000\n"
     ]
    }
   ],
   "source": [
    "#The distance between two cities (in km.) is input through the keyboard. Write a program to convert and\n",
    "#print this distance in meters, feet, inches and centimeters.\n",
    "\n",
    "Distance=eval(input(\"enter the distance between two cities in km\"))\n",
    "meters=Distance*1000\n",
    "feet=Distance*3281\n",
    "inches=Distance*39370\n",
    "centimeters=Distance*100000\n",
    "print(f'the distance between two cities in km converted to meters is:{meters}')\n",
    "print(f'the distance between two cities in km converted to  feet is:{feet}')\n",
    "print(f'the distance between two cities in km converted to inches is:{inches}')\n",
    "print(f'the distance between two cities in km converted to centimeters is:{centimeters}')"
   ]
  },
  {
   "cell_type": "code",
   "execution_count": 18,
   "id": "e97be6cd-5cb0-4de6-a5b4-f47849093019",
   "metadata": {},
   "outputs": [
    {
     "name": "stdin",
     "output_type": "stream",
     "text": [
      "enter the first language marks 70\n"
     ]
    },
    {
     "name": "stdout",
     "output_type": "stream",
     "text": [
      "the first language marks is:70\n"
     ]
    },
    {
     "name": "stdin",
     "output_type": "stream",
     "text": [
      "enter the second language marks 69\n"
     ]
    },
    {
     "name": "stdout",
     "output_type": "stream",
     "text": [
      "the second language marks is:69\n"
     ]
    },
    {
     "name": "stdin",
     "output_type": "stream",
     "text": [
      "enter the third language marks 73\n"
     ]
    },
    {
     "name": "stdout",
     "output_type": "stream",
     "text": [
      "the third language marks is:73\n"
     ]
    },
    {
     "name": "stdin",
     "output_type": "stream",
     "text": [
      "enter the maths marks 82\n"
     ]
    },
    {
     "name": "stdout",
     "output_type": "stream",
     "text": [
      "the maths marks is:82\n"
     ]
    },
    {
     "name": "stdin",
     "output_type": "stream",
     "text": [
      "enter the science marks 76\n"
     ]
    },
    {
     "name": "stdout",
     "output_type": "stream",
     "text": [
      "the science marks is:76\n",
      "the aggregated marks for student is:370\n",
      "the percentage of student is:74.0\n"
     ]
    }
   ],
   "source": [
    "# If the marks obtained by a student in five different subjects are input through the keyboard, find out the\n",
    "# aggregate marks and percentage marks obtained by the student. Assume that the maximum marks that\n",
    "# can be obtained by a student in each subject is 100.\n",
    "\n",
    "\n",
    "sub1=eval(input('enter the first language marks'))\n",
    "print(f'the first language marks is:{sub1}')\n",
    "sub2=eval(input('enter the second language marks'))\n",
    "print(f'the second language marks is:{sub2}')\n",
    "sub3=eval(input('enter the third language marks'))\n",
    "print(f'the third language marks is:{sub3}')\n",
    "sub4=eval(input('enter the maths marks'))\n",
    "print(f'the maths marks is:{sub4}')\n",
    "sub5=eval(input('enter the science marks'))\n",
    "print(f'the science marks is:{sub5}')\n",
    "aggregate_marks=sub1+sub2+sub3+sub4+sub5\n",
    "print(f'the aggregated marks for student is:{aggregate_marks}')\n",
    "max_marks=100\n",
    "percentage_marks=aggregate_marks/5\n",
    "print(f'the percentage of student is:{percentage_marks}')"
   ]
  },
  {
   "cell_type": "code",
   "execution_count": 1,
   "id": "f444de18-097e-4961-9e64-ace74b77ab59",
   "metadata": {},
   "outputs": [
    {
     "name": "stdin",
     "output_type": "stream",
     "text": [
      "enter the temperature in Fahrenheit degrees 50\n"
     ]
    },
    {
     "name": "stdout",
     "output_type": "stream",
     "text": [
      "the Temperature of city in Fahrenheit degrees converted to centigrade is:10.0\n"
     ]
    }
   ],
   "source": [
    "#Temperature of a city in Fahrenheit degrees is input through the keyboard. Write a program to convert this\n",
    "#temperature into Centigrade degrees.\n",
    "\n",
    "Temp=eval(input('enter the temperature in Fahrenheit degrees'))\n",
    "centigrade=(Temp-32)*5/9\n",
    "print(f'the Temperature of city in Fahrenheit degrees converted to centigrade is:{centigrade}')"
   ]
  },
  {
   "cell_type": "code",
   "execution_count": 8,
   "id": "03c4bc76-13e5-4c51-8942-fedee7f8818c",
   "metadata": {},
   "outputs": [
    {
     "name": "stdin",
     "output_type": "stream",
     "text": [
      "enter length 50\n",
      "enter width 60\n"
     ]
    },
    {
     "name": "stdout",
     "output_type": "stream",
     "text": [
      "area of rectangle is:3000\n",
      " perimeter of rectangle is:220\n"
     ]
    },
    {
     "name": "stdin",
     "output_type": "stream",
     "text": [
      "enter the radius 25\n"
     ]
    },
    {
     "name": "stdout",
     "output_type": "stream",
     "text": [
      "area of circle is:1962.5\n",
      "circumference of circle is:157.0\n"
     ]
    }
   ],
   "source": [
    "#The length & breadth of a rectangle and radius of a circle are input through the keyboard. Write a program\n",
    "#to calculate the area & perimeter of the rectangle, and the area & circumference of the circle.\n",
    "\n",
    "length=eval(input('enter length'))\n",
    "width=eval(input('enter width'))\n",
    "area_rectangle=length*width\n",
    "print(f'area of rectangle is:{area_rectangle}')\n",
    "perimeter=2*(length+width)\n",
    "print(f' perimeter of rectangle is:{perimeter}')\n",
    "radius=eval(input('enter the radius'))\n",
    "pi=3.14\n",
    "area_circle=radius*radius*pi\n",
    "print(f'area of circle is:{area_circle}')\n",
    "circumference=2*pi*radius\n",
    "print(f'circumference of circle is:{circumference}')"
   ]
  },
  {
   "cell_type": "code",
   "execution_count": 21,
   "id": "62246cd7-6763-43fb-9b1c-97c7f8eb4fe9",
   "metadata": {},
   "outputs": [
    {
     "name": "stdin",
     "output_type": "stream",
     "text": [
      "enter the C content 50\n",
      "enter the D content 65\n"
     ]
    },
    {
     "name": "stdout",
     "output_type": "stream",
     "text": [
      "the D contents in C is:50\n",
      "the C contents in D is:65\n"
     ]
    }
   ],
   "source": [
    "#Two numbers are input through the keyboard into two locations C and D. Write a program to interchange\n",
    "#the contents of C and D.\n",
    "\n",
    "C=eval(input('enter the C content'))\n",
    "D=eval(input('enter the D content'))\n",
    "interchange=C*D\n",
    "print(f'the D contents in C is:{C}')\n",
    "interchage=D*C\n",
    "print(f'the C contents in D is:{D}')"
   ]
  },
  {
   "cell_type": "code",
   "execution_count": 5,
   "id": "1c9677f2-8579-4edd-8958-eee44f58e7a4",
   "metadata": {},
   "outputs": [
    {
     "name": "stdin",
     "output_type": "stream",
     "text": [
      "enter the five-digit number: 78945\n"
     ]
    },
    {
     "name": "stdout",
     "output_type": "stream",
     "text": [
      "reversed number of five digit is:54987\n"
     ]
    }
   ],
   "source": [
    "#If a five-digit number is input through the keyboard, write a program to reverse the number.\n",
    "\n",
    "number=input(\"enter the five-digit number:\")\n",
    "number_reversed=number[::-1]\n",
    "print(f\"reversed number of five digit is:{number_reversed}\")\n"
   ]
  },
  {
   "cell_type": "code",
   "execution_count": 40,
   "id": "aab0bf8e-6422-4e6c-ada6-cafd6fc4cf0f",
   "metadata": {},
   "outputs": [
    {
     "name": "stdin",
     "output_type": "stream",
     "text": [
      "enter the number 4561\n"
     ]
    },
    {
     "name": "stdout",
     "output_type": "stream",
     "text": [
      "sum of first and last digit of the number:5\n"
     ]
    }
   ],
   "source": [
    "#If a four-digit number is input through the keyboard, write a program to obtain the sum of the first and last\n",
    "#digit of this number.\n",
    "\n",
    "number=eval(input('enter the number'))\n",
    "first=number//1000\n",
    "last=number%10\n",
    "sum=first+last\n",
    "print(f'sum of first and last digit of the number:{sum}')\n",
    "\n"
   ]
  },
  {
   "cell_type": "code",
   "execution_count": 53,
   "id": "dccaea70-ee2d-4fa4-8f49-f4970ba37ae1",
   "metadata": {},
   "outputs": [
    {
     "name": "stdout",
     "output_type": "stream",
     "text": [
      "Number of illiterate men:  13600\n",
      "Number of illiterate women:  28000\n"
     ]
    }
   ],
   "source": [
    "#In a town, the percentage of men is 52. The percentage of total literacy is 48. If total percentage of literate\n",
    "#men is 35 of the total population, write a program to find the total number of illiterate men and women if\n",
    "#the population of the town is 80,000.\n",
    "\n",
    "population = 80000\n",
    "percentage_men = 52\n",
    "percentage_literate_men = 35\n",
    "percentage_literacy = 48\n",
    "percentage_literate_men = 35\n",
    "num_men = (percentage_men / 100) *population\n",
    "num_literate_men = (percentage_literate_men / 100) *population\n",
    "num_literate_women = (percentage_literacy / 100) * population - num_literate_men\n",
    "num_illiterate_men = num_men - num_literate_men\n",
    "num_illiterate_women = population - num_literate_men - num_literate_women - num_illiterate_men\n",
    "print(\"Number of illiterate men: \", int(num_illiterate_men))\n",
    "print(\"Number of illiterate women: \", int(num_illiterate_women))"
   ]
  },
  {
   "cell_type": "code",
   "execution_count": 49,
   "id": "9ac39320-8d9b-4241-a023-06d49851c365",
   "metadata": {},
   "outputs": [
    {
     "name": "stdin",
     "output_type": "stream",
     "text": [
      "enter the withdrawn amount 5000\n"
     ]
    },
    {
     "name": "stdout",
     "output_type": "stream",
     "text": [
      "number of 100-rupee notes: 50\n",
      "number of 50-rupee notes: 100\n",
      "number of 10-rupee notes: 500\n"
     ]
    }
   ],
   "source": [
    "# A cashier has currency notes of denominations 10, 50 and 100. If the amount to be withdrawn is input\n",
    "#through the keyboard in hundreds, find the total number of currency notes of each denomination the\n",
    "#cashier will have to give to the withdrawer.\n",
    "\n",
    "amount=eval(input('enter the withdrawn amount'))\n",
    "num_100=amount//100\n",
    "remaing=amount%100\n",
    "num_50=amount//50\n",
    "remaing=amount%50\n",
    "num_10=amount//10\n",
    "print(\"number of 100-rupee notes:\",num_100)\n",
    "print(\"number of 50-rupee notes:\",num_50)\n",
    "print(\"number of 10-rupee notes:\",num_10)"
   ]
  },
  {
   "cell_type": "code",
   "execution_count": null,
   "id": "2cd0bb11-e739-4a42-bf85-1088f2ed4754",
   "metadata": {},
   "outputs": [],
   "source": []
  }
 ],
 "metadata": {
  "kernelspec": {
   "display_name": "Python 3 (ipykernel)",
   "language": "python",
   "name": "python3"
  },
  "language_info": {
   "codemirror_mode": {
    "name": "ipython",
    "version": 3
   },
   "file_extension": ".py",
   "mimetype": "text/x-python",
   "name": "python",
   "nbconvert_exporter": "python",
   "pygments_lexer": "ipython3",
   "version": "3.11.7"
  }
 },
 "nbformat": 4,
 "nbformat_minor": 5
}
