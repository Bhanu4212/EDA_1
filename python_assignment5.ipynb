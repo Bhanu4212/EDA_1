{
 "cells": [
  {
   "cell_type": "code",
   "execution_count": 15,
   "id": "cbc928ba-2daf-4985-9ece-d37fa17b0d4d",
   "metadata": {},
   "outputs": [],
   "source": [
    "# wap ask the user enter 3 numbers calculate average\n",
    "#with out argument\n",
    "\n",
    "def average():\n",
    "    num1=eval(input('enter a number'))\n",
    "    num2=eval(input('enter a number'))\n",
    "    num3=eval(input('enter a number'))\n",
    "    average=num1+num2+num3/3\n",
    "    average1=round(average,3)\n",
    "    print(f'Average of num1,num2 and num3 is:{average1}')"
   ]
  },
  {
   "cell_type": "code",
   "execution_count": 16,
   "id": "d7eef8d5-2513-42f3-8b75-4e41d0cf8506",
   "metadata": {},
   "outputs": [
    {
     "name": "stdin",
     "output_type": "stream",
     "text": [
      "enter a number 20\n",
      "enter a number 36\n",
      "enter a number 25\n"
     ]
    },
    {
     "name": "stdout",
     "output_type": "stream",
     "text": [
      "Average of num1,num2 and num3 is:64.333\n"
     ]
    }
   ],
   "source": [
    "average()"
   ]
  },
  {
   "cell_type": "code",
   "execution_count": 18,
   "id": "19aaaf1b-07b8-489a-adbc-0cf3542d6b60",
   "metadata": {},
   "outputs": [],
   "source": [
    "# wap ask the uer enter radius values find the area of the circle\n",
    "\n",
    "def area_circle():\n",
    "    radius=eval(input('enter radius value'))\n",
    "    pi=eval(input('enter pi value'))\n",
    "    area=radius*radius*pi\n",
    "    print(f'the area of circle is:{area}')"
   ]
  },
  {
   "cell_type": "code",
   "execution_count": 19,
   "id": "43f81b19-b6ae-483d-b734-cf2eaded8044",
   "metadata": {},
   "outputs": [
    {
     "name": "stdin",
     "output_type": "stream",
     "text": [
      "enter radius value 20.5\n",
      "enter pi value 3.14\n"
     ]
    },
    {
     "name": "stdout",
     "output_type": "stream",
     "text": [
      "the area of circle is:1319.585\n"
     ]
    }
   ],
   "source": [
    "area_circle()"
   ]
  },
  {
   "cell_type": "code",
   "execution_count": 20,
   "id": "073feb7c-af53-409b-9d2c-05ff128ee544",
   "metadata": {},
   "outputs": [],
   "source": [
    "#wap ask the user enter base height calculate area of the traingle\n",
    "\n",
    "def area_triangle():\n",
    "    height=eval(input('enter height value'))\n",
    "    base=eval(input('enter base valve'))\n",
    "    area=height*base\n",
    "    print(f'area of triangle is:{area}')"
   ]
  },
  {
   "cell_type": "code",
   "execution_count": 21,
   "id": "357736a2-24e3-4d12-80ef-bb9af7c534be",
   "metadata": {},
   "outputs": [
    {
     "name": "stdin",
     "output_type": "stream",
     "text": [
      "enter height value 52\n",
      "enter base valve 36\n"
     ]
    },
    {
     "name": "stdout",
     "output_type": "stream",
     "text": [
      "area of triangle is:1872\n"
     ]
    }
   ],
   "source": [
    "area_triangle()"
   ]
  },
  {
   "cell_type": "code",
   "execution_count": 22,
   "id": "44fb847c-f641-4464-87a1-b264ff43f51d",
   "metadata": {},
   "outputs": [],
   "source": [
    "#wap ask the user enter length and breadth calculate area of the rectangle\n",
    "\n",
    "def area_rectangle():\n",
    "    length=eval(input('enter length of rectangle'))\n",
    "    breadth=eval(input('enter breadth of rectangle'))\n",
    "    area=2*length*breadth\n",
    "    print(f'area of rectangle is:{area}')"
   ]
  },
  {
   "cell_type": "code",
   "execution_count": 23,
   "id": "624eb8b5-a20d-47c5-8f0c-29bebd4cf594",
   "metadata": {},
   "outputs": [
    {
     "name": "stdin",
     "output_type": "stream",
     "text": [
      "enter length of rectangle 52\n",
      "enter breadth of rectangle 36\n"
     ]
    },
    {
     "name": "stdout",
     "output_type": "stream",
     "text": [
      "area of rectangle is:3744\n"
     ]
    }
   ],
   "source": [
    "area_rectangle()"
   ]
  },
  {
   "cell_type": "code",
   "execution_count": 26,
   "id": "f5f54bb3-b8bd-412d-a2f3-49ad0efa11d0",
   "metadata": {},
   "outputs": [],
   "source": [
    "# wap ask the user bill amount,\n",
    "#     ask the user how much tip you want pay in percentage\n",
    "#     calculate totalbill\n",
    "\n",
    "def bill():\n",
    "    bill_amount=eval(input('enter bill amount'))\n",
    "    tip_percentage=eval(input('enter tip percentage'))\n",
    "    tip_amount=bill_amount*tip_percentage/100\n",
    "    total_bill=bill_amount+tip_amount\n",
    "    print(tip_amount)\n",
    "    print(f'total bill amount is :{total_bill}')\n",
    "    "
   ]
  },
  {
   "cell_type": "code",
   "execution_count": 27,
   "id": "e1eca725-a0dc-4adb-b696-591ee956ca4e",
   "metadata": {},
   "outputs": [
    {
     "name": "stdin",
     "output_type": "stream",
     "text": [
      "enter bill amount 5200\n",
      "enter tip percentage 15\n"
     ]
    },
    {
     "name": "stdout",
     "output_type": "stream",
     "text": [
      "780.0\n",
      "total bill amount is :5980.0\n"
     ]
    }
   ],
   "source": [
    "bill()"
   ]
  },
  {
   "cell_type": "code",
   "execution_count": 33,
   "id": "0c9f40de-02d7-4304-a286-8ad8c2b718fa",
   "metadata": {},
   "outputs": [],
   "source": [
    "## wap ask the user enter a number\n",
    "# find it is a even number or odd number\n",
    "\n",
    "def num():\n",
    "    num=eval(input('enter number'))\n",
    "    if num%2==0:\n",
    "        print('number is even')\n",
    "    else :\n",
    "        print('number is odd')"
   ]
  },
  {
   "cell_type": "code",
   "execution_count": 34,
   "id": "01ab524f-86a8-4d73-b235-d65db5dd81d6",
   "metadata": {},
   "outputs": [
    {
     "name": "stdin",
     "output_type": "stream",
     "text": [
      "enter number 5\n"
     ]
    },
    {
     "name": "stdout",
     "output_type": "stream",
     "text": [
      "number is odd\n"
     ]
    }
   ],
   "source": [
    "num()"
   ]
  },
  {
   "cell_type": "code",
   "execution_count": 39,
   "id": "3f041f7e-fe15-4b7b-9fa5-7bd02a50f9ba",
   "metadata": {},
   "outputs": [],
   "source": [
    "## wap ask the user enter the distance\n",
    "# if distance greater than 25km\n",
    "#      then enter the charge\n",
    "#      print the total cost\n",
    "#otherwise\n",
    "#      print free ride\n",
    "\n",
    "def distance():\n",
    "        distance=eval(input('enter distance'))\n",
    "        if distance>25:\n",
    "            print('charge for ride')\n",
    "            charge=eval(input('enter charges'))\n",
    "            cost=distance*charge\n",
    "            print(f'the cost of ride is:{cost}') \n",
    "        else:\n",
    "            print('free ride')"
   ]
  },
  {
   "cell_type": "code",
   "execution_count": 40,
   "id": "dc8f909f-cc29-429a-a779-df39ab0720c5",
   "metadata": {},
   "outputs": [
    {
     "name": "stdin",
     "output_type": "stream",
     "text": [
      "enter distance 50\n"
     ]
    },
    {
     "name": "stdout",
     "output_type": "stream",
     "text": [
      "charge for ride\n"
     ]
    },
    {
     "name": "stdin",
     "output_type": "stream",
     "text": [
      "enter charges 9\n"
     ]
    },
    {
     "name": "stdout",
     "output_type": "stream",
     "text": [
      "the cost of ride is:450\n"
     ]
    }
   ],
   "source": [
    "distance()"
   ]
  },
  {
   "cell_type": "code",
   "execution_count": 45,
   "id": "86e6bb8f-b44a-4496-be22-0158cc424a4d",
   "metadata": {},
   "outputs": [],
   "source": [
    "# Implement the above problem by taking a random input  between  1, 100\n",
    "\n",
    "import random\n",
    "def distance():\n",
    "        distance=random.randint(1,100)\n",
    "        print(distance)\n",
    "        if distance>25:\n",
    "            print('charge for ride')\n",
    "            charge=eval(input('enter charges'))\n",
    "            cost=distance*charge\n",
    "            print(f'the cost of ride is:{cost}') \n",
    "        else:\n",
    "            print('free ride')"
   ]
  },
  {
   "cell_type": "code",
   "execution_count": 46,
   "id": "a2c49380-eecb-4c6b-bb9f-fc9a04e4a11d",
   "metadata": {},
   "outputs": [
    {
     "name": "stdout",
     "output_type": "stream",
     "text": [
      "77\n",
      "charge for ride\n"
     ]
    },
    {
     "name": "stdin",
     "output_type": "stream",
     "text": [
      "enter charges 8\n"
     ]
    },
    {
     "name": "stdout",
     "output_type": "stream",
     "text": [
      "the cost of ride is:616\n"
     ]
    }
   ],
   "source": [
    "distance()"
   ]
  },
  {
   "cell_type": "code",
   "execution_count": 53,
   "id": "ba80fab6-d4df-4049-a968-4aa8586d9002",
   "metadata": {},
   "outputs": [],
   "source": [
    "# wap ask the user enter the distance\n",
    "# cutoff distance enter 25\n",
    "# if distance greater than 25km\n",
    "#      print(\"good news your charge is aplicable for only remaining of 25\")\n",
    "#      chargeble distance= distance-cutoff\n",
    "#      then enter the charge\n",
    "#      print the total cost\n",
    "#otherwise\n",
    "#      print free ride\n",
    "\n",
    "def distance2():\n",
    "    distance=eval(input('enter distance'))\n",
    "    if distance>=25:\n",
    "        print('good news your charge is applicable for only  reamaining of 25')\n",
    "        print('charge for ride')\n",
    "        cut_off=25\n",
    "        charge=eval(input('enter charge'))\n",
    "        cost=charge*distance-cut_off\n",
    "        print(f'the cost of ride is:{cost}')\n",
    "    else:\n",
    "        print(\"free ride\")\n",
    "        \n",
    "\n"
   ]
  },
  {
   "cell_type": "code",
   "execution_count": 54,
   "id": "6e398fa6-19f2-4074-8fe1-b8ce2d5f62b2",
   "metadata": {},
   "outputs": [
    {
     "name": "stdin",
     "output_type": "stream",
     "text": [
      "enter distance 20\n"
     ]
    },
    {
     "name": "stdout",
     "output_type": "stream",
     "text": [
      "free ride\n"
     ]
    }
   ],
   "source": [
    "distance2()"
   ]
  },
  {
   "cell_type": "code",
   "execution_count": 12,
   "id": "d1dcd068-865c-44f9-ac59-68cdf3ef5c27",
   "metadata": {},
   "outputs": [],
   "source": [
    "# wap ask the user enter the course\n",
    "# ask the user enter the Institute\n",
    "# if the course equal to data science and institute equal to naresh it\n",
    "#     then you are good\n",
    "# otherwise\n",
    "#     you are bad\n",
    "\n",
    "def institute():\n",
    "    course=input('enter the course name')\n",
    "    institute=input('enter the institute name')\n",
    "    if course==\"datascience\" and institute==\"nareshit\":\n",
    "        print('you are good')\n",
    "    else:\n",
    "      print('you are bad')"
   ]
  },
  {
   "cell_type": "code",
   "execution_count": 68,
   "id": "e5181bbb-0495-49d9-975a-7b8976753a70",
   "metadata": {},
   "outputs": [
    {
     "name": "stdin",
     "output_type": "stream",
     "text": [
      "enter the course name datascience\n",
      "enter the institute name bhanu\n"
     ]
    },
    {
     "name": "stdout",
     "output_type": "stream",
     "text": [
      "you are bad\n"
     ]
    }
   ],
   "source": [
    "institute()"
   ]
  },
  {
   "cell_type": "code",
   "execution_count": 8,
   "id": "2adb66ed-8dd7-45ef-8800-71b2b122e3d6",
   "metadata": {},
   "outputs": [],
   "source": [
    "# wap ask the user enter a random number between 1 to 10, treat this as number1\n",
    "# ask the user enter another number from keyboard, treat this as number2\n",
    "# if number1 equal to number2\n",
    "#     print you won\n",
    "# otherwise\n",
    "#     print you lost\n",
    "\n",
    "import random\n",
    "def num():\n",
    "    num1=random.randint(1,10)\n",
    "    num2=eval(input('enter a number'))\n",
    "    if num1==num2:\n",
    "        print(\"you won\")\n",
    "    else:\n",
    "        print(\"you lost\")"
   ]
  },
  {
   "cell_type": "code",
   "execution_count": 9,
   "id": "20e9553a-acf5-4cfd-b50c-b4f9f55f8641",
   "metadata": {},
   "outputs": [
    {
     "name": "stdin",
     "output_type": "stream",
     "text": [
      "enter a number 5\n"
     ]
    },
    {
     "name": "stdout",
     "output_type": "stream",
     "text": [
      "you lost\n"
     ]
    }
   ],
   "source": [
    "num()"
   ]
  },
  {
   "cell_type": "code",
   "execution_count": 10,
   "id": "e1529137-70a4-4a31-ac05-247733c318c7",
   "metadata": {},
   "outputs": [],
   "source": [
    "# wap ask the user enter number\n",
    "# if number equal to 1 then print one\n",
    "# if number equal to 2 then print two\n",
    "# if number equal to 3 then print three\n",
    "# otherwise  print enter a valid number\n",
    "\n",
    "\n",
    "def number1():\n",
    "    num=eval(input('enter a number'))\n",
    "    if num==1:\n",
    "        print('one')\n",
    "    elif num==2:\n",
    "        print('Two')\n",
    "    elif num==3:\n",
    "        print('three')\n",
    "    else:\n",
    "        print('enter a valid number')"
   ]
  },
  {
   "cell_type": "code",
   "execution_count": 12,
   "id": "29956b94-ebb7-4088-978d-41f25964518a",
   "metadata": {},
   "outputs": [
    {
     "name": "stdin",
     "output_type": "stream",
     "text": [
      "enter a number 2\n"
     ]
    },
    {
     "name": "stdout",
     "output_type": "stream",
     "text": [
      "Two\n"
     ]
    }
   ],
   "source": [
    "number1()"
   ]
  },
  {
   "cell_type": "code",
   "execution_count": 13,
   "id": "63e1006f-36f8-40d0-9c6e-72ee60325fe3",
   "metadata": {},
   "outputs": [],
   "source": [
    "# wap ask the user enter a number\n",
    "# if that number greater than zero print postive\n",
    "# if that number less than zero print negative\n",
    "# otherwise print zero\n",
    "\n",
    "def number2():\n",
    "    num=eval(input('enter a number'))\n",
    "    if num>0:\n",
    "        print('positive')\n",
    "    elif num<0:\n",
    "        print('negative')\n",
    "    else:\n",
    "        print('zero')"
   ]
  },
  {
   "cell_type": "code",
   "execution_count": 14,
   "id": "886baf4a-8a61-4564-b8a5-f4450fb556c0",
   "metadata": {},
   "outputs": [
    {
     "name": "stdin",
     "output_type": "stream",
     "text": [
      "enter a number 5\n"
     ]
    },
    {
     "name": "stdout",
     "output_type": "stream",
     "text": [
      "positive\n"
     ]
    }
   ],
   "source": [
    "number2()"
   ]
  },
  {
   "cell_type": "code",
   "execution_count": 15,
   "id": "a357ec96-a355-4219-81b3-ad2a6d4ed11e",
   "metadata": {},
   "outputs": [],
   "source": [
    "# WAP ask the user enter the percentage of marks 0 to 100\n",
    "# if percentagw gretaer than 90  print A garde\n",
    "# if percentage between 75 to 90 print B garde\n",
    "# if percentage between 50 to 75 print C grade\n",
    "# if percentage between 35 to 50 print D grade\n",
    "# if percentage less than 35 print Fail\n",
    "\n",
    "\n",
    "def marks():\n",
    "    percentage=eval(input('enter the percentage'))\n",
    "    if percentage>90:\n",
    "        print(\"A\")\n",
    "    elif percentage>75:\n",
    "        print(\"B\")\n",
    "    elif percentage>50:\n",
    "        print(\"C\")\n",
    "    elif percentage>35:\n",
    "        print(\"D\")\n",
    "    else:\n",
    "        print(\"FAIL\")\n",
    "        "
   ]
  },
  {
   "cell_type": "code",
   "execution_count": 16,
   "id": "10726ff1-953a-40ea-9990-ddd78834cfbe",
   "metadata": {},
   "outputs": [
    {
     "name": "stdin",
     "output_type": "stream",
     "text": [
      "enter the percentage 60\n"
     ]
    },
    {
     "name": "stdout",
     "output_type": "stream",
     "text": [
      "C\n"
     ]
    }
   ],
   "source": [
    "marks()"
   ]
  },
  {
   "cell_type": "code",
   "execution_count": 1,
   "id": "d8b2c12a-a3c8-4d59-8639-9a4586784894",
   "metadata": {},
   "outputs": [],
   "source": [
    "# WAP ask the user enter the age\n",
    "# if the age greater tahn 100 print you are lucky\n",
    "# if the age gretaer than 75 print old age\n",
    "# if the age  between 50 to 75 print ss\n",
    "# if the age between  30 tp 50 print MA\n",
    "# if the age between  15 to 30 print young age\n",
    "# if the afe between less than 15 print kid\n",
    "\n",
    "\n",
    "def age():\n",
    "    age=eval(input('enter the age'))\n",
    "    if age>100:\n",
    "        print('you are lucky')\n",
    "    elif age>75:\n",
    "        print('old age')\n",
    "    elif age>50:\n",
    "        print('senior citizen')\n",
    "    elif age>30:\n",
    "        print('middle age')\n",
    "    elif age>15:\n",
    "        print('young age')\n",
    "    else:\n",
    "        print('kid')"
   ]
  },
  {
   "cell_type": "code",
   "execution_count": 2,
   "id": "86d1e9e6-a975-46dc-9846-1be92261a090",
   "metadata": {},
   "outputs": [
    {
     "name": "stdin",
     "output_type": "stream",
     "text": [
      "enter the age 25\n"
     ]
    },
    {
     "name": "stdout",
     "output_type": "stream",
     "text": [
      "young age\n"
     ]
    }
   ],
   "source": [
    "age()"
   ]
  },
  {
   "cell_type": "markdown",
   "id": "370b2a71-e71d-454a-8baf-12dae655cfe4",
   "metadata": {},
   "source": [
    "**with arguments**"
   ]
  },
  {
   "cell_type": "code",
   "execution_count": 14,
   "id": "9e673129-8b62-45fe-b8b8-3deb8e7181b7",
   "metadata": {},
   "outputs": [],
   "source": [
    "# wap ask the user enter 3 numbers calculate average\n",
    "# with argument\n",
    "def average(num1,num2,num3):\n",
    "    average=num1+num2+num3/3\n",
    "    average1=round(average,3)\n",
    "    print(f'Average of num1,num2 and num3 is:{average1}')"
   ]
  },
  {
   "cell_type": "code",
   "execution_count": 10,
   "id": "942e83b4-8bc8-4e07-80aa-5390446aea18",
   "metadata": {},
   "outputs": [
    {
     "name": "stdout",
     "output_type": "stream",
     "text": [
      "Average of num1,num2 and num3 is:74.667\n"
     ]
    }
   ],
   "source": [
    "average(20,36,56)"
   ]
  },
  {
   "cell_type": "code",
   "execution_count": 35,
   "id": "7663d3e9-e6b2-4baa-b9bd-958ec2bfb21f",
   "metadata": {},
   "outputs": [],
   "source": [
    "# wap ask the uer enter radius values find the area of the circle\n",
    "def area_circle(radius,pi):\n",
    "    area=radius*radius*pi\n",
    "    print(f'the area of circle is:{area}')"
   ]
  },
  {
   "cell_type": "code",
   "execution_count": 71,
   "id": "4ce4cc49-62a1-4138-baab-96f62aa3e534",
   "metadata": {},
   "outputs": [
    {
     "name": "stdout",
     "output_type": "stream",
     "text": [
      "the area of circle is:1962.5\n"
     ]
    }
   ],
   "source": [
    "area_circle(25,3.14)"
   ]
  },
  {
   "cell_type": "code",
   "execution_count": 36,
   "id": "3cd96ebc-c8e8-4bdc-954b-95b6d570dd30",
   "metadata": {},
   "outputs": [],
   "source": [
    "#wap ask the user enter base height calculate area of the traingle\n",
    "\n",
    "def area_triangle(height,base):\n",
    "    area=height*base\n",
    "    print(f'area of triangle is:{area}')"
   ]
  },
  {
   "cell_type": "code",
   "execution_count": 73,
   "id": "10f088c6-d269-4ef2-b6a7-2dbc543bba54",
   "metadata": {},
   "outputs": [
    {
     "name": "stdout",
     "output_type": "stream",
     "text": [
      "area of triangle is:828\n"
     ]
    }
   ],
   "source": [
    "area_triangle(23,36)"
   ]
  },
  {
   "cell_type": "code",
   "execution_count": 37,
   "id": "50f29d7b-351c-47d1-8a6e-2b8c73c72d26",
   "metadata": {},
   "outputs": [],
   "source": [
    "#wap ask the user enter length and breadth calculate area of the rectangle\n",
    "\n",
    "def area_rectangle(length,breadth):\n",
    "    area=2*length*breadth\n",
    "    print(f'area of rectangle is:{area}')"
   ]
  },
  {
   "cell_type": "code",
   "execution_count": 75,
   "id": "6252209b-5d80-45c6-b0fa-6b8cfddc0f41",
   "metadata": {},
   "outputs": [
    {
     "name": "stdout",
     "output_type": "stream",
     "text": [
      "area of rectangle is:1900\n"
     ]
    }
   ],
   "source": [
    "area_rectangle(25,38)"
   ]
  },
  {
   "cell_type": "code",
   "execution_count": 38,
   "id": "fd5de5c6-a16d-4c9f-a5c6-754d749690e2",
   "metadata": {},
   "outputs": [],
   "source": [
    "# wap ask the user bill amount,\n",
    "#     ask the user how much tip you want pay in percentage\n",
    "#     calculate totalbill\n",
    "\n",
    "def bill(bill_amount,tip_percentage):\n",
    "    tip_amount=bill_amount*tip_percentage/100\n",
    "    total_bill=bill_amount+tip_amount\n",
    "    print(tip_amount)\n",
    "    print(f'total bill amount is :{total_bill}')\n"
   ]
  },
  {
   "cell_type": "code",
   "execution_count": 77,
   "id": "279c9909-79e2-43c8-abd6-2cca4181139c",
   "metadata": {},
   "outputs": [
    {
     "name": "stdout",
     "output_type": "stream",
     "text": [
      "380.4\n",
      "total bill amount is :2916.4\n"
     ]
    }
   ],
   "source": [
    "bill(2536,15)"
   ]
  },
  {
   "cell_type": "code",
   "execution_count": 39,
   "id": "b82e7c55-5df7-482c-9d0c-544eacc5727d",
   "metadata": {},
   "outputs": [],
   "source": [
    "## wap ask the user enter a number\n",
    "# find it is a even number or odd number\n",
    "\n",
    "def num(num):\n",
    "    if num%2==0:\n",
    "        print('number is even')\n",
    "    else :\n",
    "        print('number is odd')"
   ]
  },
  {
   "cell_type": "code",
   "execution_count": 4,
   "id": "20eef71a-689c-46b7-b589-4424b5e63323",
   "metadata": {},
   "outputs": [
    {
     "name": "stdout",
     "output_type": "stream",
     "text": [
      "number is even\n"
     ]
    }
   ],
   "source": [
    "num(50)"
   ]
  },
  {
   "cell_type": "code",
   "execution_count": 40,
   "id": "1a9b58a6-9c87-4546-8fc0-c05078abc647",
   "metadata": {},
   "outputs": [],
   "source": [
    "## wap ask the user enter the distance\n",
    "# if distance greater than 25km\n",
    "#      then enter the charge\n",
    "#      print the total cost\n",
    "#otherwise\n",
    "#      print free ride\n",
    "def distance(distance):\n",
    "        if distance>25:\n",
    "            print('charge for ride')\n",
    "            charge=eval(input('enter charges'))\n",
    "            cost=distance*charge\n",
    "            print(f'the cost of ride is:{cost}') \n",
    "        else:\n",
    "            print('free ride')"
   ]
  },
  {
   "cell_type": "code",
   "execution_count": 7,
   "id": "aa83dccf-76c4-4af9-ade4-e6471ad48960",
   "metadata": {},
   "outputs": [
    {
     "name": "stdout",
     "output_type": "stream",
     "text": [
      "charge for ride\n"
     ]
    },
    {
     "name": "stdin",
     "output_type": "stream",
     "text": [
      "enter charges 6\n"
     ]
    },
    {
     "name": "stdout",
     "output_type": "stream",
     "text": [
      "the cost of ride is:216\n"
     ]
    }
   ],
   "source": [
    "distance(36)"
   ]
  },
  {
   "cell_type": "code",
   "execution_count": 41,
   "id": "fd69e904-b63f-465a-bc76-fc7a82f1e099",
   "metadata": {},
   "outputs": [],
   "source": [
    "## wap ask the user enter the distance\n",
    "# if distance greater than 25km\n",
    "#      then enter the charge\n",
    "#      print the total cost\n",
    "#otherwise\n",
    "#      print free ride\n",
    "# Implement the above problem by taking a random input  between  1, 100\n",
    "\n",
    "\n",
    "import random\n",
    "def distance(distance):\n",
    "        print(distance)\n",
    "        if distance>25:\n",
    "            print('charge for ride')\n",
    "            charge=eval(input('enter charges'))\n",
    "            cost=distance*charge\n",
    "            print(f'the cost of ride is:{cost}') \n",
    "        else:\n",
    "            print('free ride')"
   ]
  },
  {
   "cell_type": "code",
   "execution_count": 9,
   "id": "0f181d62-d2ba-427e-ba28-038e44190060",
   "metadata": {},
   "outputs": [
    {
     "name": "stdout",
     "output_type": "stream",
     "text": [
      "36\n",
      "charge for ride\n"
     ]
    },
    {
     "name": "stdin",
     "output_type": "stream",
     "text": [
      "enter charges 9\n"
     ]
    },
    {
     "name": "stdout",
     "output_type": "stream",
     "text": [
      "the cost of ride is:324\n"
     ]
    }
   ],
   "source": [
    "distance(random.randint(1,100))"
   ]
  },
  {
   "cell_type": "code",
   "execution_count": 42,
   "id": "a3dcfda0-ce8c-4244-8f0c-9ead5fa7157d",
   "metadata": {},
   "outputs": [],
   "source": [
    "# wap ask the user enter the distance\n",
    "# cutoff distance enter 25\n",
    "# if distance greater than 25km\n",
    "#      print(\"good news your charge is aplicable for only remaining of 25\")\n",
    "#      chargeble distance= distance-cutoff\n",
    "#      then enter the charge\n",
    "#      print the total cost\n",
    "#otherwise\n",
    "#      print free ride\n",
    "\n",
    "def distance2(distance):\n",
    "    if distance>=25:\n",
    "        print('good news your charge is applicable for only  reamaining of 25')\n",
    "        print('charge for ride')\n",
    "        cut_off=25\n",
    "        charge=eval(input('enter charge'))\n",
    "        cost=charge*distance-cut_off\n",
    "        print(f'the cost of ride is:{cost}')\n",
    "    else:\n",
    "        print(\"free ride\")\n",
    "        \n"
   ]
  },
  {
   "cell_type": "code",
   "execution_count": 11,
   "id": "2c358a35-14ee-4ca7-a624-315a648cae24",
   "metadata": {},
   "outputs": [
    {
     "name": "stdout",
     "output_type": "stream",
     "text": [
      "65\n",
      "charge for ride\n"
     ]
    },
    {
     "name": "stdin",
     "output_type": "stream",
     "text": [
      "enter charges 7\n"
     ]
    },
    {
     "name": "stdout",
     "output_type": "stream",
     "text": [
      "the cost of ride is:455\n"
     ]
    }
   ],
   "source": [
    "distance(65)"
   ]
  },
  {
   "cell_type": "code",
   "execution_count": 26,
   "id": "cb075050-0925-4bd3-9ab8-7094c442d555",
   "metadata": {},
   "outputs": [],
   "source": [
    "# wap ask the user enter the course\n",
    "# ask the user enter the Institute\n",
    "# if the course equal to data science and institute equal to naresh it\n",
    "#     then you are good\n",
    "# otherwise\n",
    "#     you are bad\n",
    "\n",
    "def name(course,institute):\n",
    "    if course=='datascience' and institute=='nareshit':\n",
    "        print('you are good')\n",
    "    else:\n",
    "        print('you are bad')"
   ]
  },
  {
   "cell_type": "code",
   "execution_count": 27,
   "id": "3e27a6e1-5f89-4ad3-9f44-0307ae38be50",
   "metadata": {},
   "outputs": [
    {
     "name": "stdout",
     "output_type": "stream",
     "text": [
      "you are good\n"
     ]
    }
   ],
   "source": [
    "name('datascience','nareshit')"
   ]
  },
  {
   "cell_type": "raw",
   "id": "12f4d838-e52e-4895-adba-33af3864d9a3",
   "metadata": {},
   "source": [
    "# wap ask the user enter a random number between 1 to 10, treat this as number1\n",
    "# ask the user enter another number from keyboard, treat this as number2\n",
    "# if number1 equal to number2\n",
    "#     print you won\n",
    "# otherwise\n",
    "#     print you lost\n",
    "\n",
    "def num(num1,num2):\n",
    "    if num1==num2:\n",
    "        print(\"you won\")\n",
    "    else:\n",
    "        print(\"you lost\")"
   ]
  },
  {
   "cell_type": "code",
   "execution_count": 1,
   "id": "31c84684-21ec-4c82-bc4b-852dfd5bfeb2",
   "metadata": {},
   "outputs": [
    {
     "ename": "NameError",
     "evalue": "name 'num' is not defined",
     "output_type": "error",
     "traceback": [
      "\u001b[1;31m---------------------------------------------------------------------------\u001b[0m",
      "\u001b[1;31mNameError\u001b[0m                                 Traceback (most recent call last)",
      "Cell \u001b[1;32mIn[1], line 1\u001b[0m\n\u001b[1;32m----> 1\u001b[0m num(random\u001b[38;5;241m.\u001b[39mrandint(\u001b[38;5;241m1\u001b[39m,\u001b[38;5;241m10\u001b[39m),\u001b[38;5;241m5\u001b[39m)\n",
      "\u001b[1;31mNameError\u001b[0m: name 'num' is not defined"
     ]
    }
   ],
   "source": [
    "num(random.randint(1,10),5)"
   ]
  },
  {
   "cell_type": "code",
   "execution_count": 45,
   "id": "166055a2-76cd-4dc9-babc-dcbd22915549",
   "metadata": {},
   "outputs": [],
   "source": [
    "# wap ask the user enter number\n",
    "# if number equal to 1 then print one\n",
    "# if number equal to 2 then print two\n",
    "# if number equal to 3 then print three\n",
    "# otherwise  print enter a valid number\n",
    "def number1(num):\n",
    "    if num==1:\n",
    "        print('one')\n",
    "    elif num==2:\n",
    "        print('Two')\n",
    "    elif num==3:\n",
    "        print('three')\n",
    "    else:\n",
    "        print('enter a valid number')"
   ]
  },
  {
   "cell_type": "code",
   "execution_count": 28,
   "id": "85cc6508-143e-4dc0-ab7e-426983a21d65",
   "metadata": {},
   "outputs": [
    {
     "name": "stdout",
     "output_type": "stream",
     "text": [
      "Two\n"
     ]
    }
   ],
   "source": [
    "number1(2)"
   ]
  },
  {
   "cell_type": "code",
   "execution_count": 46,
   "id": "9896422c-3d3a-4afd-acaa-c2b9dbe9cc87",
   "metadata": {},
   "outputs": [],
   "source": [
    "# wap ask the user enter a number\n",
    "# if that number greater than zero print postive\n",
    "# if that number less than zero print negative\n",
    "# otherwise print zero\n",
    "def number2(num):\n",
    "    if num>0:\n",
    "        print('positive')\n",
    "    elif num<0:\n",
    "        print('negative')\n",
    "    else:\n",
    "        print('zero')"
   ]
  },
  {
   "cell_type": "code",
   "execution_count": 30,
   "id": "ed90f166-edf7-4cc4-aaf3-582f1131934c",
   "metadata": {},
   "outputs": [
    {
     "name": "stdout",
     "output_type": "stream",
     "text": [
      "positive\n"
     ]
    }
   ],
   "source": [
    "number2(50)"
   ]
  },
  {
   "cell_type": "code",
   "execution_count": 47,
   "id": "f621a950-357c-4c97-aec8-6a7a8d18e489",
   "metadata": {},
   "outputs": [],
   "source": [
    "# WAP ask the user enter the percentage of marks 0 to 100\n",
    "# if percentagw gretaer than 90  print A garde\n",
    "# if percentage between 75 to 90 print B garde\n",
    "# if percentage between 50 to 75 print C grade\n",
    "# if percentage between 35 to 50 print D grade\n",
    "# if percentage less than 35 print Fail\n",
    "def marks(percentage):\n",
    "    if percentage>90:\n",
    "        print(\"A\")\n",
    "    elif percentage>75:\n",
    "        print(\"B\")\n",
    "    elif percentage>50:\n",
    "        print(\"C\")\n",
    "    elif percentage>35:\n",
    "        print(\"D\")\n",
    "    else:\n",
    "        print(\"FAIL\")\n"
   ]
  },
  {
   "cell_type": "code",
   "execution_count": 32,
   "id": "1d0bfc0e-4b23-4ebd-a49b-3d00a19782b4",
   "metadata": {},
   "outputs": [
    {
     "name": "stdout",
     "output_type": "stream",
     "text": [
      "C\n"
     ]
    }
   ],
   "source": [
    "marks(75)"
   ]
  },
  {
   "cell_type": "code",
   "execution_count": 48,
   "id": "0edc97cc-bcdd-4851-86b8-d2f321895444",
   "metadata": {},
   "outputs": [],
   "source": [
    "\n",
    "# WAP ask the user enter the age\n",
    "# if the age greater tahn 100 print you are lucky\n",
    "# if the age gretaer than 75 print old age\n",
    "# if the age  between 50 to 75 print ss\n",
    "# if the age between  30 tp 50 print MA\n",
    "# if the age between  15 to 30 print young age\n",
    "# if the afe between less than 15 print kid\n",
    "def age(age):\n",
    "    if age>100:\n",
    "        print('you are lucky')\n",
    "    elif age>75:\n",
    "        print('old age')\n",
    "    elif age>50:\n",
    "        print('senior citizen')\n",
    "    elif age>30:\n",
    "        print('middle age')\n",
    "    elif age>15:\n",
    "        print('young age')\n",
    "    else:\n",
    "        print('kid')"
   ]
  },
  {
   "cell_type": "code",
   "execution_count": 34,
   "id": "33638ffe-6100-4f19-8e64-a5b433779609",
   "metadata": {},
   "outputs": [
    {
     "name": "stdout",
     "output_type": "stream",
     "text": [
      "senior citizen\n"
     ]
    }
   ],
   "source": [
    "age(65)"
   ]
  },
  {
   "cell_type": "code",
   "execution_count": null,
   "id": "dd28ff1d-c8eb-4910-93d4-58183a2d4709",
   "metadata": {},
   "outputs": [],
   "source": []
  }
 ],
 "metadata": {
  "kernelspec": {
   "display_name": "Python 3 (ipykernel)",
   "language": "python",
   "name": "python3"
  },
  "language_info": {
   "codemirror_mode": {
    "name": "ipython",
    "version": 3
   },
   "file_extension": ".py",
   "mimetype": "text/x-python",
   "name": "python",
   "nbconvert_exporter": "python",
   "pygments_lexer": "ipython3",
   "version": "3.11.7"
  }
 },
 "nbformat": 4,
 "nbformat_minor": 5
}
