{
 "cells": [
  {
   "cell_type": "code",
   "execution_count": 1,
   "id": "7a1b6c7a-0ecd-4fa7-84da-7a2b4b0a0824",
   "metadata": {},
   "outputs": [],
   "source": [
    "num1=100\n",
    "num2=200\n",
    "add=num1+num2"
   ]
  },
  {
   "cell_type": "markdown",
   "id": "d74a2533-9f9a-4cb2-867c-548da11a4afe",
   "metadata": {},
   "source": [
    "$INPUT$\n",
    "\n",
    "- input keyword is used to take the values from user"
   ]
  },
  {
   "cell_type": "code",
   "execution_count": 3,
   "id": "69160ab1-524d-4132-bac9-21a9d916f002",
   "metadata": {},
   "outputs": [
    {
     "name": "stdin",
     "output_type": "stream",
     "text": [
      " 100\n"
     ]
    },
    {
     "data": {
      "text/plain": [
       "100"
      ]
     },
     "execution_count": 3,
     "metadata": {},
     "output_type": "execute_result"
    }
   ],
   "source": [
    "input()\n",
    "\n",
    "100"
   ]
  },
  {
   "cell_type": "code",
   "execution_count": 4,
   "id": "957ac0ac-eab4-48d9-9cd1-43f4bf5e7a7e",
   "metadata": {},
   "outputs": [
    {
     "name": "stdin",
     "output_type": "stream",
     "text": [
      "enter the number: 100\n"
     ]
    },
    {
     "data": {
      "text/plain": [
       "'100'"
      ]
     },
     "execution_count": 4,
     "metadata": {},
     "output_type": "execute_result"
    }
   ],
   "source": [
    "input(\"enter the number:\")"
   ]
  },
  {
   "cell_type": "code",
   "execution_count": 5,
   "id": "d9f53147-14ac-43d8-898d-292e0240fe96",
   "metadata": {},
   "outputs": [
    {
     "name": "stdin",
     "output_type": "stream",
     "text": [
      " 100\n",
      " 200\n",
      " 300\n"
     ]
    },
    {
     "data": {
      "text/plain": [
       "'300'"
      ]
     },
     "execution_count": 5,
     "metadata": {},
     "output_type": "execute_result"
    }
   ],
   "source": [
    "input()\n",
    "input()\n",
    "input()"
   ]
  },
  {
   "cell_type": "code",
   "execution_count": 6,
   "id": "5b7253dc-ab1e-4b24-a0c1-20c6dd755d7f",
   "metadata": {},
   "outputs": [
    {
     "name": "stdin",
     "output_type": "stream",
     "text": [
      "enter the number1: 1000\n",
      "enter the number2: 1200\n",
      "enter the number3: 1300\n"
     ]
    },
    {
     "data": {
      "text/plain": [
       "'1300'"
      ]
     },
     "execution_count": 6,
     "metadata": {},
     "output_type": "execute_result"
    }
   ],
   "source": [
    "input(\"enter the number1:\")\n",
    "input(\"enter the number2:\")\n",
    "input(\"enter the number3:\")"
   ]
  },
  {
   "cell_type": "code",
   "execution_count": 7,
   "id": "48aa2520-8ce2-4534-a867-80041fbf0afb",
   "metadata": {},
   "outputs": [
    {
     "name": "stdin",
     "output_type": "stream",
     "text": [
      "enter the  number1: 100\n",
      "enter  the number2: 200\n"
     ]
    }
   ],
   "source": [
    "num1=input(\"enter the  number1:\")\n",
    "num2=input(\"enter  the number2:\")"
   ]
  },
  {
   "cell_type": "code",
   "execution_count": 8,
   "id": "5b90f1e0-c3bd-4307-bc16-2548eec3bf45",
   "metadata": {},
   "outputs": [
    {
     "data": {
      "text/plain": [
       "'100'"
      ]
     },
     "execution_count": 8,
     "metadata": {},
     "output_type": "execute_result"
    }
   ],
   "source": [
    "num1"
   ]
  },
  {
   "cell_type": "code",
   "execution_count": 9,
   "id": "e8a9f959-715f-46bc-bf3a-97137bb5f091",
   "metadata": {},
   "outputs": [
    {
     "data": {
      "text/plain": [
       "'200'"
      ]
     },
     "execution_count": 9,
     "metadata": {},
     "output_type": "execute_result"
    }
   ],
   "source": [
    "num2"
   ]
  },
  {
   "cell_type": "markdown",
   "id": "721f0ecb-4c59-4bac-bc91-869a401732a4",
   "metadata": {},
   "source": [
    "**Note**\n",
    "\n",
    "- input always give the string data type only\n",
    "- in order to perform math calculation we need to convert info numerical format i.e int or float"
   ]
  },
  {
   "cell_type": "code",
   "execution_count": 10,
   "id": "eb32d7dc-6ff9-4173-b79e-d17365e2babf",
   "metadata": {},
   "outputs": [
    {
     "name": "stdin",
     "output_type": "stream",
     "text": [
      "enter the number1: 200\n"
     ]
    },
    {
     "data": {
      "text/plain": [
       "'200'"
      ]
     },
     "execution_count": 10,
     "metadata": {},
     "output_type": "execute_result"
    }
   ],
   "source": [
    "input(\"enter the number1:\")"
   ]
  },
  {
   "cell_type": "code",
   "execution_count": 12,
   "id": "9c25773d-9856-4f0f-97e3-aae901729a6d",
   "metadata": {},
   "outputs": [
    {
     "name": "stdin",
     "output_type": "stream",
     "text": [
      " 100\n",
      "enter the number: 200\n",
      "enter the number: 300\n"
     ]
    }
   ],
   "source": [
    "input()\n",
    "input(\"enter the number:\")\n",
    "a=input(\"enter the number:\")"
   ]
  },
  {
   "cell_type": "code",
   "execution_count": 13,
   "id": "43c069a4-0ddd-4561-8e21-c2f1e4978a34",
   "metadata": {},
   "outputs": [
    {
     "name": "stdin",
     "output_type": "stream",
     "text": [
      "enter the number1: 100\n",
      "enter the number2: 200\n"
     ]
    },
    {
     "data": {
      "text/plain": [
       "300"
      ]
     },
     "execution_count": 13,
     "metadata": {},
     "output_type": "execute_result"
    }
   ],
   "source": [
    "num1=int(input(\"enter the number1:\"))\n",
    "num2=int(input(\"enter the number2:\"))\n",
    "num1+num2"
   ]
  },
  {
   "cell_type": "code",
   "execution_count": 16,
   "id": "4246c4e4-066f-49b0-a1d6-8b1ce6b197ab",
   "metadata": {},
   "outputs": [
    {
     "name": "stdin",
     "output_type": "stream",
     "text": [
      "enter the number1: 1000\n",
      "enter the number2: 2000\n"
     ]
    },
    {
     "data": {
      "text/plain": [
       "3000"
      ]
     },
     "execution_count": 16,
     "metadata": {},
     "output_type": "execute_result"
    }
   ],
   "source": [
    "num1=input(\"enter the number1:\") #num1=100\n",
    "num2=input(\"enter the number2:\") #num=200\n",
    "int(num1)+int(num2)"
   ]
  },
  {
   "cell_type": "code",
   "execution_count": 18,
   "id": "240f0536-41c7-4587-97a7-3989c21f4cb2",
   "metadata": {},
   "outputs": [
    {
     "name": "stdin",
     "output_type": "stream",
     "text": [
      " 10.5\n"
     ]
    },
    {
     "data": {
      "text/plain": [
       "10.5"
      ]
     },
     "execution_count": 18,
     "metadata": {},
     "output_type": "execute_result"
    }
   ],
   "source": [
    "eval(input())"
   ]
  },
  {
   "cell_type": "code",
   "execution_count": 19,
   "id": "8677a490-1265-4776-908a-a3e4fdcb56ad",
   "metadata": {},
   "outputs": [
    {
     "name": "stdin",
     "output_type": "stream",
     "text": [
      "enter the number1: 100\n",
      "enter the number2: 10.5\n"
     ]
    },
    {
     "data": {
      "text/plain": [
       "110.5"
      ]
     },
     "execution_count": 19,
     "metadata": {},
     "output_type": "execute_result"
    }
   ],
   "source": [
    "num1=eval(input(\"enter the number1:\"))\n",
    "num2=eval(input(\"enter the number2:\"))\n",
    "num1+num2"
   ]
  },
  {
   "cell_type": "code",
   "execution_count": 20,
   "id": "fdebc340-0541-4a8e-b1a0-70e9a5a1c877",
   "metadata": {},
   "outputs": [
    {
     "name": "stdin",
     "output_type": "stream",
     "text": [
      "enter the number1: 50.6\n",
      "enter the number2: 20.4\n"
     ]
    },
    {
     "data": {
      "text/plain": [
       "30.200000000000003"
      ]
     },
     "execution_count": 20,
     "metadata": {},
     "output_type": "execute_result"
    }
   ],
   "source": [
    "num1=eval(input(\"enter the number1:\"))\n",
    "num2=eval(input(\"enter the number2:\"))\n",
    "num1-num2"
   ]
  },
  {
   "cell_type": "code",
   "execution_count": 21,
   "id": "f053f66d-b9ae-41d2-be15-16e65c1d4492",
   "metadata": {},
   "outputs": [
    {
     "name": "stdin",
     "output_type": "stream",
     "text": [
      "enter the number1: 10\n",
      "enter the number2: 20.5\n"
     ]
    },
    {
     "data": {
      "text/plain": [
       "205.0"
      ]
     },
     "execution_count": 21,
     "metadata": {},
     "output_type": "execute_result"
    }
   ],
   "source": [
    "num1=eval(input(\"enter the number1:\"))\n",
    "num2=eval(input(\"enter the number2:\"))\n",
    "num1*num2"
   ]
  },
  {
   "cell_type": "code",
   "execution_count": 23,
   "id": "7d7bb4a9-7989-4959-a3c3-f8669c77f5c6",
   "metadata": {},
   "outputs": [
    {
     "name": "stdin",
     "output_type": "stream",
     "text": [
      "enter the number1: 100\n",
      "enter the number2: 20.5\n"
     ]
    },
    {
     "data": {
      "text/plain": [
       "4.878048780487805"
      ]
     },
     "execution_count": 23,
     "metadata": {},
     "output_type": "execute_result"
    }
   ],
   "source": [
    "num1=input(\"enter the number1:\")\n",
    "num2=input(\"enter the number2:\")\n",
    "eval(num1)/eval(num2)"
   ]
  },
  {
   "cell_type": "code",
   "execution_count": 25,
   "id": "8e66b0b9-e400-42af-896a-a9aaf4d8efed",
   "metadata": {},
   "outputs": [
    {
     "name": "stdin",
     "output_type": "stream",
     "text": [
      "enter the number1: 100\n",
      "enter the number2: 20.5\n",
      "enter the number3: 330\n"
     ]
    },
    {
     "name": "stdout",
     "output_type": "stream",
     "text": [
      "the average of 100,20.5 and 330 is:230.5\n"
     ]
    }
   ],
   "source": [
    "num1=eval(input(\"enter the number1:\"))\n",
    "num2=eval(input(\"enter the number2:\"))\n",
    "num3=eval(input(\"enter the number3:\"))\n",
    "average=num1+num2+num3/3\n",
    "print(f\"the average of {num1},{num2} and {num3} is:{average}\")"
   ]
  },
  {
   "cell_type": "code",
   "execution_count": 2,
   "id": "cf1e4222-d9a0-43ca-8bbf-b55e6eb4be6e",
   "metadata": {},
   "outputs": [
    {
     "name": "stdin",
     "output_type": "stream",
     "text": [
      "enter the number1: 20.5\n",
      "enter the number2: 3.14\n"
     ]
    },
    {
     "name": "stdout",
     "output_type": "stream",
     "text": [
      "the area of a circle is:1319.585\n"
     ]
    }
   ],
   "source": [
    "radius=eval(input(\"enter the number1:\"))\n",
    "pi_value=eval(input(\"enter the number2:\"))\n",
    "area=radius*pi_value*radius\n",
    "print(f'the area of a circle is:{area}')"
   ]
  },
  {
   "cell_type": "code",
   "execution_count": null,
   "id": "03f900b9-948e-4fcf-b360-4a18e6ec630e",
   "metadata": {},
   "outputs": [],
   "source": []
  }
 ],
 "metadata": {
  "kernelspec": {
   "display_name": "Python 3 (ipykernel)",
   "language": "python",
   "name": "python3"
  },
  "language_info": {
   "codemirror_mode": {
    "name": "ipython",
    "version": 3
   },
   "file_extension": ".py",
   "mimetype": "text/x-python",
   "name": "python",
   "nbconvert_exporter": "python",
   "pygments_lexer": "ipython3",
   "version": "3.11.7"
  }
 },
 "nbformat": 4,
 "nbformat_minor": 5
}
