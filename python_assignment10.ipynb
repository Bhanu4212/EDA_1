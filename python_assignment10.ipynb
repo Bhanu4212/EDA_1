{
 "cells": [
  {
   "cell_type": "code",
   "execution_count": 6,
   "id": "2ffdc554-1f8f-4821-89d4-e0cec6f7826d",
   "metadata": {},
   "outputs": [
    {
     "name": "stdout",
     "output_type": "stream",
     "text": [
      "3\n"
     ]
    }
   ],
   "source": [
    "#Q1) WAP ask the user count how many 'a' are present in a given string\n",
    "# str1='hai naresh how are you'\n",
    "\n",
    "# Idea: counter wrapper\n",
    "# step-1: count=0\n",
    "# step-2: using for loop in operator iterate through  given string\n",
    "# step-3: apply the if condition, whenever the letter equal to 'a'\n",
    "# step-4: count=count+1\n",
    "\n",
    "count=0\n",
    "str='hai naresh how are you'\n",
    "for i in str:\n",
    "    if i=='a':\n",
    "        count=count+1\n",
    "print(count)"
   ]
  },
  {
   "cell_type": "code",
   "execution_count": 24,
   "id": "3dcf3fb3-53c5-4a03-b068-6b2d148cc877",
   "metadata": {},
   "outputs": [
    {
     "name": "stdout",
     "output_type": "stream",
     "text": [
      "9\n"
     ]
    }
   ],
   "source": [
    "# Q2) WAP ask the find how many vowels are there in a given string\n",
    "# str1='hai naresh how are you'\n",
    "# ans=9\n",
    "\n",
    "count=0\n",
    "str1='hai naresh how are you'\n",
    "for i in str1:\n",
    "    if i in 'aeiou':\n",
    "        count=count+1\n",
    "print(count)"
   ]
  },
  {
   "cell_type": "code",
   "execution_count": 11,
   "id": "26b17b96-47ee-4a8b-8ddd-7a74bc168baa",
   "metadata": {},
   "outputs": [
    {
     "name": "stdout",
     "output_type": "stream",
     "text": [
      "the 5 vowels are not repeated\n"
     ]
    }
   ],
   "source": [
    "# Q3) Home work qn\n",
    "# str1='hai naresh how are you'\n",
    "# Repetaed vowels are there\n",
    "# We dont want repetaed vowels\n",
    "# Count the vowels avoid the repeatition: Unique vowels\n",
    "\n",
    "count=0\n",
    "str1='hai naresh how are you'\n",
    "str2=''\n",
    "for i in str1:\n",
    "    if i not in str2:\n",
    "        if i in 'aeiou':\n",
    "           count=count+1 \n",
    "           str2=str2+i\n",
    "print(f'the {count} vowels are not repeated')"
   ]
  },
  {
   "cell_type": "code",
   "execution_count": 16,
   "id": "c23be6c5-b6ef-4c37-9ad7-f58584960584",
   "metadata": {},
   "outputs": [
    {
     "name": "stdout",
     "output_type": "stream",
     "text": [
      "B\n",
      "h\n",
      "a\n",
      "n\n",
      "u\n"
     ]
    }
   ],
   "source": [
    "# Q4) print each letter using for loop range\n",
    "\n",
    "s='Bhanu'\n",
    "for i in range(5):\n",
    "    print(s[i])"
   ]
  },
  {
   "cell_type": "code",
   "execution_count": 2,
   "id": "a9f31197-cbee-4f54-b87a-3281ca65167f",
   "metadata": {},
   "outputs": [
    {
     "name": "stdout",
     "output_type": "stream",
     "text": [
      " the positive index of w is 0\n",
      " the positive index of e is 1\n",
      " the positive index of l is 2\n",
      " the positive index of c is 3\n",
      " the positive index of o is 4\n",
      " the positive index of m is 5\n",
      " the positive index of e is 6\n"
     ]
    }
   ],
   "source": [
    "# Q5) wap ask the user iterate using a string\n",
    "# string='welcome'\n",
    "# print the postive index of w is 0\n",
    "#       the positive index of e is 1\n",
    "#       the positive index of l is 1\n",
    "\n",
    "s1='welcome'\n",
    "n=len(s1)\n",
    "for i in range(n):\n",
    "    print(f' the positive index of {s1[i]} is {i}')\n"
   ]
  },
  {
   "cell_type": "code",
   "execution_count": 3,
   "id": "d6c13491-2f75-4e3b-8654-4fbc093f4418",
   "metadata": {},
   "outputs": [
    {
     "name": "stdout",
     "output_type": "stream",
     "text": [
      " the negative index of w is 0\n",
      " the negative index of e is 1\n",
      " the negative index of l is 2\n",
      " the negative index of c is 3\n",
      " the negative index of o is 4\n",
      " the negative index of m is 5\n",
      " the negative index of e is 6\n"
     ]
    }
   ],
   "source": [
    "# Q6) wap ask the user iterate using a string\n",
    "# string='welcome'\n",
    "# print the negative index of w is -7\n",
    "#       the negative index of e is -6\n",
    "#       the negative index of l is -5\n",
    "# the positive index is 0 and the negtaive index -7 for w\n",
    "\n",
    "s1='welcome'\n",
    "n=len(s1)\n",
    "for i in range(n):\n",
    "    print(f' the negative index of {s1[i]} is {i}')"
   ]
  },
  {
   "cell_type": "code",
   "execution_count": 5,
   "id": "1eafdee5-13a4-474b-8886-4b4c08fa7d24",
   "metadata": {},
   "outputs": [
    {
     "name": "stdout",
     "output_type": "stream",
     "text": [
      " the negative index  -7 and positive index 0 is w\n",
      " the negative index  -6 and positive index 1 is e\n",
      " the negative index  -5 and positive index 2 is l\n",
      " the negative index  -4 and positive index 3 is c\n",
      " the negative index  -3 and positive index 4 is o\n",
      " the negative index  -2 and positive index 5 is m\n",
      " the negative index  -1 and positive index 6 is e\n"
     ]
    }
   ],
   "source": [
    "# Q7) wap ask the user iterate using a string\n",
    "# string='welcome'\n",
    "# # the positive index is 0 and the negtaive index -7 for w\n",
    "s='welcome'\n",
    "for i in range(len(s)):\n",
    "    print(f' the negative index  {i-len(s)} and positive index {i} is {s[i]}')"
   ]
  },
  {
   "cell_type": "code",
   "execution_count": 17,
   "id": "527c23d5-5243-43b4-9616-49dce9e3bacb",
   "metadata": {},
   "outputs": [
    {
     "name": "stdout",
     "output_type": "stream",
     "text": [
      "1\n",
      "8\n",
      "18\n"
     ]
    }
   ],
   "source": [
    "#Q8) wap ask the user get the index of each 'a' in a given string\n",
    "# s='hai how are you i am good'\n",
    "# a=1  8  18\n",
    "\n",
    "s='hai how are you i am good'\n",
    "n=len(s)\n",
    "for i in range(n):\n",
    "    if s[i]=='a':\n",
    "       print(i)"
   ]
  },
  {
   "cell_type": "code",
   "execution_count": 20,
   "id": "b02431b8-cb3b-4aa2-8213-6c6119cb9473",
   "metadata": {},
   "outputs": [
    {
     "name": "stdout",
     "output_type": "stream",
     "text": [
      "3\n"
     ]
    }
   ],
   "source": [
    "#Q9) wap ask the user to get count of number of 'a' in a given string\n",
    "#     using for-range\n",
    "count=0\n",
    "s='hai how are you i am good'\n",
    "n=len(s)\n",
    "for i in range(n):\n",
    "    if s[i]=='a':\n",
    "        count=count+1\n",
    "print(count)"
   ]
  },
  {
   "cell_type": "code",
   "execution_count": 21,
   "id": "03d48e48-683a-4a87-955f-e645f6820759",
   "metadata": {},
   "outputs": [
    {
     "name": "stdout",
     "output_type": "stream",
     "text": [
      "27\n"
     ]
    }
   ],
   "source": [
    "#Q10) wap ask the user get the sum of all index numbers of 'a'\n",
    "# 1+8+18= 27\n",
    "\n",
    "summ=0\n",
    "s='hai how are you i am good'\n",
    "n=len(s)\n",
    "for i in range(n):\n",
    "    if s[i]=='a':\n",
    "        summ=summ+i\n",
    "print(summ)"
   ]
  },
  {
   "cell_type": "code",
   "execution_count": 6,
   "id": "55754ff4-db2c-4a9e-9415-0a21a3171c3b",
   "metadata": {},
   "outputs": [
    {
     "name": "stdout",
     "output_type": "stream",
     "text": [
      "a\n",
      "i\n",
      "o\n",
      "a\n",
      "e\n",
      "o\n",
      "u\n",
      "i\n",
      "a\n",
      "o\n",
      "o\n"
     ]
    }
   ],
   "source": [
    "#Q11) wap ask the user get the vowels from a given string using for-range\n",
    "\n",
    "count=0\n",
    "s='hai how are you i am good'\n",
    "for i  in range(len(s)) :\n",
    "    if s[i] in 'aeiou':\n",
    "        print(s[i])\n",
    "        count=count+1\n"
   ]
  },
  {
   "cell_type": "code",
   "execution_count": 7,
   "id": "9f081285-f2eb-4ad2-a3b9-bb1510dcfa0e",
   "metadata": {},
   "outputs": [
    {
     "name": "stdout",
     "output_type": "stream",
     "text": [
      "a\n",
      "i\n",
      "o\n",
      "e\n",
      "u\n",
      "the number of vowels are: 5\n"
     ]
    }
   ],
   "source": [
    "#Q12) wap ask the user get the vowels from a given string using for-range\n",
    "count=0\n",
    "s='hai how are you i am good'\n",
    "s1=''\n",
    "for i in range(len(s)):\n",
    "    if s[i] not in s1:  # we are checking the letters is available in s1()\n",
    "        if s[i] in 'aeiou':\n",
    "            print(s[i])\n",
    "            s1=s1+s[i]\n",
    "            count=count+1\n",
    "print('the number of vowels are:',count) "
   ]
  },
  {
   "cell_type": "code",
   "execution_count": 8,
   "id": "89346d20-97e5-414f-857b-85678d503ae6",
   "metadata": {},
   "outputs": [
    {
     "name": "stdout",
     "output_type": "stream",
     "text": [
      "a\n",
      "i\n",
      "o\n",
      "e\n",
      "u\n",
      "the number of vowels are: 5\n"
     ]
    }
   ],
   "source": [
    "#Q13)updated wap ask the user get the vowels from a given string using for-range\n",
    "count=0\n",
    "s='hai how are you i am good'\n",
    "s1=''\n",
    "for i in range(len(s)):\n",
    "    if s[i] not in s1 and  s[i] in 'aeiou':\n",
    "        print(s[i])\n",
    "        s1=s1+s[i]\n",
    "        count=count+1\n",
    "print('the number of vowels are:',count) "
   ]
  },
  {
   "cell_type": "code",
   "execution_count": null,
   "id": "d1d08fc9-f1d4-419c-ba3b-c3cdbab56679",
   "metadata": {},
   "outputs": [],
   "source": []
  }
 ],
 "metadata": {
  "kernelspec": {
   "display_name": "Python 3 (ipykernel)",
   "language": "python",
   "name": "python3"
  },
  "language_info": {
   "codemirror_mode": {
    "name": "ipython",
    "version": 3
   },
   "file_extension": ".py",
   "mimetype": "text/x-python",
   "name": "python",
   "nbconvert_exporter": "python",
   "pygments_lexer": "ipython3",
   "version": "3.11.7"
  }
 },
 "nbformat": 4,
 "nbformat_minor": 5
}
