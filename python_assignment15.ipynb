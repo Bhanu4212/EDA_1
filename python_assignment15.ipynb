{
 "cells": [
  {
   "cell_type": "code",
   "execution_count": 3,
   "id": "8abc8dcd-2025-499b-b2c6-40e46fd5bdca",
   "metadata": {},
   "outputs": [
    {
     "data": {
      "text/plain": [
       "['Mumbai', 'Chennai']"
      ]
     },
     "execution_count": 3,
     "metadata": {},
     "output_type": "execute_result"
    }
   ],
   "source": [
    "# Q2)l1=['Hyd','Mumbai','Chennai','blr']\n",
    "#  ans=['Mumbai','Chennai']  \n",
    "#  we want lements which are len of element >4\n",
    "\n",
    "l1=['Hyd','Mumbai','Chennai','blr']\n",
    "a=[]\n",
    "for i in l1:\n",
    "    if len(i)>4:\n",
    "        a.append(i)\n",
    "a"
   ]
  },
  {
   "cell_type": "code",
   "execution_count": 5,
   "id": "c4640a23-23a0-444b-b8a8-8d76e5fe6571",
   "metadata": {},
   "outputs": [
    {
     "data": {
      "text/plain": [
       "['Mum#bai', 'Chen#nai']"
      ]
     },
     "execution_count": 5,
     "metadata": {},
     "output_type": "execute_result"
    }
   ],
   "source": [
    "# Q3)l1=['Hyd','Mum#bai','Chen#nai','blr']\n",
    "#  ans=['Mum#bai'',Chen#nai']  \n",
    "#  we want lements which are having '#'\n",
    "l1=['Hyd','Mum#bai','Chen#nai','blr']\n",
    "a=[]\n",
    "for i in l1:\n",
    "    if '#' in i:\n",
    "        a.append(i)\n",
    "a"
   ]
  },
  {
   "cell_type": "code",
   "execution_count": 8,
   "id": "05d1c957-87f7-4d22-8902-969a10b897fb",
   "metadata": {},
   "outputs": [
    {
     "data": {
      "text/plain": [
       "['Hyd', 'Mumbai', 'Chennai', 'Blr']"
      ]
     },
     "execution_count": 8,
     "metadata": {},
     "output_type": "execute_result"
    }
   ],
   "source": [
    "# Q4)l1=['hyd','mumbai','chennai','blr']\n",
    "#  ans= ['Hyd','Mumbai','Chennai','Blr']\n",
    "#  we want lements which are len of element >4\n",
    "\n",
    "l1=['hyd','mumbai','chennai','blr']\n",
    "a=[]\n",
    "for i in l1:\n",
    "    if len(i):\n",
    "        d=i.capitalize()\n",
    "        a.append(d)\n",
    "a"
   ]
  },
  {
   "cell_type": "code",
   "execution_count": 9,
   "id": "11730c63-cc91-41ad-82c4-8b5cfb1d973a",
   "metadata": {},
   "outputs": [
    {
     "data": {
      "text/plain": [
       "['Hyd', 'Mumbai']"
      ]
     },
     "execution_count": 9,
     "metadata": {},
     "output_type": "execute_result"
    }
   ],
   "source": [
    "# Q5)l1=['Hyd','Mumbai','chennai','blr']\n",
    "#  ans= ['Hyd','Mumbai']\n",
    "#  we want lements which are having first letter capital\n",
    "\n",
    "l1=['Hyd','Mumbai','chennai','blr']\n",
    "a=[]\n",
    "for i in l1:\n",
    "    if  i.istitle()==True:\n",
    "        a.append(i)\n",
    "a"
   ]
  },
  {
   "cell_type": "code",
   "execution_count": 11,
   "id": "a91fc905-0fb5-4ced-97a1-66f5db8ed152",
   "metadata": {},
   "outputs": [
    {
     "name": "stdout",
     "output_type": "stream",
     "text": [
      "ans_#=  ['Mum#bai', 'Chen#nai']\n",
      "ans_without_#=  ['Hyd', 'blr']\n"
     ]
    }
   ],
   "source": [
    "# Q6)l1=['Hyd','Mum#bai','Chen#nai','blr']\n",
    "#  ans_#=['Mum#bai'',Chen#nai']  \n",
    "#  ans_without_#=['Hyd'','blr']\n",
    "#  we want lements which are having '#'\n",
    "\n",
    "l1=['Hyd','Mum#bai','Chen#nai','blr']\n",
    "a=[]\n",
    "b=[]\n",
    "for i in l1:\n",
    "    if '#' in i:\n",
    "        a.append(i)\n",
    "    else:\n",
    "        b.append(i)\n",
    "print('ans_#= ',a)\n",
    "print('ans_without_#= ',b)"
   ]
  },
  {
   "cell_type": "code",
   "execution_count": 14,
   "id": "c252ae0a-d8d3-4423-9cb3-d1a99d5b308f",
   "metadata": {},
   "outputs": [
    {
     "name": "stdin",
     "output_type": "stream",
     "text": [
      "enter a number 5\n",
      "enter a number 4\n",
      "enter a number 3\n",
      "enter a number 8\n",
      "enter a number 2\n"
     ]
    },
    {
     "name": "stdout",
     "output_type": "stream",
     "text": [
      "[4, 8, 2]\n",
      "[5, 3]\n"
     ]
    }
   ],
   "source": [
    "# Q7) ask the user get 5 numbers randomly\n",
    "#     even_list and odd_list\n",
    "#     even numbers should append at even_list\n",
    "#     odd number should append at odd_list\n",
    "\n",
    "even=[]\n",
    "odd=[]\n",
    "for i in range(5):\n",
    "    num=eval(input('enter a number'))\n",
    "    if num%2==0:\n",
    "        even.append(num)\n",
    "    else:\n",
    "        odd.append(num)\n",
    "print(even)\n",
    "print(odd)"
   ]
  },
  {
   "cell_type": "code",
   "execution_count": 17,
   "id": "95ebbe5f-54e0-42af-8eee-a0903e52096d",
   "metadata": {},
   "outputs": [
    {
     "name": "stdout",
     "output_type": "stream",
     "text": [
      "hello\n"
     ]
    },
    {
     "data": {
      "text/plain": [
       "10"
      ]
     },
     "execution_count": 17,
     "metadata": {},
     "output_type": "execute_result"
    }
   ],
   "source": [
    "# Q8) str='hello hai how are you'\n",
    "# Maximum len of word using split and max method\n",
    "# sum of all the indexes of the maximum len of word using append\n",
    "\n",
    "str1='hello hai how are you'\n",
    "str2=str1.split()\n",
    "a=[]\n",
    "for i in range(len(str2)):\n",
    "    for i in range(len(str2)-1):\n",
    "        if len(str2[i])>len(str2[i+1]):\n",
    "            str2[i],str2[i+1]=str2[i+1],str2[i]\n",
    "b=str2[len(str2)-1]\n",
    "print(b)\n",
    "for i in range(len(b)):\n",
    "    a.append(i)\n",
    "sum(a)"
   ]
  },
  {
   "cell_type": "code",
   "execution_count": 24,
   "id": "2687eb01-7ea1-47e1-97aa-fe90712f82c6",
   "metadata": {},
   "outputs": [
    {
     "name": "stdout",
     "output_type": "stream",
     "text": [
      "['virat', ' Rohit', ' KL']\n",
      "['kohli', 'sharma', 'Rahul']\n",
      "['rcb', 'mi', 'lucknow']\n"
     ]
    }
   ],
   "source": [
    "# Q9) str1='virat.kohli@rcb.com, Rohit.sharma@mi.co, KL.Rahul@lucknow.com'\n",
    "# Firstname=[]  second name=[]  cname =[]\n",
    "# append first name should be in first name list\n",
    "#        second name shoul be in second name list\n",
    "#        thirs name will be in thirs name list\n",
    "\n",
    "str1='virat.kohli@rcb.com, Rohit.sharma@mi.co, KL.Rahul@lucknow.com'.split(',')\n",
    "d,e,f=[],[],[]\n",
    "for a in str1:\n",
    "    a1=a.find('.')\n",
    "    d.append(a[0:a1])\n",
    "    a2=a.find('@')\n",
    "    e.append(a[a1+1:a2])\n",
    "    a3=a.find('.',a1+1)\n",
    "    f.append(a[a2+1:a3])\n",
    "print(d)\n",
    "print(e)\n",
    "print(f)"
   ]
  },
  {
   "cell_type": "code",
   "execution_count": 28,
   "id": "fd866189-33ef-467f-b6de-090f225e7e29",
   "metadata": {},
   "outputs": [
    {
     "name": "stdout",
     "output_type": "stream",
     "text": [
      "What is capital of India\n",
      "Delhi\n",
      "Who is PM of india\n",
      "Modi\n",
      "Who is ICT ODI captian\n",
      "Rohit\n",
      "the total marks== 3\n"
     ]
    }
   ],
   "source": [
    "# 10 )\n",
    "#  You have two lists\n",
    "# qns=['What is capital of India',\n",
    "#      'Who is PM of india',\n",
    "#        'Who is ICT ODI captian']\n",
    "# ans = ['Delhi','Modi','Rohit']\n",
    "\n",
    "# For i in qns:\n",
    "#     print(i)\n",
    "#     ans= delhi\n",
    "#      index should match\n",
    "#      delhi  modi\n",
    "#      marks= marks+1\n",
    "# print the total marks\n",
    "\n",
    "qns=['What is capital of India','Who is PM of india','Who is ICT ODI captian']\n",
    "ans = ['Delhi','Modi','Rohit']\n",
    "\n",
    "\n",
    "marks=0\n",
    "\n",
    "for i in range(len(qns)):\n",
    "    print(qns[i])\n",
    "    for j in range(len(ans)):\n",
    "        if i==j:\n",
    "            print(ans[i])\n",
    "            marks+=1\n",
    "print ('the total marks==',marks)\n"
   ]
  },
  {
   "cell_type": "code",
   "execution_count": null,
   "id": "bfe7d337-126e-402d-9f23-4927b4d32dc5",
   "metadata": {},
   "outputs": [],
   "source": []
  }
 ],
 "metadata": {
  "kernelspec": {
   "display_name": "Python 3 (ipykernel)",
   "language": "python",
   "name": "python3"
  },
  "language_info": {
   "codemirror_mode": {
    "name": "ipython",
    "version": 3
   },
   "file_extension": ".py",
   "mimetype": "text/x-python",
   "name": "python",
   "nbconvert_exporter": "python",
   "pygments_lexer": "ipython3",
   "version": "3.11.7"
  }
 },
 "nbformat": 4,
 "nbformat_minor": 5
}
