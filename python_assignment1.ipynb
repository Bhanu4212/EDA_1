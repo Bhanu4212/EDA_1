{
 "cells": [
  {
   "cell_type": "code",
   "execution_count": 1,
   "id": "90690490-7bd0-4712-9be0-616216993977",
   "metadata": {},
   "outputs": [
    {
     "name": "stdin",
     "output_type": "stream",
     "text": [
      "enter the number 5\n"
     ]
    },
    {
     "name": "stdout",
     "output_type": "stream",
     "text": [
      "the square of number is:25\n"
     ]
    }
   ],
   "source": [
    "#write a program ask user to enter number.print out the square of the number\n",
    "\n",
    "number=eval(input('enter the number'))\n",
    "number2=number*number\n",
    "print(f'the square of number is:{number2}')"
   ]
  },
  {
   "cell_type": "code",
   "execution_count": 2,
   "id": "d24cfe5e-7f8e-4ee7-b75e-9efdb90d523a",
   "metadata": {},
   "outputs": [
    {
     "name": "stdin",
     "output_type": "stream",
     "text": [
      "enter the num 5\n"
     ]
    },
    {
     "name": "stdout",
     "output_type": "stream",
     "text": [
      "5--->10--->15--->20--->25\n"
     ]
    }
   ],
   "source": [
    "# write a program ask user to enter a number x. print out x,2x,3x,4x, and 5x each separated by three dashes\n",
    "\n",
    "num= eval(input('enter the num'))\n",
    "print(1*num,2*num,3*num,4*num,5*num,sep='--->')"
   ]
  },
  {
   "cell_type": "code",
   "execution_count": 3,
   "id": "6f0cbc48-1d6c-456a-bbdb-97e8ab3cf832",
   "metadata": {},
   "outputs": [
    {
     "name": "stdin",
     "output_type": "stream",
     "text": [
      "enter the weigth 55\n"
     ]
    },
    {
     "name": "stdout",
     "output_type": "stream",
     "text": [
      "the weigth  converted to pound is:121.00000000000001\n"
     ]
    }
   ],
   "source": [
    "# Write a program that asks the user for a weight in kilograms and converts it to pounds. There are 2.2 pounds in a kilogram.\n",
    "\n",
    "num=eval(input('enter the weigth'))\n",
    "pound=num*2.2\n",
    "print(f'the weigth  converted to pound is:{pound}')"
   ]
  },
  {
   "cell_type": "code",
   "execution_count": 4,
   "id": "41824ba3-4332-4fc7-9586-28cee91c2bcd",
   "metadata": {},
   "outputs": [
    {
     "name": "stdin",
     "output_type": "stream",
     "text": [
      "enter the number1 50\n",
      "enter the number2 60\n",
      "enter the number3 65\n"
     ]
    },
    {
     "name": "stdout",
     "output_type": "stream",
     "text": [
      "the total of numbers is:175\n",
      "the average of number is:131.66666666666666\n"
     ]
    }
   ],
   "source": [
    "# Write a program that asks the user to enter three numbers (use three separate input statements).Create variables called total and average that hold the sum and average of the three numbers and print out the values of total and average.\n",
    "\n",
    "number1=eval(input('enter the number1'))\n",
    "number2=eval(input('enter the number2'))\n",
    "number3=eval(input('enter the number3'))\n",
    "total=number1+number2+number3\n",
    "average=number1+number2+number3/3\n",
    "print(f'the total of numbers is:{total}')\n",
    "print(f'the average of number is:{average}')"
   ]
  },
  {
   "cell_type": "code",
   "execution_count": 5,
   "id": "b071d196-8684-4913-a37c-e2924d270fd4",
   "metadata": {},
   "outputs": [
    {
     "name": "stdin",
     "output_type": "stream",
     "text": [
      "enter the number1: 10\n",
      "enter the number2: 15\n"
     ]
    },
    {
     "name": "stdout",
     "output_type": "stream",
     "text": [
      "the addition of num1 and num2 is:25\n",
      "the subtraction of num1 and num2 is:-5\n",
      "the multiplication of num1 and num2 is:150\n",
      "the division of num1 and num2 is:0.6666666666666666\n"
     ]
    }
   ],
   "source": [
    "# write a program user the 2 number find the substraction ,addition,multiplication\n",
    "\n",
    "num1=eval(input(\"enter the number1:\"))\n",
    "num2=eval(input(\"enter the number2:\"))\n",
    "add=(num1)+(num2)\n",
    "sub=(num1)-(num2)\n",
    "multi=(num1)*(num2)\n",
    "div=(num1)/(num2)\n",
    "print(f'the addition of num1 and num2 is:{add}')\n",
    "print(f'the subtraction of num1 and num2 is:{sub}')\n",
    "print(f'the multiplication of num1 and num2 is:{multi}')\n",
    "print(f'the division of num1 and num2 is:{div}')"
   ]
  },
  {
   "cell_type": "code",
   "execution_count": 6,
   "id": "cf5c16f1-a80f-444b-812e-cf5266d92905",
   "metadata": {},
   "outputs": [
    {
     "name": "stdin",
     "output_type": "stream",
     "text": [
      "enter the number1: 25\n",
      "enter the number2: 3.14\n"
     ]
    },
    {
     "name": "stdout",
     "output_type": "stream",
     "text": [
      "the area of a circle is:1962.5\n"
     ]
    }
   ],
   "source": [
    "# Write a program ask the user enter radious value find the area of the circle\n",
    "\n",
    "radius=eval(input(\"enter the number1:\"))\n",
    "pi_value=eval(input(\"enter the number2:\"))\n",
    "area=radius*radius*pi_value\n",
    "print(f'the area of a circle is:{area}')"
   ]
  },
  {
   "cell_type": "code",
   "execution_count": 7,
   "id": "211b8fd2-32a1-42ac-916b-4a1044ff05c1",
   "metadata": {},
   "outputs": [
    {
     "name": "stdin",
     "output_type": "stream",
     "text": [
      "enter the amount in dollars 50\n"
     ]
    },
    {
     "name": "stdout",
     "output_type": "stream",
     "text": [
      " the bill amount in rupees is:4166.666666666667\n"
     ]
    }
   ],
   "source": [
    "# write a program ask the user bill amount in dollar print the bill rupees\n",
    "\n",
    "bill_amount=eval(input('enter the amount in dollars'))\n",
    "rupees=bill_amount/0.012\n",
    "print(f' the bill amount in rupees is:{rupees}')"
   ]
  },
  {
   "cell_type": "code",
   "execution_count": 8,
   "id": "bcfa04cf-b501-415d-9e34-2bd7aedc25ec",
   "metadata": {},
   "outputs": [
    {
     "name": "stdin",
     "output_type": "stream",
     "text": [
      "enter the base 25\n",
      "enter the height 10\n"
     ]
    },
    {
     "name": "stdout",
     "output_type": "stream",
     "text": [
      "the area of triangle is: 125.0\n"
     ]
    }
   ],
   "source": [
    "# Write a program  ask  the user base and height claculate area of triangle\n",
    "\n",
    "base=eval(input('enter the base'))\n",
    "height=eval(input('enter the height'))\n",
    "area=0.5*base*height\n",
    "print(f\"the area of triangle is: {area}\")"
   ]
  },
  {
   "cell_type": "code",
   "execution_count": 9,
   "id": "0815c55e-80ae-4d96-b24e-8a7d2c9c3607",
   "metadata": {},
   "outputs": [
    {
     "name": "stdin",
     "output_type": "stream",
     "text": [
      "enter the length 30\n",
      "enter the width  25\n"
     ]
    },
    {
     "name": "stdout",
     "output_type": "stream",
     "text": [
      "the area of rectangle is: 750\n"
     ]
    }
   ],
   "source": [
    "# Write a program  ask  the user base and height claculate area of rectangle\n",
    "\n",
    "length=eval(input('enter the length'))\n",
    "width=eval(input('enter the width '))\n",
    "area=length*width\n",
    "print(f\"the area of rectangle is: {area}\")"
   ]
  },
  {
   "cell_type": "code",
   "execution_count": 10,
   "id": "c6987185-5300-4e9e-890b-eb23800af356",
   "metadata": {},
   "outputs": [
    {
     "name": "stdin",
     "output_type": "stream",
     "text": [
      "enter the meal price 2200\n",
      "enter the tip percentage 15\n"
     ]
    },
    {
     "name": "stdout",
     "output_type": "stream",
     "text": [
      "the tip amount is:330.0\n",
      "the total meal price is:2530.0\n"
     ]
    }
   ],
   "source": [
    "# Write a program ask the user bill amount how much tip amount you want to pay in percentage calculate the total bill\n",
    "\n",
    "bill_amount=eval(input('enter the meal price'))\n",
    "tip_percentage=eval(input('enter the tip percentage'))\n",
    "tip_amount= bill_amount*tip_percentage/100\n",
    "total_bill=bill_amount+tip_amount\n",
    "print(f\"the tip amount is:{tip_amount}\")\n",
    "print(f\"the total meal price is:{total_bill}\")"
   ]
  },
  {
   "cell_type": "code",
   "execution_count": 17,
   "id": "bd8ef420-906e-4661-a0dc-ab7c7f00fdda",
   "metadata": {},
   "outputs": [
    {
     "name": "stdin",
     "output_type": "stream",
     "text": [
      "Father: Hey Baby!\n"
     ]
    },
    {
     "name": "stdout",
     "output_type": "stream",
     "text": [
      "father:Hey Baby!\n"
     ]
    },
    {
     "name": "stdin",
     "output_type": "stream",
     "text": [
      "Daughter: hello Dady\n"
     ]
    },
    {
     "name": "stdout",
     "output_type": "stream",
     "text": [
      "Daughter:hello Dady\n"
     ]
    },
    {
     "name": "stdin",
     "output_type": "stream",
     "text": [
      "Father: I heard your exams are over, What about the results\n"
     ]
    },
    {
     "name": "stdout",
     "output_type": "stream",
     "text": [
      "father:I heard your exams are over, What about the results\n"
     ]
    },
    {
     "name": "stdin",
     "output_type": "stream",
     "text": [
      "Daughter: yes dad! results are out.\n"
     ]
    },
    {
     "name": "stdout",
     "output_type": "stream",
     "text": [
      "Daughter:yes dad! results are out.\n"
     ]
    },
    {
     "name": "stdin",
     "output_type": "stream",
     "text": [
      "Father: What is the percentage\n"
     ]
    },
    {
     "name": "stdout",
     "output_type": "stream",
     "text": [
      "father:What is the percentage\n"
     ]
    },
    {
     "name": "stdin",
     "output_type": "stream",
     "text": [
      "Daughter: I will give my subject marks, you tell me the percentage\n"
     ]
    },
    {
     "name": "stdout",
     "output_type": "stream",
     "text": [
      "Daughter:I will give my subject marks, you tell me the percentage\n"
     ]
    },
    {
     "name": "stdin",
     "output_type": "stream",
     "text": [
      "Father: okay\n"
     ]
    },
    {
     "name": "stdout",
     "output_type": "stream",
     "text": [
      "father:okay\n"
     ]
    },
    {
     "name": "stdin",
     "output_type": "stream",
     "text": [
      "First Language: 60\n"
     ]
    },
    {
     "name": "stdout",
     "output_type": "stream",
     "text": [
      "the first language  is:60\n"
     ]
    },
    {
     "name": "stdin",
     "output_type": "stream",
     "text": [
      "Second Language: 65\n"
     ]
    },
    {
     "name": "stdout",
     "output_type": "stream",
     "text": [
      "the Second Language  is:65\n"
     ]
    },
    {
     "name": "stdin",
     "output_type": "stream",
     "text": [
      "Third Language: 70\n"
     ]
    },
    {
     "name": "stdout",
     "output_type": "stream",
     "text": [
      "the Third Language  is:70\n"
     ]
    },
    {
     "name": "stdin",
     "output_type": "stream",
     "text": [
      "Maths: 80\n"
     ]
    },
    {
     "name": "stdout",
     "output_type": "stream",
     "text": [
      "the math is:80\n"
     ]
    },
    {
     "name": "stdin",
     "output_type": "stream",
     "text": [
      "Science: 75\n"
     ]
    },
    {
     "name": "stdout",
     "output_type": "stream",
     "text": [
      "the science  is:75\n"
     ]
    },
    {
     "name": "stdin",
     "output_type": "stream",
     "text": [
      "Daughter: 100\n"
     ]
    },
    {
     "name": "stdout",
     "output_type": "stream",
     "text": [
      "Daughter:100\n"
     ]
    },
    {
     "name": "stdin",
     "output_type": "stream",
     "text": [
      "Father: tell me the max marks of each subject\n"
     ]
    },
    {
     "name": "stdout",
     "output_type": "stream",
     "text": [
      "father:tell me the max marks of each subject\n"
     ]
    },
    {
     "name": "stdin",
     "output_type": "stream",
     "text": [
      "Daughter: 100\n"
     ]
    },
    {
     "name": "stdout",
     "output_type": "stream",
     "text": [
      " the total percentage of daughter is:70.0\n"
     ]
    }
   ],
   "source": [
    "a=input(\"Father:\")\n",
    "print(f'father:{a}')\n",
    "b=input(\"Daughter:\")\n",
    "print(f'Daughter:{b}')\n",
    "c=input(\"Father:\")\n",
    "print(f'father:{c}')\n",
    "d=input(\"Daughter:\")\n",
    "print(f'Daughter:{d}')\n",
    "e=input(\"Father:\")\n",
    "print(f'father:{e}')\n",
    "f=input(\"Daughter:\")\n",
    "print(f'Daughter:{f}')\n",
    "g=input(\"Father:\")\n",
    "print(f'father:{g}')\n",
    "sub1=eval(input(\"First Language:\"))\n",
    "print(f'the first language  is:{sub1}'))\n",
    "sub2=eval(input(\"Second Language:\"))\n",
    "print(f'the Second Language  is:{sub2}')\n",
    "sub3=eval(input(\"Third Language:\"))\n",
    "print(f'the Third Language marks is:{sub3}')\n",
    "sub4=eval(input(\"Maths:\"))\n",
    "print(f'the math marks is:{sub4}')\n",
    "sub5=eval(input(\"Science:\"))\n",
    "print(f'the science marks is:{sub5}')\n",
    "h=input(\"Daughter:\")\n",
    "print(f'Daughter:{h}')\n",
    "i=input(\"Father:\")\n",
    "print(f'father:{i}')\n",
    "h=max_marks=eval(input(\"Daughter:\"))\n",
    "percentage_marks=(sub1+sub2+sub3+sub4+sub5)/5\n",
    "print(f\" the total percentage of daughter is:{percentage_marks}\")"
   ]
  },
  {
   "cell_type": "code",
   "execution_count": null,
   "id": "82ce2b18-7491-439e-8b40-dbfafd4bf76e",
   "metadata": {},
   "outputs": [],
   "source": []
  }
 ],
 "metadata": {
  "kernelspec": {
   "display_name": "Python 3 (ipykernel)",
   "language": "python",
   "name": "python3"
  },
  "language_info": {
   "codemirror_mode": {
    "name": "ipython",
    "version": 3
   },
   "file_extension": ".py",
   "mimetype": "text/x-python",
   "name": "python",
   "nbconvert_exporter": "python",
   "pygments_lexer": "ipython3",
   "version": "3.11.7"
  }
 },
 "nbformat": 4,
 "nbformat_minor": 5
}
