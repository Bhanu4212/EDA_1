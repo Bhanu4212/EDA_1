{
 "cells": [
  {
   "cell_type": "code",
   "execution_count": 9,
   "id": "c088cdb3-54cc-478f-ba58-c58f246bf080",
   "metadata": {},
   "outputs": [
    {
     "name": "stdout",
     "output_type": "stream",
     "text": [
      "the sum of natural number is 55\n"
     ]
    }
   ],
   "source": [
    "#1Q) Write a Python program to find the sum of the first N natural numbers using a for loop.\n",
    "\n",
    "summ=0\n",
    "N=0\n",
    "for i in range(11):\n",
    "    N=N+1\n",
    "    summ=summ+i\n",
    "print(f'the sum of natural number is {summ}')"
   ]
  },
  {
   "cell_type": "code",
   "execution_count": 24,
   "id": "ab052d00-5642-483d-9f48-89b942b7bc76",
   "metadata": {},
   "outputs": [
    {
     "name": "stdin",
     "output_type": "stream",
     "text": [
      "enter a number 75\n"
     ]
    },
    {
     "name": "stdout",
     "output_type": "stream",
     "text": [
      "1 factorial 75\n",
      "3 factorial 75\n",
      "5 factorial 75\n",
      "15 factorial 75\n",
      "25 factorial 75\n",
      "75 factorial 75\n"
     ]
    }
   ],
   "source": [
    "#2Q) Write a Python program to calculate the factorial of a given number using a for loop.\n",
    "\n",
    "num=eval(input('enter a number'))\n",
    "for i in range(1,num+1):\n",
    "    if num%i==0:\n",
    "        print(f'{i} factorial {N}')"
   ]
  },
  {
   "cell_type": "code",
   "execution_count": 39,
   "id": "e7a286d8-c343-4424-9f19-562c5155e4a4",
   "metadata": {},
   "outputs": [
    {
     "name": "stdin",
     "output_type": "stream",
     "text": [
      "enter a number 16\n"
     ]
    },
    {
     "name": "stdout",
     "output_type": "stream",
     "text": [
      " table 16x1=16\n",
      " table 16x2=32\n",
      " table 16x3=48\n",
      " table 16x4=64\n",
      " table 16x5=80\n",
      " table 16x6=96\n",
      " table 16x7=112\n",
      " table 16x8=128\n",
      " table 16x9=144\n",
      " table 16x10=160\n"
     ]
    }
   ],
   "source": [
    "#3Q) Write a Python program to print the multiplication table of a given number up to 10 using a for loop.\n",
    "\n",
    "N=eval(input('enter a number'))\n",
    "for i in range(1,11):\n",
    "    table=N*i\n",
    "    print(f' table {N}x{i}={table}')\n",
    "    "
   ]
  },
  {
   "cell_type": "code",
   "execution_count": 48,
   "id": "7fd7df63-3670-4137-96b3-94318aa38185",
   "metadata": {},
   "outputs": [
    {
     "name": "stdin",
     "output_type": "stream",
     "text": [
      "enter a number 10\n"
     ]
    },
    {
     "name": "stdout",
     "output_type": "stream",
     "text": [
      "10\n",
      "9\n",
      "8\n",
      "7\n",
      "6\n",
      "5\n",
      "4\n",
      "3\n",
      "2\n",
      "1\n"
     ]
    }
   ],
   "source": [
    "#4Q) Write a Python program to print numbers from N down to 1 using a for loop.\n",
    "\n",
    "num=eval(input('enter a number'))\n",
    "for i in range(10):\n",
    "    num1=num-i\n",
    "    print(num1)"
   ]
  },
  {
   "cell_type": "code",
   "execution_count": 80,
   "id": "ef39ef63-100d-474e-853b-70de751695da",
   "metadata": {},
   "outputs": [
    {
     "name": "stdin",
     "output_type": "stream",
     "text": [
      "enter a number 15\n"
     ]
    },
    {
     "name": "stdout",
     "output_type": "stream",
     "text": [
      "56\n"
     ]
    }
   ],
   "source": [
    "#5Q) Write a Python program to find the sum of all even numbers between 1 and N using a for loop.\n",
    "\n",
    "summ=0\n",
    "num=eval(input('enter a number'))\n",
    "for i in range(1,num+1):\n",
    "    if i%2==0:\n",
    "       num=num+i\n",
    "       summ=summ+i\n",
    "print(summ)"
   ]
  },
  {
   "cell_type": "code",
   "execution_count": null,
   "id": "c8bbe7e7-27e4-436e-9c65-e832dc821c84",
   "metadata": {},
   "outputs": [],
   "source": []
  }
 ],
 "metadata": {
  "kernelspec": {
   "display_name": "Python 3 (ipykernel)",
   "language": "python",
   "name": "python3"
  },
  "language_info": {
   "codemirror_mode": {
    "name": "ipython",
    "version": 3
   },
   "file_extension": ".py",
   "mimetype": "text/x-python",
   "name": "python",
   "nbconvert_exporter": "python",
   "pygments_lexer": "ipython3",
   "version": "3.11.7"
  }
 },
 "nbformat": 4,
 "nbformat_minor": 5
}
