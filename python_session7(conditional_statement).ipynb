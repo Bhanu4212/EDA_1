{
 "cells": [
  {
   "cell_type": "markdown",
   "id": "0bcb33f3-9021-4f6c-85c0-e4f714486b59",
   "metadata": {},
   "source": [
    "**conditional statement**"
   ]
  },
  {
   "cell_type": "markdown",
   "id": "c34cf122-c1dd-4ae6-8799-5b9bb5fc1663",
   "metadata": {},
   "source": [
    "- conditional statement means we want to run the code lines based on condition\n",
    "- if rain comes i will not go to institute otherwise i will go to movie\n",
    "- rain is there i will effect one process\n",
    "- rain is not there will effect another process \n",
    "- if\n",
    "- elif\n",
    "- else"
   ]
  },
  {
   "cell_type": "markdown",
   "id": "733c113e-5b53-42ac-9354-baa0b5786d25",
   "metadata": {},
   "source": [
    "**if**"
   ]
  },
  {
   "cell_type": "markdown",
   "id": "889897c9-0e8b-4d50-9fc1-9822e30780b5",
   "metadata": {},
   "source": [
    "#syntax\n",
    "\n",
    "if <condition>:\n",
    "    <codeline1>\n",
    "    <codeline2>"
   ]
  },
  {
   "cell_type": "markdown",
   "id": "94bd985f-dee5-4404-806e-de3d01250ecb",
   "metadata": {},
   "source": [
    "- whenever any line  start with the keyword(green) at the end of the line will be :\n",
    "- whenever we have a colon(:)  the next line starts with some gap\n",
    "- and this gap is called as **indentation**\n",
    "- how many line we are maintianing gap(indentation) that all are under one line"
   ]
  },
  {
   "cell_type": "markdown",
   "id": "b367556e-fdcc-4700-acd7-f34b994bf977",
   "metadata": {},
   "source": [
    "- if is a conditional statement, it will check the condition is True or False\n",
    "- if that condition will True then only it will enter inside the if area\n",
    "- and execute those codelines\n",
    "- if the condition was False then\n",
    "- and it will not execute those codelines    "
   ]
  },
  {
   "cell_type": "markdown",
   "id": "ae7ae549-7eb2-4b76-82de-f28e407334e1",
   "metadata": {},
   "source": [
    "**mistake-1**"
   ]
  },
  {
   "cell_type": "markdown",
   "id": "c1d3cdfe-6262-4f81-bb9f-21cc9e870ada",
   "metadata": {},
   "source": [
    "- indentation(space) is required"
   ]
  },
  {
   "cell_type": "code",
   "execution_count": 2,
   "id": "0eaabfb7-78a2-4418-8a38-d7716480c05a",
   "metadata": {},
   "outputs": [
    {
     "ename": "IndentationError",
     "evalue": "expected an indented block after 'if' statement on line 1 (3704969398.py, line 2)",
     "output_type": "error",
     "traceback": [
      "\u001b[1;36m  Cell \u001b[1;32mIn[2], line 2\u001b[1;36m\u001b[0m\n\u001b[1;33m    print('hello')\u001b[0m\n\u001b[1;37m    ^\u001b[0m\n\u001b[1;31mIndentationError\u001b[0m\u001b[1;31m:\u001b[0m expected an indented block after 'if' statement on line 1\n"
     ]
    }
   ],
   "source": [
    "if 100>10:\n",
    "print('hello')"
   ]
  },
  {
   "cell_type": "code",
   "execution_count": 3,
   "id": "802cb4a7-b08c-49f8-94ed-eedf60119276",
   "metadata": {},
   "outputs": [
    {
     "name": "stdout",
     "output_type": "stream",
     "text": [
      "hello\n"
     ]
    }
   ],
   "source": [
    "if 100>10:\n",
    "    print('hello')"
   ]
  },
  {
   "cell_type": "code",
   "execution_count": 4,
   "id": "30f00a4c-0633-41a6-8179-8d45d20faeea",
   "metadata": {},
   "outputs": [
    {
     "name": "stdout",
     "output_type": "stream",
     "text": [
      "hello\n"
     ]
    }
   ],
   "source": [
    "if 100>10:\n",
    "    print('hello')"
   ]
  },
  {
   "cell_type": "code",
   "execution_count": 5,
   "id": "6a51aa8b-9f4c-435b-b6ee-92e01a0c6d64",
   "metadata": {},
   "outputs": [
    {
     "name": "stdout",
     "output_type": "stream",
     "text": [
      "hello\n"
     ]
    }
   ],
   "source": [
    "if 100>10:\n",
    " print('hello')"
   ]
  },
  {
   "cell_type": "code",
   "execution_count": 6,
   "id": "fa0964e1-cf33-4dbf-9c04-86bfc371871f",
   "metadata": {},
   "outputs": [
    {
     "name": "stdout",
     "output_type": "stream",
     "text": [
      "hello\n"
     ]
    }
   ],
   "source": [
    "if 100>10:\n",
    "    print('hello')"
   ]
  },
  {
   "cell_type": "markdown",
   "id": "362e2361-f96c-4c70-8782-14c73a82c748",
   "metadata": {},
   "source": [
    "**mistake-2**"
   ]
  },
  {
   "cell_type": "code",
   "execution_count": 7,
   "id": "f8f68902-171c-44fb-b176-25f7571f3371",
   "metadata": {},
   "outputs": [
    {
     "ename": "SyntaxError",
     "evalue": "expected ':' (4081822489.py, line 1)",
     "output_type": "error",
     "traceback": [
      "\u001b[1;36m  Cell \u001b[1;32mIn[7], line 1\u001b[1;36m\u001b[0m\n\u001b[1;33m    if 100>10\u001b[0m\n\u001b[1;37m             ^\u001b[0m\n\u001b[1;31mSyntaxError\u001b[0m\u001b[1;31m:\u001b[0m expected ':'\n"
     ]
    }
   ],
   "source": [
    "if 100>10\n",
    "    print('hello')"
   ]
  },
  {
   "cell_type": "markdown",
   "id": "e0398b32-f206-4285-a553-c27ed47c110e",
   "metadata": {},
   "source": [
    "- colan(:) is missing at the end of condition"
   ]
  },
  {
   "cell_type": "markdown",
   "id": "3a283225-2549-41a4-aabd-baf6987c7ddf",
   "metadata": {},
   "source": [
    "**mistake-3**"
   ]
  },
  {
   "cell_type": "markdown",
   "id": "159aef53-370e-4e78-aa14-cc9d8d2d3bd5",
   "metadata": {},
   "source": [
    "- if will expect "
   ]
  },
  {
   "cell_type": "markdown",
   "id": "42b74d83-52d5-45e8-9e2e-de2cd9a2b807",
   "metadata": {},
   "source": [
    "**mistake-4**"
   ]
  },
  {
   "cell_type": "code",
   "execution_count": 8,
   "id": "74e3348a-52ca-411a-9946-4a56e354600d",
   "metadata": {},
   "outputs": [
    {
     "ename": "SyntaxError",
     "evalue": "Missing parentheses in call to 'print'. Did you mean print(...)? (1999696312.py, line 2)",
     "output_type": "error",
     "traceback": [
      "\u001b[1;36m  Cell \u001b[1;32mIn[8], line 2\u001b[1;36m\u001b[0m\n\u001b[1;33m    print'hello'\u001b[0m\n\u001b[1;37m    ^\u001b[0m\n\u001b[1;31mSyntaxError\u001b[0m\u001b[1;31m:\u001b[0m Missing parentheses in call to 'print'. Did you mean print(...)?\n"
     ]
    }
   ],
   "source": [
    "if 100>10:\n",
    "    print'hello'"
   ]
  },
  {
   "cell_type": "markdown",
   "id": "d821b618-fab3-4852-96cf-a288e067283f",
   "metadata": {},
   "source": [
    "- missing brackets to print"
   ]
  },
  {
   "cell_type": "markdown",
   "id": "4e6e0e63-0bd1-4a8f-9a85-f591e34e65e5",
   "metadata": {},
   "source": [
    "**mistake-5**"
   ]
  },
  {
   "cell_type": "code",
   "execution_count": 10,
   "id": "2c0bddd4-b040-438b-b502-c2d921e010e2",
   "metadata": {},
   "outputs": [
    {
     "name": "stdout",
     "output_type": "stream",
     "text": [
      "hello\n"
     ]
    }
   ],
   "source": [
    "if 100>10:\n",
    " name=print('hello')"
   ]
  },
  {
   "cell_type": "markdown",
   "id": "02f01750-128c-415f-8e22-997960ba0ec7",
   "metadata": {},
   "source": [
    "- never assign the variable to print to print state"
   ]
  },
  {
   "cell_type": "markdown",
   "id": "8e6533ed-d05a-4432-8d25-bc77ed0d843b",
   "metadata": {},
   "source": [
    "**mistake-6**\n",
    "\n",
    "- all types of syntax error\n",
    "- spelling mistakes"
   ]
  },
  {
   "cell_type": "code",
   "execution_count": 12,
   "id": "cc1ff120-b5ba-439e-830c-46637962734b",
   "metadata": {},
   "outputs": [
    {
     "name": "stdout",
     "output_type": "stream",
     "text": [
      "hello\n",
      "good morning\n"
     ]
    }
   ],
   "source": [
    "if 100>10:\n",
    "    print('hello')\n",
    "    print('good morning')"
   ]
  },
  {
   "cell_type": "code",
   "execution_count": 14,
   "id": "04b2c90c-34be-43b6-b53d-c6e4da885ff9",
   "metadata": {},
   "outputs": [
    {
     "name": "stdout",
     "output_type": "stream",
     "text": [
      "10\n",
      "20\n",
      "hello\n",
      "good morning\n",
      "okay\n",
      "bey\n"
     ]
    }
   ],
   "source": [
    "print(10)\n",
    "print(20)\n",
    "####################\n",
    "if 100>10:\n",
    "    print('hello')\n",
    "    print('good morning')\n",
    "#########################\n",
    "print('okay')\n",
    "print('bey')"
   ]
  },
  {
   "cell_type": "code",
   "execution_count": 15,
   "id": "de2b8fe5-2389-432a-9a6a-4380b7b3aeaf",
   "metadata": {},
   "outputs": [
    {
     "ename": "IndentationError",
     "evalue": "unexpected indent (2404761508.py, line 8)",
     "output_type": "error",
     "traceback": [
      "\u001b[1;36m  Cell \u001b[1;32mIn[15], line 8\u001b[1;36m\u001b[0m\n\u001b[1;33m    print('okay')\u001b[0m\n\u001b[1;37m    ^\u001b[0m\n\u001b[1;31mIndentationError\u001b[0m\u001b[1;31m:\u001b[0m unexpected indent\n"
     ]
    }
   ],
   "source": [
    "print(10)\n",
    "print(20)\n",
    "####################\n",
    "if 100>10:\n",
    "    print('hello')\n",
    "print('good morning')\n",
    "#########################\n",
    "    print('okay')\n",
    "print('bey')"
   ]
  },
  {
   "cell_type": "code",
   "execution_count": 16,
   "id": "a231d397-14a1-4d8f-97b2-289b794e7047",
   "metadata": {},
   "outputs": [
    {
     "name": "stdout",
     "output_type": "stream",
     "text": [
      "10\n",
      "hello\n",
      "good morning\n",
      "okay\n",
      "bey\n"
     ]
    }
   ],
   "source": [
    "print(10)\n",
    "if True:\n",
    "    print('hello')\n",
    "    print('good morning')\n",
    "\n",
    "print('okay')\n",
    "print('bey')"
   ]
  },
  {
   "cell_type": "code",
   "execution_count": 17,
   "id": "020de070-6b18-433d-bd89-2de1b946cb6e",
   "metadata": {},
   "outputs": [
    {
     "data": {
      "text/plain": [
       "True"
      ]
     },
     "execution_count": 17,
     "metadata": {},
     "output_type": "execute_result"
    }
   ],
   "source": [
    "100>10"
   ]
  },
  {
   "cell_type": "code",
   "execution_count": 18,
   "id": "acec4cc1-5750-4e7a-ba4b-5aa4da9c753d",
   "metadata": {},
   "outputs": [
    {
     "name": "stdout",
     "output_type": "stream",
     "text": [
      "10\n",
      "okay\n",
      "bey\n"
     ]
    }
   ],
   "source": [
    "print(10)\n",
    "\n",
    "if 100<0:\n",
    "    print('hello')\n",
    "    print('good morning')\n",
    "\n",
    "print('okay')\n",
    "print('bey')"
   ]
  },
  {
   "cell_type": "code",
   "execution_count": 22,
   "id": "0e211681-4ec3-4d4d-9be5-2ec2526ba9cb",
   "metadata": {},
   "outputs": [
    {
     "name": "stdout",
     "output_type": "stream",
     "text": [
      "10\n",
      "okay\n",
      "bey\n"
     ]
    }
   ],
   "source": [
    "print(10)\n",
    "\n",
    "if 100<0:\n",
    "    print('hello')\n",
    "    print('good morning')\n",
    "\n",
    "print('okay')\n",
    "print('bey')"
   ]
  },
  {
   "cell_type": "code",
   "execution_count": 20,
   "id": "c1db56d6-94d3-4454-9485-fd4e896364c8",
   "metadata": {},
   "outputs": [
    {
     "data": {
      "text/plain": [
       "True"
      ]
     },
     "execution_count": 20,
     "metadata": {},
     "output_type": "execute_result"
    }
   ],
   "source": [
    "bool(100)"
   ]
  },
  {
   "cell_type": "code",
   "execution_count": 21,
   "id": "fecc04d1-22cb-4727-bed6-f5afea389f40",
   "metadata": {},
   "outputs": [
    {
     "data": {
      "text/plain": [
       "False"
      ]
     },
     "execution_count": 21,
     "metadata": {},
     "output_type": "execute_result"
    }
   ],
   "source": [
    "bool(0)"
   ]
  },
  {
   "cell_type": "code",
   "execution_count": 23,
   "id": "66e70a21-f361-4b0d-a598-f207f4a3db37",
   "metadata": {},
   "outputs": [
    {
     "name": "stdout",
     "output_type": "stream",
     "text": [
      "10\n",
      "hello\n",
      "good morning\n",
      "okay\n",
      "bey\n"
     ]
    }
   ],
   "source": [
    "print(10)\n",
    "\n",
    "if 'hello':\n",
    "    print('hello')\n",
    "    print('good morning')\n",
    "\n",
    "print('okay')\n",
    "print('bey')"
   ]
  },
  {
   "cell_type": "code",
   "execution_count": 24,
   "id": "499037f4-05de-415b-a8d9-5ca27e489af5",
   "metadata": {},
   "outputs": [
    {
     "name": "stdout",
     "output_type": "stream",
     "text": [
      "10\n",
      "hello\n",
      "good morning\n",
      "okay\n",
      "bey\n"
     ]
    }
   ],
   "source": [
    "print(10)\n",
    "\n",
    "if 'good morning':\n",
    "    print('hello')\n",
    "    print('good morning')\n",
    "\n",
    "print('okay')\n",
    "print('bey')"
   ]
  },
  {
   "cell_type": "code",
   "execution_count": 25,
   "id": "fafc3d84-9017-40e9-836b-f3907fe31fdf",
   "metadata": {},
   "outputs": [
    {
     "name": "stdout",
     "output_type": "stream",
     "text": [
      "10\n",
      "okay\n",
      "bey\n"
     ]
    }
   ],
   "source": [
    "print(10)\n",
    "\n",
    "if 40>400:\n",
    "    print('hello')\n",
    "    print('good morning')\n",
    "\n",
    "print('okay')\n",
    "print('bey')"
   ]
  },
  {
   "cell_type": "code",
   "execution_count": 26,
   "id": "573c6955-5c26-4f8b-bd26-b19e0ce38c92",
   "metadata": {},
   "outputs": [
    {
     "name": "stdout",
     "output_type": "stream",
     "text": [
      "10\n",
      "hello\n",
      "good morning\n",
      "okay\n",
      "bey\n"
     ]
    }
   ],
   "source": [
    "print(10)\n",
    "\n",
    "if 5+5:\n",
    "    print('hello')\n",
    "    print('good morning')\n",
    "\n",
    "print('okay')\n",
    "print('bey')"
   ]
  },
  {
   "cell_type": "code",
   "execution_count": 28,
   "id": "810ee87c-9da7-4249-ab9b-11e0975775b3",
   "metadata": {},
   "outputs": [
    {
     "name": "stdout",
     "output_type": "stream",
     "text": [
      "10\n",
      "okay\n",
      "bey\n"
     ]
    }
   ],
   "source": [
    "print(10)\n",
    "\n",
    "if '' :\n",
    "    print('hello')\n",
    "    print('good morning')\n",
    "\n",
    "print('okay')\n",
    "print('bey')"
   ]
  },
  {
   "cell_type": "code",
   "execution_count": 29,
   "id": "07bfd3be-d0c3-4e3d-a713-33b60e61a9d4",
   "metadata": {},
   "outputs": [
    {
     "name": "stdout",
     "output_type": "stream",
     "text": [
      "10\n",
      "hello\n",
      "good morning\n",
      "okay\n",
      "bey\n"
     ]
    }
   ],
   "source": [
    "print(10)\n",
    "\n",
    "if '_':\n",
    "    print('hello')\n",
    "    print('good morning')\n",
    "\n",
    "print('okay')\n",
    "print('bey')"
   ]
  },
  {
   "cell_type": "code",
   "execution_count": 30,
   "id": "ac166f13-c509-4d53-ad46-4f5d467e72d4",
   "metadata": {},
   "outputs": [
    {
     "name": "stdout",
     "output_type": "stream",
     "text": [
      "10\n"
     ]
    },
    {
     "ename": "NameError",
     "evalue": "name 'true' is not defined",
     "output_type": "error",
     "traceback": [
      "\u001b[1;31m---------------------------------------------------------------------------\u001b[0m",
      "\u001b[1;31mNameError\u001b[0m                                 Traceback (most recent call last)",
      "Cell \u001b[1;32mIn[30], line 3\u001b[0m\n\u001b[0;32m      1\u001b[0m \u001b[38;5;28mprint\u001b[39m(\u001b[38;5;241m10\u001b[39m)\n\u001b[1;32m----> 3\u001b[0m \u001b[38;5;28;01mif\u001b[39;00m true:\n\u001b[0;32m      4\u001b[0m     \u001b[38;5;28mprint\u001b[39m(\u001b[38;5;124m'\u001b[39m\u001b[38;5;124mhello\u001b[39m\u001b[38;5;124m'\u001b[39m)\n\u001b[0;32m      5\u001b[0m     \u001b[38;5;28mprint\u001b[39m(\u001b[38;5;124m'\u001b[39m\u001b[38;5;124mgood morning\u001b[39m\u001b[38;5;124m'\u001b[39m)\n",
      "\u001b[1;31mNameError\u001b[0m: name 'true' is not defined"
     ]
    }
   ],
   "source": [
    "print(10)\n",
    "\n",
    "if true:\n",
    "    print('hello')\n",
    "    print('good morning')\n",
    "\n",
    "print('okay')\n",
    "print('bey')"
   ]
  },
  {
   "cell_type": "code",
   "execution_count": 31,
   "id": "70f7a696-b621-4849-b348-71a5937bbc69",
   "metadata": {},
   "outputs": [
    {
     "name": "stdout",
     "output_type": "stream",
     "text": [
      "10\n",
      "hello\n",
      "good morning\n",
      "okay\n",
      "bey\n"
     ]
    }
   ],
   "source": [
    "print(10)\n",
    "\n",
    "if True:\n",
    "    print('hello')\n",
    "    print('good morning')\n",
    "\n",
    "print('okay')\n",
    "print('bey')"
   ]
  },
  {
   "cell_type": "markdown",
   "id": "94336446-5cc7-4d01-89c7-7d5d5c1a49e0",
   "metadata": {},
   "source": [
    "**if-else**"
   ]
  },
  {
   "cell_type": "markdown",
   "id": "28445887-ec93-42be-81b5-3660908fba58",
   "metadata": {},
   "source": [
    "- if required condition \n",
    "- if that condition  is True, then it will execute if block\n",
    "- otherwise it will not execute if block\n",
    "- so else block does not required any condition"
   ]
  },
  {
   "cell_type": "markdown",
   "id": "0232a8d1-fd16-4012-85ab-fcf9d59430c0",
   "metadata": {},
   "source": [
    "#syntax\n",
    "\n",
    "if<condition):\n",
    "    <codeline>\n",
    "else:\n",
    "    <codeline>"
   ]
  },
  {
   "cell_type": "code",
   "execution_count": 32,
   "id": "ddc7e69a-7bf6-4ca5-8ad5-f17579bfd73b",
   "metadata": {},
   "outputs": [
    {
     "name": "stdout",
     "output_type": "stream",
     "text": [
      "True\n"
     ]
    }
   ],
   "source": [
    "if 100>10:\n",
    "    print('True')\n",
    "else:\n",
    "    print('False') "
   ]
  },
  {
   "cell_type": "code",
   "execution_count": 33,
   "id": "1df3f927-a1dc-46a8-8d00-91f2658fef94",
   "metadata": {},
   "outputs": [
    {
     "name": "stdout",
     "output_type": "stream",
     "text": [
      "False\n"
     ]
    }
   ],
   "source": [
    "if 10>100:\n",
    "    print('True')\n",
    "else:\n",
    "    print('False') "
   ]
  },
  {
   "cell_type": "code",
   "execution_count": 34,
   "id": "13ab67d0-96df-4c12-b777-2d6b11722b19",
   "metadata": {},
   "outputs": [
    {
     "ename": "SyntaxError",
     "evalue": "invalid syntax (869785872.py, line 5)",
     "output_type": "error",
     "traceback": [
      "\u001b[1;36m  Cell \u001b[1;32mIn[34], line 5\u001b[1;36m\u001b[0m\n\u001b[1;33m    else:\u001b[0m\n\u001b[1;37m    ^\u001b[0m\n\u001b[1;31mSyntaxError\u001b[0m\u001b[1;31m:\u001b[0m invalid syntax\n"
     ]
    }
   ],
   "source": [
    "print('hello')\n",
    "if 100>10:\n",
    "    print(\"good condition is correct\")\n",
    "print(\"why are you in the middle\")\n",
    "else:\n",
    "     print(\"not good\")\n",
    "print('bey')"
   ]
  },
  {
   "cell_type": "code",
   "execution_count": 37,
   "id": "3d90d2c0-48cc-4f39-8be0-48000e4b2b70",
   "metadata": {},
   "outputs": [
    {
     "name": "stdout",
     "output_type": "stream",
     "text": [
      "10\n",
      "0\n",
      "10\n",
      "0.0\n"
     ]
    },
    {
     "ename": "ZeroDivisionError",
     "evalue": "division by zero",
     "output_type": "error",
     "traceback": [
      "\u001b[1;31m---------------------------------------------------------------------------\u001b[0m",
      "\u001b[1;31mZeroDivisionError\u001b[0m                         Traceback (most recent call last)",
      "Cell \u001b[1;32mIn[37], line 10\u001b[0m\n\u001b[0;32m      8\u001b[0m d\u001b[38;5;241m=\u001b[39mb\u001b[38;5;241m/\u001b[39ma\n\u001b[0;32m      9\u001b[0m \u001b[38;5;28mprint\u001b[39m(d)\n\u001b[1;32m---> 10\u001b[0m e\u001b[38;5;241m=\u001b[39ma\u001b[38;5;241m/\u001b[39mb         \u001b[38;5;66;03m#10/0= any number divided by 0 is indeterminent\u001b[39;00m\n\u001b[0;32m     11\u001b[0m \u001b[38;5;28mprint\u001b[39m(e)\n",
      "\u001b[1;31mZeroDivisionError\u001b[0m: division by zero"
     ]
    }
   ],
   "source": [
    "if True:\n",
    "    a=10\n",
    "    b=0\n",
    "    print(a) #\n",
    "    print(b)\n",
    "    c=a+b\n",
    "    print(c)\n",
    "    d=b/a\n",
    "    print(d)\n",
    "    e=a/b         #10/0= any number divided by 0 is indeterminent\n",
    "    print(e)"
   ]
  },
  {
   "cell_type": "code",
   "execution_count": 45,
   "id": "4e438a01-a067-4d86-a7d3-1d130c3b3c86",
   "metadata": {},
   "outputs": [
    {
     "data": {
      "text/plain": [
       "1.25"
      ]
     },
     "execution_count": 45,
     "metadata": {},
     "output_type": "execute_result"
    }
   ],
   "source": [
    "5/4  #normal division"
   ]
  },
  {
   "cell_type": "code",
   "execution_count": 44,
   "id": "6455553f-dc98-4348-b68f-e94f86f04f99",
   "metadata": {},
   "outputs": [
    {
     "data": {
      "text/plain": [
       "1"
      ]
     },
     "execution_count": 44,
     "metadata": {},
     "output_type": "execute_result"
    }
   ],
   "source": [
    "5//4   ## ( floor division)"
   ]
  },
  {
   "cell_type": "code",
   "execution_count": 46,
   "id": "fe39a9a8-715f-4d54-a8f7-368f9a6ab7cc",
   "metadata": {},
   "outputs": [
    {
     "data": {
      "text/plain": [
       "1"
      ]
     },
     "execution_count": 46,
     "metadata": {},
     "output_type": "execute_result"
    }
   ],
   "source": [
    "# modulus operater\n",
    "5%4  # remainder"
   ]
  },
  {
   "cell_type": "markdown",
   "id": "7c9a3530-0d19-431a-996c-ab3e5666eb44",
   "metadata": {},
   "source": [
    "write a program ask the user find it even number or odd number\n",
    "\n",
    "#step-1: num=eval(input())\n",
    "#step-2: if <condition>:\n"
   ]
  },
  {
   "cell_type": "markdown",
   "id": "d8001399-d1b0-4aef-8537-47b321339c45",
   "metadata": {},
   "source": []
  },
  {
   "cell_type": "code",
   "execution_count": 47,
   "id": "d95e9f1d-2ce4-4faf-9835-711a53a338e8",
   "metadata": {},
   "outputs": [
    {
     "name": "stdin",
     "output_type": "stream",
     "text": [
      "enter the number 10\n"
     ]
    },
    {
     "name": "stdout",
     "output_type": "stream",
     "text": [
      "number is even\n"
     ]
    }
   ],
   "source": [
    "num=eval(input('enter the number'))\n",
    "if num%2==0:\n",
    "    print(\"number is even\")\n",
    "else:\n",
    "    print(\"number is odd\")\n"
   ]
  },
  {
   "cell_type": "code",
   "execution_count": 3,
   "id": "815c87f3-0cfd-4108-88c2-b94adb14d7bc",
   "metadata": {},
   "outputs": [
    {
     "name": "stdout",
     "output_type": "stream",
     "text": [
      "number is even\n"
     ]
    }
   ],
   "source": [
    "# with random input\n",
    "import\n",
    "num=random.randint(1,10)\n",
    "if num%2==0:\n",
    "    print(\"number is even\")\n",
    "else:\n",
    "    print(\"number is odd\")\n"
   ]
  },
  {
   "cell_type": "code",
   "execution_count": 4,
   "id": "d3490774-cee7-44f3-931d-35b1fb575f57",
   "metadata": {},
   "outputs": [
    {
     "name": "stdin",
     "output_type": "stream",
     "text": [
      "enter the starting number 20\n",
      "enter the end number 60\n"
     ]
    },
    {
     "name": "stdout",
     "output_type": "stream",
     "text": [
      "number is even\n"
     ]
    }
   ],
   "source": [
    "import random\n",
    "start=eval(input('enter the starting number'))\n",
    "end=eval(input('enter the end number'))\n",
    "if num%2==0:\n",
    "    print('number is even')\n",
    "else:\n",
    "    print('number is odd')"
   ]
  },
  {
   "cell_type": "code",
   "execution_count": 9,
   "id": "0a5dd512-a006-4a0d-b5f5-03f9f80e0649",
   "metadata": {},
   "outputs": [
    {
     "name": "stdin",
     "output_type": "stream",
     "text": [
      "enter the distance 50\n"
     ]
    },
    {
     "name": "stdout",
     "output_type": "stream",
     "text": [
      "the charge for the ride\n"
     ]
    },
    {
     "name": "stdin",
     "output_type": "stream",
     "text": [
      "enter the charge 60\n"
     ]
    },
    {
     "name": "stdout",
     "output_type": "stream",
     "text": [
      "the charge for km is:3000\n"
     ]
    }
   ],
   "source": [
    "# write a program ask the user if distance is graterthan 25km then enter charge print the total cost otherwise print free ride\n",
    "\n",
    "num=eval(input('enter the distance'))\n",
    "if num>25:\n",
    "    print('the charge for the ride')\n",
    "    charge=eval(input('enter the charge'))\n",
    "    cost=num*charge\n",
    "    print(f'the charge for km is:{cost}')\n",
    "else:\n",
    "    print('it is a free ride')"
   ]
  },
  {
   "cell_type": "code",
   "execution_count": 1,
   "id": "31ff5631-deee-4d28-b778-5a96a5c0b032",
   "metadata": {},
   "outputs": [
    {
     "name": "stdin",
     "output_type": "stream",
     "text": [
      "enter the distance 50\n"
     ]
    },
    {
     "name": "stdout",
     "output_type": "stream",
     "text": [
      "the charge for the ride\n"
     ]
    },
    {
     "name": "stdin",
     "output_type": "stream",
     "text": [
      "enter the charge 6\n"
     ]
    },
    {
     "name": "stdout",
     "output_type": "stream",
     "text": [
      "the charge for km is:300\n"
     ]
    }
   ],
   "source": [
    "num=eval(input('enter the distance'))\n",
    "if num>25:\n",
    "    print('the charge for the ride')\n",
    "    charge=eval(input('enter the charge'))\n",
    "    cost=num*charge\n",
    "    print(f'the charge for km is:{cost}')\n",
    "else:\n",
    "    print('it is a free ride')"
   ]
  },
  {
   "cell_type": "code",
   "execution_count": 13,
   "id": "7a030f85-a5dd-4364-a2fb-1c7ceb0c01bf",
   "metadata": {},
   "outputs": [
    {
     "name": "stdin",
     "output_type": "stream",
     "text": [
      "enter the cousre data science\n",
      "enter the institute nareshit\n"
     ]
    },
    {
     "name": "stdout",
     "output_type": "stream",
     "text": [
      "then it is good\n"
     ]
    }
   ],
   "source": [
    "cousre=input('enter the cousre')\n",
    "institute=input('enter the institute')\n",
    "if cousre=='data science' and 'institute==nareshit':\n",
    "    print('then it is good')\n",
    "else:\n",
    "    print('it is bad')\n"
   ]
  },
  {
   "cell_type": "markdown",
   "id": "9f97f1b5-f380-4ea1-a7ab-97d4bb1d1bf3",
   "metadata": {},
   "source": [
    "- and means two conditions to satisfy\n",
    "- or means any one condition to satisfy\n"
   ]
  },
  {
   "cell_type": "code",
   "execution_count": 19,
   "id": "10c72c6c-8eb3-4076-a022-8da7a9ebe83e",
   "metadata": {},
   "outputs": [
    {
     "name": "stdin",
     "output_type": "stream",
     "text": [
      "enter the number: 7\n"
     ]
    },
    {
     "name": "stdout",
     "output_type": "stream",
     "text": [
      "lose\n"
     ]
    }
   ],
   "source": [
    "# write a program ask the user enter a random number 1-10 is num1\n",
    "# ask the user to enter number from keyboard num2\n",
    "#if num1=num2\n",
    "#print won\n",
    "#else lose\n",
    "\n",
    "num1=random.randint(1,10)\n",
    "num2=eval(input('enter the number:'))\n",
    "if num1==num2:\n",
    "    print('won')\n",
    "else:\n",
    "    print('lose')"
   ]
  },
  {
   "cell_type": "markdown",
   "id": "66354839-e380-4849-a809-55a5dbc2e7dc",
   "metadata": {},
   "source": [
    "- till now we saw 1 condition probelem\n",
    "- which  means if that condition is True will get answer\n",
    "- if that condition is False will get another answer\n",
    "- how about if we have more than 2conditions\n",
    "- if elif else\n",
    "- two conditions means 3 results\n",
    "- if has 1 condition\n",
    "- elif has 2nd condition\n",
    "- if both are False then result is else"
   ]
  },
  {
   "cell_type": "code",
   "execution_count": null,
   "id": "71caf839-4d9e-4438-95e8-5f5cec82c866",
   "metadata": {},
   "outputs": [],
   "source": [
    "if<condition>:\n",
    "    <statement>\n",
    "elif<condition>:\n",
    "    <statement>\n",
    "else:\n",
    "    <statement>\n",
    "\n",
    "if-else(1)\n",
    "if"
   ]
  },
  {
   "cell_type": "code",
   "execution_count": 20,
   "id": "4c0e4ffc-0f81-4055-85f4-2a608aa473cf",
   "metadata": {},
   "outputs": [
    {
     "name": "stdin",
     "output_type": "stream",
     "text": [
      "enter the number 1\n"
     ]
    },
    {
     "name": "stdout",
     "output_type": "stream",
     "text": [
      "One\n"
     ]
    }
   ],
   "source": [
    "#wap ask the user enter the number\n",
    "# if number equal to 1 then print One\n",
    "# if number equal to 2 then print Two\n",
    "# if number equal to 3 then print Three\n",
    "# otherwise print enter a valid number\n",
    "\n",
    "num=eval(input('enter the number'))\n",
    "if num==1:\n",
    "    print('One')\n",
    "elif num==2:\n",
    "    print('Two')\n",
    "elif num==3:\n",
    "    print('Three')\n",
    "else:\n",
    "    print('enter the valid number')"
   ]
  },
  {
   "cell_type": "code",
   "execution_count": 23,
   "id": "a9e748ba-fa55-44f7-9a1c-f31c814615b9",
   "metadata": {},
   "outputs": [
    {
     "name": "stdin",
     "output_type": "stream",
     "text": [
      "enter the number 0\n"
     ]
    },
    {
     "name": "stdout",
     "output_type": "stream",
     "text": [
      "zero\n"
     ]
    }
   ],
   "source": [
    "#wap ask the user enter the number \n",
    "# if number graterthan 0 print positive\n",
    "# if number lessthan 0 print negative\n",
    "# else print 0\n",
    "\n",
    "num=eval(input('enter the number'))\n",
    "if num>0:\n",
    "    print('number is positive')\n",
    "elif num<0:\n",
    "    print('number is negative')\n",
    "else:\n",
    "    print('zero')"
   ]
  },
  {
   "cell_type": "code",
   "execution_count": 26,
   "id": "7e943dd0-2a28-47f8-8bc7-432d61a0d6ef",
   "metadata": {},
   "outputs": [
    {
     "name": "stdin",
     "output_type": "stream",
     "text": [
      "enter the percentage 70\n"
     ]
    },
    {
     "name": "stdout",
     "output_type": "stream",
     "text": [
      "C grade\n"
     ]
    }
   ],
   "source": [
    "#wap ask the user  enter the percentage of marks\n",
    "# if percentage greaterthan 90 print A grade\n",
    "# if percentage between 75 to 90 print B grade\n",
    "# if percentage between 50 to 75 print C grade\n",
    "# if percentage  between 35 to 50 ptint D grade\n",
    "# if percentage less than 35  is print fail\n",
    "\n",
    "num=eval(input('enter the percentage'))\n",
    "if num>90:\n",
    "    print('A grade')\n",
    "elif num>=75:\n",
    "    print('B grade')\n",
    "elif num>=50:\n",
    "    print('C grade')\n",
    "elif num>=35:\n",
    "    print('D grade')\n",
    "else:\n",
    "    print('fail')"
   ]
  },
  {
   "cell_type": "code",
   "execution_count": 2,
   "id": "cf774792-8ba1-4e2f-9d3a-4336923a7e57",
   "metadata": {},
   "outputs": [
    {
     "name": "stdin",
     "output_type": "stream",
     "text": [
      "enter the age 50\n"
     ]
    },
    {
     "name": "stdout",
     "output_type": "stream",
     "text": [
      "senior citizen\n"
     ]
    }
   ],
   "source": [
    "#wap ask the user enter the age \n",
    "# if age is greaterthan 100 print you are lucky\n",
    "# if age is greaterthan 75 print old age\n",
    "# if age is between 50 to 75 print senior citizen\n",
    "# if age is between 30 to 50 print middle age\n",
    "# if age is between 15 to30 print young\n",
    "# if age is lessthan is print kid\n",
    "\n",
    "age=eval(input('enter the age'))\n",
    "if age>100:\n",
    "    print('you are lucky')\n",
    "elif age>75:\n",
    "    print('old age')\n",
    "elif age>=50:\n",
    "     print('senior citizen')\n",
    "elif age>=35:\n",
    "    print('middile age')\n",
    "else:\n",
    "    print('kid')\n"
   ]
  },
  {
   "cell_type": "code",
   "execution_count": 2,
   "id": "70fdaf83-17ea-4aff-94ea-802689b38044",
   "metadata": {},
   "outputs": [
    {
     "name": "stdin",
     "output_type": "stream",
     "text": [
      "enter a number 1 40\n",
      "enter a number 2 60\n"
     ]
    },
    {
     "name": "stdout",
     "output_type": "stream",
     "text": [
      "enter  operation 1 for add\n",
      "enter operation 2 for mult\n",
      "enter operation 3 for sub\n",
      "enter operation 4 for div\n"
     ]
    },
    {
     "name": "stdin",
     "output_type": "stream",
     "text": [
      "enter operation between 1 and 4 2\n"
     ]
    },
    {
     "name": "stdout",
     "output_type": "stream",
     "text": [
      "multiplication operation of number is:2400\n"
     ]
    }
   ],
   "source": [
    "#wap aask the user enter two numbers num1 and num2\n",
    "#you need to print\n",
    "#enter operation 1 for the addtion\n",
    "#enter operation 2 for mult\n",
    "#enter operation 3 for sub\n",
    "#enter operation 4 for div\n",
    "\n",
    "#enter the operation between 1 and 4\n",
    "#if operation equal to 1 then add\n",
    "#if operation equal to 2 then multi\n",
    "#if operation equal to 3 then sub\n",
    "#if operation equal to 4 then div\n",
    "#otherwise print enter a valid number\n",
    "\n",
    "\n",
    "\n",
    "num1=eval(input('enter a number 1'))\n",
    "num2=eval(input('enter a number 2'))\n",
    "print('enter  operation 1 for add')\n",
    "print('enter operation 2 for mult')\n",
    "print('enter operation 3 for sub')\n",
    "print('enter operation 4 for div')\n",
    "op=eval(input('enter operation between 1 and 4'))\n",
    "\n",
    "if op==1:\n",
    "    add=num1+num2\n",
    "    print(f'addition operation of number is:{add}')\n",
    "elif op==2:\n",
    "    mult=num1*num2\n",
    "    print(f'multiplication operation of number is:{mult}')\n",
    "elif op==3:\n",
    "    sub=num1-num2\n",
    "    print(f'subtraction operation of number is:{sub}')\n",
    "elif op==4:\n",
    "    div=num1/num2\n",
    "    print(f'division operation of number is:{div}')\n",
    "else:\n",
    "    print('enter a valid number')\n",
    "    \n"
   ]
  },
  {
   "cell_type": "code",
   "execution_count": 2,
   "id": "48959201-8b10-4705-807c-506a2c0c5fd6",
   "metadata": {},
   "outputs": [
    {
     "ename": "IndentationError",
     "evalue": "unindent does not match any outer indentation level (<tokenize>, line 14)",
     "output_type": "error",
     "traceback": [
      "\u001b[1;36m  File \u001b[1;32m<tokenize>:14\u001b[1;36m\u001b[0m\n\u001b[1;33m    elif age>30:\u001b[0m\n\u001b[1;37m    ^\u001b[0m\n\u001b[1;31mIndentationError\u001b[0m\u001b[1;31m:\u001b[0m unindent does not match any outer indentation level\n"
     ]
    }
   ],
   "source": [
    "#wap ask the  user to enter gender\n",
    "#if gender equal to male\n",
    "# if   ask the user enter the age\n",
    "#if the age graeter than 60 is ss\n",
    "# if tha age between 30 to 60 is middle age\n",
    "# if the age between 15 to 30 is young \n",
    "#\n",
    "\n",
    "gender=input('enter gender')\n",
    "if gender= male:\n",
    "    age=eval(input('enter age '))\n",
    "if age>= 60:\n",
    "    print('senior citizen')\n",
    "   elif age>30:\n",
    "    print('middle age')\n",
    "   elif age>=15:\n",
    "    print('young boy')\n",
    "   else:\n",
    "    print('kid')\n",
    " gender=female:\n",
    "if age=eval(input('enter age '))\n",
    "    print('age')\n",
    "    if age>60:\n",
    "      print('senior citizen')\n",
    "    elif age>30:\n",
    "      print('middle age')\n",
    "    elif age>15:\n",
    "      print('young girl')\n",
    "else:\n",
    "    print('enter valid gender')\n",
    "\n",
    "    \n",
    "   \n",
    "\n",
    "\n"
   ]
  },
  {
   "cell_type": "code",
   "execution_count": 13,
   "id": "31f9b7a9-5eb2-4ca2-8a2b-cda3a85d42f7",
   "metadata": {},
   "outputs": [
    {
     "name": "stdin",
     "output_type": "stream",
     "text": [
      "enter the number 50\n"
     ]
    },
    {
     "name": "stdout",
     "output_type": "stream",
     "text": [
      "positive\n"
     ]
    }
   ],
   "source": [
    "#wap ask the user to enter a number\n",
    "# if that number greaterthan or equal to zero\n",
    "#    if number equal to zero\n",
    "#      print zero\n",
    "#      else\n",
    "#         print positive\n",
    "#else\n",
    "#   print negative\n",
    "\n",
    "number=eval(input('enter the number'))\n",
    "if number>=0:\n",
    "    if number==0:\n",
    "        print('zero')\n",
    "    else:\n",
    "        print('positive')\n",
    "else:\n",
    "    print('negative')\n",
    "    "
   ]
  },
  {
   "cell_type": "code",
   "execution_count": null,
   "id": "27977053-601a-4a98-b5f3-5bac5b0beee1",
   "metadata": {},
   "outputs": [],
   "source": [
    "# take 3 numbers\n",
    "# num1 num2 num3\n",
    "# find maxium value"
   ]
  }
 ],
 "metadata": {
  "kernelspec": {
   "display_name": "Python 3 (ipykernel)",
   "language": "python",
   "name": "python3"
  },
  "language_info": {
   "codemirror_mode": {
    "name": "ipython",
    "version": 3
   },
   "file_extension": ".py",
   "mimetype": "text/x-python",
   "name": "python",
   "nbconvert_exporter": "python",
   "pygments_lexer": "ipython3",
   "version": "3.11.7"
  }
 },
 "nbformat": 4,
 "nbformat_minor": 5
}
