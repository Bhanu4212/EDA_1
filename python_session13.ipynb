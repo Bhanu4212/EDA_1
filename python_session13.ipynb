{
 "cells": [
  {
   "cell_type": "code",
   "execution_count": null,
   "id": "881d7433-f2b1-474d-b7fb-ee37ed01b8f0",
   "metadata": {},
   "outputs": [],
   "source": [
    "- Representation\n",
    "- type\n",
    "- len \n",
    "- max\n",
    "- min\n",
    "- in \n",
    "- for using in \n",
    "- index \n",
    "- for using index\n",
    "- reverse\n",
    "- sorted \n"
   ]
  },
  {
   "cell_type": "markdown",
   "id": "cb3a21fd-990b-496c-935a-840e4f923415",
   "metadata": {},
   "source": [
    "**Representation**"
   ]
  },
  {
   "cell_type": "markdown",
   "id": "a6736553-12b5-4b6e-b2b9-597262f032e8",
   "metadata": {},
   "source": [
    "- string represents with qoutes\n",
    "- list represents with square brackets[]"
   ]
  },
  {
   "cell_type": "code",
   "execution_count": 1,
   "id": "de45015e-e76c-4a3f-a781-d69cc7b2052a",
   "metadata": {},
   "outputs": [
    {
     "data": {
      "text/plain": [
       "[1, 2, 3, 4]"
      ]
     },
     "execution_count": 1,
     "metadata": {},
     "output_type": "execute_result"
    }
   ],
   "source": [
    "l1=[1,2,3,4]\n",
    "l1"
   ]
  },
  {
   "cell_type": "code",
   "execution_count": 2,
   "id": "e9d7beaa-edbc-4887-856d-1571320ab2ed",
   "metadata": {},
   "outputs": [
    {
     "data": {
      "text/plain": [
       "list"
      ]
     },
     "execution_count": 2,
     "metadata": {},
     "output_type": "execute_result"
    }
   ],
   "source": [
    "type(l1)"
   ]
  },
  {
   "cell_type": "code",
   "execution_count": 3,
   "id": "75f552eb-c125-41ff-a625-6a7dee336750",
   "metadata": {},
   "outputs": [],
   "source": [
    "l2=['A','B','C','D']"
   ]
  },
  {
   "cell_type": "code",
   "execution_count": 5,
   "id": "c4e8f116-56ec-4e2f-acdb-9e161c0d9528",
   "metadata": {},
   "outputs": [
    {
     "data": {
      "text/plain": [
       "['A', 'B', 'C', 'D']"
      ]
     },
     "execution_count": 5,
     "metadata": {},
     "output_type": "execute_result"
    }
   ],
   "source": [
    "l2"
   ]
  },
  {
   "cell_type": "code",
   "execution_count": 7,
   "id": "420d74c2-8123-4201-9a47-23d73fdb026c",
   "metadata": {},
   "outputs": [
    {
     "data": {
      "text/plain": [
       "[1, 2, 3, 4, 'A', 'B', 'C', 'D']"
      ]
     },
     "execution_count": 7,
     "metadata": {},
     "output_type": "execute_result"
    }
   ],
   "source": [
    "l3=[1,2,3,4,'A','B','C','D']\n",
    "l3"
   ]
  },
  {
   "cell_type": "code",
   "execution_count": 8,
   "id": "3616a5c8-bec3-4799-830e-f3557f5f3268",
   "metadata": {},
   "outputs": [
    {
     "data": {
      "text/plain": [
       "[1, 2, 3, 'Apple', 'Ball', 'cat', True, False]"
      ]
     },
     "execution_count": 8,
     "metadata": {},
     "output_type": "execute_result"
    }
   ],
   "source": [
    "l4=[1,2,3,'Apple','Ball','cat',True,False]\n",
    "l4"
   ]
  },
  {
   "cell_type": "code",
   "execution_count": 9,
   "id": "afb454aa-1d73-44a5-9ea5-3087e65b9768",
   "metadata": {},
   "outputs": [
    {
     "data": {
      "text/plain": [
       "['nareshit']"
      ]
     },
     "execution_count": 9,
     "metadata": {},
     "output_type": "execute_result"
    }
   ],
   "source": [
    "name='nareshit'\n",
    "l5=[name]\n",
    "l5"
   ]
  },
  {
   "cell_type": "code",
   "execution_count": 10,
   "id": "4ae1f300-ccb9-4ebe-9429-9a5e0477896d",
   "metadata": {},
   "outputs": [
    {
     "data": {
      "text/plain": [
       "[100, 100, 100]"
      ]
     },
     "execution_count": 10,
     "metadata": {},
     "output_type": "execute_result"
    }
   ],
   "source": [
    "l6=[100,100,100]\n",
    "l6"
   ]
  },
  {
   "cell_type": "code",
   "execution_count": 11,
   "id": "68035fe0-e309-4c30-8b45-9d144a20f355",
   "metadata": {},
   "outputs": [
    {
     "data": {
      "text/plain": [
       "[1000, 'bhanu', 1, 2, 4, 4, 'a', 'b']"
      ]
     },
     "execution_count": 11,
     "metadata": {},
     "output_type": "execute_result"
    }
   ],
   "source": [
    "l7=[1000,'bhanu',1,2,4 ,4,'a','b']\n",
    "l7"
   ]
  },
  {
   "cell_type": "code",
   "execution_count": 12,
   "id": "6d54b0df-7883-4d6f-9bfa-7b9f2a9d5c94",
   "metadata": {},
   "outputs": [
    {
     "data": {
      "text/plain": [
       "['bhanu', 1, 3, 5, 6, 3, 0, 5]"
      ]
     },
     "execution_count": 12,
     "metadata": {},
     "output_type": "execute_result"
    }
   ],
   "source": [
    "l8=['bhanu',1,3,5,6,3,0,5]\n",
    "l8"
   ]
  },
  {
   "cell_type": "code",
   "execution_count": null,
   "id": "b3ab5368-8900-458e-abae-85de05550f69",
   "metadata": {},
   "outputs": [],
   "source": [
    "l1=[1,2,3,4]\n",
    "l2=['A','B','C','D']\n",
    "l3=[1,2,3,4,'A','B','C','D']\n",
    "l4=[1,2,3,'Apple','Ball','cat',True,False]\n",
    "l5=[name]\n",
    "l6=[100,100,100]\n",
    "l7=[1000,'bhanu',1,2,4 ,4,'a','b']\n"
   ]
  },
  {
   "cell_type": "markdown",
   "id": "7f06d5e8-1cdf-402c-9fd3-e3c6deff0bf0",
   "metadata": {},
   "source": [
    "- list are array of elements\n",
    "- list elements are heterogeneous all the data types can represent in a list\n",
    "- list elements are allowed duplicates\n",
    "- list in list is possible\n",
    "- variables assigned also possible in list"
   ]
  },
  {
   "cell_type": "code",
   "execution_count": null,
   "id": "0f066008-f8c2-47a6-b399-46e58c7e8d31",
   "metadata": {},
   "outputs": [],
   "source": [
    "- len\n",
    "- max\n",
    "- sorted\n",
    "- reversed"
   ]
  },
  {
   "cell_type": "code",
   "execution_count": 13,
   "id": "9884afe5-d92f-4d46-9442-18af39a1911a",
   "metadata": {},
   "outputs": [
    {
     "data": {
      "text/plain": [
       "4"
      ]
     },
     "execution_count": 13,
     "metadata": {},
     "output_type": "execute_result"
    }
   ],
   "source": [
    "l1=[1,2,3,4]\n",
    "len(l1)"
   ]
  },
  {
   "cell_type": "code",
   "execution_count": 18,
   "id": "0d4ce6d5-0f08-4166-a1d6-98ce65356e3d",
   "metadata": {},
   "outputs": [
    {
     "data": {
      "text/plain": [
       "4"
      ]
     },
     "execution_count": 18,
     "metadata": {},
     "output_type": "execute_result"
    }
   ],
   "source": [
    "l2=['A','B','C','D']\n",
    "len(l2)"
   ]
  },
  {
   "cell_type": "code",
   "execution_count": 19,
   "id": "0038bf2e-88c0-4a27-ae05-20a6eda91232",
   "metadata": {},
   "outputs": [
    {
     "data": {
      "text/plain": [
       "8"
      ]
     },
     "execution_count": 19,
     "metadata": {},
     "output_type": "execute_result"
    }
   ],
   "source": [
    "l3=[1,2,3,4,'A','B','C','D']\n",
    "len(l3)"
   ]
  },
  {
   "cell_type": "code",
   "execution_count": 20,
   "id": "075343ac-c48a-4e69-9257-cfb5607018be",
   "metadata": {},
   "outputs": [
    {
     "data": {
      "text/plain": [
       "8"
      ]
     },
     "execution_count": 20,
     "metadata": {},
     "output_type": "execute_result"
    }
   ],
   "source": [
    "l4=[1,2,3,'Apple','Ball','cat',True,False]\n",
    "len(l4)"
   ]
  },
  {
   "cell_type": "code",
   "execution_count": 25,
   "id": "9a9b2122-f2e0-44e7-bb12-b51847b90e03",
   "metadata": {},
   "outputs": [
    {
     "data": {
      "text/plain": [
       "1"
      ]
     },
     "execution_count": 25,
     "metadata": {},
     "output_type": "execute_result"
    }
   ],
   "source": [
    "l5=[name]\n",
    "len(l5)"
   ]
  },
  {
   "cell_type": "code",
   "execution_count": 26,
   "id": "63f7053b-ae52-4ad6-94ac-ef17acc8292d",
   "metadata": {},
   "outputs": [
    {
     "data": {
      "text/plain": [
       "3"
      ]
     },
     "execution_count": 26,
     "metadata": {},
     "output_type": "execute_result"
    }
   ],
   "source": [
    "l6=[100,100,100]\n",
    "len(l6)"
   ]
  },
  {
   "cell_type": "code",
   "execution_count": 27,
   "id": "c86970a1-7330-4118-8178-d5314dde2383",
   "metadata": {},
   "outputs": [
    {
     "data": {
      "text/plain": [
       "8"
      ]
     },
     "execution_count": 27,
     "metadata": {},
     "output_type": "execute_result"
    }
   ],
   "source": [
    "l7=[1000,'bhanu',1,2,4 ,4,'a','b']\n",
    "len(l7)"
   ]
  },
  {
   "cell_type": "markdown",
   "id": "e2a3a6f8-5f1b-499e-8c71-78fbb6fc95f7",
   "metadata": {},
   "source": [
    "**max**"
   ]
  },
  {
   "cell_type": "code",
   "execution_count": 28,
   "id": "7350d783-3afb-4c24-8d0f-923e1d5c6542",
   "metadata": {},
   "outputs": [
    {
     "data": {
      "text/plain": [
       "4"
      ]
     },
     "execution_count": 28,
     "metadata": {},
     "output_type": "execute_result"
    }
   ],
   "source": [
    "l1=[1,2,3,4]\n",
    "max(l1)"
   ]
  },
  {
   "cell_type": "code",
   "execution_count": 29,
   "id": "e4ca6933-9683-4e83-9d7d-1421a5a74634",
   "metadata": {},
   "outputs": [
    {
     "data": {
      "text/plain": [
       "'D'"
      ]
     },
     "execution_count": 29,
     "metadata": {},
     "output_type": "execute_result"
    }
   ],
   "source": [
    "l2=['A','B','C','D']\n",
    "max(l2)"
   ]
  },
  {
   "cell_type": "code",
   "execution_count": 30,
   "id": "50c2898c-5169-439f-a55c-093025583d4a",
   "metadata": {},
   "outputs": [
    {
     "ename": "TypeError",
     "evalue": "'>' not supported between instances of 'str' and 'int'",
     "output_type": "error",
     "traceback": [
      "\u001b[1;31m---------------------------------------------------------------------------\u001b[0m",
      "\u001b[1;31mTypeError\u001b[0m                                 Traceback (most recent call last)",
      "Cell \u001b[1;32mIn[30], line 2\u001b[0m\n\u001b[0;32m      1\u001b[0m l3\u001b[38;5;241m=\u001b[39m[\u001b[38;5;241m1\u001b[39m,\u001b[38;5;241m2\u001b[39m,\u001b[38;5;241m3\u001b[39m,\u001b[38;5;241m4\u001b[39m,\u001b[38;5;124m'\u001b[39m\u001b[38;5;124mA\u001b[39m\u001b[38;5;124m'\u001b[39m,\u001b[38;5;124m'\u001b[39m\u001b[38;5;124mB\u001b[39m\u001b[38;5;124m'\u001b[39m,\u001b[38;5;124m'\u001b[39m\u001b[38;5;124mC\u001b[39m\u001b[38;5;124m'\u001b[39m,\u001b[38;5;124m'\u001b[39m\u001b[38;5;124mD\u001b[39m\u001b[38;5;124m'\u001b[39m]\n\u001b[1;32m----> 2\u001b[0m \u001b[38;5;28mmax\u001b[39m(l3)\n",
      "\u001b[1;31mTypeError\u001b[0m: '>' not supported between instances of 'str' and 'int'"
     ]
    }
   ],
   "source": [
    "l3=[1,2,3,4,'A','B','C','D']\n",
    "max(l3)"
   ]
  },
  {
   "cell_type": "code",
   "execution_count": 31,
   "id": "29d7a555-8f90-4efc-98f6-29b646a94140",
   "metadata": {},
   "outputs": [
    {
     "ename": "TypeError",
     "evalue": "'>' not supported between instances of 'str' and 'int'",
     "output_type": "error",
     "traceback": [
      "\u001b[1;31m---------------------------------------------------------------------------\u001b[0m",
      "\u001b[1;31mTypeError\u001b[0m                                 Traceback (most recent call last)",
      "Cell \u001b[1;32mIn[31], line 2\u001b[0m\n\u001b[0;32m      1\u001b[0m l4\u001b[38;5;241m=\u001b[39m[\u001b[38;5;241m1\u001b[39m,\u001b[38;5;241m2\u001b[39m,\u001b[38;5;241m3\u001b[39m,\u001b[38;5;124m'\u001b[39m\u001b[38;5;124mApple\u001b[39m\u001b[38;5;124m'\u001b[39m,\u001b[38;5;124m'\u001b[39m\u001b[38;5;124mBall\u001b[39m\u001b[38;5;124m'\u001b[39m,\u001b[38;5;124m'\u001b[39m\u001b[38;5;124mcat\u001b[39m\u001b[38;5;124m'\u001b[39m,\u001b[38;5;28;01mTrue\u001b[39;00m,\u001b[38;5;28;01mFalse\u001b[39;00m]\n\u001b[1;32m----> 2\u001b[0m \u001b[38;5;28mmax\u001b[39m(l4)\n",
      "\u001b[1;31mTypeError\u001b[0m: '>' not supported between instances of 'str' and 'int'"
     ]
    }
   ],
   "source": [
    "l4=[1,2,3,'Apple','Ball','cat',True,False]\n",
    "max(l4)"
   ]
  },
  {
   "cell_type": "code",
   "execution_count": 32,
   "id": "ebb523fe-e61b-4c69-b3e5-ed68d618a748",
   "metadata": {},
   "outputs": [
    {
     "data": {
      "text/plain": [
       "'nareshit'"
      ]
     },
     "execution_count": 32,
     "metadata": {},
     "output_type": "execute_result"
    }
   ],
   "source": [
    "l5=[name]\n",
    "max(l5)"
   ]
  },
  {
   "cell_type": "code",
   "execution_count": 33,
   "id": "fecabf0e-9fdc-4075-96f2-d1ef0183a8ae",
   "metadata": {},
   "outputs": [
    {
     "data": {
      "text/plain": [
       "100"
      ]
     },
     "execution_count": 33,
     "metadata": {},
     "output_type": "execute_result"
    }
   ],
   "source": [
    "l6=[100,100,100]\n",
    "max(l6)"
   ]
  },
  {
   "cell_type": "code",
   "execution_count": 34,
   "id": "c5364cba-bd99-4658-8c0c-684b9a0f4ecf",
   "metadata": {},
   "outputs": [
    {
     "ename": "TypeError",
     "evalue": "'>' not supported between instances of 'str' and 'int'",
     "output_type": "error",
     "traceback": [
      "\u001b[1;31m---------------------------------------------------------------------------\u001b[0m",
      "\u001b[1;31mTypeError\u001b[0m                                 Traceback (most recent call last)",
      "Cell \u001b[1;32mIn[34], line 2\u001b[0m\n\u001b[0;32m      1\u001b[0m l7\u001b[38;5;241m=\u001b[39m[\u001b[38;5;241m1000\u001b[39m,\u001b[38;5;124m'\u001b[39m\u001b[38;5;124mbhanu\u001b[39m\u001b[38;5;124m'\u001b[39m,\u001b[38;5;241m1\u001b[39m,\u001b[38;5;241m2\u001b[39m,\u001b[38;5;241m4\u001b[39m ,\u001b[38;5;241m4\u001b[39m,\u001b[38;5;124m'\u001b[39m\u001b[38;5;124ma\u001b[39m\u001b[38;5;124m'\u001b[39m,\u001b[38;5;124m'\u001b[39m\u001b[38;5;124mb\u001b[39m\u001b[38;5;124m'\u001b[39m]\n\u001b[1;32m----> 2\u001b[0m \u001b[38;5;28mmax\u001b[39m(l7)\n",
      "\u001b[1;31mTypeError\u001b[0m: '>' not supported between instances of 'str' and 'int'"
     ]
    }
   ],
   "source": [
    "l7=[1000,'bhanu',1,2,4 ,4,'a','b']\n",
    "max(l7)"
   ]
  },
  {
   "cell_type": "markdown",
   "id": "789c36cd-5240-4f0a-aa7c-dd01b45723ce",
   "metadata": {},
   "source": [
    "**min**"
   ]
  },
  {
   "cell_type": "code",
   "execution_count": 35,
   "id": "0ba2765a-a73e-48b2-8fce-7981188c352b",
   "metadata": {},
   "outputs": [
    {
     "data": {
      "text/plain": [
       "1"
      ]
     },
     "execution_count": 35,
     "metadata": {},
     "output_type": "execute_result"
    }
   ],
   "source": [
    "l1=[1,2,3,4]\n",
    "min(l1)"
   ]
  },
  {
   "cell_type": "code",
   "execution_count": 36,
   "id": "4d4dd7f7-def1-4ba7-8292-e9d3147e26fd",
   "metadata": {},
   "outputs": [
    {
     "data": {
      "text/plain": [
       "'bhanu'"
      ]
     },
     "execution_count": 36,
     "metadata": {},
     "output_type": "execute_result"
    }
   ],
   "source": [
    "l2=['bhanu','tejesh']\n",
    "min(l2)"
   ]
  },
  {
   "cell_type": "code",
   "execution_count": 37,
   "id": "71658d04-5c31-4368-98fb-8b1c38ed0f92",
   "metadata": {},
   "outputs": [
    {
     "data": {
      "text/plain": [
       "'akhil'"
      ]
     },
     "execution_count": 37,
     "metadata": {},
     "output_type": "execute_result"
    }
   ],
   "source": [
    "l3=['bhanu','sai','ravi','tejesh','sree','akhil']\n",
    "min(l3)"
   ]
  },
  {
   "cell_type": "code",
   "execution_count": 38,
   "id": "c6b052c8-9879-43e8-9d4c-3080d5f9a466",
   "metadata": {},
   "outputs": [
    {
     "ename": "TypeError",
     "evalue": "'<' not supported between instances of 'str' and 'int'",
     "output_type": "error",
     "traceback": [
      "\u001b[1;31m---------------------------------------------------------------------------\u001b[0m",
      "\u001b[1;31mTypeError\u001b[0m                                 Traceback (most recent call last)",
      "Cell \u001b[1;32mIn[38], line 2\u001b[0m\n\u001b[0;32m      1\u001b[0m l4\u001b[38;5;241m=\u001b[39m[\u001b[38;5;241m1\u001b[39m,\u001b[38;5;241m2\u001b[39m,\u001b[38;5;241m3\u001b[39m,\u001b[38;5;124m'\u001b[39m\u001b[38;5;124mApple\u001b[39m\u001b[38;5;124m'\u001b[39m,\u001b[38;5;124m'\u001b[39m\u001b[38;5;124mBall\u001b[39m\u001b[38;5;124m'\u001b[39m,\u001b[38;5;124m'\u001b[39m\u001b[38;5;124mcat\u001b[39m\u001b[38;5;124m'\u001b[39m,\u001b[38;5;28;01mTrue\u001b[39;00m,\u001b[38;5;28;01mFalse\u001b[39;00m]\n\u001b[1;32m----> 2\u001b[0m \u001b[38;5;28mmin\u001b[39m(l4)\n",
      "\u001b[1;31mTypeError\u001b[0m: '<' not supported between instances of 'str' and 'int'"
     ]
    }
   ],
   "source": [
    "l4=[1,2,3,'Apple','Ball','cat',True,False]\n",
    "min(l4)"
   ]
  },
  {
   "cell_type": "code",
   "execution_count": 40,
   "id": "af484ee6-1b94-4884-9a6e-0d8c483a7722",
   "metadata": {},
   "outputs": [
    {
     "data": {
      "text/plain": [
       "'nareshit'"
      ]
     },
     "execution_count": 40,
     "metadata": {},
     "output_type": "execute_result"
    }
   ],
   "source": [
    "l5=[name]\n",
    "min(l5)"
   ]
  },
  {
   "cell_type": "code",
   "execution_count": 41,
   "id": "37df5f79-27d5-4c31-a170-50280412a898",
   "metadata": {},
   "outputs": [
    {
     "data": {
      "text/plain": [
       "100"
      ]
     },
     "execution_count": 41,
     "metadata": {},
     "output_type": "execute_result"
    }
   ],
   "source": [
    "l6=[100,100,100]\n",
    "min(l6)"
   ]
  },
  {
   "cell_type": "code",
   "execution_count": 42,
   "id": "3c57a5fe-f87f-4a5d-97a4-75eb6d3e9255",
   "metadata": {},
   "outputs": [
    {
     "ename": "TypeError",
     "evalue": "'<' not supported between instances of 'str' and 'int'",
     "output_type": "error",
     "traceback": [
      "\u001b[1;31m---------------------------------------------------------------------------\u001b[0m",
      "\u001b[1;31mTypeError\u001b[0m                                 Traceback (most recent call last)",
      "Cell \u001b[1;32mIn[42], line 2\u001b[0m\n\u001b[0;32m      1\u001b[0m l7\u001b[38;5;241m=\u001b[39m[\u001b[38;5;241m1000\u001b[39m,\u001b[38;5;124m'\u001b[39m\u001b[38;5;124mbhanu\u001b[39m\u001b[38;5;124m'\u001b[39m,\u001b[38;5;241m1\u001b[39m,\u001b[38;5;241m2\u001b[39m,\u001b[38;5;241m4\u001b[39m ,\u001b[38;5;241m4\u001b[39m,\u001b[38;5;124m'\u001b[39m\u001b[38;5;124ma\u001b[39m\u001b[38;5;124m'\u001b[39m,\u001b[38;5;124m'\u001b[39m\u001b[38;5;124mb\u001b[39m\u001b[38;5;124m'\u001b[39m]\n\u001b[1;32m----> 2\u001b[0m \u001b[38;5;28mmin\u001b[39m(l7)\n",
      "\u001b[1;31mTypeError\u001b[0m: '<' not supported between instances of 'str' and 'int'"
     ]
    }
   ],
   "source": [
    "l7=[1000,'bhanu',1,2,4 ,4,'a','b']\n",
    "min(l7)"
   ]
  },
  {
   "cell_type": "markdown",
   "id": "c698931f-2c1a-41c4-b94e-b83ab1cf1e0c",
   "metadata": {},
   "source": [
    "**sorted**"
   ]
  },
  {
   "cell_type": "code",
   "execution_count": 43,
   "id": "efb2da07-3355-4e7f-a031-fe797d7d3415",
   "metadata": {},
   "outputs": [
    {
     "data": {
      "text/plain": [
       "[1, 2, 3, 4]"
      ]
     },
     "execution_count": 43,
     "metadata": {},
     "output_type": "execute_result"
    }
   ],
   "source": [
    "l1=[1,2,3,4]\n",
    "sorted(l1)"
   ]
  },
  {
   "cell_type": "code",
   "execution_count": 44,
   "id": "478e6dc6-f249-4ddd-a3df-3d7f44e4748b",
   "metadata": {},
   "outputs": [
    {
     "data": {
      "text/plain": [
       "['bhanu', 'tejesh']"
      ]
     },
     "execution_count": 44,
     "metadata": {},
     "output_type": "execute_result"
    }
   ],
   "source": [
    "l2=['bhanu','tejesh']\n",
    "sorted(l2)"
   ]
  },
  {
   "cell_type": "code",
   "execution_count": 45,
   "id": "dba3f881-0125-4fdf-9a76-063f4a93e11f",
   "metadata": {},
   "outputs": [
    {
     "data": {
      "text/plain": [
       "['akhil', 'bhanu', 'ravi', 'sai', 'sree', 'tejesh']"
      ]
     },
     "execution_count": 45,
     "metadata": {},
     "output_type": "execute_result"
    }
   ],
   "source": [
    "l3=['bhanu','sai','ravi','tejesh','sree','akhil']\n",
    "sorted(l3)"
   ]
  },
  {
   "cell_type": "code",
   "execution_count": 46,
   "id": "73279e09-a3e6-4355-a618-a51b656083bc",
   "metadata": {},
   "outputs": [
    {
     "ename": "TypeError",
     "evalue": "'<' not supported between instances of 'str' and 'int'",
     "output_type": "error",
     "traceback": [
      "\u001b[1;31m---------------------------------------------------------------------------\u001b[0m",
      "\u001b[1;31mTypeError\u001b[0m                                 Traceback (most recent call last)",
      "Cell \u001b[1;32mIn[46], line 2\u001b[0m\n\u001b[0;32m      1\u001b[0m l4\u001b[38;5;241m=\u001b[39m[\u001b[38;5;241m1\u001b[39m,\u001b[38;5;241m2\u001b[39m,\u001b[38;5;241m3\u001b[39m,\u001b[38;5;124m'\u001b[39m\u001b[38;5;124mApple\u001b[39m\u001b[38;5;124m'\u001b[39m,\u001b[38;5;124m'\u001b[39m\u001b[38;5;124mBall\u001b[39m\u001b[38;5;124m'\u001b[39m,\u001b[38;5;124m'\u001b[39m\u001b[38;5;124mcat\u001b[39m\u001b[38;5;124m'\u001b[39m,\u001b[38;5;28;01mTrue\u001b[39;00m,\u001b[38;5;28;01mFalse\u001b[39;00m]\n\u001b[1;32m----> 2\u001b[0m \u001b[38;5;28msorted\u001b[39m(l4)\n",
      "\u001b[1;31mTypeError\u001b[0m: '<' not supported between instances of 'str' and 'int'"
     ]
    }
   ],
   "source": [
    "l4=[1,2,3,'Apple','Ball','cat',True,False]\n",
    "sorted(l4)"
   ]
  },
  {
   "cell_type": "code",
   "execution_count": 47,
   "id": "e1c79018-5ae8-4d50-81e7-7af20658436b",
   "metadata": {},
   "outputs": [
    {
     "data": {
      "text/plain": [
       "['nareshit']"
      ]
     },
     "execution_count": 47,
     "metadata": {},
     "output_type": "execute_result"
    }
   ],
   "source": [
    "l5=[name]\n",
    "sorted(l5)"
   ]
  },
  {
   "cell_type": "code",
   "execution_count": 48,
   "id": "82666e4f-49e2-40cb-9915-31f06dbfe140",
   "metadata": {},
   "outputs": [
    {
     "data": {
      "text/plain": [
       "[100, 100, 100]"
      ]
     },
     "execution_count": 48,
     "metadata": {},
     "output_type": "execute_result"
    }
   ],
   "source": [
    "l6=[100,100,100]\n",
    "sorted(l6)"
   ]
  },
  {
   "cell_type": "code",
   "execution_count": 49,
   "id": "39d1ee7b-c3e9-4988-8ed9-12bc51d2c2ea",
   "metadata": {},
   "outputs": [
    {
     "ename": "TypeError",
     "evalue": "'<' not supported between instances of 'str' and 'int'",
     "output_type": "error",
     "traceback": [
      "\u001b[1;31m---------------------------------------------------------------------------\u001b[0m",
      "\u001b[1;31mTypeError\u001b[0m                                 Traceback (most recent call last)",
      "Cell \u001b[1;32mIn[49], line 2\u001b[0m\n\u001b[0;32m      1\u001b[0m l7\u001b[38;5;241m=\u001b[39m[\u001b[38;5;241m1000\u001b[39m,\u001b[38;5;124m'\u001b[39m\u001b[38;5;124mbhanu\u001b[39m\u001b[38;5;124m'\u001b[39m,\u001b[38;5;241m1\u001b[39m,\u001b[38;5;241m2\u001b[39m,\u001b[38;5;241m4\u001b[39m ,\u001b[38;5;241m4\u001b[39m,\u001b[38;5;124m'\u001b[39m\u001b[38;5;124ma\u001b[39m\u001b[38;5;124m'\u001b[39m,\u001b[38;5;124m'\u001b[39m\u001b[38;5;124mb\u001b[39m\u001b[38;5;124m'\u001b[39m]\n\u001b[1;32m----> 2\u001b[0m \u001b[38;5;28msorted\u001b[39m(l7)\n",
      "\u001b[1;31mTypeError\u001b[0m: '<' not supported between instances of 'str' and 'int'"
     ]
    }
   ],
   "source": [
    "l7=[1000,'bhanu',1,2,4 ,4,'a','b']\n",
    "sorted(l7)"
   ]
  },
  {
   "cell_type": "markdown",
   "id": "9e803c5e-c8c4-47c5-acfd-178ee485f908",
   "metadata": {},
   "source": [
    "**reversed**"
   ]
  },
  {
   "cell_type": "code",
   "execution_count": 53,
   "id": "0fcad28e-cda6-4957-93a9-0a5778cb6908",
   "metadata": {},
   "outputs": [
    {
     "name": "stdout",
     "output_type": "stream",
     "text": [
      "4\n",
      "3\n",
      "2\n",
      "1\n"
     ]
    }
   ],
   "source": [
    "l1=[1,2,3,4]\n",
    "output=reversed(l1)\n",
    "for i in output:\n",
    "    print(i)"
   ]
  },
  {
   "cell_type": "code",
   "execution_count": 54,
   "id": "131372ec-10af-49ff-a2ce-6af828f70126",
   "metadata": {},
   "outputs": [
    {
     "data": {
      "text/plain": [
       "[4, 3, 2, 1]"
      ]
     },
     "execution_count": 54,
     "metadata": {},
     "output_type": "execute_result"
    }
   ],
   "source": [
    "l1=[1,2,3,4]\n",
    "list(reversed(l1))"
   ]
  },
  {
   "cell_type": "code",
   "execution_count": 55,
   "id": "91f47a29-6fd1-4768-ac45-0e0643edeeec",
   "metadata": {},
   "outputs": [
    {
     "data": {
      "text/plain": [
       "['tejesh', 'bhanu']"
      ]
     },
     "execution_count": 55,
     "metadata": {},
     "output_type": "execute_result"
    }
   ],
   "source": [
    "l2=['bhanu','tejesh']\n",
    "list(reversed(l2))"
   ]
  },
  {
   "cell_type": "code",
   "execution_count": 56,
   "id": "d56778ff-4c6d-4407-a90d-d19f4a9a5733",
   "metadata": {},
   "outputs": [
    {
     "data": {
      "text/plain": [
       "['akhil', 'sree', 'tejesh', 'ravi', 'sai', 'bhanu']"
      ]
     },
     "execution_count": 56,
     "metadata": {},
     "output_type": "execute_result"
    }
   ],
   "source": [
    "l3=['bhanu','sai','ravi','tejesh','sree','akhil']\n",
    "list(reversed(l3))"
   ]
  },
  {
   "cell_type": "code",
   "execution_count": 59,
   "id": "315d12b9-b705-4752-ba13-8de1c45ec75d",
   "metadata": {},
   "outputs": [
    {
     "data": {
      "text/plain": [
       "[False, True, 'cat', 'Ball', 'Apple', 3, 2, 1]"
      ]
     },
     "execution_count": 59,
     "metadata": {},
     "output_type": "execute_result"
    }
   ],
   "source": [
    "l4=[1,2,3,'Apple','Ball','cat',True,False]\n",
    "list(reversed(l4))"
   ]
  },
  {
   "cell_type": "code",
   "execution_count": 60,
   "id": "0390ad9b-20c2-4a3c-aa95-3c6d8a3bac55",
   "metadata": {},
   "outputs": [
    {
     "data": {
      "text/plain": [
       "['nareshit']"
      ]
     },
     "execution_count": 60,
     "metadata": {},
     "output_type": "execute_result"
    }
   ],
   "source": [
    "l5=[name]\n",
    "list(reversed(l5))"
   ]
  },
  {
   "cell_type": "code",
   "execution_count": 61,
   "id": "67149622-aa52-4710-b304-0077cd43840e",
   "metadata": {},
   "outputs": [
    {
     "data": {
      "text/plain": [
       "[100, 100, 100]"
      ]
     },
     "execution_count": 61,
     "metadata": {},
     "output_type": "execute_result"
    }
   ],
   "source": [
    "l6=[100,100,100]\n",
    "list(reversed(l6))"
   ]
  },
  {
   "cell_type": "code",
   "execution_count": 62,
   "id": "ff9cc207-202d-4655-9df8-6a15d917d9f4",
   "metadata": {},
   "outputs": [
    {
     "data": {
      "text/plain": [
       "['b', 'a', 4, 4, 2, 1, 'bhanu', 1000]"
      ]
     },
     "execution_count": 62,
     "metadata": {},
     "output_type": "execute_result"
    }
   ],
   "source": [
    "l7=[1000,'bhanu',1,2,4 ,4,'a','b']\n",
    "list(reversed(l7))"
   ]
  },
  {
   "cell_type": "code",
   "execution_count": 64,
   "id": "3dd7eac4-3c06-482e-a6b2-41bfae7bd5c6",
   "metadata": {},
   "outputs": [
    {
     "data": {
      "text/plain": [
       "'banu'"
      ]
     },
     "execution_count": 64,
     "metadata": {},
     "output_type": "execute_result"
    }
   ],
   "source": [
    "name=['adhitya','aadhitya','banu']\n",
    "max(name)\n",
    "#then compare \n",
    "# countinue the process"
   ]
  },
  {
   "cell_type": "code",
   "execution_count": 67,
   "id": "406cc098-cb78-4aea-91fc-c23d121f4a40",
   "metadata": {},
   "outputs": [
    {
     "ename": "SyntaxError",
     "evalue": "unterminated string literal (detected at line 1) (2124447012.py, line 1)",
     "output_type": "error",
     "traceback": [
      "\u001b[1;36m  Cell \u001b[1;32mIn[67], line 1\u001b[1;36m\u001b[0m\n\u001b[1;33m    list1=['Apple,\u001b[0m\n\u001b[1;37m           ^\u001b[0m\n\u001b[1;31mSyntaxError\u001b[0m\u001b[1;31m:\u001b[0m unterminated string literal (detected at line 1)\n"
     ]
    }
   ],
   "source": [
    "list1=['Apple,\n",
    "      1,\n",
    "      [ cherry,banana]\n",
    "      ]\n",
    "len(list1)"
   ]
  },
  {
   "cell_type": "code",
   "execution_count": 68,
   "id": "0fdd4d10-5bd0-46b3-8d68-bc0dfcfe1524",
   "metadata": {},
   "outputs": [
    {
     "ename": "TypeError",
     "evalue": "'>' not supported between instances of 'str' and 'int'",
     "output_type": "error",
     "traceback": [
      "\u001b[1;31m---------------------------------------------------------------------------\u001b[0m",
      "\u001b[1;31mTypeError\u001b[0m                                 Traceback (most recent call last)",
      "Cell \u001b[1;32mIn[68], line 2\u001b[0m\n\u001b[0;32m      1\u001b[0m list1\u001b[38;5;241m=\u001b[39m[\u001b[38;5;241m65\u001b[39m,\u001b[38;5;124m'\u001b[39m\u001b[38;5;124mA\u001b[39m\u001b[38;5;124m'\u001b[39m]\n\u001b[1;32m----> 2\u001b[0m \u001b[38;5;28mmax\u001b[39m(list1)\n",
      "\u001b[1;31mTypeError\u001b[0m: '>' not supported between instances of 'str' and 'int'"
     ]
    }
   ],
   "source": [
    "list1=[65,'A']\n",
    "max(list1)"
   ]
  },
  {
   "cell_type": "markdown",
   "id": "52265204-dfcb-4066-a3bb-6f261b0f8878",
   "metadata": {},
   "source": [
    "**index**"
   ]
  },
  {
   "cell_type": "code",
   "execution_count": 69,
   "id": "d6c337eb-a5e4-4662-be80-53f624b55c9a",
   "metadata": {},
   "outputs": [],
   "source": [
    "l4=[1,2,3,'Apple','Ball','Cat',True,False]\n",
    "\n",
    "# -8  -7  -6    -5    -4     -3     -2     -1\n",
    "#  1   2   3   Apple  Ball   Cat   True   False\n",
    "#  0   1   2    3      4      5      6      7"
   ]
  },
  {
   "cell_type": "code",
   "execution_count": 70,
   "id": "1ddc11d5-b53f-4fa3-97fb-9969daabc15c",
   "metadata": {},
   "outputs": [
    {
     "data": {
      "text/plain": [
       "('Apple', 'Apple')"
      ]
     },
     "execution_count": 70,
     "metadata": {},
     "output_type": "execute_result"
    }
   ],
   "source": [
    "l4[3],l4[-5]"
   ]
  },
  {
   "cell_type": "code",
   "execution_count": 71,
   "id": "9aa13f10-cffb-41b8-af83-66605fbc4e3a",
   "metadata": {},
   "outputs": [
    {
     "data": {
      "text/plain": [
       "2"
      ]
     },
     "execution_count": 71,
     "metadata": {},
     "output_type": "execute_result"
    }
   ],
   "source": [
    "l1=[1,[2]]\n",
    "new=l1[1]\n",
    "new[0]"
   ]
  },
  {
   "cell_type": "code",
   "execution_count": 72,
   "id": "6e82fb09-4170-431b-8c72-38259384b174",
   "metadata": {},
   "outputs": [
    {
     "data": {
      "text/plain": [
       "2"
      ]
     },
     "execution_count": 72,
     "metadata": {},
     "output_type": "execute_result"
    }
   ],
   "source": [
    "l1=[1,[2]]\n",
    "l1[1][0]"
   ]
  },
  {
   "cell_type": "code",
   "execution_count": 74,
   "id": "4ee8ed32-d6b0-4935-a583-7b515383c115",
   "metadata": {},
   "outputs": [
    {
     "data": {
      "text/plain": [
       "'A'"
      ]
     },
     "execution_count": 74,
     "metadata": {},
     "output_type": "execute_result"
    }
   ],
   "source": [
    "l1=[1,[2,'A']]\n",
    "l1[1][1]\n",
    "\n",
    "# 'A' is presented at index 1\n",
    "#so we given l1[1]:[2,'A'] it is also a list\n",
    "# the list has two elements\n",
    "#'A' at ist index\n",
    "#l1[1][1]"
   ]
  },
  {
   "cell_type": "code",
   "execution_count": 78,
   "id": "c6f36ef3-9574-418f-a19e-569082ed42ad",
   "metadata": {},
   "outputs": [
    {
     "data": {
      "text/plain": [
       "'B'"
      ]
     },
     "execution_count": 78,
     "metadata": {},
     "output_type": "execute_result"
    }
   ],
   "source": [
    "l1=[1,[2,['A','B']]]\n",
    "l1[1][1][1]\n",
    "# i want 'B'\n",
    "# how many elements"
   ]
  },
  {
   "cell_type": "code",
   "execution_count": 79,
   "id": "79766743-3a24-437a-90d4-87b781557d74",
   "metadata": {},
   "outputs": [
    {
     "data": {
      "text/plain": [
       "'B'"
      ]
     },
     "execution_count": 79,
     "metadata": {},
     "output_type": "execute_result"
    }
   ],
   "source": [
    "l1=[1,[2,['A','B']]]\n",
    "len(l1)\n",
    "l1[1][1][1]\n"
   ]
  },
  {
   "cell_type": "code",
   "execution_count": 85,
   "id": "113b1584-18b3-4cbf-b03f-394fa820b8d2",
   "metadata": {},
   "outputs": [
    {
     "data": {
      "text/plain": [
       "'Apple'"
      ]
     },
     "execution_count": 85,
     "metadata": {},
     "output_type": "execute_result"
    }
   ],
   "source": [
    "l1=[1,2,[3,[4,[5,['Apple']]]]]\n",
    "l1[2][1][1][1][0]"
   ]
  },
  {
   "cell_type": "code",
   "execution_count": 90,
   "id": "5dc0a9a6-1291-4b46-bd70-d44ba2aaefa6",
   "metadata": {},
   "outputs": [
    {
     "data": {
      "text/plain": [
       "'Banana'"
      ]
     },
     "execution_count": 90,
     "metadata": {},
     "output_type": "execute_result"
    }
   ],
   "source": [
    "l1=['Apple',1,'Solapur',['cherry','papaya',70,[123,'Banana'],'tomato'],'python'] #get banana\n",
    "len(l1)\n",
    "l1[3][3][1]"
   ]
  },
  {
   "cell_type": "code",
   "execution_count": 97,
   "id": "0ba990c6-6561-4ba1-892c-0dbf49798f5e",
   "metadata": {},
   "outputs": [
    {
     "data": {
      "text/plain": [
       "'Cherry'"
      ]
     },
     "execution_count": 97,
     "metadata": {},
     "output_type": "execute_result"
    }
   ],
   "source": [
    "list1=[[[[[[[1,'Cherry']]]]]]]\n",
    "len(list1)\n",
    "list1[0][0][0][0][0][0][1]"
   ]
  },
  {
   "cell_type": "code",
   "execution_count": 110,
   "id": "66f16d00-8dbd-4b9f-92f0-0624dd0ef655",
   "metadata": {},
   "outputs": [
    {
     "data": {
      "text/plain": [
       "'shmbaji'"
      ]
     },
     "execution_count": 110,
     "metadata": {},
     "output_type": "execute_result"
    }
   ],
   "source": [
    "list1=['MH',\n",
    "       ['Nagpur',['Orange',['likes',['king'],['shivaji',['Son',['shmbaji']]]]]\n",
    "       ]]\n",
    "list1[1][1][1][2][1][1][0]"
   ]
  },
  {
   "cell_type": "code",
   "execution_count": 2,
   "id": "5c3ac0ea-64de-4d8f-8081-c3543995c010",
   "metadata": {},
   "outputs": [
    {
     "name": "stdout",
     "output_type": "stream",
     "text": [
      "1\n",
      "2\n",
      "3\n",
      "4\n",
      "5\n",
      "a\n",
      "b\n",
      "c\n",
      "True\n",
      "False\n"
     ]
    }
   ],
   "source": [
    "l1=[1,2,3,4,5,'a','b','c',True,False]\n",
    "for i in range(len(l1)):\n",
    "    print(l1[i])"
   ]
  },
  {
   "cell_type": "code",
   "execution_count": 4,
   "id": "3c5a995a-f90d-4cf2-bf63-3f3cd0162d18",
   "metadata": {},
   "outputs": [
    {
     "name": "stdout",
     "output_type": "stream",
     "text": [
      "the positive index of 1 is 0\n",
      "the positive index of 2 is 1\n",
      "the positive index of 3 is 2\n",
      "the positive index of 4 is 3\n",
      "the positive index of 5 is 4\n",
      "the positive index of a is 5\n",
      "the positive index of b is 6\n",
      "the positive index of c is 7\n",
      "the positive index of True is 8\n",
      "the positive index of False is 9\n"
     ]
    }
   ],
   "source": [
    "l1=[1,2,3,4,5,'a','b','c',True,False]\n",
    "for i in range(len(l1)):\n",
    "    print(f'the positive index of {l1[i]} is {i}')"
   ]
  },
  {
   "cell_type": "code",
   "execution_count": 5,
   "id": "47a3ecd6-3b40-4eeb-9b6d-d64752ea716e",
   "metadata": {},
   "outputs": [
    {
     "name": "stdout",
     "output_type": "stream",
     "text": [
      "the positive index of 1 is 0\n",
      "the positive index of 2 is -1\n",
      "the positive index of 3 is -2\n",
      "the positive index of 4 is -3\n",
      "the positive index of 5 is -4\n",
      "the positive index of a is -5\n",
      "the positive index of b is -6\n",
      "the positive index of c is -7\n",
      "the positive index of True is -8\n",
      "the positive index of False is -9\n"
     ]
    }
   ],
   "source": [
    "l1=[1,2,3,4,5,'a','b','c',True,False]\n",
    "for i in range(len(l1)):\n",
    "    print(f'the positive index of {l1[i]} is {-i}')"
   ]
  },
  {
   "cell_type": "code",
   "execution_count": 8,
   "id": "9c85dc20-a1d9-462c-ba9b-ce7003a041c6",
   "metadata": {},
   "outputs": [
    {
     "data": {
      "text/plain": [
       "[100, 2, 3, 4]"
      ]
     },
     "execution_count": 8,
     "metadata": {},
     "output_type": "execute_result"
    }
   ],
   "source": [
    "# we want to change 1 with 100\n",
    "l=[1,2,3,4]\n",
    "l[0]=100\n",
    "l\n"
   ]
  },
  {
   "cell_type": "code",
   "execution_count": 21,
   "id": "adeb6188-703a-441b-a185-2b619d3ab42e",
   "metadata": {},
   "outputs": [
    {
     "ename": "IndexError",
     "evalue": "list assignment index out of range",
     "output_type": "error",
     "traceback": [
      "\u001b[1;31m---------------------------------------------------------------------------\u001b[0m",
      "\u001b[1;31mIndexError\u001b[0m                                Traceback (most recent call last)",
      "Cell \u001b[1;32mIn[21], line 3\u001b[0m\n\u001b[0;32m      1\u001b[0m \u001b[38;5;66;03m#we want to change 1 with 100\\\u001b[39;00m\n\u001b[0;32m      2\u001b[0m l\u001b[38;5;241m=\u001b[39m[\u001b[38;5;124m'\u001b[39m\u001b[38;5;124mnaresh\u001b[39m\u001b[38;5;124m'\u001b[39m]\n\u001b[1;32m----> 3\u001b[0m l[\u001b[38;5;241m5\u001b[39m]\u001b[38;5;241m=\u001b[39m\u001b[38;5;124m'\u001b[39m\u001b[38;5;124mi\u001b[39m\u001b[38;5;124m'\u001b[39m\n\u001b[0;32m      4\u001b[0m l\n",
      "\u001b[1;31mIndexError\u001b[0m: list assignment index out of range"
     ]
    }
   ],
   "source": [
    "#we want to change 1 with 100\\\n",
    "l=['naresh']\n",
    "l[5]='i'\n",
    "l"
   ]
  },
  {
   "cell_type": "code",
   "execution_count": 26,
   "id": "ed885177-8f49-4a5b-aa45-f688ac3b8d3e",
   "metadata": {},
   "outputs": [
    {
     "data": {
      "text/plain": [
       "[4]"
      ]
     },
     "execution_count": 26,
     "metadata": {},
     "output_type": "execute_result"
    }
   ],
   "source": [
    "l1=[1,2,3,4,5,'a','b','c','d','e','f','d','g']\n",
    "\n",
    "l1[3:-9:2]"
   ]
  },
  {
   "cell_type": "code",
   "execution_count": 27,
   "id": "d329ce49-1d46-4b1f-bf9b-be6d4c05f714",
   "metadata": {},
   "outputs": [
    {
     "data": {
      "text/plain": [
       "['f', 'd', 'b']"
      ]
     },
     "execution_count": 27,
     "metadata": {},
     "output_type": "execute_result"
    }
   ],
   "source": [
    "l1=[1,2,3,4,5,'a','b','c','d','e','f','d','g']\n",
    "\n",
    "l1[-3:-9:-2]"
   ]
  },
  {
   "cell_type": "markdown",
   "id": "e9e380d6-470f-4a82-a94f-fcbd5aaf38ac",
   "metadata": {},
   "source": [
    "**list method**"
   ]
  },
  {
   "cell_type": "code",
   "execution_count": 28,
   "id": "17a72868-bf78-4246-985d-d1fc536a59c5",
   "metadata": {},
   "outputs": [
    {
     "data": {
      "text/plain": [
       "['__add__',\n",
       " '__class__',\n",
       " '__class_getitem__',\n",
       " '__contains__',\n",
       " '__delattr__',\n",
       " '__delitem__',\n",
       " '__dir__',\n",
       " '__doc__',\n",
       " '__eq__',\n",
       " '__format__',\n",
       " '__ge__',\n",
       " '__getattribute__',\n",
       " '__getitem__',\n",
       " '__getstate__',\n",
       " '__gt__',\n",
       " '__hash__',\n",
       " '__iadd__',\n",
       " '__imul__',\n",
       " '__init__',\n",
       " '__init_subclass__',\n",
       " '__iter__',\n",
       " '__le__',\n",
       " '__len__',\n",
       " '__lt__',\n",
       " '__mul__',\n",
       " '__ne__',\n",
       " '__new__',\n",
       " '__reduce__',\n",
       " '__reduce_ex__',\n",
       " '__repr__',\n",
       " '__reversed__',\n",
       " '__rmul__',\n",
       " '__setattr__',\n",
       " '__setitem__',\n",
       " '__sizeof__',\n",
       " '__str__',\n",
       " '__subclasshook__',\n",
       " 'append',\n",
       " 'clear',\n",
       " 'copy',\n",
       " 'count',\n",
       " 'extend',\n",
       " 'index',\n",
       " 'insert',\n",
       " 'pop',\n",
       " 'remove',\n",
       " 'reverse',\n",
       " 'sort']"
      ]
     },
     "execution_count": 28,
     "metadata": {},
     "output_type": "execute_result"
    }
   ],
   "source": [
    "#string dir('')\n",
    "dir(list)\n"
   ]
  },
  {
   "cell_type": "markdown",
   "id": "47a589f4-7f64-46c3-a71a-80053f15aa7a",
   "metadata": {},
   "source": [
    "**append**\n",
    "\n",
    "- adding elements in a list  at last in index\n",
    "- append method  is very important\n",
    "- most of the time we will use append in the real time\n",
    "- when you add value original list will be overwrite\n",
    "- "
   ]
  },
  {
   "cell_type": "code",
   "execution_count": 29,
   "id": "f46b8cbf-4f47-4e40-8f19-43b97faa2808",
   "metadata": {},
   "outputs": [
    {
     "data": {
      "text/plain": [
       "['apple', 'ball', 'cat']"
      ]
     },
     "execution_count": 29,
     "metadata": {},
     "output_type": "execute_result"
    }
   ],
   "source": [
    "l=['apple','ball','cat']\n",
    "l"
   ]
  },
  {
   "cell_type": "code",
   "execution_count": null,
   "id": "0abdd90e-1dd7-496f-aaf1-2a8805f083fe",
   "metadata": {},
   "outputs": [],
   "source": [
    "# you want to add doll in a given list\n",
    "#keyword vs method\n",
    "\n",
    "len()\n",
    "max()\n",
    "min()\n",
    "sorted()\n",
    "reverse()\n",
    "\n",
    "#methods\n",
    "<pacakage>.<method>()\n",
    "#data types has own method\n",
    "#"
   ]
  },
  {
   "cell_type": "code",
   "execution_count": 35,
   "id": "5eddb0ed-bf37-4123-8b9f-d21ecbdbc428",
   "metadata": {},
   "outputs": [],
   "source": [
    "l.append('doll')"
   ]
  },
  {
   "cell_type": "code",
   "execution_count": 36,
   "id": "bc5f3f24-3f91-4215-98bb-9c385534e846",
   "metadata": {},
   "outputs": [
    {
     "data": {
      "text/plain": [
       "['apple', 'ball', 'cat', 'doll', 'doll', 'doll']"
      ]
     },
     "execution_count": 36,
     "metadata": {},
     "output_type": "execute_result"
    }
   ],
   "source": [
    "l"
   ]
  },
  {
   "cell_type": "code",
   "execution_count": 37,
   "id": "9c3eac7b-5a37-40b1-93f5-dfa043bdbabb",
   "metadata": {},
   "outputs": [],
   "source": [
    "l.append('doll')"
   ]
  },
  {
   "cell_type": "code",
   "execution_count": 38,
   "id": "1007db84-8a07-4fd2-931f-2ae5a0bf1381",
   "metadata": {},
   "outputs": [
    {
     "data": {
      "text/plain": [
       "['apple', 'ball', 'cat', 'doll', 'doll', 'doll', 'doll']"
      ]
     },
     "execution_count": 38,
     "metadata": {},
     "output_type": "execute_result"
    }
   ],
   "source": [
    "l"
   ]
  },
  {
   "cell_type": "code",
   "execution_count": 39,
   "id": "87e90cf4-1fb9-4dc0-8fea-4e27fdd0359d",
   "metadata": {},
   "outputs": [
    {
     "data": {
      "text/plain": [
       "['apple', 'ball', 'cat', 'doll']"
      ]
     },
     "execution_count": 39,
     "metadata": {},
     "output_type": "execute_result"
    }
   ],
   "source": [
    "l=['apple','ball','cat']\n",
    "l.append('doll')\n",
    "l"
   ]
  },
  {
   "cell_type": "code",
   "execution_count": 40,
   "id": "75ffdff6-7f99-4637-a8b6-eb71d56aec22",
   "metadata": {},
   "outputs": [
    {
     "data": {
      "text/plain": [
       "[10, 20, 'apple', ['A', 1], True]"
      ]
     },
     "execution_count": 40,
     "metadata": {},
     "output_type": "execute_result"
    }
   ],
   "source": [
    "l2=[]\n",
    "l2.append(10)\n",
    "l2.append(20)\n",
    "l2.append('apple')\n",
    "l2.append(['A',1])\n",
    "l2.append(True)\n",
    "l2"
   ]
  },
  {
   "cell_type": "code",
   "execution_count": 44,
   "id": "178756aa-f8da-4ebe-a09a-b17064bb37ec",
   "metadata": {},
   "outputs": [
    {
     "data": {
      "text/plain": [
       "['bhanu', 100, 'ravi', 'sai']"
      ]
     },
     "execution_count": 44,
     "metadata": {},
     "output_type": "execute_result"
    }
   ],
   "source": [
    "l2=[]\n",
    "l2.append('bhanu')\n",
    "l2.append(100)\n",
    "l2.append('ravi')\n",
    "l2.append('sai')\n",
    "l2"
   ]
  },
  {
   "cell_type": "markdown",
   "id": "b2756f1d-cda0-4a06-88db-b89f5a02e874",
   "metadata": {},
   "source": [
    "**Append method  used to save the output in a list**"
   ]
  },
  {
   "cell_type": "code",
   "execution_count": 47,
   "id": "32e3d47c-76d4-4673-8ca5-ca1944e56bad",
   "metadata": {},
   "outputs": [
    {
     "name": "stdout",
     "output_type": "stream",
     "text": [
      "1\n",
      "4\n",
      "9\n",
      "16\n",
      "25\n"
     ]
    },
    {
     "data": {
      "text/plain": [
       "[1, 4, 9, 16, 25]"
      ]
     },
     "execution_count": 47,
     "metadata": {},
     "output_type": "execute_result"
    }
   ],
   "source": [
    "square_list=[]\n",
    "for i in range(1,6):\n",
    "    print(i*i)\n",
    "    square_list.append(i*i)\n",
    "# print====square_list.append\n",
    "square_list"
   ]
  },
  {
   "cell_type": "code",
   "execution_count": 49,
   "id": "cb191d6a-4253-4f44-ab1f-84c3901288b5",
   "metadata": {},
   "outputs": [
    {
     "data": {
      "text/plain": [
       "[1, 4, 9, 16, 25]"
      ]
     },
     "execution_count": 49,
     "metadata": {},
     "output_type": "execute_result"
    }
   ],
   "source": [
    "square_list=[]\n",
    "for i in range(1,6):\n",
    "    square_list.append(i*i)\n",
    "# print====square_list.append\n",
    "square_list"
   ]
  },
  {
   "cell_type": "code",
   "execution_count": 64,
   "id": "8b9321a0-d4c5-41a0-add9-9481630a4012",
   "metadata": {},
   "outputs": [
    {
     "data": {
      "text/plain": [
       "[1, 5, 9]"
      ]
     },
     "execution_count": 64,
     "metadata": {},
     "output_type": "execute_result"
    }
   ],
   "source": [
    "str1='hai hai hai'\n",
    "id_list=[]\n",
    "for i in range(len(str1)):\n",
    "    if str1[i]=='a':\n",
    "       id_list.append(i)\n",
    "        \n",
    "id_list"
   ]
  },
  {
   "cell_type": "code",
   "execution_count": 63,
   "id": "972528c3-221b-48c9-b57e-9a89b2a7b3d0",
   "metadata": {},
   "outputs": [
    {
     "data": {
      "text/plain": [
       "15"
      ]
     },
     "execution_count": 63,
     "metadata": {},
     "output_type": "execute_result"
    }
   ],
   "source": [
    "summ=0\n",
    "str1='hai hai hai'\n",
    "for i in range(len(str1)):\n",
    "    if str1[i]=='a':\n",
    "        summ=summ+i\n",
    "\n",
    "summ"
   ]
  },
  {
   "cell_type": "code",
   "execution_count": null,
   "id": "3a3e808b-814b-4a9f-ae61-567c92667f83",
   "metadata": {},
   "outputs": [],
   "source": [
    "# q2) l1=['hyd','mumbai','chennai,'blr']\n",
    "# ans =['mumbai','chennai']\n",
    "# we want elements which are len of elements >4\n",
    "\n",
    "#q3) l1=['hyd','mum#bai','chen#nai,'blr']\n",
    "# ans =['mumbai','chennai']\n",
    "#we want elements which are having '#'\n",
    "\n",
    "#ask the user get five random numbers\n",
    "# even_list and odd_list\n",
    "# even number appened at even list\n",
    "#odd number append  at odd list\n",
    "\n",
    "#str='hai how are you'\n",
    "#maximum lenth of word using split and max method\n",
    "# sum of all the indexes of the maximum len of word using append\n"
   ]
  },
  {
   "cell_type": "code",
   "execution_count": 1,
   "id": "a525148d-7249-41d5-b280-4dca56ce5f8b",
   "metadata": {},
   "outputs": [
    {
     "data": {
      "text/plain": [
       "['mumbai', 'chennai']"
      ]
     },
     "execution_count": 1,
     "metadata": {},
     "output_type": "execute_result"
    }
   ],
   "source": [
    "l1=['hyd','mumbai','chennai','blr']\n",
    "ans=[]\n",
    "for i in l1:\n",
    "    if len(i)>4:\n",
    "        ans.append(i)\n",
    "ans"
   ]
  },
  {
   "cell_type": "code",
   "execution_count": 2,
   "id": "4d455e3d-c86d-43f7-babf-75816f4f9d3a",
   "metadata": {},
   "outputs": [
    {
     "data": {
      "text/plain": [
       "['mum#bai', 'chen#nai']"
      ]
     },
     "execution_count": 2,
     "metadata": {},
     "output_type": "execute_result"
    }
   ],
   "source": [
    "l1=['hyd','mum#bai','chen#nai','blr']\n",
    "ans=[]\n",
    "for i in l1:\n",
    "    if '#' in i:\n",
    "        ans.append(i)\n",
    "ans"
   ]
  },
  {
   "cell_type": "code",
   "execution_count": 3,
   "id": "6f8d3f5c-da0c-4ffd-b1cd-50ea1a73dacf",
   "metadata": {},
   "outputs": [
    {
     "data": {
      "text/plain": [
       "True"
      ]
     },
     "execution_count": 3,
     "metadata": {},
     "output_type": "execute_result"
    }
   ],
   "source": [
    "'nadeem' in '#' # 'nadeem' is available in '#'\n",
    "'#' in 'nadeem' # '#' is available in 'nadeem'\n",
    "'nad##m' in '#' # is available in 'nad##m'\n",
    "'#' in 'nad##m' # is available in 'nad##m'\n"
   ]
  },
  {
   "cell_type": "code",
   "execution_count": 4,
   "id": "35bdc37d-4596-4260-b615-3359f7c404a1",
   "metadata": {},
   "outputs": [
    {
     "data": {
      "text/plain": [
       "['Hyd', 'Mumbai', 'Chennai', 'Blr']"
      ]
     },
     "execution_count": 4,
     "metadata": {},
     "output_type": "execute_result"
    }
   ],
   "source": [
    "# Q4)l1=['hyd','mumbai','chennai','blr']\n",
    "#  ans= ['Hyd','Mumbai','Chennai','Blr']\n",
    "#  we want lements which are len of element >4\n",
    "\n",
    "l1=['hyd','mumbai','chennai','blr']\n",
    "a=[]\n",
    "for i in l1:\n",
    "    if len(i):\n",
    "        d=i.capitalize()\n",
    "        a.append(d)\n",
    "a"
   ]
  },
  {
   "cell_type": "code",
   "execution_count": 6,
   "id": "a6565820-faf5-4ba1-968a-9fa0aa7163f6",
   "metadata": {},
   "outputs": [
    {
     "data": {
      "text/plain": [
       "['Hyd', 'Mumbai', 'Chennai', 'Blr']"
      ]
     },
     "execution_count": 6,
     "metadata": {},
     "output_type": "execute_result"
    }
   ],
   "source": [
    "# Q4)l1=['hyd','mumbai','chennai','blr']\n",
    "#  ans= ['Hyd','Mumbai','Chennai','Blr']\n",
    "#  we want lements which are len of element >4\n",
    "\n",
    "l1=['hyd','mumbai','chennai','blr']\n",
    "a=[]\n",
    "for i in l1:\n",
    "    if len(i):\n",
    "        a.append(i.capitalize())\n",
    "a"
   ]
  },
  {
   "cell_type": "code",
   "execution_count": null,
   "id": "cffa883a-76e4-4137-bf24-4f1db1d93ea1",
   "metadata": {},
   "outputs": [],
   "source": [
    "l1=['hyd','mumbai','chennai','blr']\n",
    "a=[]\n",
    "for i in "
   ]
  },
  {
   "cell_type": "code",
   "execution_count": 10,
   "id": "c71b337d-13b1-4362-bfc5-67d7f1a6be62",
   "metadata": {},
   "outputs": [
    {
     "data": {
      "text/plain": [
       "['hai', 'how', 'are', 'you']"
      ]
     },
     "execution_count": 10,
     "metadata": {},
     "output_type": "execute_result"
    }
   ],
   "source": [
    "# d0 the same  using capitalize method\n",
    "# step-1: split the string\n",
    "# step2-2: take empty list \n",
    "#step-3: iterate the each letters  apply capitailize and append it\n",
    "#steep-4: join the list\n",
    "\n",
    "\n",
    "str1='hai how are you'\n",
    "str1.split()"
   ]
  },
  {
   "cell_type": "code",
   "execution_count": 14,
   "id": "1f635291-d08e-42a5-9cf5-8dcd029b0cf9",
   "metadata": {},
   "outputs": [
    {
     "data": {
      "text/plain": [
       "['Hai', 'How', 'Are', 'You']"
      ]
     },
     "execution_count": 14,
     "metadata": {},
     "output_type": "execute_result"
    }
   ],
   "source": [
    "str1='hai how are you'\n",
    "words=str1.split()\n",
    "new=[]\n",
    "for i in words:\n",
    "    new.append(i.capitalize())\n",
    "new"
   ]
  },
  {
   "cell_type": "markdown",
   "id": "7e80373a-3be3-43cd-81fe-68109d22648b",
   "metadata": {},
   "source": [
    "**split join**"
   ]
  },
  {
   "cell_type": "markdown",
   "id": "897aba70-a49f-4713-bc84-cb4cf75192a9",
   "metadata": {},
   "source": [
    "- split  will apply only for strings, to divide  the words or characters\n",
    "- when we split  the elements  will be stored in a list formate\n",
    "- join is used to combine the elements of a list in a string formate\n",
    "- split string\n",
    "- join list"
   ]
  },
  {
   "cell_type": "code",
   "execution_count": 12,
   "id": "d8d46d36-f1a4-4405-8e35-c6fe141f9616",
   "metadata": {},
   "outputs": [
    {
     "data": {
      "text/plain": [
       "['Hello', 'Iam', 'Learning', 'Python']"
      ]
     },
     "execution_count": 12,
     "metadata": {},
     "output_type": "execute_result"
    }
   ],
   "source": [
    "str1='hello iam learning python'\n",
    "words=str1.split()\n",
    "new_words=[]\n",
    "for i in words:\n",
    "    new_words.append(i.capitalize())\n",
    "new_words"
   ]
  },
  {
   "cell_type": "code",
   "execution_count": 16,
   "id": "20fa75eb-8ce4-4a29-a258-7aeef6e92e8f",
   "metadata": {},
   "outputs": [
    {
     "data": {
      "text/plain": [
       "'Hello Iam Learning Python'"
      ]
     },
     "execution_count": 16,
     "metadata": {},
     "output_type": "execute_result"
    }
   ],
   "source": [
    "str1='hello iam learning python'\n",
    "words=str1.split()\n",
    "new_words=[]\n",
    "for i in words:\n",
    "    new_words.append(i.capitalize())\n",
    "' '.join(new_words)"
   ]
  },
  {
   "cell_type": "code",
   "execution_count": 17,
   "id": "bc405684-e045-4e30-a379-6f18a7c024fa",
   "metadata": {},
   "outputs": [],
   "source": [
    "import math"
   ]
  },
  {
   "cell_type": "code",
   "execution_count": 18,
   "id": "06ef1208-ad26-4c00-85e2-6eb087ae9c0b",
   "metadata": {},
   "outputs": [
    {
     "data": {
      "text/plain": [
       "['__doc__',\n",
       " '__loader__',\n",
       " '__name__',\n",
       " '__package__',\n",
       " '__spec__',\n",
       " 'acos',\n",
       " 'acosh',\n",
       " 'asin',\n",
       " 'asinh',\n",
       " 'atan',\n",
       " 'atan2',\n",
       " 'atanh',\n",
       " 'cbrt',\n",
       " 'ceil',\n",
       " 'comb',\n",
       " 'copysign',\n",
       " 'cos',\n",
       " 'cosh',\n",
       " 'degrees',\n",
       " 'dist',\n",
       " 'e',\n",
       " 'erf',\n",
       " 'erfc',\n",
       " 'exp',\n",
       " 'exp2',\n",
       " 'expm1',\n",
       " 'fabs',\n",
       " 'factorial',\n",
       " 'floor',\n",
       " 'fmod',\n",
       " 'frexp',\n",
       " 'fsum',\n",
       " 'gamma',\n",
       " 'gcd',\n",
       " 'hypot',\n",
       " 'inf',\n",
       " 'isclose',\n",
       " 'isfinite',\n",
       " 'isinf',\n",
       " 'isnan',\n",
       " 'isqrt',\n",
       " 'lcm',\n",
       " 'ldexp',\n",
       " 'lgamma',\n",
       " 'log',\n",
       " 'log10',\n",
       " 'log1p',\n",
       " 'log2',\n",
       " 'modf',\n",
       " 'nan',\n",
       " 'nextafter',\n",
       " 'perm',\n",
       " 'pi',\n",
       " 'pow',\n",
       " 'prod',\n",
       " 'radians',\n",
       " 'remainder',\n",
       " 'sin',\n",
       " 'sinh',\n",
       " 'sqrt',\n",
       " 'tan',\n",
       " 'tanh',\n",
       " 'tau',\n",
       " 'trunc',\n",
       " 'ulp']"
      ]
     },
     "execution_count": 18,
     "metadata": {},
     "output_type": "execute_result"
    }
   ],
   "source": [
    "dir(math)"
   ]
  },
  {
   "cell_type": "code",
   "execution_count": 20,
   "id": "c78e64e3-b54e-4563-b5ac-12dfab2c85a6",
   "metadata": {},
   "outputs": [
    {
     "data": {
      "text/plain": [
       "1.4142135623730951"
      ]
     },
     "execution_count": 20,
     "metadata": {},
     "output_type": "execute_result"
    }
   ],
   "source": [
    "# calculate the distance between  to points\n",
    "# a=[1,2]\n",
    "# b=[4,5]\n",
    "#a=[x1,x2]\n",
    "#b=[y1,y2]\n",
    "#step-1: x2-x1=====index 1\n",
    "#step-2: y2-y2=====index 2\n",
    "\n",
    "\n",
    "a=[1,2]\n",
    "b=[4,5]\n",
    "import math\n",
    "val1=a[1]-a[0]\n",
    "a.append(val1)\n",
    "val2=b[1]-b[0]\n",
    "val1=val1**2\n",
    "val2=val2**2\n",
    "ans=math.sqrt(val1+val2)\n",
    "ans"
   ]
  },
  {
   "cell_type": "code",
   "execution_count": 22,
   "id": "b30c6043-9f4c-4ec1-8b98-cc5fb368b4eb",
   "metadata": {},
   "outputs": [
    {
     "data": {
      "text/plain": [
       "1.4142135623730951"
      ]
     },
     "execution_count": 22,
     "metadata": {},
     "output_type": "execute_result"
    }
   ],
   "source": [
    "a=[1,2]\n",
    "b=[4,5]\n",
    "x1,x2=a[0],a[1]\n",
    "y1,y2=b[0],b[1]\n",
    "import math\n",
    "val1=x2-x1\n",
    "a.append(val1)\n",
    "val2=y2-y1\n",
    "val1=val1**2\n",
    "val2=val2**2\n",
    "ans=math.sqrt(val1+val2)\n",
    "ans"
   ]
  },
  {
   "cell_type": "code",
   "execution_count": 38,
   "id": "d3c421bf-25ad-4cee-899d-2abbe4794b6b",
   "metadata": {},
   "outputs": [
    {
     "name": "stdout",
     "output_type": "stream",
     "text": [
      "4.242640687119285\n"
     ]
    }
   ],
   "source": [
    "a=[1,2]\n",
    "b=[4,5]\n",
    "import math\n",
    "val1=a[0]-b[0]\n",
    "val2=a[1]-b[1]\n",
    "val1=val1**2\n",
    "val2=val2**2\n",
    "print(math.sqrt(val1+val2))"
   ]
  },
  {
   "cell_type": "code",
   "execution_count": 37,
   "id": "1cf532e2-0820-4e5a-8af7-f8c3658416f0",
   "metadata": {},
   "outputs": [
    {
     "name": "stdout",
     "output_type": "stream",
     "text": [
      "1 2\n",
      "2 3\n",
      "================\n",
      "2 3\n",
      "2 3\n",
      "================\n",
      "3 4\n",
      "2 3\n",
      "================\n",
      "3.0\n"
     ]
    }
   ],
   "source": [
    "points=[[1,2],[2,3],[3,4]]\n",
    "val=[2,3]\n",
    "\n",
    "#calculate  the distance b/t val [2,3] to each and every points\n",
    "# fond the maximum distance\n",
    "import math\n",
    "for i in points:\n",
    "    print(i[0],i[1])\n",
    "    print(val[0],val[1])\n",
    "    print('================')\n",
    "val1=b[0]-a[0]\n",
    "val2=b[1]-a[1]\n",
    "val1=val1**2\n",
    "val2=val2**2\n",
    "print(math.sqrt(val1+val2))"
   ]
  },
  {
   "cell_type": "code",
   "execution_count": 46,
   "id": "e8f717a5-c351-4577-9980-df6338d82946",
   "metadata": {},
   "outputs": [
    {
     "name": "stdout",
     "output_type": "stream",
     "text": [
      "1 2\n",
      "2 3\n",
      "2-2=1,2-1=1\n",
      "2 3\n",
      "2 3\n",
      "3-2=0,2-2=0\n",
      "3 4\n",
      "2 3\n",
      "4-2=-1,2-3=-1\n",
      "4.242640687119285\n"
     ]
    },
    {
     "data": {
      "text/plain": [
       "[0, 0, 0]"
      ]
     },
     "execution_count": 46,
     "metadata": {},
     "output_type": "execute_result"
    }
   ],
   "source": [
    "points=[[1,2],[2,3],[3,4]]\n",
    "val=[2,3]\n",
    "ans=[]\n",
    "\n",
    "#calculate  the distance b/t val [2,3] to each and every points\n",
    "# fond the maximum distance\n",
    "import math\n",
    "for i in points:\n",
    "    print(i[0],i[1])\n",
    "    print(val[0],val[1])\n",
    "    o1=val[0]-i[0]\n",
    "    o2=val[1]-i[1]\n",
    "    print(f'{i[1]}-{val[0]}={o1},{val[0]}-{i[0]}={o2}')\n",
    "    va1=o1**2\n",
    "    va2=o2**2\n",
    "    ans.append(va1-va2)\n",
    "print(math.sqrt(val1+val2))\n"
   ]
  },
  {
   "cell_type": "code",
   "execution_count": 55,
   "id": "551b26ec-1762-4c36-8359-1f09552c8b74",
   "metadata": {},
   "outputs": [
    {
     "name": "stdout",
     "output_type": "stream",
     "text": [
      "hai\n",
      "how\n",
      "are\n",
      "you\n"
     ]
    }
   ],
   "source": [
    "str1='hai how are you'\n",
    "words=str1.split()\n",
    "len_words=[]\n",
    "for i  in words:\n",
    "    x=len(i)\n",
    "    len_words.append(x)\n",
    "max_len=max(len_words)\n",
    "\n",
    "for i in words:\n",
    "    if len(i)==max_len:\n",
    "        print(i)\n"
   ]
  },
  {
   "cell_type": "code",
   "execution_count": 56,
   "id": "91f55c33-c115-49c8-b30b-826b2fb1376b",
   "metadata": {},
   "outputs": [
    {
     "name": "stdout",
     "output_type": "stream",
     "text": [
      "hai\n",
      "how\n",
      "are\n",
      "you\n"
     ]
    }
   ],
   "source": [
    "for i in words:\n",
    "    if len(i)==max_len:\n",
    "        print(i)\n"
   ]
  },
  {
   "cell_type": "code",
   "execution_count": 7,
   "id": "deb5abe8-f96f-4057-830b-dc39e7e0b57d",
   "metadata": {},
   "outputs": [
    {
     "name": "stdin",
     "output_type": "stream",
     "text": [
      "What is capital of India Delhi\n",
      "Who is PM of india Modi\n",
      "Who is ICT ODI captian Rohit\n"
     ]
    },
    {
     "name": "stdout",
     "output_type": "stream",
     "text": [
      "the total marks are 3\n"
     ]
    }
   ],
   "source": [
    "qns_list=['What is capital of India','Who is PM of india','Who is ICT ODI captian']\n",
    "ans_list = ['Delhi','Modi','Rohit']\n",
    "marks=0\n",
    "for i in range(len(qns_list)):\n",
    "    ans=input(qns_list[i])\n",
    "    if ans==ans_list[i]:\n",
    "       marks+=1\n",
    "print ('the total marks are',marks)\n"
   ]
  },
  {
   "cell_type": "code",
   "execution_count": 8,
   "id": "eef9a849-0e20-436e-b23e-04dfbadc851a",
   "metadata": {},
   "outputs": [
    {
     "data": {
      "text/plain": [
       "['__add__',\n",
       " '__class__',\n",
       " '__class_getitem__',\n",
       " '__contains__',\n",
       " '__delattr__',\n",
       " '__delitem__',\n",
       " '__dir__',\n",
       " '__doc__',\n",
       " '__eq__',\n",
       " '__format__',\n",
       " '__ge__',\n",
       " '__getattribute__',\n",
       " '__getitem__',\n",
       " '__getstate__',\n",
       " '__gt__',\n",
       " '__hash__',\n",
       " '__iadd__',\n",
       " '__imul__',\n",
       " '__init__',\n",
       " '__init_subclass__',\n",
       " '__iter__',\n",
       " '__le__',\n",
       " '__len__',\n",
       " '__lt__',\n",
       " '__mul__',\n",
       " '__ne__',\n",
       " '__new__',\n",
       " '__reduce__',\n",
       " '__reduce_ex__',\n",
       " '__repr__',\n",
       " '__reversed__',\n",
       " '__rmul__',\n",
       " '__setattr__',\n",
       " '__setitem__',\n",
       " '__sizeof__',\n",
       " '__str__',\n",
       " '__subclasshook__',\n",
       " 'append',\n",
       " 'clear',\n",
       " 'copy',\n",
       " 'count',\n",
       " 'extend',\n",
       " 'index',\n",
       " 'insert',\n",
       " 'pop',\n",
       " 'remove',\n",
       " 'reverse',\n",
       " 'sort']"
      ]
     },
     "execution_count": 8,
     "metadata": {},
     "output_type": "execute_result"
    }
   ],
   "source": [
    "dir(list)"
   ]
  },
  {
   "cell_type": "code",
   "execution_count": null,
   "id": "16fa5fc8-9608-4a79-8ef6-e38a5be5c659",
   "metadata": {},
   "outputs": [],
   "source": [
    "#append vs extend vs concatination vs insert\n",
    "# pop vs remove\n",
    "# reverse vs reversed\n",
    "#sort vs sorted\n",
    "#copy\n",
    "# count\n"
   ]
  },
  {
   "cell_type": "code",
   "execution_count": 10,
   "id": "80e2761c-0f8d-43ad-b844-1703fbd2994d",
   "metadata": {},
   "outputs": [],
   "source": [
    "l1=[1,2,3,5,6,'bhanu','ravi']\n",
    "l1.append(8)    "
   ]
  },
  {
   "cell_type": "code",
   "execution_count": 11,
   "id": "bb4ed5de-37ef-4e9d-b4bc-5a6f70d953a6",
   "metadata": {},
   "outputs": [
    {
     "data": {
      "text/plain": [
       "[1, 2, 3, 5, 6, 'bhanu', 'ravi', 8]"
      ]
     },
     "execution_count": 11,
     "metadata": {},
     "output_type": "execute_result"
    }
   ],
   "source": [
    "l1"
   ]
  },
  {
   "cell_type": "code",
   "execution_count": 13,
   "id": "91dbeb71-8b59-466d-b19b-ddd51aa042bc",
   "metadata": {},
   "outputs": [],
   "source": [
    "l1=[1,2,3,5,6,'bhanu','ravi']\n",
    "l1.clear()"
   ]
  },
  {
   "cell_type": "code",
   "execution_count": 14,
   "id": "f39d1703-6a94-4375-9ad3-1361b03c8349",
   "metadata": {},
   "outputs": [
    {
     "data": {
      "text/plain": [
       "[]"
      ]
     },
     "execution_count": 14,
     "metadata": {},
     "output_type": "execute_result"
    }
   ],
   "source": [
    "l1"
   ]
  },
  {
   "cell_type": "code",
   "execution_count": 20,
   "id": "f5c93243-c4f7-4454-9ab4-eaf9b586e2c5",
   "metadata": {},
   "outputs": [],
   "source": [
    "l1=[1,2,3,5,6,'bhanu','ravi']\n",
    "l1.insert(3,'a')"
   ]
  },
  {
   "cell_type": "code",
   "execution_count": 21,
   "id": "3350e72b-b2ac-4d88-a337-7e77b707dc22",
   "metadata": {},
   "outputs": [
    {
     "data": {
      "text/plain": [
       "[1, 2, 3, 'a', 5, 6, 'bhanu', 'ravi']"
      ]
     },
     "execution_count": 21,
     "metadata": {},
     "output_type": "execute_result"
    }
   ],
   "source": [
    "l1"
   ]
  },
  {
   "cell_type": "code",
   "execution_count": 61,
   "id": "154f9ac2-4b0b-4238-ab43-9a5ca4f67bfc",
   "metadata": {},
   "outputs": [],
   "source": [
    "l1=[1,2,3,5,6]\n",
    "l1.extend('ravi')"
   ]
  },
  {
   "cell_type": "code",
   "execution_count": 62,
   "id": "a2e0a5c7-b2d7-4b7e-ad63-a9f39abbd937",
   "metadata": {},
   "outputs": [
    {
     "data": {
      "text/plain": [
       "[1, 2, 3, 5, 6, 'r', 'a', 'v', 'i']"
      ]
     },
     "execution_count": 62,
     "metadata": {},
     "output_type": "execute_result"
    }
   ],
   "source": [
    "l1"
   ]
  },
  {
   "cell_type": "code",
   "execution_count": 26,
   "id": "5d0b4ed0-cfd8-4c47-a0c0-75c3255d3153",
   "metadata": {},
   "outputs": [
    {
     "name": "stdout",
     "output_type": "stream",
     "text": [
      "Help on built-in function index:\n",
      "\n",
      "index(value, start=0, stop=9223372036854775807, /) method of builtins.list instance\n",
      "    Return first index of value.\n",
      "    \n",
      "    Raises ValueError if the value is not present.\n",
      "\n"
     ]
    }
   ],
   "source": [
    "help([].index)"
   ]
  },
  {
   "cell_type": "code",
   "execution_count": 32,
   "id": "c57b9e7e-1e57-4f1c-b586-c9fef307d180",
   "metadata": {},
   "outputs": [
    {
     "data": {
      "text/plain": [
       "5"
      ]
     },
     "execution_count": 32,
     "metadata": {},
     "output_type": "execute_result"
    }
   ],
   "source": [
    "l1=[1,2,3,5,7,5,6]\n",
    "l1.index(5,5)"
   ]
  },
  {
   "cell_type": "code",
   "execution_count": 35,
   "id": "0e036e8a-c3bc-4af5-bfc7-344007f39e81",
   "metadata": {},
   "outputs": [
    {
     "name": "stdout",
     "output_type": "stream",
     "text": [
      "Help on built-in function sort:\n",
      "\n",
      "sort(*, key=None, reverse=False) method of builtins.list instance\n",
      "    Sort the list in ascending order and return None.\n",
      "    \n",
      "    The sort is in-place (i.e. the list itself is modified) and stable (i.e. the\n",
      "    order of two equal elements is maintained).\n",
      "    \n",
      "    If a key function is given, apply it once to each list item and sort them,\n",
      "    ascending or descending, according to their function values.\n",
      "    \n",
      "    The reverse flag can be set to sort in descending order.\n",
      "\n"
     ]
    }
   ],
   "source": [
    "help([].sort)"
   ]
  },
  {
   "cell_type": "code",
   "execution_count": 39,
   "id": "fc728750-6e03-4515-81c1-c1c4656325c4",
   "metadata": {},
   "outputs": [],
   "source": [
    "l1=['sai','bhanu','ravi']\n",
    "l1.sort()\n"
   ]
  },
  {
   "cell_type": "code",
   "execution_count": 40,
   "id": "38e59058-b102-441a-8414-19bcc892dbbb",
   "metadata": {},
   "outputs": [
    {
     "data": {
      "text/plain": [
       "['bhanu', 'ravi', 'sai']"
      ]
     },
     "execution_count": 40,
     "metadata": {},
     "output_type": "execute_result"
    }
   ],
   "source": [
    "l1"
   ]
  },
  {
   "cell_type": "markdown",
   "id": "47cec775-584a-4a1b-ae3d-bddb2cc21740",
   "metadata": {},
   "source": [
    "**copy**"
   ]
  },
  {
   "cell_type": "code",
   "execution_count": 42,
   "id": "67b28a10-3d04-46b1-be4c-a6c18ed6774c",
   "metadata": {},
   "outputs": [
    {
     "data": {
      "text/plain": [
       "[1, 2, 3, 5, 6]"
      ]
     },
     "execution_count": 42,
     "metadata": {},
     "output_type": "execute_result"
    }
   ],
   "source": [
    "l1=[1,2,3,5,6]\n",
    "l2=l1.copy()\n",
    "l2"
   ]
  },
  {
   "cell_type": "code",
   "execution_count": 43,
   "id": "7dedcda3-c1e1-4311-a67f-25344dbf3698",
   "metadata": {},
   "outputs": [],
   "source": [
    "l1=[1,2,3,5,6,'bhanu','ravi']\n",
    "l1.reverse()"
   ]
  },
  {
   "cell_type": "code",
   "execution_count": 44,
   "id": "d7163a90-1c11-4d02-a6bb-85ed8c315fc8",
   "metadata": {},
   "outputs": [
    {
     "data": {
      "text/plain": [
       "['ravi', 'bhanu', 6, 5, 3, 2, 1]"
      ]
     },
     "execution_count": 44,
     "metadata": {},
     "output_type": "execute_result"
    }
   ],
   "source": [
    "l1"
   ]
  },
  {
   "cell_type": "code",
   "execution_count": 45,
   "id": "bbb1a257-1bfa-4d20-a7e3-e0e7dbf03fa2",
   "metadata": {},
   "outputs": [],
   "source": [
    "l1=[1,2,3,5,6,'bhanu','ravi']\n",
    "l1.remove('bhanu')"
   ]
  },
  {
   "cell_type": "code",
   "execution_count": 46,
   "id": "b179244a-106c-4b27-abb5-a04c3fdc2ccf",
   "metadata": {},
   "outputs": [
    {
     "data": {
      "text/plain": [
       "[1, 2, 3, 5, 6, 'ravi']"
      ]
     },
     "execution_count": 46,
     "metadata": {},
     "output_type": "execute_result"
    }
   ],
   "source": [
    "l1"
   ]
  },
  {
   "cell_type": "code",
   "execution_count": 49,
   "id": "af215435-8750-4f1b-8ca5-a949eefca860",
   "metadata": {},
   "outputs": [],
   "source": [
    "count=0\n",
    "l1=[1,2,3,5,6,'bhanu','ravi']\n",
    "for i in range(len(l1)):\n",
    "    count=count+1"
   ]
  },
  {
   "cell_type": "code",
   "execution_count": 50,
   "id": "5ebf27a8-c50a-4d60-a7a5-612f86041d6c",
   "metadata": {},
   "outputs": [
    {
     "data": {
      "text/plain": [
       "7"
      ]
     },
     "execution_count": 50,
     "metadata": {},
     "output_type": "execute_result"
    }
   ],
   "source": [
    "count"
   ]
  },
  {
   "cell_type": "markdown",
   "id": "4a5645e5-fde1-48a2-8c9c-8a6bad4b3707",
   "metadata": {},
   "source": [
    "**append vs extend vs concatination vs insert**\n"
   ]
  },
  {
   "cell_type": "code",
   "execution_count": 51,
   "id": "a6af48e7-4e5b-4ad2-80dd-2c07b9a3bd5e",
   "metadata": {},
   "outputs": [
    {
     "name": "stdout",
     "output_type": "stream",
     "text": [
      "[1, 2, 3, 4, 'A', 'B', 'C', 'D']\n",
      "['A', 'B', 'C', 'D']\n"
     ]
    }
   ],
   "source": [
    "l1=[1,2,3,4]\n",
    "l2=['A','B','C','D']\n",
    "l1.extend(l2)\n",
    "print(l1)\n",
    "print(l2)"
   ]
  },
  {
   "cell_type": "code",
   "execution_count": 52,
   "id": "abee626e-5e10-4b80-a701-d415581cd377",
   "metadata": {},
   "outputs": [
    {
     "name": "stdout",
     "output_type": "stream",
     "text": [
      "[1, 2, 3, 4]\n",
      "['A', 'B', 'C', 'D', 1, 2, 3, 4]\n"
     ]
    }
   ],
   "source": [
    "l1=[1,2,3,4]\n",
    "l2=['A','B','C','D']\n",
    "l2.extend(l1)\n",
    "print(l1)\n",
    "print(l2)"
   ]
  },
  {
   "cell_type": "code",
   "execution_count": 53,
   "id": "463d92e9-e2ef-423b-b72e-5ba58c75511d",
   "metadata": {},
   "outputs": [
    {
     "name": "stdout",
     "output_type": "stream",
     "text": [
      "[1, 2, 3, 4]\n",
      "['A', 'B', 'C', 'D', [1, 2, 3, 4]]\n"
     ]
    }
   ],
   "source": [
    "l1=[1,2,3,4]\n",
    "l2=['A','B','C','D']\n",
    "l2.append(l1)\n",
    "print(l1)\n",
    "print(l2)"
   ]
  },
  {
   "cell_type": "code",
   "execution_count": 59,
   "id": "1ff2e706-82d8-475b-845d-e5ed02983d3e",
   "metadata": {},
   "outputs": [
    {
     "name": "stdout",
     "output_type": "stream",
     "text": [
      "Help on built-in function pop:\n",
      "\n",
      "pop(index=-1, /) method of builtins.list instance\n",
      "    Remove and return item at index (default last).\n",
      "    \n",
      "    Raises IndexError if list is empty or index is out of range.\n",
      "\n"
     ]
    }
   ],
   "source": [
    "help([].pop)"
   ]
  },
  {
   "cell_type": "code",
   "execution_count": 60,
   "id": "e0622a7c-5c3b-4c2c-bb08-0abee9d6d8aa",
   "metadata": {},
   "outputs": [
    {
     "name": "stdout",
     "output_type": "stream",
     "text": [
      "[1, 2, 3, 4, 'A', 'B', 'C', 'D']\n",
      "['A', 'B', 'C', 'D', 1, 2, 3, 4]\n",
      "[1, 2, 3, 4]\n",
      "['A', 'B', 'C', 'D']\n"
     ]
    }
   ],
   "source": [
    "l1=[1,2,3,4]\n",
    "l2=['A','B','C','D']\n",
    "print(l1+l2)\n",
    "print(l2+l1)\n",
    "print(l1)\n",
    "print(l2)"
   ]
  },
  {
   "cell_type": "code",
   "execution_count": 67,
   "id": "214f653c-9ca1-4a06-aa3f-a9e77e0313be",
   "metadata": {},
   "outputs": [
    {
     "data": {
      "text/plain": [
       "[1, 2, 3, 4, 10, 20, 30]"
      ]
     },
     "execution_count": 67,
     "metadata": {},
     "output_type": "execute_result"
    }
   ],
   "source": [
    "l1=[1,2,3,4]\n",
    "l1.extend((10,20,30))\n",
    "l1\n"
   ]
  },
  {
   "cell_type": "markdown",
   "id": "8650ac25-e878-4e03-a9f1-f4a0b4cdc5cb",
   "metadata": {},
   "source": [
    "- append  just  appened  the value with base data type\n",
    "- extend is concatenate the value, and  the list will be overwrite with new values\n",
    "- extend can take ay iterrible  formate type i.e. string,list,tuple\n",
    "- extend and concatination both are same\n",
    "- the list will not overwrite the concatination"
   ]
  },
  {
   "cell_type": "markdown",
   "id": "26e9f8a4-16ac-4624-afde-83432d43c3cb",
   "metadata": {},
   "source": [
    "**index**\n",
    "- same like string"
   ]
  },
  {
   "cell_type": "code",
   "execution_count": 78,
   "id": "ffcf3979-afb2-4347-a4a5-aef7b06dc356",
   "metadata": {},
   "outputs": [
    {
     "data": {
      "text/plain": [
       "(3, 4, 3)"
      ]
     },
     "execution_count": 78,
     "metadata": {},
     "output_type": "execute_result"
    }
   ],
   "source": [
    "l1=[1,2,3,'apple','apple',4,5]\n",
    "l1.index(2)\n",
    "i1=l1.index('apple')  #case-1\n",
    "i2=l1.index('apple',i1+1)   #case-2\n",
    "i3=l1.index('apple',2,5)     #case-3\n",
    "i1,i2,i3"
   ]
  },
  {
   "cell_type": "markdown",
   "id": "03b28e20-9b47-4e1d-9753-288014d85c9c",
   "metadata": {},
   "source": [
    "- case-1: Directly get the index\n",
    "- case-2: next value index, by providing start \n",
    "- case-3: between the values"
   ]
  },
  {
   "cell_type": "markdown",
   "id": "7a541d7c-0b90-4b6d-a924-bae64c4ff111",
   "metadata": {},
   "source": [
    "**insert**\n",
    "- will insert the element based on index\n",
    "- append will add the element at last only"
   ]
  },
  {
   "cell_type": "code",
   "execution_count": 14,
   "id": "a41ec916-f9ca-48c2-a0be-241750348503",
   "metadata": {},
   "outputs": [
    {
     "data": {
      "text/plain": [
       "[1, 2, 3, 'Apple', 10, 20, 'Banana', 'Apple', 40]"
      ]
     },
     "execution_count": 14,
     "metadata": {},
     "output_type": "execute_result"
    }
   ],
   "source": [
    "l1=[1,2,3,'Apple',10,20,'Apple',40]\n",
    "i1=l1.index('Apple',i1+1)\n",
    "l1.insert(i1,'Banana')\n",
    "l1"
   ]
  },
  {
   "cell_type": "code",
   "execution_count": 19,
   "id": "aaad7c8e-def8-4b81-a208-6e6446da60fe",
   "metadata": {},
   "outputs": [
    {
     "data": {
      "text/plain": [
       "[1, 2, 3, 'Apple', 10, 20, 'Apple', 'cherry', 40]"
      ]
     },
     "execution_count": 19,
     "metadata": {},
     "output_type": "execute_result"
    }
   ],
   "source": [
    "l1=[1,2,3,'Apple',10,20,'Apple',40]\n",
    "i1=l1.index(40)\n",
    "l1.insert(i1,'cherry')\n",
    "l1"
   ]
  },
  {
   "cell_type": "code",
   "execution_count": 21,
   "id": "09d3b2bf-f664-499a-b509-73013a4644ca",
   "metadata": {},
   "outputs": [
    {
     "data": {
      "text/plain": [
       "[1, 2, 3, 'Apple', 10, 20, 'cherry', 'Apple', 40]"
      ]
     },
     "execution_count": 21,
     "metadata": {},
     "output_type": "execute_result"
    }
   ],
   "source": [
    "#if we want  to add cherry before  2nd  apple then how? \n",
    "l1=[1,2,3,'Apple',10,20,'Apple',40]\n",
    "#step-1: we want  to find the index\n",
    "i1=l1.index('Apple',i1+1)\n",
    "l1.insert(i1,'cherry')\n",
    "l1"
   ]
  },
  {
   "cell_type": "markdown",
   "id": "1a8d640d-718e-4bf0-872e-86dc409c3874",
   "metadata": {},
   "source": [
    "\n",
    "**pop-remove-del**\n",
    "\n",
    "- pop will remove the item\n",
    "- pop also display the item which is removing\n",
    "- pop will take one argument.index\n",
    "- pop will remove the item based on index\n",
    "- if you dont provide aany index by default it will remove last index or last value\n",
    "- because the defalut index value is -1\n"
   ]
  },
  {
   "cell_type": "code",
   "execution_count": 22,
   "id": "b77e8e27-a44d-4687-abb5-6a3ef84a60ef",
   "metadata": {},
   "outputs": [
    {
     "data": {
      "text/plain": [
       "[1, 2, 3, 'Apple', 10, 20, 'Apple']"
      ]
     },
     "execution_count": 22,
     "metadata": {},
     "output_type": "execute_result"
    }
   ],
   "source": [
    "l1=[1,2,3,'Apple',10,20,'Apple',30]\n",
    "l1.pop()\n",
    "l1"
   ]
  },
  {
   "cell_type": "code",
   "execution_count": 28,
   "id": "9752b4b6-1ba3-440b-83dd-3fc2d289eb4d",
   "metadata": {},
   "outputs": [
    {
     "data": {
      "text/plain": [
       "[1, 2, 3, 10, 20, 'Apple', 30]"
      ]
     },
     "execution_count": 28,
     "metadata": {},
     "output_type": "execute_result"
    }
   ],
   "source": [
    "l1=[1,2,3,'Apple',10,20,'Apple',30]\n",
    "i1=l1.index('Apple')\n",
    "l1.pop(i1)\n",
    "l1"
   ]
  },
  {
   "cell_type": "code",
   "execution_count": 30,
   "id": "157b95c6-ef17-4f87-8b3e-96714ac37e82",
   "metadata": {},
   "outputs": [
    {
     "data": {
      "text/plain": [
       "[1, 2, 3, 'Apple', 10, 20, 30]"
      ]
     },
     "execution_count": 30,
     "metadata": {},
     "output_type": "execute_result"
    }
   ],
   "source": [
    "l1=[1,2,3,'Apple',10,20,'Apple',30]\n",
    "i1=l1.index('Apple')\n",
    "i2=l1.index('Apple',i1+1)\n",
    "l1.pop(i2)\n",
    "l1"
   ]
  },
  {
   "cell_type": "code",
   "execution_count": 32,
   "id": "7d89e353-7916-4df3-8aae-87f7032e58ed",
   "metadata": {},
   "outputs": [
    {
     "data": {
      "text/plain": [
       "[1, 2, 3, 10, 20, 30]"
      ]
     },
     "execution_count": 32,
     "metadata": {},
     "output_type": "execute_result"
    }
   ],
   "source": [
    "l1=[1,2,3,'Apple',10,20,'Apple',30]\n",
    "i1=l1.index('Apple')\n",
    "l1.pop(i1)\n",
    "i2=l1.index('Apple',i1+1)\n",
    "l1.pop(i2)\n",
    "l1"
   ]
  },
  {
   "cell_type": "code",
   "execution_count": 37,
   "id": "e629b86f-f322-459c-845f-51c6f6ec4106",
   "metadata": {},
   "outputs": [
    {
     "data": {
      "text/plain": [
       "[1, 2, 3, 10, 20, 40, 30]"
      ]
     },
     "execution_count": 37,
     "metadata": {},
     "output_type": "execute_result"
    }
   ],
   "source": [
    "l1=[1,2,3,'Apple',10,20,'Apple',40,'Apple',30]\n",
    "i1=l1.index('Apple')\n",
    "l1.pop(i1)\n",
    "i2=l1.index('Apple')\n",
    "l1.pop(i2)\n",
    "i3=l1.index('Apple')\n",
    "l1.pop(i3)\n",
    "l1"
   ]
  },
  {
   "cell_type": "code",
   "execution_count": 61,
   "id": "52368b70-6dba-4229-b271-003d35639e8b",
   "metadata": {},
   "outputs": [
    {
     "data": {
      "text/plain": [
       "'hai how are you im good thank you'"
      ]
     },
     "execution_count": 61,
     "metadata": {},
     "output_type": "execute_result"
    }
   ],
   "source": [
    "str1='hai apple how are you apple im good  apple thank you apple'\n",
    "# o/p= 'hai how are you im good thank you'\n",
    "#split\n",
    "list1=str1.split()\n",
    "count=list1.count('apple')\n",
    "for i in range(count):\n",
    "    i1=list1.index('apple')\n",
    "    list1.pop(i1)\n",
    "' '.join(list1)"
   ]
  },
  {
   "cell_type": "code",
   "execution_count": 53,
   "id": "d7e94f97-cf8e-449d-bace-a1bd31c1a629",
   "metadata": {},
   "outputs": [
    {
     "data": {
      "text/plain": [
       "'hai how are you im good thank you'"
      ]
     },
     "execution_count": 53,
     "metadata": {},
     "output_type": "execute_result"
    }
   ],
   "source": [
    "str1='hai apple how are you apple im good  apple thank you apple'\n",
    "list1=str1.split()\n",
    "count=list1.count('apple')\n",
    "for i in range(count):\n",
    "    i1=list1.index('apple')\n",
    "    list1.pop(i1)\n",
    "' '.join(list1)"
   ]
  },
  {
   "cell_type": "markdown",
   "id": "5f504157-1600-49c1-ac55-797c7d8d4c2e",
   "metadata": {},
   "source": [
    "**remove**\n"
   ]
  },
  {
   "cell_type": "markdown",
   "id": "38c3a769-d279-4381-b2d9-b57c980313e4",
   "metadata": {},
   "source": [
    "- pop will take index \n",
    "- remove will take value\n",
    "- remove will delete the find occurance of elements"
   ]
  },
  {
   "cell_type": "code",
   "execution_count": 64,
   "id": "dbac093f-247d-4458-ad0f-034984efaf15",
   "metadata": {},
   "outputs": [
    {
     "data": {
      "text/plain": [
       "[1, 2, 3, 10, 20, 40, 30]"
      ]
     },
     "execution_count": 64,
     "metadata": {},
     "output_type": "execute_result"
    }
   ],
   "source": [
    "l1=[1,2,3,'Apple',10,20,'Apple',40,'Apple',30]\n",
    "l1.remove('Apple')\n",
    "l1\n",
    "l1.remove('Apple')\n",
    "l1\n",
    "l1.remove('Apple')\n",
    "l1"
   ]
  },
  {
   "cell_type": "code",
   "execution_count": 67,
   "id": "ecf51d23-0c89-4b8e-9b8f-caf7fd52d3d3",
   "metadata": {},
   "outputs": [
    {
     "data": {
      "text/plain": [
       "'hai how are you im good thank you'"
      ]
     },
     "execution_count": 67,
     "metadata": {},
     "output_type": "execute_result"
    }
   ],
   "source": [
    "str1='hai apple how are you apple im good  apple thank you apple'\n",
    "list1=str1.split()\n",
    "count=list1.count('apple')\n",
    "for i in range(count):\n",
    "    list1.remove('apple')\n",
    "' '.join(list1)"
   ]
  },
  {
   "cell_type": "markdown",
   "id": "d355d86b-20a2-4392-b52c-4cea9468b13b",
   "metadata": {},
   "source": [
    "**del**"
   ]
  },
  {
   "cell_type": "code",
   "execution_count": 68,
   "id": "eb1e0893-ac92-4fcd-a582-32d681021e4d",
   "metadata": {},
   "outputs": [
    {
     "data": {
      "text/plain": [
       "[1, 2, 3, 10, 20, 'Apple', 40, 'Apple', 30]"
      ]
     },
     "execution_count": 68,
     "metadata": {},
     "output_type": "execute_result"
    }
   ],
   "source": [
    "l1=[1,2,3,'Apple',10,20,'Apple',40,'Apple',30]\n",
    "del(l1[3])\n",
    "l1"
   ]
  },
  {
   "cell_type": "code",
   "execution_count": 69,
   "id": "d1b9b10a-fab9-424e-b4f5-90edf6a0c827",
   "metadata": {},
   "outputs": [],
   "source": [
    "l1.reverse()\n"
   ]
  },
  {
   "cell_type": "code",
   "execution_count": 70,
   "id": "2c9c670d-07a1-49e8-92a4-f49e8b8653d7",
   "metadata": {},
   "outputs": [
    {
     "data": {
      "text/plain": [
       "[30, 'Apple', 40, 'Apple', 20, 10, 3, 2, 1]"
      ]
     },
     "execution_count": 70,
     "metadata": {},
     "output_type": "execute_result"
    }
   ],
   "source": [
    "l1"
   ]
  },
  {
   "cell_type": "markdown",
   "id": "91407daa-327b-4ae6-b4c3-cb9480c7db3e",
   "metadata": {},
   "source": [
    "- representation \n",
    "- string\n",
    "- len\n",
    "- type \n"
   ]
  },
  {
   "cell_type": "code",
   "execution_count": null,
   "id": "544c6922-2d4d-4b60-abd4-c3c381434003",
   "metadata": {},
   "outputs": [],
   "source": [
    " "
   ]
  }
 ],
 "metadata": {
  "kernelspec": {
   "display_name": "Python 3 (ipykernel)",
   "language": "python",
   "name": "python3"
  },
  "language_info": {
   "codemirror_mode": {
    "name": "ipython",
    "version": 3
   },
   "file_extension": ".py",
   "mimetype": "text/x-python",
   "name": "python",
   "nbconvert_exporter": "python",
   "pygments_lexer": "ipython3",
   "version": "3.11.7"
  }
 },
 "nbformat": 4,
 "nbformat_minor": 5
}
