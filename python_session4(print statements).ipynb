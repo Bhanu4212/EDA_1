{
 "cells": [
  {
   "cell_type": "code",
   "execution_count": 2,
   "id": "48297141-2376-43c9-a7b1-b2bfe7f42266",
   "metadata": {},
   "outputs": [
    {
     "name": "stdout",
     "output_type": "stream",
     "text": [
      "10 10.5 bhanu\n"
     ]
    }
   ],
   "source": [
    "print(10,10.5,'bhanu')"
   ]
  },
  {
   "cell_type": "code",
   "execution_count": 3,
   "id": "b1dd3d33-412b-46f6-b8c2-29071c1f2ec0",
   "metadata": {},
   "outputs": [
    {
     "name": "stdout",
     "output_type": "stream",
     "text": [
      "10 20 30 10.5\n",
      "bhanu\n",
      "100.5\n"
     ]
    }
   ],
   "source": [
    "print(10,20,30,10.5)\n",
    "print('bhanu')\n",
    "print(100.5)"
   ]
  },
  {
   "cell_type": "code",
   "execution_count": 4,
   "id": "b1a93560-6f77-456b-96fe-97bf4400ff91",
   "metadata": {},
   "outputs": [
    {
     "name": "stdout",
     "output_type": "stream",
     "text": [
      "100\n"
     ]
    }
   ],
   "source": [
    "n1=100\n",
    "print(n1)"
   ]
  },
  {
   "cell_type": "code",
   "execution_count": 5,
   "id": "c4ce82d6-5c8a-4a42-a5da-3896db67c931",
   "metadata": {},
   "outputs": [
    {
     "name": "stdout",
     "output_type": "stream",
     "text": [
      "300\n"
     ]
    }
   ],
   "source": [
    "n1=300\n",
    "n2=400\n",
    "n2=n1\n",
    "print(n1)"
   ]
  },
  {
   "cell_type": "code",
   "execution_count": 6,
   "id": "4b7701de-4ad0-40cc-bfb9-19f749ab0920",
   "metadata": {},
   "outputs": [
    {
     "name": "stdout",
     "output_type": "stream",
     "text": [
      "400\n"
     ]
    }
   ],
   "source": [
    "n1=300\n",
    "n2=400\n",
    "n1=n2\n",
    "print(n1)"
   ]
  },
  {
   "cell_type": "code",
   "execution_count": 13,
   "id": "75c9c62e-ddfa-47a2-b73d-a60eeeba6468",
   "metadata": {},
   "outputs": [
    {
     "name": "stdout",
     "output_type": "stream",
     "text": [
      "the addition of10 and 20 is 30\n"
     ]
    }
   ],
   "source": [
    "a=10\n",
    "b=20\n",
    "c=a+b\n",
    "print(\"the addition of{} and {} is {}\" .format( a,b,c)) #formate method"
   ]
  },
  {
   "cell_type": "code",
   "execution_count": 25,
   "id": "366f25bc-5dc4-4269-8eff-a53542011cf1",
   "metadata": {},
   "outputs": [
    {
     "name": "stdout",
     "output_type": "stream",
     "text": [
      "my name is Bhanu and im 23 years old and im from hyderabad my dream company is microsoft\n"
     ]
    }
   ],
   "source": [
    "name = 'Bhanu'\n",
    "age=23\n",
    "place= 'hyderabad'\n",
    "company='microsoft'\n",
    "print(\"my name is {} and im {} years old and im from {} my dream company is {}\" .format( name,age,place,company))"
   ]
  },
  {
   "cell_type": "code",
   "execution_count": 32,
   "id": "928b56fa-c363-4aa7-b4ec-18212682bb01",
   "metadata": {},
   "outputs": [
    {
     "name": "stdout",
     "output_type": "stream",
     "text": [
      "the addition of (a) and (b) is (c)\n"
     ]
    }
   ],
   "source": [
    "a=100\n",
    "b=200\n",
    "print(F\"the addition of (a) and (b) is (c)\")"
   ]
  },
  {
   "cell_type": "code",
   "execution_count": 5,
   "id": "6d7a533e-0333-4946-ac11-ba2c48386353",
   "metadata": {},
   "outputs": [
    {
     "name": "stdout",
     "output_type": "stream",
     "text": [
      "average of 100 and 200 is: 150.0\n",
      "average of 100 and 200  is:(average)\n"
     ]
    }
   ],
   "source": [
    "num1=100\n",
    "num2=200\n",
    "average=(num1+num2)/2\n",
    "# the average of 100 and 200 is:150\n",
    "print(\"average of {} and {} is: {}\".format(num1,num2,average))\n",
    "print(f\"average of {num1} and {num2}  is:(average)\")"
   ]
  },
  {
   "cell_type": "raw",
   "id": "38afced4-addb-41cf-b4bf-aad8457cd357",
   "metadata": {},
   "source": [
    "(10+2)/2\n",
    "10+2/2"
   ]
  },
  {
   "cell_type": "code",
   "execution_count": 13,
   "id": "c1f9b4be-1e1a-4801-a588-9fa1a11afa37",
   "metadata": {},
   "outputs": [
    {
     "name": "stdout",
     "output_type": "stream",
     "text": [
      "the area of circle is:314.0\n",
      "the area of circle is:314.0\n"
     ]
    }
   ],
   "source": [
    "radius=10\n",
    "pi_value=3.14\n",
    "area=pi_value*radius*radius\n",
    "print(\"the area of circle is:{}\".format(area))\n",
    "print(f\"the area of circle is:{area}\")"
   ]
  },
  {
   "cell_type": "code",
   "execution_count": 10,
   "id": "492d83da-b905-4662-963e-a90423ece7c9",
   "metadata": {},
   "outputs": [
    {
     "name": "stdout",
     "output_type": "stream",
     "text": [
      "the area of triangle is: 50.0\n"
     ]
    }
   ],
   "source": [
    "#take the breadth of triangle\n",
    "# take the height of triangle\n",
    "#area of the triangle=1/2*base*height\n",
    "\n",
    "base=10\n",
    "height=10\n",
    "area=0.5*base*height\n",
    "print(f\"the area of triangle is: {area}\")"
   ]
  },
  {
   "cell_type": "code",
   "execution_count": 27,
   "id": "94d3b1a0-b6e0-4f55-90e9-913db887eae1",
   "metadata": {},
   "outputs": [
    {
     "name": "stdout",
     "output_type": "stream",
     "text": [
      "the total bill is:1440\n"
     ]
    }
   ],
   "source": [
    "# take the bill amount\n",
    "# take the tip percentage\n",
    "# calculate tip_amount\n",
    "# claculate the total bill\n",
    "# print the total bill\n",
    "\n",
    "bill_amount=1200\n",
    "tip_persentage=20\n",
    "tip_amount= 240\n",
    "total_bill=bill_amount+tip_amount\n",
    "print(f\"the total bill is:{total_bill}\")\n"
   ]
  },
  {
   "cell_type": "markdown",
   "id": "e20384bd-4bd9-4401-aaaa-fe53d1467e31",
   "metadata": {},
   "source": [
    "$END$"
   ]
  },
  {
   "cell_type": "code",
   "execution_count": 21,
   "id": "71d6aabd-ea88-4fc9-b4c3-c17dec35015c",
   "metadata": {},
   "outputs": [
    {
     "name": "stdout",
     "output_type": "stream",
     "text": [
      "10 20\n"
     ]
    }
   ],
   "source": [
    "print(10,end=' ')\n",
    "print(20)"
   ]
  },
  {
   "cell_type": "code",
   "execution_count": 22,
   "id": "5bb28f37-8207-45c5-b098-a3c882c5ae4e",
   "metadata": {},
   "outputs": [
    {
     "name": "stdout",
     "output_type": "stream",
     "text": [
      "10 20&30\n"
     ]
    }
   ],
   "source": [
    "print(10,end=' ')\n",
    "print(20,end='&')\n",
    "print(30)"
   ]
  },
  {
   "cell_type": "markdown",
   "id": "1f9eb7f8-62ed-4c99-87b1-902aeaa2156b",
   "metadata": {},
   "source": [
    "$sep$\n",
    "\n",
    "- seperate the multiple values in a single print statement"
   ]
  },
  {
   "cell_type": "code",
   "execution_count": 24,
   "id": "452aaa98-5eef-4598-8256-f3ab092f831d",
   "metadata": {},
   "outputs": [
    {
     "name": "stdout",
     "output_type": "stream",
     "text": [
      "10&20&30\n"
     ]
    }
   ],
   "source": [
    "print(10,20,30,sep='&')\n",
    "\n",
    "#10&20&30"
   ]
  },
  {
   "cell_type": "code",
   "execution_count": 25,
   "id": "b82f2e10-b939-4e4a-ac13-df728893ccdd",
   "metadata": {},
   "outputs": [
    {
     "name": "stdout",
     "output_type": "stream",
     "text": [
      "10---->20---->30\n"
     ]
    }
   ],
   "source": [
    "print(10,20,30,sep='---->')"
   ]
  },
  {
   "cell_type": "code",
   "execution_count": 28,
   "id": "7e538cf9-ce72-49d9-a7d8-5065fabda3bf",
   "metadata": {},
   "outputs": [
    {
     "name": "stdout",
     "output_type": "stream",
     "text": [
      "the addition of 5 and 3 is:8.\n"
     ]
    }
   ],
   "source": [
    "print(f\"the addition of {5} and {3} is:{5+3}.\")"
   ]
  },
  {
   "cell_type": "code",
   "execution_count": 29,
   "id": "3a2ea7fb-208b-491e-ab90-d00ac13acd6f",
   "metadata": {},
   "outputs": [
    {
     "name": "stdout",
     "output_type": "stream",
     "text": [
      "the addition of 5 and 3 is8.\n"
     ]
    }
   ],
   "source": [
    "print(\"the addition of {} and {} is{}.\".format(5,3,5+3))"
   ]
  },
  {
   "cell_type": "code",
   "execution_count": null,
   "id": "12f8c0b5-f4df-4cc8-b4ce-ebfdc010b497",
   "metadata": {},
   "outputs": [],
   "source": [
    "print(the addition)"
   ]
  }
 ],
 "metadata": {
  "kernelspec": {
   "display_name": "Python 3 (ipykernel)",
   "language": "python",
   "name": "python3"
  },
  "language_info": {
   "codemirror_mode": {
    "name": "ipython",
    "version": 3
   },
   "file_extension": ".py",
   "mimetype": "text/x-python",
   "name": "python",
   "nbconvert_exporter": "python",
   "pygments_lexer": "ipython3",
   "version": "3.11.7"
  }
 },
 "nbformat": 4,
 "nbformat_minor": 5
}
