{
 "cells": [
  {
   "cell_type": "markdown",
   "id": "20fd7379-158a-41c3-b3e8-95b07b2c1c92",
   "metadata": {},
   "source": [
    "**Lamda function**\n",
    "\n",
    "- Lamda function represents function concept\n",
    "- but we can write in a single line\n",
    "- like list comprehension, lambda function similar only\n",
    "- it will decrease the time complexitty\n",
    "- always remember if we use many for loops or many conditions using multiple line, the time complexity will increase"
   ]
  },
  {
   "cell_type": "markdown",
   "id": "967b78bb-53e7-4924-8aa1-643cf08545ab",
   "metadata": {},
   "source": [
    "**it will use a keyword lambda**\n",
    "\n",
    "    #Lambda <argument>: <expression>"
   ]
  },
  {
   "cell_type": "code",
   "execution_count": 1,
   "id": "3990ae61-2199-4066-91b3-c560fcee530a",
   "metadata": {},
   "outputs": [
    {
     "data": {
      "text/plain": [
       "20"
      ]
     },
     "execution_count": 1,
     "metadata": {},
     "output_type": "execute_result"
    }
   ],
   "source": [
    "def summ(n):\n",
    "    return(n+10)\n",
    "summ(10)"
   ]
  },
  {
   "cell_type": "markdown",
   "id": "cdbc5433-e9da-45d9-868b-477f81709645",
   "metadata": {},
   "source": [
    "$patren-1$\n",
    "\n",
    "**function with only one argument**\n",
    "- function name\n",
    "- argument name\n",
    "- return output    "
   ]
  },
  {
   "cell_type": "code",
   "execution_count": 2,
   "id": "5d9af50b-2aba-4cad-a5b0-6fc9bec5827a",
   "metadata": {},
   "outputs": [
    {
     "data": {
      "text/plain": [
       "20"
      ]
     },
     "execution_count": 2,
     "metadata": {},
     "output_type": "execute_result"
    }
   ],
   "source": [
    "#syntax : <function name>= Lambda<argument name>: <return output>\n",
    "\n",
    "def summ(n):\n",
    "    return(n+10)\n",
    "summ(10)\n",
    "\n",
    "#function name= summ\n",
    "# argument name= n\n",
    "# return output = n+10\n"
   ]
  },
  {
   "cell_type": "code",
   "execution_count": 3,
   "id": "f6866df2-69f4-43d5-b9d7-b2e77e16f862",
   "metadata": {},
   "outputs": [
    {
     "data": {
      "text/plain": [
       "110"
      ]
     },
     "execution_count": 3,
     "metadata": {},
     "output_type": "execute_result"
    }
   ],
   "source": [
    "summ=lambda n:n+10\n",
    "summ(100)"
   ]
  },
  {
   "cell_type": "code",
   "execution_count": 4,
   "id": "05297298-c114-4434-8b6e-7be532010e98",
   "metadata": {},
   "outputs": [
    {
     "data": {
      "text/plain": [
       "1000"
      ]
     },
     "execution_count": 4,
     "metadata": {},
     "output_type": "execute_result"
    }
   ],
   "source": [
    "def cube(n):\n",
    "    return(n**3)\n",
    "cube(10)"
   ]
  },
  {
   "cell_type": "code",
   "execution_count": 5,
   "id": "d4f22d4c-d6fd-44e7-93e5-6162a7aa67bd",
   "metadata": {},
   "outputs": [
    {
     "data": {
      "text/plain": [
       "1000"
      ]
     },
     "execution_count": 5,
     "metadata": {},
     "output_type": "execute_result"
    }
   ],
   "source": [
    "cube= lambda n:n**3\n",
    "cube(10)"
   ]
  },
  {
   "cell_type": "markdown",
   "id": "395fb2e4-4d8f-4949-a73b-9000fa2d4542",
   "metadata": {},
   "source": [
    "$pattren-3$\n",
    "\n",
    "**two arguments**"
   ]
  },
  {
   "cell_type": "code",
   "execution_count": 6,
   "id": "059767c7-3dfa-4cee-8f5e-39c2ac7f2064",
   "metadata": {},
   "outputs": [
    {
     "data": {
      "text/plain": [
       "100"
      ]
     },
     "execution_count": 6,
     "metadata": {},
     "output_type": "execute_result"
    }
   ],
   "source": [
    "#syntax: ,function name>= lamda<arg1>,\n",
    "def add(a,b):\n",
    "    return(a+b)\n",
    "add(50,50)\n",
    "\n",
    "#function name: add\n",
    "# arg1=a\n",
    "# arg2=b\n",
    "# return = a+b\n"
   ]
  },
  {
   "cell_type": "code",
   "execution_count": 7,
   "id": "b403a57a-1084-4f23-806a-cc82a9223b48",
   "metadata": {},
   "outputs": [
    {
     "data": {
      "text/plain": [
       "110"
      ]
     },
     "execution_count": 7,
     "metadata": {},
     "output_type": "execute_result"
    }
   ],
   "source": [
    "add=lambda n1,n2: n1+n2\n",
    "add(60,50)"
   ]
  },
  {
   "cell_type": "code",
   "execution_count": 8,
   "id": "53710262-80f4-4fd1-b09a-0a4b4456a28e",
   "metadata": {},
   "outputs": [
    {
     "data": {
      "text/plain": [
       "43.33"
      ]
     },
     "execution_count": 8,
     "metadata": {},
     "output_type": "execute_result"
    }
   ],
   "source": [
    "average=lambda n1,n2,n3: round((n1+n2+n3)/3,2)\n",
    "average(60,50,20)"
   ]
  },
  {
   "cell_type": "markdown",
   "id": "eb72a597-c2de-4b7f-86cb-344b7015dda2",
   "metadata": {},
   "source": [
    "$pattren-3$\n",
    "\n",
    "\n",
    "**default argument**"
   ]
  },
  {
   "cell_type": "code",
   "execution_count": 9,
   "id": "3e84e736-3372-45df-b65a-1af2ee50f76c",
   "metadata": {},
   "outputs": [
    {
     "data": {
      "text/plain": [
       "103.33"
      ]
     },
     "execution_count": 9,
     "metadata": {},
     "output_type": "execute_result"
    }
   ],
   "source": [
    "average=lambda n1,n2,n3=200: round((n1+n2+n3)/3,2)\n",
    "average(60,50)"
   ]
  },
  {
   "cell_type": "markdown",
   "id": "de97e75b-8a29-41e4-9e4b-47b71a0ef2d9",
   "metadata": {},
   "source": [
    "$pattren-4$\n",
    "\n",
    "\n",
    "**if-else**"
   ]
  },
  {
   "cell_type": "code",
   "execution_count": 10,
   "id": "99f1c461-5c62-43c5-a31a-8f63ab290888",
   "metadata": {},
   "outputs": [
    {
     "data": {
      "text/plain": [
       "20"
      ]
     },
     "execution_count": 10,
     "metadata": {},
     "output_type": "execute_result"
    }
   ],
   "source": [
    "def max(a,b):\n",
    "    if a>b:\n",
    "        return(a)\n",
    "    else:\n",
    "        return(b)\n",
    "max(10,20)"
   ]
  },
  {
   "cell_type": "code",
   "execution_count": 11,
   "id": "eaaeb24a-1248-4a21-8d10-2afd5e5724c8",
   "metadata": {},
   "outputs": [
    {
     "data": {
      "text/plain": [
       "30"
      ]
     },
     "execution_count": 11,
     "metadata": {},
     "output_type": "execute_result"
    }
   ],
   "source": [
    "# syntax : function name + lambda <arg1>,<arg2>: <list comprehension>\n",
    "# syntax ; function name= lambda <arg1>,<arg2>: <if_out><if_con><else><else_out>\n",
    "maxx=lambda a,b: a if a>b else b\n",
    "maxx(30,20)"
   ]
  },
  {
   "cell_type": "markdown",
   "id": "ecfde448-1d6d-456a-a915-a165605e9869",
   "metadata": {},
   "source": [
    "$pattern-5$\n",
    "\n",
    "**using list**"
   ]
  },
  {
   "cell_type": "code",
   "execution_count": 12,
   "id": "971dd8c8-ae81-46f2-aba0-0b91c2b6df75",
   "metadata": {},
   "outputs": [
    {
     "data": {
      "text/plain": [
       "['Hyd', 'Chennai', 'Mumbai']"
      ]
     },
     "execution_count": 12,
     "metadata": {},
     "output_type": "execute_result"
    }
   ],
   "source": [
    "l=['hyd','chennai','mumbai']\n",
    "op=[]\n",
    "for i in l:\n",
    "    op.append(i.capitalize())\n",
    "op"
   ]
  },
  {
   "cell_type": "code",
   "execution_count": 13,
   "id": "5661825d-963c-46d8-8390-fe5fd68c0c74",
   "metadata": {},
   "outputs": [],
   "source": [
    "#lambda <variable>:<op>\n",
    "#lambda <variable>:<op>,<iterator>\n"
   ]
  },
  {
   "cell_type": "code",
   "execution_count": 14,
   "id": "e2ba7651-dbf5-4eb3-a4fb-2f13eb40e9e3",
   "metadata": {},
   "outputs": [
    {
     "ename": "SyntaxError",
     "evalue": "invalid syntax (499304608.py, line 1)",
     "output_type": "error",
     "traceback": [
      "\u001b[1;36m  Cell \u001b[1;32mIn[14], line 1\u001b[1;36m\u001b[0m\n\u001b[1;33m    **map**\u001b[0m\n\u001b[1;37m    ^\u001b[0m\n\u001b[1;31mSyntaxError\u001b[0m\u001b[1;31m:\u001b[0m invalid syntax\n"
     ]
    }
   ],
   "source": [
    "**map**\n",
    "\n",
    "- function and iterator are available now\n",
    "-"
   ]
  },
  {
   "cell_type": "code",
   "execution_count": null,
   "id": "e63afeb9-4458-4ce1-981a-e015f88898be",
   "metadata": {},
   "outputs": [],
   "source": [
    "lambda i: i.capitalize(),l"
   ]
  },
  {
   "cell_type": "code",
   "execution_count": null,
   "id": "c3f44a6e-a05e-442d-9813-82536badad7a",
   "metadata": {},
   "outputs": [],
   "source": [
    "l=['hyd','chennai','mumbai']\n",
    "map(lambda i: i.capitalize(),l)"
   ]
  },
  {
   "cell_type": "code",
   "execution_count": null,
   "id": "ffc274ef-5e73-4806-bc9c-d0e4696072de",
   "metadata": {},
   "outputs": [],
   "source": [
    "l=['hyd','chennai','mumbai']\n",
    "list(map(lambda i: i.capitalize(),l))"
   ]
  },
  {
   "cell_type": "code",
   "execution_count": null,
   "id": "17d0c041-f192-47d2-84da-3883d969bf81",
   "metadata": {},
   "outputs": [],
   "source": [
    "l=['hyd','chennai','mumbai']\n",
    "tuple(map(lambda i: i.capitalize(),l))"
   ]
  },
  {
   "cell_type": "code",
   "execution_count": null,
   "id": "30420028-9d27-4958-b0d3-349943276542",
   "metadata": {},
   "outputs": [],
   "source": [
    "# step-1: Write your normal expression\n",
    "#        ex: lambda<var>; <op>===>lambda i: i.capitalize()\n",
    "# step2: add the itterator\n",
    "#        ex; map(lambda"
   ]
  },
  {
   "cell_type": "markdown",
   "id": "c9e1380a-676e-419d-a0eb-b449ce832dbf",
   "metadata": {},
   "source": [
    "- case:-1  Function call with one arguments\n",
    "    - lambda arguments : Exression\n",
    "    - lambda arguments: return arguments\n",
    "- case-1: Function call with two arguments\n",
    "    - lambda arg1,arg2: exression\n",
    "    - lambda var1,var2: return output\n",
    "- case-3: Functio call with default arguments\n",
    "    - lambda arg1,arg2=500:exression\n",
    "    - lambda var1,var2=500: return output\n",
    "- case-4: Function call with two arguments and if-else statement\n",
    "    - lambda arg1,arg2:exression\n",
    "    - lambda var1,var2: if_output  if_con  else els_op return for loop\n",
    "- case-5: lambda operation using list\n",
    "  - lambda arg: expreesion,itterator\n",
    "  - map(lambda var : operation list)\n",
    "  - list(map(lambda var : operation list))\n",
    "\n"
   ]
  },
  {
   "cell_type": "code",
   "execution_count": null,
   "id": "8bdbbc7d-cd77-4dc2-ab33-16919379d850",
   "metadata": {},
   "outputs": [],
   "source": [
    "l=['hyd','chennai','mumbai']\n",
    "#'HYD','CHENNAI','MUMBAI'\n",
    "for i in l:\n",
    "    print(i.upper())\n"
   ]
  },
  {
   "cell_type": "code",
   "execution_count": null,
   "id": "c890cc44-cce1-4f6d-a3a0-a34ff9845888",
   "metadata": {},
   "outputs": [],
   "source": [
    "l=['hyd','chennai','mumbai']\n",
    "#'HYD','CHENNAI','MUMBAI'\n",
    "tuple(map(lambda i: i.upper(),l))"
   ]
  },
  {
   "cell_type": "code",
   "execution_count": null,
   "id": "db8003be-7cce-4f43-b6ad-270bb98c94e3",
   "metadata": {},
   "outputs": [],
   "source": [
    "l=['hyd','che#nnai','mum#bai','blr']\n",
    "#'HYD','CHENNAI','MUMBAI'\n",
    "for i in l:\n",
    "    if '#' in i:\n",
    "        print(i)\n",
    "        "
   ]
  },
  {
   "cell_type": "code",
   "execution_count": null,
   "id": "1c43a641-fac8-47cc-9684-9f467614a775",
   "metadata": {},
   "outputs": [],
   "source": [
    "tuple(map(lambda i: if '#' in i,l))\n",
    "\n",
    "#mistake-1: tuple(map(lambda i: if '#' in i,l))\n",
    "# do not write if   condition in lambda function\n"
   ]
  },
  {
   "cell_type": "code",
   "execution_count": null,
   "id": "22d05bbb-dba7-4976-8948-4b9255bd3596",
   "metadata": {},
   "outputs": [],
   "source": [
    "tuple(map(lambda i: '#' in i,l))"
   ]
  },
  {
   "cell_type": "markdown",
   "id": "a87f7c6b-b28f-4bf6-977f-6b240be73e37",
   "metadata": {},
   "source": [
    "**filter**"
   ]
  },
  {
   "cell_type": "code",
   "execution_count": 29,
   "id": "6ac35858-f499-432d-8b17-dac7c5672b93",
   "metadata": {},
   "outputs": [
    {
     "data": {
      "text/plain": [
       "['__class__',\n",
       " '__delattr__',\n",
       " '__dir__',\n",
       " '__doc__',\n",
       " '__eq__',\n",
       " '__format__',\n",
       " '__ge__',\n",
       " '__getattribute__',\n",
       " '__getstate__',\n",
       " '__gt__',\n",
       " '__hash__',\n",
       " '__init__',\n",
       " '__init_subclass__',\n",
       " '__iter__',\n",
       " '__le__',\n",
       " '__lt__',\n",
       " '__ne__',\n",
       " '__new__',\n",
       " '__next__',\n",
       " '__reduce__',\n",
       " '__reduce_ex__',\n",
       " '__repr__',\n",
       " '__setattr__',\n",
       " '__sizeof__',\n",
       " '__str__',\n",
       " '__subclasshook__']"
      ]
     },
     "execution_count": 29,
     "metadata": {},
     "output_type": "execute_result"
    }
   ],
   "source": [
    "dir(filter)"
   ]
  },
  {
   "cell_type": "code",
   "execution_count": null,
   "id": "c45e0f99-44af-4cda-912c-7661d8576dec",
   "metadata": {},
   "outputs": [],
   "source": [
    "tuple(filter(lambda i: '#' in i,l))"
   ]
  },
  {
   "cell_type": "code",
   "execution_count": null,
   "id": "60bad6bb-3f44-4671-b8a7-46f2772afb0e",
   "metadata": {},
   "outputs": [],
   "source": [
    "#number=[1,3,2,7,6]\n",
    "#op=2,6\n",
    "k=[1,3,2,7,6]\n",
    "tuple(filter(lambda i: i%2==0,k))"
   ]
  },
  {
   "cell_type": "code",
   "execution_count": null,
   "id": "767daaa7-2ff3-48e3-8574-53b40fbca90f",
   "metadata": {},
   "outputs": [],
   "source": [
    "l1=[1,2,3,4,5]\n",
    "#method-1\n",
    "#summ(l1)\n",
    "#method-2\n",
    "summ=0\n",
    "for i in l1:\n",
    "    summ=summ+1\n",
    "print(summ)\n"
   ]
  },
  {
   "cell_type": "code",
   "execution_count": null,
   "id": "c2c27f3c-c71a-43fc-a572-6f67be203e0f",
   "metadata": {},
   "outputs": [],
   "source": [
    "filter(lambda i,summ: summ+i,l1)"
   ]
  },
  {
   "cell_type": "code",
   "execution_count": null,
   "id": "b96de27b-bdf9-4252-b328-170fc4edc85e",
   "metadata": {},
   "outputs": [],
   "source": [
    "reduce(lambda i,summ: summ+i,l1)"
   ]
  },
  {
   "cell_type": "code",
   "execution_count": null,
   "id": "cfd9e288-9f21-4b88-b42a-73185d032d5c",
   "metadata": {},
   "outputs": [],
   "source": [
    "l1=[1,2,3,4,5]\n",
    "max(l1)\n",
    "min(l1)\n",
    "len(l1)\n",
    "sum(l1)"
   ]
  },
  {
   "cell_type": "code",
   "execution_count": null,
   "id": "85c07cbc-0931-43b1-9a8d-a64d03b45250",
   "metadata": {},
   "outputs": [],
   "source": [
    "**reduce**\n",
    "- All inbuilt function can acheive by Reduce\n",
    "- Reduce is available  from functiontools package\n",
    "- level-1: reduce(lambda i,summ: summ+i,l1)\n",
    "- level-2: filter (lambda i,summ: summ+i,l1,intial_value)\n",
    "- for \n"
   ]
  },
  {
   "cell_type": "code",
   "execution_count": null,
   "id": "b4824151-eb49-45c6-967c-5d790179b35c",
   "metadata": {},
   "outputs": [],
   "source": [
    "import functools"
   ]
  },
  {
   "cell_type": "code",
   "execution_count": null,
   "id": "e6ac7e61-a41f-47c0-923d-56e9254881b6",
   "metadata": {},
   "outputs": [],
   "source": [
    "dir(functools)"
   ]
  },
  {
   "cell_type": "code",
   "execution_count": null,
   "id": "04238357-1d69-4eee-be83-2ff9d25d9d14",
   "metadata": {},
   "outputs": [],
   "source": [
    "l1=[1,2,3,4,5]\n",
    "functools.reduce(lambda i,summ: summ+i,l1)"
   ]
  },
  {
   "cell_type": "code",
   "execution_count": 22,
   "id": "ebf1582c-8b13-44eb-ad7f-0de72e8838e6",
   "metadata": {},
   "outputs": [
    {
     "data": {
      "text/plain": [
       "15"
      ]
     },
     "execution_count": 22,
     "metadata": {},
     "output_type": "execute_result"
    }
   ],
   "source": [
    "\n",
    "from functools import reduce \n",
    "l1=[1,2,3,4,5]\n",
    "reduce(lambda summ,i:summ+i,l1)"
   ]
  },
  {
   "cell_type": "code",
   "execution_count": 17,
   "id": "7174ba58-2b47-47ae-b92c-4945bba7649b",
   "metadata": {},
   "outputs": [
    {
     "data": {
      "text/plain": [
       "15"
      ]
     },
     "execution_count": 17,
     "metadata": {},
     "output_type": "execute_result"
    }
   ],
   "source": [
    "import functools as ft\n",
    "l1=[1,2,3,4,5]\n",
    "ft.reduce(lambda summ,i:summ+i,l1)"
   ]
  },
  {
   "cell_type": "code",
   "execution_count": 19,
   "id": "3c5be7e9-024a-411f-87bd-6a43fa840661",
   "metadata": {},
   "outputs": [
    {
     "data": {
      "text/plain": [
       "20"
      ]
     },
     "execution_count": 19,
     "metadata": {},
     "output_type": "execute_result"
    }
   ],
   "source": [
    "import functools as ft\n",
    "l1=[1,2,3,4,5]\n",
    "ft.reduce(lambda summ,i:summ+i,l1,5)"
   ]
  },
  {
   "cell_type": "code",
   "execution_count": 23,
   "id": "f5ba83cd-b884-4dfb-9607-672ca0d4e19a",
   "metadata": {},
   "outputs": [
    {
     "data": {
      "text/plain": [
       "120"
      ]
     },
     "execution_count": 23,
     "metadata": {},
     "output_type": "execute_result"
    }
   ],
   "source": [
    "ft.reduce(lambda mul,i:mul*i,l1)"
   ]
  },
  {
   "cell_type": "code",
   "execution_count": 34,
   "id": "ca78128c-78c2-4e33-b146-c07bd51c2e7c",
   "metadata": {},
   "outputs": [
    {
     "data": {
      "text/plain": [
       "False"
      ]
     },
     "execution_count": 34,
     "metadata": {},
     "output_type": "execute_result"
    }
   ],
   "source": [
    "import functools as ft\n",
    "l1=[1,2,3,4,5]\n",
    "ft.reduce(lambda x,y:x>y ,l1)"
   ]
  },
  {
   "cell_type": "code",
   "execution_count": 32,
   "id": "25d8a2d7-69fa-4037-acf4-e7b25a706f74",
   "metadata": {},
   "outputs": [],
   "source": [
    "import functools"
   ]
  },
  {
   "cell_type": "code",
   "execution_count": 33,
   "id": "2ce6dd76-a411-4525-af93-05c113200c55",
   "metadata": {},
   "outputs": [
    {
     "data": {
      "text/plain": [
       "<module 'functools' from 'C:\\\\Users\\\\bhanu\\\\anaconda3\\\\Lib\\\\functools.py'>"
      ]
     },
     "execution_count": 33,
     "metadata": {},
     "output_type": "execute_result"
    }
   ],
   "source": [
    "functools"
   ]
  },
  {
   "cell_type": "code",
   "execution_count": null,
   "id": "2133a5bf-b82c-40dc-8df4-415e5f844a22",
   "metadata": {},
   "outputs": [],
   "source": []
  }
 ],
 "metadata": {
  "kernelspec": {
   "display_name": "Python 3 (ipykernel)",
   "language": "python",
   "name": "python3"
  },
  "language_info": {
   "codemirror_mode": {
    "name": "ipython",
    "version": 3
   },
   "file_extension": ".py",
   "mimetype": "text/x-python",
   "name": "python",
   "nbconvert_exporter": "python",
   "pygments_lexer": "ipython3",
   "version": "3.11.7"
  }
 },
 "nbformat": 4,
 "nbformat_minor": 5
}
