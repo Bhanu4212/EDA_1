{
 "cells": [
  {
   "cell_type": "markdown",
   "id": "daa88d95-f8dd-4c64-b7c4-a030bdaecff9",
   "metadata": {},
   "source": [
    "## variables \n",
    "- variables are used to store the values \n",
    "- and the values can be change"
   ]
  },
  {
   "cell_type": "code",
   "execution_count": 2,
   "id": "d4f8ee87-c8fe-4f69-aaa7-49df6505b522",
   "metadata": {},
   "outputs": [
    {
     "data": {
      "text/plain": [
       "100"
      ]
     },
     "execution_count": 2,
     "metadata": {},
     "output_type": "execute_result"
    }
   ],
   "source": [
    "number=100  # vlaue 100 stored in variable in 'number'\n",
    "number       # shift+enter"
   ]
  },
  {
   "cell_type": "code",
   "execution_count": 3,
   "id": "1bdead22-f9c7-4e26-b10b-3362db6855a9",
   "metadata": {},
   "outputs": [
    {
     "data": {
      "text/plain": [
       "200"
      ]
     },
     "execution_count": 3,
     "metadata": {},
     "output_type": "execute_result"
    }
   ],
   "source": [
    "number=200 # vlaue 200 stored in variable in 'number\n",
    "number"
   ]
  },
  {
   "cell_type": "markdown",
   "id": "2ae2a7e4-ed08-4138-9bb5-ce1073d0a40b",
   "metadata": {},
   "source": [
    "**Note**\n",
    "\n",
    "- python is step by step process\n",
    "\n",
    "- python will take last output as the latest value\n",
    "\n",
    "- in above code we are using same variable :number\n",
    "\n",
    "- but number value changes two times\n",
    "\n",
    "- first time 100\n",
    "\n",
    "- second time 200\n",
    "\n",
    "- latest value 200"
   ]
  },
  {
   "cell_type": "code",
   "execution_count": 4,
   "id": "d3407692-4cce-482a-9f33-5b94e8543d8f",
   "metadata": {},
   "outputs": [
    {
     "data": {
      "text/plain": [
       "200"
      ]
     },
     "execution_count": 4,
     "metadata": {},
     "output_type": "execute_result"
    }
   ],
   "source": [
    "NUMBER=200\n",
    "NUMBER"
   ]
  },
  {
   "cell_type": "code",
   "execution_count": 5,
   "id": "4f137a96-d27f-42c3-814a-95a33c259024",
   "metadata": {},
   "outputs": [
    {
     "data": {
      "text/plain": [
       "(200, 200)"
      ]
     },
     "execution_count": 5,
     "metadata": {},
     "output_type": "execute_result"
    }
   ],
   "source": [
    "number,NUMBER"
   ]
  },
  {
   "cell_type": "code",
   "execution_count": 6,
   "id": "38eb294a-4ef4-4c89-8a00-5c29567fb439",
   "metadata": {},
   "outputs": [
    {
     "data": {
      "text/plain": [
       "400"
      ]
     },
     "execution_count": 6,
     "metadata": {},
     "output_type": "execute_result"
    }
   ],
   "source": [
    "NUMBER=400\n",
    "NUMBER"
   ]
  },
  {
   "cell_type": "code",
   "execution_count": 7,
   "id": "ba4847d9-c9e9-4888-9ad0-46a204b6b840",
   "metadata": {},
   "outputs": [
    {
     "ename": "SyntaxError",
     "evalue": "invalid decimal literal (659526118.py, line 1)",
     "output_type": "error",
     "traceback": [
      "\u001b[1;36m  Cell \u001b[1;32mIn[7], line 1\u001b[1;36m\u001b[0m\n\u001b[1;33m    123number=300\u001b[0m\n\u001b[1;37m      ^\u001b[0m\n\u001b[1;31mSyntaxError\u001b[0m\u001b[1;31m:\u001b[0m invalid decimal literal\n"
     ]
    }
   ],
   "source": [
    "123number=300\n",
    "123number"
   ]
  },
  {
   "cell_type": "code",
   "execution_count": 8,
   "id": "b7a2eafb-8e0f-4475-9670-bf6267c99d00",
   "metadata": {},
   "outputs": [
    {
     "ename": "SyntaxError",
     "evalue": "invalid syntax (817465192.py, line 1)",
     "output_type": "error",
     "traceback": [
      "\u001b[1;36m  Cell \u001b[1;32mIn[8], line 1\u001b[1;36m\u001b[0m\n\u001b[1;33m    number one=500\u001b[0m\n\u001b[1;37m           ^\u001b[0m\n\u001b[1;31mSyntaxError\u001b[0m\u001b[1;31m:\u001b[0m invalid syntax\n"
     ]
    }
   ],
   "source": [
    "number one=500\n",
    "number one"
   ]
  },
  {
   "cell_type": "code",
   "execution_count": 9,
   "id": "ba7726c8-5423-4248-bb22-e87113a480de",
   "metadata": {},
   "outputs": [
    {
     "data": {
      "text/plain": [
       "100"
      ]
     },
     "execution_count": 9,
     "metadata": {},
     "output_type": "execute_result"
    }
   ],
   "source": [
    "number_one=100\n",
    "number_one"
   ]
  },
  {
   "cell_type": "code",
   "execution_count": 10,
   "id": "1acbd039-7eac-4aa4-aadd-3532c58a6221",
   "metadata": {},
   "outputs": [
    {
     "data": {
      "text/plain": [
       "(100, 200)"
      ]
     },
     "execution_count": 10,
     "metadata": {},
     "output_type": "execute_result"
    }
   ],
   "source": [
    "n1=100,200 \n",
    "n1"
   ]
  },
  {
   "cell_type": "code",
   "execution_count": 11,
   "id": "6890db0b-8708-4514-b6e9-7a86e70e8d38",
   "metadata": {},
   "outputs": [
    {
     "ename": "TypeError",
     "evalue": "cannot unpack non-iterable int object",
     "output_type": "error",
     "traceback": [
      "\u001b[1;31m---------------------------------------------------------------------------\u001b[0m",
      "\u001b[1;31mTypeError\u001b[0m                                 Traceback (most recent call last)",
      "Cell \u001b[1;32mIn[11], line 1\u001b[0m\n\u001b[1;32m----> 1\u001b[0m n2,n3\u001b[38;5;241m=\u001b[39m\u001b[38;5;241m300\u001b[39m\n\u001b[0;32m      2\u001b[0m n2,n3\n",
      "\u001b[1;31mTypeError\u001b[0m: cannot unpack non-iterable int object"
     ]
    }
   ],
   "source": [
    "n2,n3=300\n",
    "n2,n3"
   ]
  },
  {
   "cell_type": "code",
   "execution_count": 12,
   "id": "307d98f7-5572-404e-89d1-f24ded152e2e",
   "metadata": {},
   "outputs": [
    {
     "data": {
      "text/plain": [
       "(200, 300)"
      ]
     },
     "execution_count": 12,
     "metadata": {},
     "output_type": "execute_result"
    }
   ],
   "source": [
    "n4,n5=200,300\n",
    "n4,n5"
   ]
  },
  {
   "cell_type": "code",
   "execution_count": 13,
   "id": "7f63d5ae-05b7-4ced-9586-b0bd8ea3eb0f",
   "metadata": {},
   "outputs": [
    {
     "name": "stdout",
     "output_type": "stream",
     "text": [
      "200\n",
      "300\n"
     ]
    }
   ],
   "source": [
    "n4,n5=200,300\n",
    "print(n4)\n",
    "print(n5)"
   ]
  },
  {
   "cell_type": "markdown",
   "id": "9f363bf9-2177-4fdd-af7f-ae687aca7c4a",
   "metadata": {},
   "source": [
    "number=200   #works\n",
    "NUMBER=300  #works\n",
    "NUMber=500   #works\n",
    "123number=600  #fails\n",
    "num%ber=700  #fails\n",
    "number one=800  #fails\n",
    "number_one=900  #works\n",
    "_=1000 #works\n",
    "n1=100,200 #works\n",
    "n1,n2=100 #fails\n",
    "n1,n2=100,200 #works"
   ]
  },
  {
   "cell_type": "code",
   "execution_count": 7,
   "id": "82e80e3e-2c57-433e-a393-0ea9c3ee06f7",
   "metadata": {},
   "outputs": [],
   "source": [
    "n1,_=200,300"
   ]
  },
  {
   "cell_type": "code",
   "execution_count": 8,
   "id": "1947d087-7b5e-49a9-adf3-d782d9d5f759",
   "metadata": {},
   "outputs": [
    {
     "ename": "SyntaxError",
     "evalue": "invalid syntax (586179600.py, line 1)",
     "output_type": "error",
     "traceback": [
      "\u001b[1;36m  Cell \u001b[1;32mIn[8], line 1\u001b[1;36m\u001b[0m\n\u001b[1;33m    if=100\u001b[0m\n\u001b[1;37m      ^\u001b[0m\n\u001b[1;31mSyntaxError\u001b[0m\u001b[1;31m:\u001b[0m invalid syntax\n"
     ]
    }
   ],
   "source": [
    "if=100"
   ]
  },
  {
   "cell_type": "markdown",
   "id": "4f2c37e9-2c85-4d9d-904a-ec9f60490092",
   "metadata": {},
   "source": [
    "if\n",
    "while\n",
    "else\n",
    "elif\n",
    "for\n",
    "True\n",
    "False     "
   ]
  },
  {
   "cell_type": "markdown",
   "id": "b7f3bd50-fef6-4992-a26d-f518d2fe4779",
   "metadata": {},
   "source": [
    "- python variables are case sensitive\n",
    "- variables can be declare as capital letters\n",
    "- variables can be declare as small letters\n",
    "- variables can not start with numbers(prefix)\n",
    "- numbers can be suffix of the varibles\n",
    "- variables can not have special characters except underscore\n",
    "- variables does not have space between names\n",
    "- only underscore is possible\n",
    "- keywords or reserved words can not use as variables\n",
    "- two values can be assign to a single variable\n",
    "- one value can not be assigned malitple variables"
   ]
  },
  {
   "cell_type": "code",
   "execution_count": 6,
   "id": "09db063f-485d-446a-8e09-403d6b1195ba",
   "metadata": {},
   "outputs": [
    {
     "data": {
      "text/plain": [
       "True"
      ]
     },
     "execution_count": 6,
     "metadata": {},
     "output_type": "execute_result"
    }
   ],
   "source": [
    "True"
   ]
  },
  {
   "cell_type": "code",
   "execution_count": null,
   "id": "72647782-efcb-4c33-a7d1-52b19f140033",
   "metadata": {},
   "outputs": [],
   "source": []
  }
 ],
 "metadata": {
  "kernelspec": {
   "display_name": "Python 3 (ipykernel)",
   "language": "python",
   "name": "python3"
  },
  "language_info": {
   "codemirror_mode": {
    "name": "ipython",
    "version": 3
   },
   "file_extension": ".py",
   "mimetype": "text/x-python",
   "name": "python",
   "nbconvert_exporter": "python",
   "pygments_lexer": "ipython3",
   "version": "3.11.7"
  }
 },
 "nbformat": 4,
 "nbformat_minor": 5
}
