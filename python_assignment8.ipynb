{
 "cells": [
  {
   "cell_type": "code",
   "execution_count": 3,
   "id": "7b1a011a-1ede-4ce7-9a36-e2359105c87d",
   "metadata": {},
   "outputs": [
    {
     "name": "stdout",
     "output_type": "stream",
     "text": [
      "12\n",
      "even number\n",
      "80\n",
      "even number\n",
      "22\n",
      "even number\n"
     ]
    }
   ],
   "source": [
    "import random\n",
    "i=0\n",
    "while i<3:\n",
    "    num=random.randint(1,100)\n",
    "    print(num)\n",
    "    if num%2==0:\n",
    "        print('even number')\n",
    "    else:\n",
    "        print('odd number')\n",
    "    i=i+1"
   ]
  },
  {
   "cell_type": "code",
   "execution_count": 6,
   "id": "1dbc6e37-537a-46e0-87b3-aa50eff8bbc5",
   "metadata": {},
   "outputs": [
    {
     "name": "stdout",
     "output_type": "stream",
     "text": [
      "10  is a even number\n",
      "11 is a odd number\n",
      "12  is a even number\n",
      "13 is a odd number\n",
      "14  is a even number\n",
      "15 is a odd number\n",
      "16  is a even number\n",
      "17 is a odd number\n",
      "18  is a even number\n",
      "19 is a odd number\n",
      "20  is a even number\n"
     ]
    }
   ],
   "source": [
    "#2Q) Wap ask the user to print whether the number is even or odd between 10 to 20\n",
    "\n",
    "i=10\n",
    "while i<21:\n",
    "    print(i,end=' ')\n",
    "    if i%2==0:\n",
    "        print(' is a even number')\n",
    "    else:\n",
    "       print('is a odd number')\n",
    "    i=i+1"
   ]
  },
  {
   "cell_type": "code",
   "execution_count": 12,
   "id": "22bb05ff-f46b-4a18-bf81-e99c11711bbd",
   "metadata": {},
   "outputs": [
    {
     "name": "stdout",
     "output_type": "stream",
     "text": [
      "the square of 20 is 400\n",
      "the square of 21 is 441\n",
      "the square of 22 is 484\n",
      "the square of 23 is 529\n",
      "the square of 24 is 576\n",
      "the square of 25 is 625\n"
     ]
    }
   ],
   "source": [
    "#3Q) wap ask the user print the square of the number between\n",
    "# 20 to 25\n",
    "\n",
    "i=20\n",
    "while i<26:\n",
    "    print(f'the square of {i} is {i*i}')\n",
    "    i=i+1\n",
    "    "
   ]
  },
  {
   "cell_type": "code",
   "execution_count": 13,
   "id": "3e36e615-2402-49a4-b824-4f5dbf902415",
   "metadata": {},
   "outputs": [
    {
     "name": "stdout",
     "output_type": "stream",
     "text": [
      "the square of 20 is 400\n",
      "the square of 21 is 441\n",
      "the square of 22 is 484\n",
      "the square of 23 is 529\n",
      "the square of 24 is 576\n",
      "the square of 25 is 625\n"
     ]
    }
   ],
   "source": [
    "i=20\n",
    "while True:\n",
    "    print(f'the square of {i} is {i*i}')\n",
    "    i=i+1\n",
    "    if i>25:\n",
    "        break\n",
    "        \n"
   ]
  },
  {
   "cell_type": "code",
   "execution_count": 17,
   "id": "5edfbcb9-36d8-433d-aa07-024cf6b4acb6",
   "metadata": {},
   "outputs": [
    {
     "name": "stdin",
     "output_type": "stream",
     "text": [
      "enter a number 4\n"
     ]
    },
    {
     "name": "stdout",
     "output_type": "stream",
     "text": [
      "16\n"
     ]
    },
    {
     "name": "stdin",
     "output_type": "stream",
     "text": [
      "enter a number 8\n"
     ]
    },
    {
     "name": "stdout",
     "output_type": "stream",
     "text": [
      "64\n"
     ]
    },
    {
     "name": "stdin",
     "output_type": "stream",
     "text": [
      "enter a number 3\n"
     ]
    },
    {
     "name": "stdout",
     "output_type": "stream",
     "text": [
      "9\n"
     ]
    }
   ],
   "source": [
    "## 4Q) WAP asks the user to enter the number three times to find the square of the number\n",
    "# How many times loop should run\n",
    "\n",
    "i=1\n",
    "while True:\n",
    "     num1=eval(input('enter a number'))\n",
    "     print(num1*num1)\n",
    "     i=i+1\n",
    "     if i>3:\n",
    "         break\n",
    "\n",
    "\n",
    "\n",
    "\n",
    "\n",
    "\n",
    "\n"
   ]
  },
  {
   "cell_type": "code",
   "execution_count": 18,
   "id": "67a6872c-197f-439d-9107-a6234ce8d5ee",
   "metadata": {},
   "outputs": [
    {
     "name": "stdin",
     "output_type": "stream",
     "text": [
      "enter a number 14\n"
     ]
    },
    {
     "name": "stdout",
     "output_type": "stream",
     "text": [
      " 14x1=14\n",
      " 14x2=28\n",
      " 14x3=42\n",
      " 14x4=56\n",
      " 14x5=70\n",
      " 14x6=84\n",
      " 14x7=98\n",
      " 14x8=112\n",
      " 14x9=126\n",
      " 14x10=140\n"
     ]
    }
   ],
   "source": [
    "#5Q) Print the 14th table\n",
    "# ans:   14 x 1 = 14\n",
    "#        14 x 2 = 28\n",
    "#        14 x 3 = 42\n",
    "#\n",
    "#\n",
    "#        14 x10 = 140\n",
    "# How many times 10\n",
    "\n",
    "num=eval(input('enter a number'))\n",
    "i=1\n",
    "while True:\n",
    "    table=num*i\n",
    "    print(f' {num}x{i}={table}')\n",
    "    i=i+1\n",
    "    if i==11:\n",
    "        break"
   ]
  },
  {
   "cell_type": "code",
   "execution_count": 29,
   "id": "2676fba5-69b0-4f96-bd16-1fd6cc07e902",
   "metadata": {},
   "outputs": [
    {
     "name": "stdout",
     "output_type": "stream",
     "text": [
      "1 divisor of 75\n",
      "3 divisor of 75\n",
      "5 divisor of 75\n",
      "15 divisor of 75\n",
      "25 divisor of 75\n",
      "75 divisor of 75\n"
     ]
    }
   ],
   "source": [
    "#6 Q) Find the factors of 75\n",
    "# step-1: Iterate the loop = which numbers factor you want\n",
    "# step-2: Apply the if condition\n",
    "#         cond= divide the number with each i\n",
    "\n",
    "\n",
    "i=1\n",
    "while True:\n",
    "    if 75%i==0:\n",
    "        print(f'{i} divisor of 75')\n",
    "    i=i+1\n",
    "    if i==76:\n",
    "         break\n",
    "\n",
    "    "
   ]
  },
  {
   "cell_type": "code",
   "execution_count": 31,
   "id": "df47feb1-b233-4e88-92ff-854c8ccae807",
   "metadata": {},
   "outputs": [
    {
     "name": "stdout",
     "output_type": "stream",
     "text": [
      "1\n",
      "3\n",
      "6\n",
      "10\n",
      "15\n",
      "21\n",
      "28\n",
      "36\n",
      "45\n",
      "55\n"
     ]
    }
   ],
   "source": [
    "#7Q) Write the sum of first 10 Natural numbers\n",
    "# 1 to 10\n",
    "# 1+2+3+4+5+6+7+8+9+10=55\n",
    "\n",
    "summ=0\n",
    "i=1\n",
    "while i<11:\n",
    "    summ=summ+i\n",
    "    i=i+1\n",
    "    print(summ)\n",
    "   "
   ]
  },
  {
   "cell_type": "code",
   "execution_count": 38,
   "id": "a63e3053-4279-4402-9a1d-722ff4b19a06",
   "metadata": {},
   "outputs": [
    {
     "name": "stdout",
     "output_type": "stream",
     "text": [
      "1.5\n"
     ]
    }
   ],
   "source": [
    "# 8Q) Average first 1 to 10 numbers\n",
    "# avg= summation of all the numbers/total number\n",
    "#Wap to find the average of ' N ' numbers in Python.\n",
    "\n",
    "summ=1\n",
    "i=1\n",
    "while True:\n",
    "    i=i+1\n",
    "    summ=summ+i \n",
    "    print(summ/i)\n",
    "    if i<10:\n",
    "        break\n"
   ]
  },
  {
   "cell_type": "code",
   "execution_count": 5,
   "id": "da15692d-dd1e-4df2-bd80-c5a3f0f9dba0",
   "metadata": {},
   "outputs": [
    {
     "name": "stdin",
     "output_type": "stream",
     "text": [
      "enter the number between 1 to 10 5\n"
     ]
    },
    {
     "name": "stdout",
     "output_type": "stream",
     "text": [
      "lost\n"
     ]
    },
    {
     "name": "stdin",
     "output_type": "stream",
     "text": [
      "enter the number between 1 to 10 4\n"
     ]
    },
    {
     "name": "stdout",
     "output_type": "stream",
     "text": [
      "lost\n"
     ]
    }
   ],
   "source": [
    "# 10Q)\n",
    "# Get a random number between  1 to 10 :  num1\n",
    "# Ask the user enter a number : num2\n",
    "# if num1 == num2  then print won\n",
    "# else print fail\n",
    "\n",
    "# Give 3 chances\n",
    "\n",
    "# Case-2: whenever you won the code should stop\n",
    "\n",
    "# Case-3:\n",
    "# Suppose i want to give 4 chances\n",
    "# Every time you fail I want to display\n",
    "#      Number of chances left\n",
    "\n",
    "# If all the chances you are used\n",
    "#    Try again after 24 hours\n",
    "\n",
    "# If you are win\n",
    "import random\n",
    "i=1\n",
    "while i<3:\n",
    "    num1=random.randint(1,10)\n",
    "    num2=eval(input('enter the number between 1 to 10'))\n",
    "    if num1==num2:\n",
    "        print('won')\n",
    "    else:\n",
    "        print('lost')\n",
    "    i=i+1"
   ]
  },
  {
   "cell_type": "code",
   "execution_count": 6,
   "id": "277a15fa-e1c4-4a73-afbd-d4cb31ad9ea8",
   "metadata": {},
   "outputs": [
    {
     "name": "stdout",
     "output_type": "stream",
     "text": [
      "5\n"
     ]
    },
    {
     "name": "stdin",
     "output_type": "stream",
     "text": [
      "enter the number between 1 to 10 5\n"
     ]
    },
    {
     "name": "stdout",
     "output_type": "stream",
     "text": [
      "won\n",
      "6\n"
     ]
    },
    {
     "name": "stdin",
     "output_type": "stream",
     "text": [
      "enter the number between 1 to 10 6\n"
     ]
    },
    {
     "name": "stdout",
     "output_type": "stream",
     "text": [
      "won\n"
     ]
    }
   ],
   "source": [
    "# Case-2: whenever you won the code should stop\n",
    "import random\n",
    "i=1\n",
    "while i<3:\n",
    "    num1=random.randint(1,10)\n",
    "    print(num1)\n",
    "    num2=eval(input('enter the number between 1 to 10'))\n",
    "    if num1==num2:\n",
    "        print('won')\n",
    "        i=i+1\n",
    "    else:\n",
    "        print('lost')"
   ]
  },
  {
   "cell_type": "code",
   "execution_count": 7,
   "id": "b7edde17-aea6-4baf-ae57-d82ebe084368",
   "metadata": {},
   "outputs": [
    {
     "name": "stdin",
     "output_type": "stream",
     "text": [
      "enter the number between 1 to 10 5\n"
     ]
    },
    {
     "name": "stdout",
     "output_type": "stream",
     "text": [
      "lost\n",
      "you have 2 more chances\n"
     ]
    },
    {
     "name": "stdin",
     "output_type": "stream",
     "text": [
      "enter the number between 1 to 10 4\n"
     ]
    },
    {
     "name": "stdout",
     "output_type": "stream",
     "text": [
      "won\n"
     ]
    }
   ],
   "source": [
    "# Case-3:\n",
    "# Suppose i want to give 4 chances\n",
    "# Every time you fail I want to display\n",
    "#      Number of chances left\n",
    "\n",
    "# If all the chances you are used\n",
    "#    Try again after 24 hours\n",
    "\n",
    "# If you are win\n",
    "import random\n",
    "i=1\n",
    "while i<3:\n",
    "    num1=random.randint(1,10)\n",
    "    num2=eval(input('enter the number between 1 to 10'))\n",
    "    if num1==num2:\n",
    "        print('won')\n",
    "        break\n",
    "        i=i+1\n",
    "    else:\n",
    "        print('lost')\n",
    "        print(f'you have {3-i} more chances')\n",
    "    if i==3:\n",
    "        print('try after 24 hrs')"
   ]
  },
  {
   "cell_type": "code",
   "execution_count": 2,
   "id": "7db73ef4-5df7-4a76-96ad-5778f5605075",
   "metadata": {},
   "outputs": [
    {
     "name": "stdout",
     "output_type": "stream",
     "text": [
      "the total number of even number are: 5\n",
      "the total number of odd number are: 11\n"
     ]
    }
   ],
   "source": [
    "#11Q) wap ask the user get 5 random numbers \n",
    "# Get it is an even number or odd number  \n",
    "# also count how many even numbers are there \n",
    "# and count how many odd numbers are there \n",
    "# Idea \n",
    "# take two counters one even and odd count \n",
    "# For loop 5 times \n",
    "# each time take the random number \n",
    "# If condition \n",
    "# True counter update \n",
    "# else \n",
    "# Update the counter \n",
    "\n",
    "import random\n",
    "even_count=0\n",
    "odd_count=0\n",
    "i=1\n",
    "while i<6:\n",
    "    num=random.randint(1,20)\n",
    "    if num%2==0:\n",
    "        even_count=even_count+1\n",
    "        i=i+1\n",
    "    else:\n",
    "        odd_count=odd_count+1\n",
    "print(f'the total number of even number are: {even_count}')\n",
    "print(f'the total number of odd number are: {odd_count}')\n",
    "\n",
    "        "
   ]
  },
  {
   "cell_type": "code",
   "execution_count": 4,
   "id": "32bd0ef2-9069-408b-a289-7a0d12e82773",
   "metadata": {},
   "outputs": [
    {
     "name": "stdout",
     "output_type": "stream",
     "text": [
      "the total number of even number are: 5\n",
      "the total summ of even number are:5\n",
      "the total number of odd number are: 11\n",
      "the total summ of odd number are:11\n"
     ]
    }
   ],
   "source": [
    "#12Q) # wap ask the user get 5 random numbers\n",
    "# Get it is an even number or odd number\n",
    "# also count how many even numbers are there\n",
    "# and  count how many odd numbers are there\n",
    "# I want summ even numbers\n",
    "# I want summ odd numbers\n",
    "import random\n",
    "even_count,odd_count=0,0\n",
    "even_summ,odd_summ=0,0\n",
    "i=1\n",
    "while i<6:\n",
    "    num=random.randint(1,100)\n",
    "    if num%2==0:\n",
    "        even_count=even_count+1\n",
    "        even_summ=even_summ+1\n",
    "        i=i+1\n",
    "    else:\n",
    "        odd_count=odd_count+1\n",
    "        odd_summ=odd_summ+1\n",
    "print(f'the total number of even number are: {even_count}')\n",
    "print(f'the total summ of even number are:{even_summ}')\n",
    "print(f'the total number of odd number are: {odd_count}')\n",
    "print(f'the total summ of odd number are:{odd_summ}')"
   ]
  },
  {
   "cell_type": "code",
   "execution_count": null,
   "id": "bb88b119-f352-46d8-95bf-730cb0d0c5fd",
   "metadata": {},
   "outputs": [],
   "source": []
  }
 ],
 "metadata": {
  "kernelspec": {
   "display_name": "Python 3 (ipykernel)",
   "language": "python",
   "name": "python3"
  },
  "language_info": {
   "codemirror_mode": {
    "name": "ipython",
    "version": 3
   },
   "file_extension": ".py",
   "mimetype": "text/x-python",
   "name": "python",
   "nbconvert_exporter": "python",
   "pygments_lexer": "ipython3",
   "version": "3.11.7"
  }
 },
 "nbformat": 4,
 "nbformat_minor": 5
}
