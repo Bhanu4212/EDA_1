{
 "cells": [
  {
   "cell_type": "code",
   "execution_count": null,
   "id": "99ea3ce9-c6e8-42d0-8286-f71b20e8bae3",
   "metadata": {},
   "outputs": [],
   "source": [
    "Hey guys\n",
    "practice \n",
    "1) How to join paths\n",
    "2) How to make directory\n",
    "3) Write the file\n",
    "     check the mode ='a'  \n",
    "    check the mode='w'\n",
    "    check the mode='x'\n"
   ]
  },
  {
   "cell_type": "code",
   "execution_count": 2,
   "id": "bea0b777-bb85-4b71-a4a4-6679ed3eee1c",
   "metadata": {},
   "outputs": [
    {
     "data": {
      "text/plain": [
       "'C:\\\\Users\\\\bhanu\\\\Documents\\\\NARESH IT\\\\PYTHON'"
      ]
     },
     "execution_count": 2,
     "metadata": {},
     "output_type": "execute_result"
    }
   ],
   "source": [
    "import os\n",
    "os.getcwd()"
   ]
  },
  {
   "cell_type": "markdown",
   "id": "40052a13-f113-4b65-a121-25c6734bf2f9",
   "metadata": {},
   "source": [
    "**Joining paths**"
   ]
  },
  {
   "cell_type": "code",
   "execution_count": 3,
   "id": "25cd521e-10fc-4b1c-bb31-137035b8176c",
   "metadata": {},
   "outputs": [
    {
     "data": {
      "text/plain": [
       "'C:\\\\Users\\\\bhanu\\\\Documents\\\\NARESH IT\\\\PYTHON\\\\outputs1'"
      ]
     },
     "execution_count": 3,
     "metadata": {},
     "output_type": "execute_result"
    }
   ],
   "source": [
    "import os\n",
    "cwd=os.getcwd()\n",
    "folder_name='outputs1'\n",
    "os.path.join(cwd,folder_name)"
   ]
  },
  {
   "cell_type": "markdown",
   "id": "5af47ebc-7519-4730-a6db-6ffa9165815f",
   "metadata": {},
   "source": [
    "**Making directory**"
   ]
  },
  {
   "cell_type": "code",
   "execution_count": 5,
   "id": "70f3aa95-ccd4-43a1-8264-18b50fe3b7ac",
   "metadata": {},
   "outputs": [],
   "source": [
    "# creating folder to be visible\n",
    "#'output1'\n",
    "os.makedirs(folder_name)"
   ]
  },
  {
   "cell_type": "markdown",
   "id": "22df6696-4b1f-407e-8ac1-0247bac831f3",
   "metadata": {},
   "source": [
    "**Writing the file**"
   ]
  },
  {
   "cell_type": "code",
   "execution_count": 10,
   "id": "df480062-248f-46d4-b3f9-730f86bba9c8",
   "metadata": {},
   "outputs": [],
   "source": [
    "#writing the file\n",
    "#Mode='w'\n",
    "import os\n",
    "cwd1=os.getcwd()\n",
    "file_name='out.txt'\n",
    "new_dir=os.path.join(folder_name,file_name)\n",
    "with open(new_dir,mode='w') as file:\n",
    "    file.write('Hello')\n",
    "#with open()\n"
   ]
  },
  {
   "cell_type": "markdown",
   "id": "5b87fec8-7bdc-4a95-82fc-59afcddce9d5",
   "metadata": {},
   "source": [
    "**Appending the file**"
   ]
  },
  {
   "cell_type": "code",
   "execution_count": 7,
   "id": "a082e81b-954d-4cfa-96e4-7496db64efa4",
   "metadata": {},
   "outputs": [],
   "source": [
    "file_name='out.txt'\n",
    "new_dir=os.path.join(folder_name,file_name)\n",
    "with open(new_dir,mode='a') as file:\n",
    "    file.write('i am learing python')"
   ]
  },
  {
   "cell_type": "markdown",
   "id": "d247f211-7387-4fa5-910f-104a06d940e7",
   "metadata": {},
   "source": [
    "**Reading the file**"
   ]
  },
  {
   "cell_type": "code",
   "execution_count": 8,
   "id": "fff84866-ce2f-464c-8f77-6ddfd9b1682f",
   "metadata": {},
   "outputs": [
    {
     "data": {
      "text/plain": [
       "'Helloi am learing python'"
      ]
     },
     "execution_count": 8,
     "metadata": {},
     "output_type": "execute_result"
    }
   ],
   "source": [
    "file_name='out.txt'\n",
    "new_dir=os.path.join(folder_name,file_name)\n",
    "with open(new_dir,mode='r') as file:\n",
    "    data=file.read()\n",
    "data"
   ]
  },
  {
   "cell_type": "code",
   "execution_count": null,
   "id": "9bd8051a-f071-4d44-aa72-b7bceaf214bc",
   "metadata": {},
   "outputs": [],
   "source": []
  }
 ],
 "metadata": {
  "kernelspec": {
   "display_name": "Python 3 (ipykernel)",
   "language": "python",
   "name": "python3"
  },
  "language_info": {
   "codemirror_mode": {
    "name": "ipython",
    "version": 3
   },
   "file_extension": ".py",
   "mimetype": "text/x-python",
   "name": "python",
   "nbconvert_exporter": "python",
   "pygments_lexer": "ipython3",
   "version": "3.11.7"
  }
 },
 "nbformat": 4,
 "nbformat_minor": 5
}
