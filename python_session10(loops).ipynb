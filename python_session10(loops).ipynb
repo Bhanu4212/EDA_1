{
 "cells": [
  {
   "cell_type": "markdown",
   "id": "36353186-5f00-4cee-acbd-fddea0ff08f8",
   "metadata": {},
   "source": [
    "**loops**\n",
    "- itterate a piece of code until condition satisfy\n",
    "- we can run a code normally\n",
    "- we can run a code by using  functions wrapper (function)\n",
    "- we can run acode multiple times by loops\n",
    "- we can run  a code  by using condition"
   ]
  },
  {
   "cell_type": "markdown",
   "id": "d8945dc2-8c17-4f53-9962-ef561adbd448",
   "metadata": {},
   "source": [
    "- for loop\n",
    "- while loop\n",
    "- any loop\n",
    "    - intial point to start the loop\n",
    "    - increment or decrement\n",
    "    - condition to stop"
   ]
  },
  {
   "cell_type": "markdown",
   "id": "aaadc901-971f-4247-b6dc-871221007982",
   "metadata": {},
   "source": [
    "**for loop**\n",
    "**pattren-1**\n",
    "**range(stop)**"
   ]
  },
  {
   "cell_type": "markdown",
   "id": "afc40be0-6a10-4a72-aa85-6b190caccdb0",
   "metadata": {},
   "source": [
    "#syntax\n",
    "for  i in range(<value>):\n",
    "    #start write code"
   ]
  },
  {
   "cell_type": "markdown",
   "id": "efd11b9a-6846-424a-afa1-e501eac2b603",
   "metadata": {},
   "source": [
    "- when  ever you see  worsd range it belongs to math family\n",
    "- inside  range we need to provide  one value  ex:range(3)\n",
    "- if you  provide only  one value\n",
    "    - start value=0\n",
    "    - increment = 1\n",
    "    - last =stop-1\n",
    "- range(3)\n",
    "    -start value=0\n",
    "    -increment =1\n",
    "    - last =stop-1`m"
   ]
  },
  {
   "cell_type": "code",
   "execution_count": 3,
   "id": "af73f6eb-8efb-4e95-964e-bd5475740b5e",
   "metadata": {},
   "outputs": [
    {
     "name": "stdout",
     "output_type": "stream",
     "text": [
      "0\n",
      "1\n",
      "2\n",
      "3\n",
      "4\n",
      "5\n",
      "6\n",
      "7\n",
      "8\n"
     ]
    }
   ],
   "source": [
    "for i  in range(9):\n",
    "    print(i)"
   ]
  },
  {
   "cell_type": "code",
   "execution_count": 4,
   "id": "e5785e35-3263-46f0-aaf4-6e99240ce57e",
   "metadata": {},
   "outputs": [
    {
     "name": "stdout",
     "output_type": "stream",
     "text": [
      "hello\n",
      "hello\n",
      "hello\n",
      "hello\n",
      "hello\n"
     ]
    }
   ],
   "source": [
    "\n",
    "# i want to print hello 5 times \n",
    "for i in range(5):\n",
    "    print('hello')"
   ]
  },
  {
   "cell_type": "code",
   "execution_count": 2,
   "id": "a61cc8c7-3bd2-4c8a-b6cf-48b1b9ef7185",
   "metadata": {},
   "outputs": [
    {
     "name": "stdout",
     "output_type": "stream",
     "text": [
      "99\n",
      "the  num is odd number\n",
      "95\n",
      "the  num is odd number\n",
      "54\n",
      "the  num is even number\n"
     ]
    }
   ],
   "source": [
    "# for eaxample \n",
    "# take a random number between 1 to 100\n",
    "# print  it  is a  even number\n",
    "\n",
    "\n",
    "import random\n",
    "for i in range (3):\n",
    "    num=random.randint(1,100)\n",
    "    print(num)\n",
    "    if num%2==0:\n",
    "        print(f'the  num is even number')\n",
    "    else:\n",
    "       print(f'the  num is odd number')\n",
    "\n"
   ]
  },
  {
   "cell_type": "code",
   "execution_count": 6,
   "id": "2652e6b2-13c0-42f3-92e3-e10c6a344fe6",
   "metadata": {},
   "outputs": [
    {
     "name": "stdout",
     "output_type": "stream",
     "text": [
      "0\n",
      "1\n",
      "2\n"
     ]
    }
   ],
   "source": [
    "for i in range(3):\n",
    "    print(i)"
   ]
  },
  {
   "cell_type": "code",
   "execution_count": 9,
   "id": "fb4cc924-90de-4438-8f99-37fcb5aa1a52",
   "metadata": {},
   "outputs": [
    {
     "name": "stdout",
     "output_type": "stream",
     "text": [
      "0 1 2 3 4 5 6 7 8 9 "
     ]
    }
   ],
   "source": [
    "for i in range(10):\n",
    "    print(i,end=' ')"
   ]
  },
  {
   "cell_type": "code",
   "execution_count": 17,
   "id": "dabe539c-e8de-40ac-8d29-237e106250ec",
   "metadata": {},
   "outputs": [
    {
     "name": "stdout",
     "output_type": "stream",
     "text": [
      "10 11 12 13 14 15 16 17 18 19 "
     ]
    }
   ],
   "source": [
    "\n",
    "\n",
    "for i in range(10,20):\n",
    "    print(i,end=' ')"
   ]
  },
  {
   "cell_type": "code",
   "execution_count": 22,
   "id": "747f750c-6231-4851-9126-74c86ca7a990",
   "metadata": {},
   "outputs": [
    {
     "name": "stdout",
     "output_type": "stream",
     "text": [
      "400\n",
      "441\n",
      "484\n",
      "529\n",
      "576\n",
      "625\n"
     ]
    }
   ],
   "source": [
    "for i in range(20,26):\n",
    "    print(i*i)"
   ]
  },
  {
   "cell_type": "code",
   "execution_count": 36,
   "id": "8abbb11a-b6fe-401b-90b0-71cf2cf52628",
   "metadata": {},
   "outputs": [
    {
     "name": "stdout",
     "output_type": "stream",
     "text": [
      "10\n",
      "even number\n",
      "11\n",
      "odd number\n",
      "12\n",
      "even number\n",
      "13\n",
      "odd number\n",
      "14\n",
      "even number\n",
      "15\n",
      "odd number\n",
      "16\n",
      "even number\n",
      "17\n",
      "odd number\n",
      "18\n",
      "even number\n",
      "19\n",
      "odd number\n"
     ]
    }
   ],
   "source": [
    "for i in range(10,20):\n",
    "    if i%2==0:\n",
    "        print(i)\n",
    "        print('even number')\n",
    "    else:\n",
    "        print(i)\n",
    "        print('odd number')"
   ]
  },
  {
   "cell_type": "code",
   "execution_count": 38,
   "id": "eb0b04db-8f69-4bab-9aac-8daa55ac5303",
   "metadata": {},
   "outputs": [
    {
     "name": "stdout",
     "output_type": "stream",
     "text": [
      "2 4 6 8 10 12 14 16 18 "
     ]
    }
   ],
   "source": [
    "for i in range(2,20,2):\n",
    "    print(i,end=' ')"
   ]
  },
  {
   "cell_type": "code",
   "execution_count": 40,
   "id": "817d7b79-f53b-4d40-818c-b0b8bf7931d4",
   "metadata": {},
   "outputs": [],
   "source": [
    "for i in  range(2,20,-2):\n",
    "    print(i,end=\" \")"
   ]
  },
  {
   "cell_type": "code",
   "execution_count": 41,
   "id": "87be5c9c-5348-4d2d-8f11-33e6b2a02600",
   "metadata": {},
   "outputs": [
    {
     "name": "stdout",
     "output_type": "stream",
     "text": [
      "20 18 16 14 12 10 8 6 4 "
     ]
    }
   ],
   "source": [
    "for i in  range(20,2,-2):\n",
    "    print(i,end=\" \")"
   ]
  },
  {
   "cell_type": "code",
   "execution_count": 4,
   "id": "8838c0d5-533d-42f8-9916-3c9bcf597458",
   "metadata": {},
   "outputs": [
    {
     "name": "stdin",
     "output_type": "stream",
     "text": [
      "enter the number 55\n"
     ]
    },
    {
     "name": "stdout",
     "output_type": "stream",
     "text": [
      "square of 55 is:3025\n"
     ]
    },
    {
     "name": "stdin",
     "output_type": "stream",
     "text": [
      "enter the number 64\n"
     ]
    },
    {
     "name": "stdout",
     "output_type": "stream",
     "text": [
      "square of 64 is:4096\n"
     ]
    },
    {
     "name": "stdin",
     "output_type": "stream",
     "text": [
      "enter the number 36\n"
     ]
    },
    {
     "name": "stdout",
     "output_type": "stream",
     "text": [
      "square of 36 is:1296\n"
     ]
    }
   ],
   "source": [
    "# wap ask the user enter a number three times find a square  of a number\n",
    "\n",
    "for i in range(3):\n",
    "    num=eval(input('enter the number'))\n",
    "    print(f'square of {num} is:{num*num}')"
   ]
  },
  {
   "cell_type": "code",
   "execution_count": 17,
   "id": "ce6ceef3-c9c6-483f-9790-a8ea57f189b6",
   "metadata": {},
   "outputs": [
    {
     "name": "stdout",
     "output_type": "stream",
     "text": [
      "14x1=14\n",
      "14x2=28\n",
      "14x3=42\n",
      "14x4=56\n",
      "14x5=70\n",
      "14x6=84\n",
      "14x7=98\n",
      "14x8=112\n",
      "14x9=126\n",
      "14x10=140\n"
     ]
    }
   ],
   "source": [
    "#print 14th table\n",
    "#ans: 14*1=14\n",
    "#     14*2=28\n",
    "#     14*3=42\n",
    "#     14*4=56\n",
    "#\n",
    "#\n",
    "#\n",
    "#\n",
    "#\n",
    "#    14*10=140\n",
    "\n",
    "\n",
    "\n",
    "for i in range(1,11):\n",
    "    num=14*i\n",
    "    print(f'14x{i}={num}')"
   ]
  },
  {
   "cell_type": "code",
   "execution_count": 24,
   "id": "96c1f0cb-7f5b-4fba-9b87-496959d83eed",
   "metadata": {},
   "outputs": [
    {
     "name": "stdin",
     "output_type": "stream",
     "text": [
      "enter a number 75\n"
     ]
    },
    {
     "name": "stdout",
     "output_type": "stream",
     "text": [
      "1 is divisor of 75\n",
      "3 is divisor of 75\n",
      "5 is divisor of 75\n",
      "15 is divisor of 75\n",
      "25 is divisor of 75\n",
      "75 is divisor of 75\n"
     ]
    }
   ],
   "source": [
    "#find the factors of 75\n",
    "#iterate a loop =which number factor is used\n",
    "# apply if condition\n",
    "#cond=divide the number with each i\n",
    "\n",
    "num=eval(input('enter a number'))\n",
    "for i in range(1,num+1):\n",
    "    if num%i==0:\n",
    "        print(f'{i} is divisor of {num}')\n",
    "    "
   ]
  },
  {
   "cell_type": "code",
   "execution_count": null,
   "id": "efcb183c-f195-48ae-b58a-a7b93cc88169",
   "metadata": {},
   "outputs": [],
   "source": [
    "# write  the sum of first natural numbers\n",
    "# 1 to 10\n",
    "# 1+2+3+4+5+6+7+8+9+\n"
   ]
  },
  {
   "cell_type": "markdown",
   "id": "94427ff7-43ce-48a6-adf0-8ebd4621b1ec",
   "metadata": {},
   "source": [
    "**summation wrapper**\n",
    "\n",
    "- initially we need to keep summ=0\n",
    "- make sure that do not provide **sum**\n",
    "- because sum is a keyword\n",
    "- inside for loop :summ=summ+i"
   ]
  },
  {
   "cell_type": "code",
   "execution_count": 25,
   "id": "a3ba2b37-9283-4822-93e9-0bf9cb4408d6",
   "metadata": {},
   "outputs": [
    {
     "name": "stdout",
     "output_type": "stream",
     "text": [
      "1\n",
      "3\n",
      "6\n",
      "10\n",
      "15\n",
      "21\n",
      "28\n",
      "36\n",
      "45\n"
     ]
    }
   ],
   "source": [
    "summ=0\n",
    "for i in range(1,10):\n",
    "    summ=summ+i\n",
    "    print(summ) "
   ]
  },
  {
   "cell_type": "code",
   "execution_count": 29,
   "id": "089fb8fe-e427-4194-b03c-4d309e0b6931",
   "metadata": {},
   "outputs": [
    {
     "name": "stdout",
     "output_type": "stream",
     "text": [
      "1+1=1\n",
      "3+2=3\n",
      "6+3=6\n",
      "10+4=10\n",
      "15+5=15\n",
      "21+6=21\n",
      "28+7=28\n",
      "36+8=36\n",
      "45+9=45\n",
      "55+10=55\n"
     ]
    }
   ],
   "source": [
    "summ=0\n",
    "for i in range(1,11):\n",
    "    summ=summ+i\n",
    "    print(f'{summ}+{i}={summ}')"
   ]
  },
  {
   "cell_type": "code",
   "execution_count": 36,
   "id": "50606315-e186-4e6d-b710-338284c97016",
   "metadata": {},
   "outputs": [
    {
     "name": "stdout",
     "output_type": "stream",
     "text": [
      "1+1=1\n",
      "3+2=3\n",
      "6+3=6\n",
      "10+4=10\n",
      "15+5=15\n",
      "21+6=21\n",
      "28+7=28\n",
      "36+8=36\n",
      "45+9=45\n"
     ]
    }
   ],
   "source": [
    "summ=0\n",
    "for i in range(1,10):\n",
    "    summ=summ+i\n",
    "    print(f'{summ}+{i}={summ}')\n",
    "\n"
   ]
  },
  {
   "cell_type": "code",
   "execution_count": 44,
   "id": "5e60e3f6-1263-44d5-b2b1-9f4d893620d5",
   "metadata": {},
   "outputs": [
    {
     "name": "stdout",
     "output_type": "stream",
     "text": [
      "0+1=1\n",
      "1+2=3\n",
      "3+3=6\n",
      "6+4=10\n",
      "10+5=15\n",
      "15+6=21\n",
      "21+7=28\n",
      "28+8=36\n",
      "36+9=45\n",
      "45+10=55\n"
     ]
    }
   ],
   "source": [
    "summ=0\n",
    "for i in range(1,11):\n",
    "    summ=summ+i\n",
    "    print(f'{summ-i}+{i}={summ}')"
   ]
  },
  {
   "cell_type": "code",
   "execution_count": 41,
   "id": "fbce8b58-d8a7-4f25-ad41-06c3d313c667",
   "metadata": {},
   "outputs": [
    {
     "name": "stdout",
     "output_type": "stream",
     "text": [
      "0+1=1\n",
      "0+2=2\n",
      "0+3=3\n",
      "0+4=4\n",
      "0+5=5\n",
      "0+6=6\n",
      "0+7=7\n",
      "0+8=8\n",
      "0+9=9\n"
     ]
    }
   ],
   "source": [
    "summ=0\n",
    "for i in range(1,10):\n",
    "    val=summ+i\n",
    "    print(f'{summ}+{i}={val}')"
   ]
  },
  {
   "cell_type": "markdown",
   "id": "274b6e74-c1c3-4b1a-a10b-2a03d49a7d61",
   "metadata": {},
   "source": [
    "**note**\n",
    "- if we print answer from out of for loop, last output will print"
   ]
  },
  {
   "cell_type": "code",
   "execution_count": 51,
   "id": "c8f8ae68-a20d-4efe-9acd-462669fc017e",
   "metadata": {},
   "outputs": [
    {
     "name": "stdin",
     "output_type": "stream",
     "text": [
      "enter a number 10\n"
     ]
    },
    {
     "name": "stdout",
     "output_type": "stream",
     "text": [
      "52.8\n"
     ]
    }
   ],
   "source": [
    "#Average of first  1 to 10 numbers\n",
    "#avg= summation of all the numbers/total number\n",
    "summ=0\n",
    "N=eval(input('enter a number'))\n",
    "for i in range(1,N+i):\n",
    "    summ=summ+i\n",
    "print(summ/N)"
   ]
  },
  {
   "cell_type": "markdown",
   "id": "33ace70d-aac5-4585-ab71-a150ae07d5c8",
   "metadata": {},
   "source": [
    "**Counter wrapper**\n",
    "- before the loop  initiate with count=9\n",
    "- under for loop  count=count+1\n"
   ]
  },
  {
   "cell_type": "code",
   "execution_count": 58,
   "id": "25cc3996-b72f-426b-a9f5-d0407aaa5533",
   "metadata": {},
   "outputs": [
    {
     "name": "stdin",
     "output_type": "stream",
     "text": [
      "enter a number 75\n"
     ]
    },
    {
     "name": "stdout",
     "output_type": "stream",
     "text": [
      "the number of divisior for 75 is :124\n"
     ]
    }
   ],
   "source": [
    "count=0\n",
    "number=eval(input('enter a number'))\n",
    "for i in range(1,number+i):\n",
    "    if number%i==0:\n",
    "       count=count+i\n",
    "        \n",
    "print(f'the number of divisior for {number} is :{count}') \n"
   ]
  },
  {
   "cell_type": "code",
   "execution_count": 59,
   "id": "8b84b39c-bd7a-4b67-bc45-52f5360d5300",
   "metadata": {},
   "outputs": [
    {
     "name": "stdin",
     "output_type": "stream",
     "text": [
      "enter the number between 1 to 10 5\n"
     ]
    },
    {
     "name": "stdout",
     "output_type": "stream",
     "text": [
      "lost\n"
     ]
    },
    {
     "name": "stdin",
     "output_type": "stream",
     "text": [
      "enter the number between 1 to 10 6\n"
     ]
    },
    {
     "name": "stdout",
     "output_type": "stream",
     "text": [
      "lost\n"
     ]
    },
    {
     "name": "stdin",
     "output_type": "stream",
     "text": [
      "enter the number between 1 to 10 2\n"
     ]
    },
    {
     "name": "stdout",
     "output_type": "stream",
     "text": [
      "lost\n"
     ]
    }
   ],
   "source": [
    "#loop\n",
    "# get a number between 1 to 10: num1\n",
    "# ask the user enter a number: num2\n",
    "# if num1==num2 then print won \n",
    "# else print lost\n",
    "import random\n",
    "for i in range(3):\n",
    "    num1=random.randint(1,10)\n",
    "    num2=eval(input('enter the number between 1 to 10'))\n",
    "    if num1==num2:\n",
    "        print('won')\n",
    "    else:\n",
    "        print('lost')"
   ]
  },
  {
   "cell_type": "code",
   "execution_count": 63,
   "id": "e638f6b6-2143-41eb-8c19-8246a0ce419f",
   "metadata": {},
   "outputs": [
    {
     "name": "stdout",
     "output_type": "stream",
     "text": [
      "3\n"
     ]
    },
    {
     "name": "stdin",
     "output_type": "stream",
     "text": [
      "enter the number between 1 to 10 3\n"
     ]
    },
    {
     "name": "stdout",
     "output_type": "stream",
     "text": [
      "won\n",
      "6\n"
     ]
    },
    {
     "name": "stdin",
     "output_type": "stream",
     "text": [
      "enter the number between 1 to 10 6\n"
     ]
    },
    {
     "name": "stdout",
     "output_type": "stream",
     "text": [
      "won\n",
      "9\n"
     ]
    },
    {
     "name": "stdin",
     "output_type": "stream",
     "text": [
      "enter the number between 1 to 10 9\n"
     ]
    },
    {
     "name": "stdout",
     "output_type": "stream",
     "text": [
      "won\n"
     ]
    }
   ],
   "source": [
    "#case-2\n",
    "import random\n",
    "for i in range(3):\n",
    "    num1=random.randint(1,10)\n",
    "    print(num1)\n",
    "    num2=eval(input('enter the number between 1 to 10'))\n",
    "    if num1==num2:\n",
    "        print('won')\n",
    "    else:\n",
    "        print('lost')"
   ]
  },
  {
   "cell_type": "code",
   "execution_count": 62,
   "id": "35ddf830-e49a-4a76-a452-0fe873d8ea30",
   "metadata": {},
   "outputs": [
    {
     "name": "stdin",
     "output_type": "stream",
     "text": [
      "enter the number between 1 to 10 5\n"
     ]
    },
    {
     "name": "stdout",
     "output_type": "stream",
     "text": [
      "lost\n"
     ]
    },
    {
     "name": "stdin",
     "output_type": "stream",
     "text": [
      "enter the number between 1 to 10 4\n"
     ]
    },
    {
     "name": "stdout",
     "output_type": "stream",
     "text": [
      "lost\n"
     ]
    },
    {
     "name": "stdin",
     "output_type": "stream",
     "text": [
      "enter the number between 1 to 10 6\n"
     ]
    },
    {
     "name": "stdout",
     "output_type": "stream",
     "text": [
      "lost\n"
     ]
    }
   ],
   "source": [
    "#case-2\n",
    "import random\n",
    "for i in range(3):\n",
    "    num1=random.randint(1,10)\n",
    "    num2=eval(input('enter the number between 1 to 10'))\n",
    "    if num1==num2:\n",
    "        print('won')\n",
    "    else:\n",
    "        print('lost')\n",
    "    "
   ]
  },
  {
   "cell_type": "code",
   "execution_count": 5,
   "id": "8c0ade85-11b2-4d45-abc6-f5f2b915caf2",
   "metadata": {},
   "outputs": [
    {
     "name": "stdin",
     "output_type": "stream",
     "text": [
      "enter the number between 1 to 10 5\n"
     ]
    },
    {
     "name": "stdout",
     "output_type": "stream",
     "text": [
      "won\n"
     ]
    }
   ],
   "source": [
    "#case-3\n",
    "# suppose i want to give 3 chance\n",
    "# every time you  fail i want to dispaly\n",
    "# number of chances left\n",
    "\n",
    "# if all the chances you are used\n",
    "# try again after 24hrs\n",
    "\n",
    "import random\n",
    "for i in range(4):\n",
    "    num1=random.randint(1,10)\n",
    "    num2=eval(input('enter the number between 1 to 10'))\n",
    "    if num1==num2:\n",
    "        print('won')\n",
    "        break\n",
    "    else:\n",
    "        print('lost')\n",
    "        print(f'you have {3-i} more chances')\n",
    "    if i==3:\n",
    "        print('try after 24 hrs')\n",
    "    \n"
   ]
  },
  {
   "cell_type": "code",
   "execution_count": 4,
   "id": "9ab86a54-cee0-4895-891e-a2ec420ade0d",
   "metadata": {},
   "outputs": [
    {
     "name": "stdin",
     "output_type": "stream",
     "text": [
      "enter the number between 1 to 10 5\n"
     ]
    },
    {
     "name": "stdout",
     "output_type": "stream",
     "text": [
      "lost\n",
      "you have 3 more chances\n"
     ]
    },
    {
     "name": "stdin",
     "output_type": "stream",
     "text": [
      "enter the number between 1 to 10 3\n"
     ]
    },
    {
     "name": "stdout",
     "output_type": "stream",
     "text": [
      "lost\n",
      "you have 2 more chances\n"
     ]
    },
    {
     "name": "stdin",
     "output_type": "stream",
     "text": [
      "enter the number between 1 to 10 4\n"
     ]
    },
    {
     "name": "stdout",
     "output_type": "stream",
     "text": [
      "lost\n",
      "you have 1 more chances\n"
     ]
    },
    {
     "name": "stdin",
     "output_type": "stream",
     "text": [
      "enter the number between 1 to 10 9\n"
     ]
    },
    {
     "name": "stdout",
     "output_type": "stream",
     "text": [
      "lost\n",
      "you have 0 more chances\n",
      "try after 24 hrs\n"
     ]
    }
   ],
   "source": [
    "import random\n",
    "for i in range(4):\n",
    "    num1=random.randint(1,10)\n",
    "    num2=eval(input('enter the number between 1 to 10'))\n",
    "    if num1==num2:\n",
    "        print('won')\n",
    "        break\n",
    "    else:\n",
    "        print('lost')\n",
    "        print(f'you have {3-i} more chances')\n",
    "    if i==3:\n",
    "        print('try after 24 hrs')\n",
    "    \n"
   ]
  },
  {
   "cell_type": "code",
   "execution_count": 4,
   "id": "d63f9083-c746-430e-9403-fa97a4c8f83e",
   "metadata": {},
   "outputs": [
    {
     "name": "stdout",
     "output_type": "stream",
     "text": [
      "the total number of even number are: 4\n",
      "the total number of odd number are: 1\n"
     ]
    }
   ],
   "source": [
    "# wap ask the get 5 random number get wheater it is a even number or odd number  and\n",
    "# count how  many even numbers are and how many odd number are\n",
    "#idea\n",
    "# take even counter\n",
    "#take odd counter \n",
    "#for loop 5 times\n",
    "#each time different number\n",
    "#if condition\n",
    "#true counter update\n",
    "#else\n",
    "# counter update\n",
    "\n",
    "import random\n",
    "even_count=0\n",
    "odd_count=0\n",
    "for i in range(5):\n",
    "    num=random.randint(1,20)\n",
    "    if num%2==0:\n",
    "        even_count=even_count+1\n",
    "    else:\n",
    "        odd_count=odd_count+1\n",
    "print(f'the total number of even number are: {even_count}')\n",
    "print(f'the total number of odd number are: {odd_count}')\n",
    "        \n",
    "\n"
   ]
  },
  {
   "cell_type": "code",
   "execution_count": 9,
   "id": "941a9846-73e9-4e36-8c8b-fc286be13c49",
   "metadata": {},
   "outputs": [
    {
     "name": "stdout",
     "output_type": "stream",
     "text": [
      "the total number of even number are: 4\n",
      "the total summ of even number are:4\n",
      "the total number of odd number are: 1\n",
      "the total summ of odd number are:1\n"
     ]
    }
   ],
   "source": [
    "import random\n",
    "even_count,odd_count=0,0\n",
    "even_summ,odd_summ=0,0\n",
    "for i in range(5):\n",
    "    num=random.randint(1,100)\n",
    "    if num%2==0:\n",
    "        even_count=even_count+1\n",
    "        even_summ=even_summ+1\n",
    "    else:\n",
    "        odd_count=odd_count+1\n",
    "        odd_summ=odd_summ+1\n",
    "print(f'the total number of even number are: {even_count}')\n",
    "print(f'the total summ of even number are:{even_summ}')\n",
    "print(f'the total number of odd number are: {odd_count}')\n",
    "print(f'the total summ of odd number are:{odd_summ}')"
   ]
  },
  {
   "cell_type": "code",
   "execution_count": 3,
   "id": "845e82a8-42fa-4191-8c00-84e08d1f81c1",
   "metadata": {},
   "outputs": [
    {
     "ename": "UnboundLocalError",
     "evalue": "cannot access local variable 'even_count' where it is not associated with a value",
     "output_type": "error",
     "traceback": [
      "\u001b[1;31m---------------------------------------------------------------------------\u001b[0m",
      "\u001b[1;31mUnboundLocalError\u001b[0m                         Traceback (most recent call last)",
      "Cell \u001b[1;32mIn[3], line 16\u001b[0m\n\u001b[0;32m     14\u001b[0m           odd_summ\u001b[38;5;241m=\u001b[39modd_summ\u001b[38;5;241m+\u001b[39mnum\n\u001b[0;32m     15\u001b[0m      \u001b[38;5;28;01mreturn\u001b[39;00m(even_count,even_summ,odd_count,odd_summ)\n\u001b[1;32m---> 16\u001b[0m even_count,even_summ,odd_count,odd_summ\u001b[38;5;241m=\u001b[39meven_odd()\n\u001b[0;32m     17\u001b[0m \u001b[38;5;28mprint\u001b[39m(\u001b[38;5;124mf\u001b[39m\u001b[38;5;124m'\u001b[39m\u001b[38;5;124mthe total number of even number are: \u001b[39m\u001b[38;5;132;01m{\u001b[39;00meven_count\u001b[38;5;132;01m}\u001b[39;00m\u001b[38;5;124m'\u001b[39m)\n\u001b[0;32m     18\u001b[0m \u001b[38;5;28mprint\u001b[39m(\u001b[38;5;124mf\u001b[39m\u001b[38;5;124m'\u001b[39m\u001b[38;5;124mthe total summ of even number are:\u001b[39m\u001b[38;5;132;01m{\u001b[39;00meven_summ\u001b[38;5;132;01m}\u001b[39;00m\u001b[38;5;124m'\u001b[39m)\n",
      "Cell \u001b[1;32mIn[3], line 10\u001b[0m, in \u001b[0;36meven_odd\u001b[1;34m()\u001b[0m\n\u001b[0;32m      8\u001b[0m num\u001b[38;5;241m=\u001b[39mrandom\u001b[38;5;241m.\u001b[39mrandint(\u001b[38;5;241m1\u001b[39m,\u001b[38;5;241m100\u001b[39m)\n\u001b[0;32m      9\u001b[0m \u001b[38;5;28;01mif\u001b[39;00m num\u001b[38;5;241m%\u001b[39m\u001b[38;5;241m2\u001b[39m\u001b[38;5;241m==\u001b[39m\u001b[38;5;241m0\u001b[39m:\n\u001b[1;32m---> 10\u001b[0m    even_count\u001b[38;5;241m=\u001b[39meven_count\u001b[38;5;241m+\u001b[39m\u001b[38;5;241m1\u001b[39m\n\u001b[0;32m     11\u001b[0m    even_summ\u001b[38;5;241m=\u001b[39meven_summ\u001b[38;5;241m+\u001b[39mnum\n\u001b[0;32m     12\u001b[0m \u001b[38;5;28;01melse\u001b[39;00m:\n",
      "\u001b[1;31mUnboundLocalError\u001b[0m: cannot access local variable 'even_count' where it is not associated with a value"
     ]
    }
   ],
   "source": [
    "#create a function on above code \n",
    "# return all 4 \n",
    "import random\n",
    "even_count,odd_count=0,0\n",
    "even_summ,odd_summ=0,0\n",
    "def even_odd():\n",
    "     for i in range(5):\n",
    "        num=random.randint(1,100)\n",
    "        if num%2==0:\n",
    "           even_count=even_count+1\n",
    "           even_summ=even_summ+num\n",
    "        else:\n",
    "          odd_count=odd_count+1\n",
    "          odd_summ=odd_summ+num\n",
    "     return(even_count,even_summ,odd_count,odd_summ)\n",
    "even_count,even_summ,odd_count,odd_summ=even_odd()\n",
    "print(f'the total number of even number are: {even_count}')\n",
    "print(f'the total summ of even number are:{even_summ}')\n",
    "print(f'the total number of odd number are: {odd_count}')\n",
    "print(f'the total summ of odd number are:{odd_summ}')\n",
    "\n"
   ]
  },
  {
   "cell_type": "markdown",
   "id": "53a66fc5-8d98-480e-ad68-712ad027a32f",
   "metadata": {},
   "source": [
    "**in operator**"
   ]
  },
  {
   "cell_type": "code",
   "execution_count": 18,
   "id": "68f69426-73f8-4ddd-be12-238bc3aacec3",
   "metadata": {},
   "outputs": [
    {
     "data": {
      "text/plain": [
       "True"
      ]
     },
     "execution_count": 18,
     "metadata": {},
     "output_type": "execute_result"
    }
   ],
   "source": [
    "string1='python'\n",
    "'p' in string1\n",
    "'y' in string1\n",
    "'t' in string1\n",
    "\n"
   ]
  },
  {
   "cell_type": "code",
   "execution_count": 19,
   "id": "a32deea6-e98c-4254-bda1-29ee6a7a0375",
   "metadata": {},
   "outputs": [
    {
     "name": "stdout",
     "output_type": "stream",
     "text": [
      "p\n",
      "y\n",
      "t\n",
      "h\n",
      "o\n",
      "n\n"
     ]
    }
   ],
   "source": [
    "for i in string1:\n",
    "    print(i)"
   ]
  },
  {
   "cell_type": "markdown",
   "id": "cc480649-0d94-4a7a-a99e-725de156c769",
   "metadata": {},
   "source": [
    "**diference between in operator and range operator**\n",
    "- range belongs to math familly\n",
    "- inside range we need  to keep number only\n",
    "- whenever we want to iterate through a english letter\n",
    "- we need to chose in operator\n",
    "- range means number\n",
    "- in means strings"
   ]
  },
  {
   "cell_type": "markdown",
   "id": "8f027ecd-92af-424e-bece-75ad8d08d668",
   "metadata": {},
   "source": [
    "- every english letter \n",
    "- every spl character how machine will understand\n",
    "- machine language always consider as number\n",
    "- every non-numeric assign a number\n",
    "- ASCII: american standard code for information inter-change\n",
    "- A:65,a:97"
   ]
  },
  {
   "cell_type": "markdown",
   "id": "b283e350-e430-4c16-9ef2-90b111b9e0fa",
   "metadata": {},
   "source": [
    "**ord-char**"
   ]
  },
  {
   "cell_type": "code",
   "execution_count": 30,
   "id": "7eb0dacf-0cb9-4209-967f-a47ef445e482",
   "metadata": {},
   "outputs": [
    {
     "data": {
      "text/plain": [
       "(65, 97)"
      ]
     },
     "execution_count": 30,
     "metadata": {},
     "output_type": "execute_result"
    }
   ],
   "source": [
    "ord('A'),ord('a')"
   ]
  },
  {
   "cell_type": "code",
   "execution_count": 32,
   "id": "bf432572-6fda-4325-87be-437f3f8b2dd4",
   "metadata": {},
   "outputs": [
    {
     "data": {
      "text/plain": [
       "(80, 112)"
      ]
     },
     "execution_count": 32,
     "metadata": {},
     "output_type": "execute_result"
    }
   ],
   "source": [
    "ord('P'),ord('p')"
   ]
  },
  {
   "cell_type": "code",
   "execution_count": 33,
   "id": "7bb8c68e-2a7a-4e53-8d6f-b53837991c73",
   "metadata": {},
   "outputs": [
    {
     "data": {
      "text/plain": [
       "True"
      ]
     },
     "execution_count": 33,
     "metadata": {},
     "output_type": "execute_result"
    }
   ],
   "source": [
    "'p'>'P'"
   ]
  },
  {
   "cell_type": "code",
   "execution_count": 35,
   "id": "ca6384dc-5ed9-4852-bc85-835434c38a0c",
   "metadata": {},
   "outputs": [
    {
     "data": {
      "text/plain": [
       "'p'"
      ]
     },
     "execution_count": 35,
     "metadata": {},
     "output_type": "execute_result"
    }
   ],
   "source": [
    "chr(112)"
   ]
  },
  {
   "cell_type": "code",
   "execution_count": 36,
   "id": "3e85bf28-f5af-4090-8e34-e93429b9d6a8",
   "metadata": {},
   "outputs": [
    {
     "data": {
      "text/plain": [
       "('a', 'A', 'd')"
      ]
     },
     "execution_count": 36,
     "metadata": {},
     "output_type": "execute_result"
    }
   ],
   "source": [
    "chr(97),chr(65),chr(100)"
   ]
  },
  {
   "cell_type": "code",
   "execution_count": 50,
   "id": "95ed2a15-2670-4cfd-8c6d-6d15365b35e4",
   "metadata": {},
   "outputs": [
    {
     "name": "stdout",
     "output_type": "stream",
     "text": [
      "the summation is 674\n"
     ]
    }
   ],
   "source": [
    "# I want string1: 'pytho'\n",
    "# print all ascii number for python\n",
    "ascii_summ=0\n",
    "\n",
    "for i in 'python':\n",
    "    ascii_summ=ascii_summ+ord(i)\n",
    "print(f'the summation is {ascii_summ}')"
   ]
  },
  {
   "cell_type": "code",
   "execution_count": null,
   "id": "d42dffde-a009-484c-b390-9909fcb0b804",
   "metadata": {},
   "outputs": [],
   "source": [
    "# I want to know all ascii number from Ato Z\n",
    "#pacakge:string\n",
    "# apply dir\n",
    "#there are some  methods are there\n",
    "# in that one method will capital lettes"
   ]
  },
  {
   "cell_type": "code",
   "execution_count": 51,
   "id": "026be661-a4a5-4184-a5c5-375777d30c22",
   "metadata": {},
   "outputs": [],
   "source": [
    "import string"
   ]
  },
  {
   "cell_type": "code",
   "execution_count": 52,
   "id": "1a166d9f-5ee7-4d69-80c5-f388de4cf6a7",
   "metadata": {},
   "outputs": [
    {
     "data": {
      "text/plain": [
       "['Formatter',\n",
       " 'Template',\n",
       " '_ChainMap',\n",
       " '__all__',\n",
       " '__builtins__',\n",
       " '__cached__',\n",
       " '__doc__',\n",
       " '__file__',\n",
       " '__loader__',\n",
       " '__name__',\n",
       " '__package__',\n",
       " '__spec__',\n",
       " '_re',\n",
       " '_sentinel_dict',\n",
       " '_string',\n",
       " 'ascii_letters',\n",
       " 'ascii_lowercase',\n",
       " 'ascii_uppercase',\n",
       " 'capwords',\n",
       " 'digits',\n",
       " 'hexdigits',\n",
       " 'octdigits',\n",
       " 'printable',\n",
       " 'punctuation',\n",
       " 'whitespace']"
      ]
     },
     "execution_count": 52,
     "metadata": {},
     "output_type": "execute_result"
    }
   ],
   "source": [
    "dir(string)"
   ]
  },
  {
   "cell_type": "code",
   "execution_count": 53,
   "id": "1d31c660-66c6-4c04-83df-03d16fd5cdd1",
   "metadata": {},
   "outputs": [
    {
     "name": "stdout",
     "output_type": "stream",
     "text": [
      "No Python documentation found for 'ABCDEFGHIJKLMNOPQRSTUVWXYZ'.\n",
      "Use help() to get the interactive help utility.\n",
      "Use help(str) for help on the str class.\n",
      "\n"
     ]
    }
   ],
   "source": [
    "help(string.ascii_uppercase)"
   ]
  },
  {
   "cell_type": "code",
   "execution_count": 59,
   "id": "b3821381-bb87-4d4d-9808-fd61c6950eea",
   "metadata": {},
   "outputs": [
    {
     "name": "stdout",
     "output_type": "stream",
     "text": [
      "A 65\n",
      "B 66\n",
      "C 67\n",
      "D 68\n",
      "E 69\n",
      "F 70\n",
      "G 71\n",
      "H 72\n",
      "I 73\n",
      "J 74\n",
      "K 75\n",
      "L 76\n",
      "M 77\n",
      "N 78\n",
      "O 79\n",
      "P 80\n",
      "Q 81\n",
      "R 82\n",
      "S 83\n",
      "T 84\n",
      "U 85\n",
      "V 86\n",
      "W 87\n",
      "X 88\n",
      "Y 89\n",
      "Z 90\n"
     ]
    }
   ],
   "source": [
    "import string\n",
    "string1=string.ascii_uppercase\n",
    "for i in string1:\n",
    "    print(i,ord(i))\n",
    "        "
   ]
  },
  {
   "cell_type": "code",
   "execution_count": 62,
   "id": "7b4629a8-9dd7-4f84-8605-4d717794be96",
   "metadata": {},
   "outputs": [
    {
     "data": {
      "text/plain": [
       "'ABCDEFGHIJKLMNOPQRSTUVWXYZ'"
      ]
     },
     "execution_count": 62,
     "metadata": {},
     "output_type": "execute_result"
    }
   ],
   "source": [
    "string.ascii_uppercase"
   ]
  },
  {
   "cell_type": "code",
   "execution_count": 67,
   "id": "c1216240-c51d-4c07-bf89-c6310ea50a46",
   "metadata": {},
   "outputs": [
    {
     "name": "stdout",
     "output_type": "stream",
     "text": [
      "the ascii number of A is 65\n",
      "the ascii number of B is 66\n",
      "the ascii number of C is 67\n",
      "the ascii number of D is 68\n",
      "the ascii number of E is 69\n",
      "the ascii number of F is 70\n",
      "the ascii number of G is 71\n",
      "the ascii number of H is 72\n",
      "the ascii number of I is 73\n",
      "the ascii number of J is 74\n",
      "the ascii number of K is 75\n",
      "the ascii number of L is 76\n",
      "the ascii number of M is 77\n",
      "the ascii number of N is 78\n",
      "the ascii number of O is 79\n",
      "the ascii number of P is 80\n",
      "the ascii number of Q is 81\n",
      "the ascii number of R is 82\n",
      "the ascii number of S is 83\n",
      "the ascii number of T is 84\n",
      "the ascii number of U is 85\n",
      "the ascii number of V is 86\n",
      "the ascii number of W is 87\n",
      "the ascii number of X is 88\n",
      "the ascii number of Y is 89\n",
      "the ascii number of Z is 90\n"
     ]
    }
   ],
   "source": [
    "import string\n",
    "letters=string.ascii_uppercase\n",
    "for i in letters:\n",
    "    print(f'the ascii number of {i} is {ord(i)}')"
   ]
  },
  {
   "cell_type": "code",
   "execution_count": 68,
   "id": "05f8813e-a5d0-43cd-8df9-acd3a4c916cf",
   "metadata": {},
   "outputs": [
    {
     "data": {
      "text/plain": [
       "'!\"#$%&\\'()*+,-./:;<=>?@[\\\\]^_`{|}~'"
      ]
     },
     "execution_count": 68,
     "metadata": {},
     "output_type": "execute_result"
    }
   ],
   "source": [
    "string.punctuation"
   ]
  },
  {
   "cell_type": "code",
   "execution_count": 69,
   "id": "8838a89c-7c1b-40f5-bf76-101def21d75d",
   "metadata": {},
   "outputs": [
    {
     "name": "stdout",
     "output_type": "stream",
     "text": [
      "! 33\n",
      "\" 34\n",
      "# 35\n",
      "$ 36\n",
      "% 37\n",
      "& 38\n",
      "' 39\n",
      "( 40\n",
      ") 41\n",
      "* 42\n",
      "+ 43\n",
      ", 44\n",
      "- 45\n",
      ". 46\n",
      "/ 47\n",
      ": 58\n",
      "; 59\n",
      "< 60\n",
      "= 61\n",
      "> 62\n",
      "? 63\n",
      "@ 64\n",
      "[ 91\n",
      "\\ 92\n",
      "] 93\n",
      "^ 94\n",
      "_ 95\n",
      "` 96\n",
      "{ 123\n",
      "| 124\n",
      "} 125\n",
      "~ 126\n"
     ]
    }
   ],
   "source": [
    "a=string.punctuation\n",
    "for i in a:\n",
    "    print(i,ord(i))"
   ]
  },
  {
   "cell_type": "code",
   "execution_count": 70,
   "id": "fdcca810-967b-4c09-8a9a-1d6c5068be87",
   "metadata": {},
   "outputs": [
    {
     "name": "stdout",
     "output_type": "stream",
     "text": [
      "the ascii number of a is 97\n",
      "the ascii number of b is 98\n",
      "the ascii number of c is 99\n",
      "the ascii number of d is 100\n",
      "the ascii number of e is 101\n",
      "the ascii number of f is 102\n",
      "the ascii number of g is 103\n",
      "the ascii number of h is 104\n",
      "the ascii number of i is 105\n",
      "the ascii number of j is 106\n",
      "the ascii number of k is 107\n",
      "the ascii number of l is 108\n",
      "the ascii number of m is 109\n",
      "the ascii number of n is 110\n",
      "the ascii number of o is 111\n",
      "the ascii number of p is 112\n",
      "the ascii number of q is 113\n",
      "the ascii number of r is 114\n",
      "the ascii number of s is 115\n",
      "the ascii number of t is 116\n",
      "the ascii number of u is 117\n",
      "the ascii number of v is 118\n",
      "the ascii number of w is 119\n",
      "the ascii number of x is 120\n",
      "the ascii number of y is 121\n",
      "the ascii number of z is 122\n"
     ]
    }
   ],
   "source": [
    "import string\n",
    "letters=string.ascii_lowercase\n",
    "for i in letters:\n",
    "    print(f'the ascii number of {i} is {ord(i)}')"
   ]
  },
  {
   "cell_type": "code",
   "execution_count": 71,
   "id": "9244f2ef-84a7-4fd0-a200-35d5cbd0b999",
   "metadata": {},
   "outputs": [
    {
     "name": "stdout",
     "output_type": "stream",
     "text": [
      "33 !\n",
      "34 \"\n",
      "35 #\n",
      "36 $\n",
      "37 %\n",
      "38 &\n",
      "39 '\n",
      "40 (\n",
      "41 )\n",
      "42 *\n",
      "43 +\n",
      "44 ,\n",
      "45 -\n",
      "46 .\n",
      "47 /\n",
      "48 0\n",
      "49 1\n",
      "50 2\n",
      "51 3\n",
      "52 4\n",
      "53 5\n",
      "54 6\n",
      "55 7\n",
      "56 8\n",
      "57 9\n",
      "58 :\n",
      "59 ;\n",
      "60 <\n",
      "61 =\n",
      "62 >\n",
      "63 ?\n",
      "64 @\n",
      "65 A\n",
      "66 B\n",
      "67 C\n",
      "68 D\n",
      "69 E\n",
      "70 F\n",
      "71 G\n",
      "72 H\n",
      "73 I\n",
      "74 J\n",
      "75 K\n",
      "76 L\n",
      "77 M\n",
      "78 N\n",
      "79 O\n",
      "80 P\n",
      "81 Q\n",
      "82 R\n",
      "83 S\n",
      "84 T\n",
      "85 U\n",
      "86 V\n",
      "87 W\n",
      "88 X\n",
      "89 Y\n",
      "90 Z\n",
      "91 [\n",
      "92 \\\n",
      "93 ]\n",
      "94 ^\n",
      "95 _\n",
      "96 `\n",
      "97 a\n",
      "98 b\n",
      "99 c\n",
      "100 d\n",
      "101 e\n",
      "102 f\n",
      "103 g\n",
      "104 h\n",
      "105 i\n",
      "106 j\n",
      "107 k\n",
      "108 l\n",
      "109 m\n",
      "110 n\n",
      "111 o\n",
      "112 p\n",
      "113 q\n",
      "114 r\n",
      "115 s\n",
      "116 t\n",
      "117 u\n",
      "118 v\n",
      "119 w\n",
      "120 x\n",
      "121 y\n",
      "122 z\n",
      "123 {\n",
      "124 |\n",
      "125 }\n"
     ]
    }
   ],
   "source": [
    "for i in range(33,126):\n",
    "    print(i,chr(i))"
   ]
  },
  {
   "cell_type": "code",
   "execution_count": 72,
   "id": "110d50be-7f64-45fd-a854-d00c4a367be9",
   "metadata": {},
   "outputs": [
    {
     "name": "stdout",
     "output_type": "stream",
     "text": [
      "33 ! >34 \" >35 # >36 $ >37 % >38 & >39 ' >40 ( >41 ) >42 * >43 + >44 , >45 - >46 . >47 / >48 0 >49 1 >50 2 >51 3 >52 4 >53 5 >54 6 >55 7 >56 8 >57 9 >58 : >59 ; >60 < >61 = >62 > >63 ? >64 @ >65 A >66 B >67 C >68 D >69 E >70 F >71 G >72 H >73 I >74 J >75 K >76 L >77 M >78 N >79 O >80 P >81 Q >82 R >83 S >84 T >85 U >86 V >87 W >88 X >89 Y >90 Z >91 [ >92 \\ >93 ] >94 ^ >95 _ >96 ` >97 a >98 b >99 c >100 d >101 e >102 f >103 g >104 h >105 i >106 j >107 k >108 l >109 m >110 n >111 o >112 p >113 q >114 r >115 s >116 t >117 u >118 v >119 w >120 x >121 y >122 z >123 { >124 | >125 } >"
     ]
    }
   ],
   "source": [
    "for i in range(33,126):\n",
    "    print(i,chr(i),end=' >')"
   ]
  },
  {
   "cell_type": "code",
   "execution_count": 74,
   "id": "47d2ee62-4700-46a6-97b7-ad8c906781b3",
   "metadata": {},
   "outputs": [
    {
     "name": "stdout",
     "output_type": "stream",
     "text": [
      "33 !\n",
      "34 \"\n",
      "35 #\n",
      "36 $\n",
      "37 %\n",
      "38 &\n",
      "39 '\n",
      "40 (\n",
      "41 )\n",
      "42 *\n",
      "43 +\n",
      "44 ,\n",
      "45 -\n",
      "46 .\n",
      "47 /\n",
      "48 0\n",
      "49 1\n",
      "50 2\n",
      "51 3\n",
      "52 4\n",
      "53 5\n",
      "54 6\n",
      "55 7\n",
      "56 8\n",
      "57 9\n",
      "58 :\n",
      "59 ;\n",
      "60 <\n",
      "61 =\n",
      "62 >\n",
      "63 ?\n",
      "64 @\n",
      "65 A\n",
      "66 B\n",
      "67 C\n",
      "68 D\n",
      "69 E\n",
      "70 F\n",
      "71 G\n",
      "72 H\n",
      "73 I\n",
      "74 J\n",
      "75 K\n",
      "76 L\n",
      "77 M\n",
      "78 N\n",
      "79 O\n",
      "80 P\n",
      "81 Q\n",
      "82 R\n",
      "83 S\n",
      "84 T\n",
      "85 U\n",
      "86 V\n",
      "87 W\n",
      "88 X\n",
      "89 Y\n",
      "90 Z\n",
      "91 [\n",
      "92 \\\n",
      "93 ]\n",
      "94 ^\n",
      "95 _\n",
      "96 `\n",
      "97 a\n",
      "98 b\n",
      "99 c\n",
      "100 d\n",
      "101 e\n",
      "102 f\n",
      "103 g\n",
      "104 h\n",
      "105 i\n",
      "106 j\n",
      "107 k\n",
      "108 l\n",
      "109 m\n",
      "110 n\n",
      "111 o\n",
      "112 p\n",
      "113 q\n",
      "114 r\n",
      "115 s\n",
      "116 t\n",
      "117 u\n",
      "118 v\n",
      "119 w\n",
      "120 x\n",
      "121 y\n",
      "122 z\n",
      "123 {\n",
      "124 |\n",
      "125 }\n",
      "126 ~\n",
      "127 \n",
      "128 \n",
      "129 \n",
      "130 \n",
      "131 \n",
      "132 \n",
      "133 ",
      "\n",
      "134 \n",
      "135 \n",
      "136 \n",
      "137 \n",
      "138 \n",
      "139 \n",
      "140 \n",
      "141 \n",
      "142 \n",
      "143 \n",
      "144 \n",
      "145 \n",
      "146 \n",
      "147 \n",
      "148 \n",
      "149 \n",
      "150 \n",
      "151 \n",
      "152 \n",
      "153 \n",
      "154 \n",
      "155 \n",
      "156 \n",
      "157 \n",
      "158 \n",
      "159 \n",
      "160  \n",
      "161 ¡\n",
      "162 ¢\n",
      "163 £\n",
      "164 ¤\n",
      "165 ¥\n",
      "166 ¦\n",
      "167 §\n",
      "168 ¨\n",
      "169 ©\n",
      "170 ª\n",
      "171 «\n",
      "172 ¬\n",
      "173 ­\n",
      "174 ®\n",
      "175 ¯\n",
      "176 °\n",
      "177 ±\n",
      "178 ²\n",
      "179 ³\n",
      "180 ´\n",
      "181 µ\n",
      "182 ¶\n",
      "183 ·\n",
      "184 ¸\n",
      "185 ¹\n",
      "186 º\n",
      "187 »\n",
      "188 ¼\n",
      "189 ½\n",
      "190 ¾\n",
      "191 ¿\n",
      "192 À\n",
      "193 Á\n",
      "194 Â\n",
      "195 Ã\n",
      "196 Ä\n",
      "197 Å\n",
      "198 Æ\n",
      "199 Ç\n",
      "200 È\n",
      "201 É\n",
      "202 Ê\n",
      "203 Ë\n",
      "204 Ì\n",
      "205 Í\n",
      "206 Î\n",
      "207 Ï\n",
      "208 Ð\n",
      "209 Ñ\n",
      "210 Ò\n",
      "211 Ó\n",
      "212 Ô\n",
      "213 Õ\n",
      "214 Ö\n",
      "215 ×\n",
      "216 Ø\n",
      "217 Ù\n",
      "218 Ú\n",
      "219 Û\n",
      "220 Ü\n",
      "221 Ý\n",
      "222 Þ\n",
      "223 ß\n",
      "224 à\n",
      "225 á\n",
      "226 â\n",
      "227 ã\n",
      "228 ä\n",
      "229 å\n",
      "230 æ\n",
      "231 ç\n",
      "232 è\n",
      "233 é\n",
      "234 ê\n",
      "235 ë\n",
      "236 ì\n",
      "237 í\n",
      "238 î\n",
      "239 ï\n",
      "240 ð\n",
      "241 ñ\n",
      "242 ò\n",
      "243 ó\n",
      "244 ô\n",
      "245 õ\n",
      "246 ö\n",
      "247 ÷\n",
      "248 ø\n",
      "249 ù\n",
      "250 ú\n",
      "251 û\n",
      "252 ü\n",
      "253 ý\n",
      "254 þ\n",
      "255 ÿ\n",
      "256 Ā\n",
      "257 ā\n",
      "258 Ă\n",
      "259 ă\n",
      "260 Ą\n",
      "261 ą\n",
      "262 Ć\n",
      "263 ć\n",
      "264 Ĉ\n",
      "265 ĉ\n",
      "266 Ċ\n",
      "267 ċ\n",
      "268 Č\n",
      "269 č\n",
      "270 Ď\n",
      "271 ď\n",
      "272 Đ\n",
      "273 đ\n",
      "274 Ē\n",
      "275 ē\n",
      "276 Ĕ\n",
      "277 ĕ\n",
      "278 Ė\n",
      "279 ė\n",
      "280 Ę\n",
      "281 ę\n",
      "282 Ě\n",
      "283 ě\n",
      "284 Ĝ\n",
      "285 ĝ\n",
      "286 Ğ\n",
      "287 ğ\n",
      "288 Ġ\n",
      "289 ġ\n",
      "290 Ģ\n",
      "291 ģ\n",
      "292 Ĥ\n",
      "293 ĥ\n",
      "294 Ħ\n",
      "295 ħ\n",
      "296 Ĩ\n",
      "297 ĩ\n",
      "298 Ī\n",
      "299 ī\n",
      "300 Ĭ\n",
      "301 ĭ\n",
      "302 Į\n",
      "303 į\n",
      "304 İ\n",
      "305 ı\n",
      "306 Ĳ\n",
      "307 ĳ\n",
      "308 Ĵ\n",
      "309 ĵ\n",
      "310 Ķ\n",
      "311 ķ\n",
      "312 ĸ\n",
      "313 Ĺ\n",
      "314 ĺ\n",
      "315 Ļ\n",
      "316 ļ\n",
      "317 Ľ\n",
      "318 ľ\n",
      "319 Ŀ\n",
      "320 ŀ\n",
      "321 Ł\n",
      "322 ł\n",
      "323 Ń\n",
      "324 ń\n",
      "325 Ņ\n",
      "326 ņ\n",
      "327 Ň\n",
      "328 ň\n",
      "329 ŉ\n",
      "330 Ŋ\n",
      "331 ŋ\n",
      "332 Ō\n",
      "333 ō\n",
      "334 Ŏ\n",
      "335 ŏ\n",
      "336 Ő\n",
      "337 ő\n",
      "338 Œ\n",
      "339 œ\n",
      "340 Ŕ\n",
      "341 ŕ\n",
      "342 Ŗ\n",
      "343 ŗ\n",
      "344 Ř\n",
      "345 ř\n",
      "346 Ś\n",
      "347 ś\n",
      "348 Ŝ\n",
      "349 ŝ\n",
      "350 Ş\n",
      "351 ş\n",
      "352 Š\n",
      "353 š\n",
      "354 Ţ\n",
      "355 ţ\n",
      "356 Ť\n",
      "357 ť\n",
      "358 Ŧ\n",
      "359 ŧ\n",
      "360 Ũ\n",
      "361 ũ\n",
      "362 Ū\n",
      "363 ū\n",
      "364 Ŭ\n",
      "365 ŭ\n",
      "366 Ů\n",
      "367 ů\n",
      "368 Ű\n",
      "369 ű\n",
      "370 Ų\n",
      "371 ų\n",
      "372 Ŵ\n",
      "373 ŵ\n",
      "374 Ŷ\n",
      "375 ŷ\n",
      "376 Ÿ\n",
      "377 Ź\n",
      "378 ź\n",
      "379 Ż\n",
      "380 ż\n",
      "381 Ž\n",
      "382 ž\n",
      "383 ſ\n",
      "384 ƀ\n",
      "385 Ɓ\n",
      "386 Ƃ\n",
      "387 ƃ\n",
      "388 Ƅ\n",
      "389 ƅ\n",
      "390 Ɔ\n",
      "391 Ƈ\n",
      "392 ƈ\n",
      "393 Ɖ\n",
      "394 Ɗ\n",
      "395 Ƌ\n",
      "396 ƌ\n",
      "397 ƍ\n",
      "398 Ǝ\n",
      "399 Ə\n",
      "400 Ɛ\n",
      "401 Ƒ\n",
      "402 ƒ\n",
      "403 Ɠ\n",
      "404 Ɣ\n",
      "405 ƕ\n",
      "406 Ɩ\n",
      "407 Ɨ\n",
      "408 Ƙ\n",
      "409 ƙ\n",
      "410 ƚ\n",
      "411 ƛ\n",
      "412 Ɯ\n",
      "413 Ɲ\n",
      "414 ƞ\n",
      "415 Ɵ\n",
      "416 Ơ\n",
      "417 ơ\n",
      "418 Ƣ\n",
      "419 ƣ\n"
     ]
    }
   ],
   "source": [
    "for  i in range(33,420):\n",
    "     print(i,chr(i))\n",
    " "
   ]
  },
  {
   "cell_type": "code",
   "execution_count": null,
   "id": "33714b37-9908-438f-9a5d-e7147e90d4ca",
   "metadata": {},
   "outputs": [],
   "source": []
  }
 ],
 "metadata": {
  "kernelspec": {
   "display_name": "Python 3 (ipykernel)",
   "language": "python",
   "name": "python3"
  },
  "language_info": {
   "codemirror_mode": {
    "name": "ipython",
    "version": 3
   },
   "file_extension": ".py",
   "mimetype": "text/x-python",
   "name": "python",
   "nbconvert_exporter": "python",
   "pygments_lexer": "ipython3",
   "version": "3.11.7"
  }
 },
 "nbformat": 4,
 "nbformat_minor": 5
}
