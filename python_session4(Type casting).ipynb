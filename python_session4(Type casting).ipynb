{
 "cells": [
  {
   "cell_type": "raw",
   "id": "ac9070c5-75ed-4076-9d09-036f6224665f",
   "metadata": {},
   "source": [
    "**TYPE CASTING**"
   ]
  },
  {
   "cell_type": "markdown",
   "id": "7acaf985-11a2-4517-a2ef-2e6e98ef51fe",
   "metadata": {},
   "source": [
    "**INTEGER TO OTHER DATA TYPE**"
   ]
  },
  {
   "cell_type": "markdown",
   "id": "1c257084-7570-49a8-8fdb-302a2c0c565d",
   "metadata": {},
   "source": [
    "$int=float"
   ]
  },
  {
   "cell_type": "code",
   "execution_count": 3,
   "id": "e2b99db0-c8ed-4f54-ae01-5d180c4a5698",
   "metadata": {},
   "outputs": [
    {
     "ename": "NameError",
     "evalue": "name 'float_num' is not defined",
     "output_type": "error",
     "traceback": [
      "\u001b[1;31m---------------------------------------------------------------------------\u001b[0m",
      "\u001b[1;31mNameError\u001b[0m                                 Traceback (most recent call last)",
      "Cell \u001b[1;32mIn[3], line 2\u001b[0m\n\u001b[0;32m      1\u001b[0m num\u001b[38;5;241m=\u001b[39m\u001b[38;5;241m100\u001b[39m\n\u001b[1;32m----> 2\u001b[0m float_num\n",
      "\u001b[1;31mNameError\u001b[0m: name 'float_num' is not defined"
     ]
    }
   ],
   "source": [
    "num=100\n",
    "flo"
   ]
  },
  {
   "cell_type": "markdown",
   "id": "d2c20e9a-9e87-47b0-b72c-631aa70fd85c",
   "metadata": {},
   "source": [
    "**float to another data type**"
   ]
  },
  {
   "cell_type": "code",
   "execution_count": 4,
   "id": "83c37318-7650-475b-afdf-9e6f8abf72c2",
   "metadata": {},
   "outputs": [
    {
     "data": {
      "text/plain": [
       "True"
      ]
     },
     "execution_count": 4,
     "metadata": {},
     "output_type": "execute_result"
    }
   ],
   "source": [
    "int(200.5) #200\n",
    "str(200.5) #200.5\n",
    "bool(200.5) #tue"
   ]
  },
  {
   "cell_type": "code",
   "execution_count": null,
   "id": "417f3bec-85e1-486c-92f8-928a4c667a5a",
   "metadata": {},
   "outputs": [],
   "source": []
  },
  {
   "cell_type": "markdown",
   "id": "61d246da-0ec8-4101-a706-397d4d60a2a6",
   "metadata": {},
   "source": [
    "**string to another data type**"
   ]
  },
  {
   "cell_type": "code",
   "execution_count": 5,
   "id": "7e828610-6364-4277-832c-a49fe2bff65d",
   "metadata": {},
   "outputs": [
    {
     "data": {
      "text/plain": [
       "'apple'"
      ]
     },
     "execution_count": 5,
     "metadata": {},
     "output_type": "execute_result"
    }
   ],
   "source": [
    "str('apple')"
   ]
  },
  {
   "cell_type": "code",
   "execution_count": 6,
   "id": "9b9eeab9-bd62-4388-b7ae-26d5d3f8645c",
   "metadata": {},
   "outputs": [
    {
     "ename": "ValueError",
     "evalue": "invalid literal for int() with base 10: 'apple'",
     "output_type": "error",
     "traceback": [
      "\u001b[1;31m---------------------------------------------------------------------------\u001b[0m",
      "\u001b[1;31mValueError\u001b[0m                                Traceback (most recent call last)",
      "Cell \u001b[1;32mIn[6], line 1\u001b[0m\n\u001b[1;32m----> 1\u001b[0m \u001b[38;5;28mint\u001b[39m(\u001b[38;5;124m'\u001b[39m\u001b[38;5;124mapple\u001b[39m\u001b[38;5;124m'\u001b[39m)\n",
      "\u001b[1;31mValueError\u001b[0m: invalid literal for int() with base 10: 'apple'"
     ]
    }
   ],
   "source": [
    "int('apple')"
   ]
  },
  {
   "cell_type": "code",
   "execution_count": 8,
   "id": "be7356d0-83d6-4624-bfb1-968821f31f75",
   "metadata": {},
   "outputs": [
    {
     "ename": "ValueError",
     "evalue": "could not convert string to float: 'apple'",
     "output_type": "error",
     "traceback": [
      "\u001b[1;31m---------------------------------------------------------------------------\u001b[0m",
      "\u001b[1;31mValueError\u001b[0m                                Traceback (most recent call last)",
      "Cell \u001b[1;32mIn[8], line 1\u001b[0m\n\u001b[1;32m----> 1\u001b[0m \u001b[38;5;28mfloat\u001b[39m(\u001b[38;5;124m'\u001b[39m\u001b[38;5;124mapple\u001b[39m\u001b[38;5;124m'\u001b[39m)\n",
      "\u001b[1;31mValueError\u001b[0m: could not convert string to float: 'apple'"
     ]
    }
   ],
   "source": [
    "float('apple')"
   ]
  },
  {
   "cell_type": "code",
   "execution_count": 9,
   "id": "39a06bef-88fe-403a-a487-c7c38aaf8e33",
   "metadata": {},
   "outputs": [
    {
     "data": {
      "text/plain": [
       "True"
      ]
     },
     "execution_count": 9,
     "metadata": {},
     "output_type": "execute_result"
    }
   ],
   "source": [
    "bool('apple')"
   ]
  },
  {
   "cell_type": "code",
   "execution_count": 10,
   "id": "0f9821ce-f35e-489b-9b92-70f88a14fbfa",
   "metadata": {},
   "outputs": [
    {
     "data": {
      "text/plain": [
       "10"
      ]
     },
     "execution_count": 10,
     "metadata": {},
     "output_type": "execute_result"
    }
   ],
   "source": [
    "int('10')"
   ]
  },
  {
   "cell_type": "code",
   "execution_count": 11,
   "id": "555734cf-5f49-4c5a-8b58-0c0585c23386",
   "metadata": {},
   "outputs": [
    {
     "data": {
      "text/plain": [
       "10.0"
      ]
     },
     "execution_count": 11,
     "metadata": {},
     "output_type": "execute_result"
    }
   ],
   "source": [
    "float('10')"
   ]
  },
  {
   "cell_type": "code",
   "execution_count": 12,
   "id": "9a09ee45-4d63-499e-8a0a-532230c06109",
   "metadata": {},
   "outputs": [
    {
     "data": {
      "text/plain": [
       "True"
      ]
     },
     "execution_count": 12,
     "metadata": {},
     "output_type": "execute_result"
    }
   ],
   "source": [
    "bool('10')"
   ]
  },
  {
   "cell_type": "code",
   "execution_count": 13,
   "id": "cac7d021-d47b-4c57-bdd1-156de84ea012",
   "metadata": {},
   "outputs": [
    {
     "ename": "ValueError",
     "evalue": "invalid literal for int() with base 10: '10.5'",
     "output_type": "error",
     "traceback": [
      "\u001b[1;31m---------------------------------------------------------------------------\u001b[0m",
      "\u001b[1;31mValueError\u001b[0m                                Traceback (most recent call last)",
      "Cell \u001b[1;32mIn[13], line 1\u001b[0m\n\u001b[1;32m----> 1\u001b[0m \u001b[38;5;28mint\u001b[39m(\u001b[38;5;124m'\u001b[39m\u001b[38;5;124m10.5\u001b[39m\u001b[38;5;124m'\u001b[39m)\n",
      "\u001b[1;31mValueError\u001b[0m: invalid literal for int() with base 10: '10.5'"
     ]
    }
   ],
   "source": [
    "int('10.5')"
   ]
  },
  {
   "cell_type": "code",
   "execution_count": 14,
   "id": "3cd32dc8-4218-4187-9e7c-43b5a933dd7f",
   "metadata": {},
   "outputs": [
    {
     "data": {
      "text/plain": [
       "10.5"
      ]
     },
     "execution_count": 14,
     "metadata": {},
     "output_type": "execute_result"
    }
   ],
   "source": [
    "float('10.5')"
   ]
  },
  {
   "cell_type": "code",
   "execution_count": 15,
   "id": "944f4ed1-7860-4c7c-80be-f1266437d0cf",
   "metadata": {},
   "outputs": [
    {
     "data": {
      "text/plain": [
       "True"
      ]
     },
     "execution_count": 15,
     "metadata": {},
     "output_type": "execute_result"
    }
   ],
   "source": [
    "bool('10.5')"
   ]
  },
  {
   "cell_type": "markdown",
   "id": "79bc0566-7335-47bd-af39-60f3d5eee779",
   "metadata": {},
   "source": [
    "int('10')\n",
    "int('10.5')\n",
    "float('10')\n",
    "float('10.5')"
   ]
  },
  {
   "cell_type": "markdown",
   "id": "83656445-c12f-4ae1-b286-551dee165f1f",
   "metadata": {},
   "source": [
    "- float is the boss\n",
    "- float of any value either it is integer 0r string formate\n",
    "- or float to string will work \n",
    "- integer will works only for integer in string formate\n",
    "- interger type casthing will fail for float in string format "
   ]
  },
  {
   "cell_type": "code",
   "execution_count": 16,
   "id": "ad1c9100-34ca-40cc-8c5d-40eb3f720b07",
   "metadata": {},
   "outputs": [
    {
     "data": {
      "text/plain": [
       "False"
      ]
     },
     "execution_count": 16,
     "metadata": {},
     "output_type": "execute_result"
    }
   ],
   "source": [
    "bool('')"
   ]
  },
  {
   "cell_type": "code",
   "execution_count": 17,
   "id": "2d1afbaf-05d2-4469-a66a-f6aa8109fd33",
   "metadata": {},
   "outputs": [
    {
     "data": {
      "text/plain": [
       "True"
      ]
     },
     "execution_count": 17,
     "metadata": {},
     "output_type": "execute_result"
    }
   ],
   "source": [
    "bool('0')"
   ]
  },
  {
   "cell_type": "markdown",
   "id": "7f141200-cfb2-478c-96f4-7b528d52c0d7",
   "metadata": {},
   "source": [
    "- empty string of bool gives flase\n",
    "- false means nothiung either 0 or empty string"
   ]
  },
  {
   "cell_type": "markdown",
   "id": "d8ce6945-83ae-4cc1-a43d-caa604f2de31",
   "metadata": {},
   "source": [
    "**boolean to another type**"
   ]
  },
  {
   "cell_type": "markdown",
   "id": "e953f340-25f4-434f-82a1-3b8cb7be03bf",
   "metadata": {},
   "source": [
    "int(true)\n",
    "float(true)\n",
    "string('true')"
   ]
  },
  {
   "cell_type": "code",
   "execution_count": 21,
   "id": "eceb8c50-5f1f-46c8-938d-ec1b14750307",
   "metadata": {},
   "outputs": [
    {
     "data": {
      "text/plain": [
       "1"
      ]
     },
     "execution_count": 21,
     "metadata": {},
     "output_type": "execute_result"
    }
   ],
   "source": [
    "int(True)"
   ]
  },
  {
   "cell_type": "code",
   "execution_count": 22,
   "id": "ebf2ec96-adf7-49ff-b445-cf5ce89dc96c",
   "metadata": {},
   "outputs": [
    {
     "data": {
      "text/plain": [
       "1.0"
      ]
     },
     "execution_count": 22,
     "metadata": {},
     "output_type": "execute_result"
    }
   ],
   "source": [
    "float(True)"
   ]
  },
  {
   "cell_type": "code",
   "execution_count": 23,
   "id": "b5636620-8b9e-4f97-bd1c-7027f05a937a",
   "metadata": {},
   "outputs": [
    {
     "data": {
      "text/plain": [
       "'True'"
      ]
     },
     "execution_count": 23,
     "metadata": {},
     "output_type": "execute_result"
    }
   ],
   "source": [
    "str('True')"
   ]
  },
  {
   "cell_type": "code",
   "execution_count": 25,
   "id": "007f26c9-dee1-4581-a76f-7e026b9e8d3b",
   "metadata": {},
   "outputs": [
    {
     "data": {
      "text/plain": [
       "0"
      ]
     },
     "execution_count": 25,
     "metadata": {},
     "output_type": "execute_result"
    }
   ],
   "source": [
    "int(False)"
   ]
  },
  {
   "cell_type": "code",
   "execution_count": 26,
   "id": "c2bd71b7-b2dc-4a14-9fb0-da233c3391d9",
   "metadata": {},
   "outputs": [
    {
     "data": {
      "text/plain": [
       "0.0"
      ]
     },
     "execution_count": 26,
     "metadata": {},
     "output_type": "execute_result"
    }
   ],
   "source": [
    "float(False)"
   ]
  },
  {
   "cell_type": "code",
   "execution_count": 27,
   "id": "621e3bc0-ead1-4970-9049-24bd8d3c4114",
   "metadata": {},
   "outputs": [
    {
     "data": {
      "text/plain": [
       "'False'"
      ]
     },
     "execution_count": 27,
     "metadata": {},
     "output_type": "execute_result"
    }
   ],
   "source": [
    "str('False')"
   ]
  },
  {
   "cell_type": "code",
   "execution_count": 28,
   "id": "0100176a-217a-47e8-a4ba-0082fee5b650",
   "metadata": {},
   "outputs": [
    {
     "data": {
      "text/plain": [
       "True"
      ]
     },
     "execution_count": 28,
     "metadata": {},
     "output_type": "execute_result"
    }
   ],
   "source": [
    "bool(10)"
   ]
  },
  {
   "cell_type": "code",
   "execution_count": 29,
   "id": "ce63ab5d-acb5-4cdb-abaa-d318d442574b",
   "metadata": {},
   "outputs": [
    {
     "data": {
      "text/plain": [
       "'10'"
      ]
     },
     "execution_count": 29,
     "metadata": {},
     "output_type": "execute_result"
    }
   ],
   "source": [
    "str('10')"
   ]
  },
  {
   "cell_type": "code",
   "execution_count": 30,
   "id": "0125958f-1ac7-4966-8c20-905af6e5bf2a",
   "metadata": {},
   "outputs": [
    {
     "data": {
      "text/plain": [
       "20.0"
      ]
     },
     "execution_count": 30,
     "metadata": {},
     "output_type": "execute_result"
    }
   ],
   "source": [
    "float('20')"
   ]
  },
  {
   "cell_type": "code",
   "execution_count": 31,
   "id": "2870b595-5728-45db-914c-1f7ad187288c",
   "metadata": {},
   "outputs": [
    {
     "data": {
      "text/plain": [
       "'ball'"
      ]
     },
     "execution_count": 31,
     "metadata": {},
     "output_type": "execute_result"
    }
   ],
   "source": [
    "str('ball')"
   ]
  },
  {
   "cell_type": "code",
   "execution_count": 32,
   "id": "24fe539d-fb99-4591-be58-7b0bc6e36bbb",
   "metadata": {},
   "outputs": [
    {
     "ename": "NameError",
     "evalue": "name 'bike' is not defined",
     "output_type": "error",
     "traceback": [
      "\u001b[1;31m---------------------------------------------------------------------------\u001b[0m",
      "\u001b[1;31mNameError\u001b[0m                                 Traceback (most recent call last)",
      "Cell \u001b[1;32mIn[32], line 1\u001b[0m\n\u001b[1;32m----> 1\u001b[0m \u001b[38;5;28mint\u001b[39m(bike)\n",
      "\u001b[1;31mNameError\u001b[0m: name 'bike' is not defined"
     ]
    }
   ],
   "source": [
    "int(bike)"
   ]
  },
  {
   "cell_type": "code",
   "execution_count": null,
   "id": "d8d5de34-c144-4ac8-80d6-258c4710d85a",
   "metadata": {},
   "outputs": [],
   "source": [
    "####### int to other#####\n",
    "float(100)\n",
    "str('100')\n",
    "bool(100)\n",
    "\n",
    "####### float to other####\n",
    "int(10.5)\n",
    "str('10.5')\n",
    "bool(10.5)\n",
    "\n",
    "###### string to other####\n",
    "int(suzuki)\n",
    "float(suzuki)\n",
    "bool(suzuki)\n",
    "\n",
    "###### boolean to other####\n",
    "int(True)\n",
    "float(True)\n",
    "str('True')\n"
   ]
  }
 ],
 "metadata": {
  "kernelspec": {
   "display_name": "Python 3 (ipykernel)",
   "language": "python",
   "name": "python3"
  },
  "language_info": {
   "codemirror_mode": {
    "name": "ipython",
    "version": 3
   },
   "file_extension": ".py",
   "mimetype": "text/x-python",
   "name": "python",
   "nbconvert_exporter": "python",
   "pygments_lexer": "ipython3",
   "version": "3.11.7"
  }
 },
 "nbformat": 4,
 "nbformat_minor": 5
}
