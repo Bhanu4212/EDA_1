{
 "cells": [
  {
   "cell_type": "code",
   "execution_count": 1,
   "id": "1ba26974-4e3c-4a54-8c76-124519e0e161",
   "metadata": {},
   "outputs": [],
   "source": [
    "  import os"
   ]
  },
  {
   "cell_type": "code",
   "execution_count": 5,
   "id": "b96370b0-6240-4afd-9590-e9e3b8a4aaf9",
   "metadata": {},
   "outputs": [
    {
     "data": {
      "text/plain": [
       "'C:\\\\Users\\\\bhanu\\\\Documents\\\\NARESH IT\\\\PYTHON'"
      ]
     },
     "execution_count": 5,
     "metadata": {},
     "output_type": "execute_result"
    }
   ],
   "source": [
    "os.getcwd()\n",
    "\n",
    "#get curent directory\n",
    "\n",
    "# it will get the path\n",
    "\n",
    "# where the python  file is"
   ]
  },
  {
   "cell_type": "code",
   "execution_count": 4,
   "id": "7bc2cbdc-9135-445e-96e4-2fbb5c24fd10",
   "metadata": {},
   "outputs": [
    {
     "data": {
      "text/plain": [
       "15"
      ]
     },
     "execution_count": 4,
     "metadata": {},
     "output_type": "execute_result"
    }
   ],
   "source": [
    "0b1111"
   ]
  },
  {
   "cell_type": "markdown",
   "id": "e37b4527-7fd3-43fb-bb2e-ec6222389ed4",
   "metadata": {},
   "source": [
    "\n",
    "8 4 2 1 num\n",
    "0 0 0 0 0\n",
    "0 0 0 1 1\n",
    "0 0 1 0 2\n",
    "0 0 1 1 3\n",
    "0 1 0 0 4\n",
    "0 1 0 1 5\n",
    "0 1 1 0 6\n",
    "0 1 1 1 7\n",
    "1 0 0 0 8\n",
    "1 0 0 1 9\n",
    "1 0 1 0 10\n",
    "1 0 1 1 11\n",
    "1 1 0 0 12\n",
    "1 1 0 1 13\n",
    "1 1 1 0 14\n",
    "1 1 1 1 15\n",
    "8 4 2 1"
   ]
  },
  {
   "cell_type": "markdown",
   "id": "637a7d38-9a0c-4343-b92f-19055a1b3cf9",
   "metadata": {},
   "source": [
    "**Octa**"
   ]
  },
  {
   "cell_type": "markdown",
   "id": "4c1d64c5-9f35-4728-a03f-b0d3ba962383",
   "metadata": {},
   "source": [
    "- octa means 8\n",
    "- it required 8 digits\n",
    "-  generally, we have 0 1 2 3 4 5 6 7 \n",
    "- so it will represte with only 0 1 2 3 4 5 6 7\n",
    "- representation is 0o123,0O012345, 0o7654321\n",
    "- wrong representation is 0o108, 0o987"
   ]
  },
  {
   "cell_type": "code",
   "execution_count": 8,
   "id": "e6c566cf-613c-4d69-b392-a2e693ebf404",
   "metadata": {},
   "outputs": [
    {
     "data": {
      "text/plain": [
       "83"
      ]
     },
     "execution_count": 8,
     "metadata": {},
     "output_type": "execute_result"
    }
   ],
   "source": [
    "0o123"
   ]
  },
  {
   "cell_type": "code",
   "execution_count": 9,
   "id": "e5b0401d-b42a-49ed-a3dd-cb177f59bd30",
   "metadata": {},
   "outputs": [
    {
     "data": {
      "text/plain": [
       "668"
      ]
     },
     "execution_count": 9,
     "metadata": {},
     "output_type": "execute_result"
    }
   ],
   "source": [
    "512+128+24+4\n",
    " "
   ]
  },
  {
   "cell_type": "markdown",
   "id": "cae00168-0302-428b-9604-73b9b92861bc",
   "metadata": {},
   "source": [
    "hexa\n",
    "- hexa mean 16\n",
    "- so it requires 16 digits\n",
    "- Generally we have 0 1 2 3 4 5 6 7 8 9 A(10) B(11) C(12) D(13) E(14) F(15)\n",
    "- So it will represent with only 0-9 A-F\n",
    "- representation is 0xF9,0X0123abc, 0xabc\n",
    "- wrong representation is 0xGH, 0xABCDEFG"
   ]
  },
  {
   "cell_type": "code",
   "execution_count": 12,
   "id": "ada74444-0f6a-4f8a-add5-212786002197",
   "metadata": {},
   "outputs": [
    {
     "data": {
      "text/plain": [
       "2748"
      ]
     },
     "execution_count": 12,
     "metadata": {},
     "output_type": "execute_result"
    }
   ],
   "source": [
    "2560+176+12"
   ]
  },
  {
   "cell_type": "code",
   "execution_count": 18,
   "id": "25062d1d-9b5a-4580-b0b7-03ff8dfa8be3",
   "metadata": {},
   "outputs": [
    {
     "data": {
      "text/plain": [
       "4671"
      ]
     },
     "execution_count": 18,
     "metadata": {},
     "output_type": "execute_result"
    }
   ],
   "source": [
    "256*16+256*2+16*3+15"
   ]
  },
  {
   "cell_type": "code",
   "execution_count": 31,
   "id": "ce55a128-250a-4013-b007-7257157b9a8a",
   "metadata": {},
   "outputs": [],
   "source": [
    "#FLOAT"
   ]
  },
  {
   "cell_type": "code",
   "execution_count": 20,
   "id": "83b68765-750f-4187-b83b-7100be04fb5e",
   "metadata": {},
   "outputs": [
    {
     "data": {
      "text/plain": [
       "float"
      ]
     },
     "execution_count": 20,
     "metadata": {},
     "output_type": "execute_result"
    }
   ],
   "source": [
    "n1=1005.00\n",
    "type(n1)"
   ]
  },
  {
   "cell_type": "code",
   "execution_count": 21,
   "id": "4aa5d8bc-3707-4d21-9255-acf5a5602bd8",
   "metadata": {},
   "outputs": [
    {
     "data": {
      "text/plain": [
       "int"
      ]
     },
     "execution_count": 21,
     "metadata": {},
     "output_type": "execute_result"
    }
   ],
   "source": [
    "int"
   ]
  },
  {
   "cell_type": "code",
   "execution_count": 22,
   "id": "494f98b2-d297-48cf-a916-ff5ae639f311",
   "metadata": {},
   "outputs": [
    {
     "data": {
      "text/plain": [
       "(10.0, 100.0, 1000.0, 10000.0)"
      ]
     },
     "execution_count": 22,
     "metadata": {},
     "output_type": "execute_result"
    }
   ],
   "source": [
    "1e1,1e2,1e3,1e4"
   ]
  },
  {
   "cell_type": "code",
   "execution_count": 23,
   "id": "ce2e228d-3b42-4914-b9f7-a0a08ba5bacb",
   "metadata": {},
   "outputs": [
    {
     "data": {
      "text/plain": [
       "24000.0"
      ]
     },
     "execution_count": 23,
     "metadata": {},
     "output_type": "execute_result"
    }
   ],
   "source": [
    "24e3"
   ]
  },
  {
   "cell_type": "code",
   "execution_count": 24,
   "id": "8f191fbd-189d-422c-9561-bc27a1577dac",
   "metadata": {},
   "outputs": [
    {
     "data": {
      "text/plain": [
       "11110.0"
      ]
     },
     "execution_count": 24,
     "metadata": {},
     "output_type": "execute_result"
    }
   ],
   "source": [
    "1e1+1e2+1e3+1e4"
   ]
  },
  {
   "cell_type": "code",
   "execution_count": 32,
   "id": "1879a25a-f39c-4535-895d-4314a84efe94",
   "metadata": {},
   "outputs": [
    {
     "data": {
      "text/plain": [
       "(0.1, 0.01, 0.001, 0.0001)"
      ]
     },
     "execution_count": 32,
     "metadata": {},
     "output_type": "execute_result"
    }
   ],
   "source": [
    "1e-1,1e-2,1e-3,1e-4"
   ]
  },
  {
   "cell_type": "code",
   "execution_count": 27,
   "id": "8bb6b16c-b95f-4c84-8b34-e12760f100c4",
   "metadata": {},
   "outputs": [],
   "source": [
    "# (+)positive means multiply\n",
    "# (-)  negative means divide"
   ]
  },
  {
   "cell_type": "markdown",
   "id": "86daa07f-e38b-4341-956b-3da210c3f866",
   "metadata": {},
   "source": [
    "**strings**\n",
    "- strings are used represent english chatracters generally\n",
    "- strings will represent in\n",
    "    - single quotes\n",
    "    - double quotes\n",
    "    - triple quotes"
   ]
  },
  {
   "cell_type": "code",
   "execution_count": 34,
   "id": "c23aeb04-ddb1-4b88-a3ba-827ffb4bf108",
   "metadata": {},
   "outputs": [
    {
     "data": {
      "text/plain": [
       "str"
      ]
     },
     "execution_count": 34,
     "metadata": {},
     "output_type": "execute_result"
    }
   ],
   "source": [
    "name='python'\n",
    "type(name)"
   ]
  },
  {
   "cell_type": "code",
   "execution_count": 36,
   "id": "ae9519b5-a12c-40c4-bd54-a60894fedecf",
   "metadata": {},
   "outputs": [
    {
     "data": {
      "text/plain": [
       "str"
      ]
     },
     "execution_count": 36,
     "metadata": {},
     "output_type": "execute_result"
    }
   ],
   "source": [
    "name1=\"Bhanu\"\n",
    "type(name1)"
   ]
  },
  {
   "cell_type": "code",
   "execution_count": 37,
   "id": "b7c40982-5860-47fd-ac82-85e16c99050b",
   "metadata": {},
   "outputs": [
    {
     "data": {
      "text/plain": [
       "str"
      ]
     },
     "execution_count": 37,
     "metadata": {},
     "output_type": "execute_result"
    }
   ],
   "source": [
    "name2=\"10\"\n",
    "type(name2)"
   ]
  },
  {
   "cell_type": "code",
   "execution_count": 38,
   "id": "5b46005e-7919-4581-aca6-cba0707b8326",
   "metadata": {},
   "outputs": [
    {
     "data": {
      "text/plain": [
       "str"
      ]
     },
     "execution_count": 38,
     "metadata": {},
     "output_type": "execute_result"
    }
   ],
   "source": [
    "email_id=\"bhanurondla3@gmail.com\"\n",
    "type(email_id)"
   ]
  },
  {
   "cell_type": "markdown",
   "id": "407cc6af-32bc-4a00-a46b-fff6bfa800a6",
   "metadata": {},
   "source": [
    "**Red color means strings**\n",
    "\n",
    "** Green color means KEYWORDS**\n",
    "\n",
    "** BALCK colors means variables**"
   ]
  },
  {
   "cell_type": "markdown",
   "id": "3018772f-01e3-4dfd-97a7-b98c5a4f756c",
   "metadata": {},
   "source": [
    "**Python**\n",
    "- Outputs will always in single quotes\n",
    "- whenever you print quoteswill not visible"
   ]
  },
  {
   "cell_type": "markdown",
   "id": "4e91f301-07a5-4648-a2e5-6022a70ed93a",
   "metadata": {},
   "source": []
  },
  {
   "cell_type": "code",
   "execution_count": 42,
   "id": "d3da48c8-0166-4d72-8d5c-3b81f08e8150",
   "metadata": {},
   "outputs": [
    {
     "name": "stdout",
     "output_type": "stream",
     "text": [
      "python\n"
     ]
    }
   ],
   "source": [
    "name=\"python\"\n",
    "print(name)"
   ]
  },
  {
   "cell_type": "code",
   "execution_count": 41,
   "id": "96ab4217-cabf-4f0e-838e-5fc1464b323a",
   "metadata": {},
   "outputs": [
    {
     "name": "stdout",
     "output_type": "stream",
     "text": [
      " i like 'python'\n"
     ]
    }
   ],
   "source": [
    "name=\" i like 'python'\"\n",
    "print(name)"
   ]
  },
  {
   "cell_type": "code",
   "execution_count": 43,
   "id": "8c0b8625-ba2b-4393-9381-1d1c00015bcb",
   "metadata": {},
   "outputs": [
    {
     "name": "stdout",
     "output_type": "stream",
     "text": [
      " i like \"python\"\n"
     ]
    }
   ],
   "source": [
    "name=' i like \"python\"'\n",
    "print(name)"
   ]
  },
  {
   "cell_type": "code",
   "execution_count": 44,
   "id": "3ee845d5-da35-4586-b476-ca19e0e23cfb",
   "metadata": {},
   "outputs": [
    {
     "name": "stdout",
     "output_type": "stream",
     "text": [
      "i like \"python\"\n"
     ]
    }
   ],
   "source": [
    "str='i like \"python\"'\n",
    "print(str)"
   ]
  },
  {
   "cell_type": "markdown",
   "id": "2349840b-9ca4-4461-ac86-c04e338cd3ea",
   "metadata": {},
   "source": [
    "**str**\n",
    "- entire string double  qoutes the highlighted word in single qoutesand vise versa"
   ]
  },
  {
   "cell_type": "markdown",
   "id": "c5eb6977-4ddd-40a3-bbf4-71d809837421",
   "metadata": {},
   "source": [
    "**Triple qoutes**"
   ]
  },
  {
   "cell_type": "markdown",
   "id": "331f0b4a-4565-4bdc-af86-841abb70abe2",
   "metadata": {},
   "source": [
    "- triple  quotes is not for coding\n",
    "- triple quotes is used to provide the inoformation in jupyter notebook will markdown\n",
    "- in vscode or pycharm there  is no markdown avialable\n",
    "-Thats  why world start used to write infomation in triple quotes\n",
    "- This enitre process is called DocString"
   ]
  },
  {
   "cell_type": "markdown",
   "id": "d2e5b6bc-c969-43a3-9f7f-e7e05b59703d",
   "metadata": {},
   "source": [
    "**Boolean**"
   ]
  },
  {
   "cell_type": "code",
   "execution_count": 46,
   "id": "2b992ec1-2080-40cd-9faf-00fc33ab2dbc",
   "metadata": {},
   "outputs": [
    {
     "data": {
      "text/plain": [
       "bool"
      ]
     },
     "execution_count": 46,
     "metadata": {},
     "output_type": "execute_result"
    }
   ],
   "source": [
    "value=True\n",
    "type(value)"
   ]
  },
  {
   "cell_type": "code",
   "execution_count": 47,
   "id": "af55b86d-0637-4b96-a85e-d34597705c8f",
   "metadata": {},
   "outputs": [
    {
     "data": {
      "text/plain": [
       "bool"
      ]
     },
     "execution_count": 47,
     "metadata": {},
     "output_type": "execute_result"
    }
   ],
   "source": [
    "value=False\n",
    "type(value)"
   ]
  },
  {
   "cell_type": "code",
   "execution_count": null,
   "id": "e71177f2-5cd8-46df-97eb-ba248fd18688",
   "metadata": {},
   "outputs": [],
   "source": [
    "true=\"True\"\n",
    "false=False\n",
    "#  true and false is variables\n",
    "# type true is stringtrue\n",
    "# type false is boolean"
   ]
  },
  {
   "cell_type": "code",
   "execution_count": 1,
   "id": "a01f6ef6-f452-4cf8-b92f-d725d9c25abe",
   "metadata": {},
   "outputs": [
    {
     "data": {
      "text/plain": [
       "bool"
      ]
     },
     "execution_count": 1,
     "metadata": {},
     "output_type": "execute_result"
    }
   ],
   "source": [
    "true=True\n",
    "type(true)"
   ]
  },
  {
   "cell_type": "code",
   "execution_count": 2,
   "id": "7cbe2fe8-9a60-48b3-adee-05b11a392539",
   "metadata": {},
   "outputs": [
    {
     "name": "stdout",
     "output_type": "stream",
     "text": [
      "True\n"
     ]
    }
   ],
   "source": [
    "true=True\n",
    "print(true)"
   ]
  },
  {
   "cell_type": "code",
   "execution_count": null,
   "id": "d2bba41e-767c-4cd8-8aac-7c6fa0735459",
   "metadata": {},
   "outputs": [],
   "source": []
  }
 ],
 "metadata": {
  "kernelspec": {
   "display_name": "Python 3 (ipykernel)",
   "language": "python",
   "name": "python3"
  },
  "language_info": {
   "codemirror_mode": {
    "name": "ipython",
    "version": 3
   },
   "file_extension": ".py",
   "mimetype": "text/x-python",
   "name": "python",
   "nbconvert_exporter": "python",
   "pygments_lexer": "ipython3",
   "version": "3.11.7"
  }
 },
 "nbformat": 4,
 "nbformat_minor": 5
}
