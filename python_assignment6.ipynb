{
 "cells": [
  {
   "cell_type": "code",
   "execution_count": 3,
   "id": "f199e12e-dd8e-43d2-a940-8aefe2863945",
   "metadata": {},
   "outputs": [
    {
     "name": "stdout",
     "output_type": "stream",
     "text": [
      "1300\n"
     ]
    }
   ],
   "source": [
    "#case-1\n",
    "def addition(n1,n2=600):\n",
    "        add=n1+n2 \n",
    "        print(add) \n",
    "addition(500,800) \n",
    "\n",
    "# defining a function addition with 2 arguments(n1,n2)\n",
    "# while defining  a function we gave n2=600\n",
    "# we are calling the function n1=500,n2=800\n",
    "# run the function n1=500,n2=800 and n1+n2=500+800=1300"
   ]
  },
  {
   "cell_type": "code",
   "execution_count": 4,
   "id": "410c2b0a-ca21-454c-a624-a33311846c54",
   "metadata": {},
   "outputs": [
    {
     "name": "stdout",
     "output_type": "stream",
     "text": [
      "2500\n"
     ]
    }
   ],
   "source": [
    "#case-2\n",
    "def addition(n1,n2=500):\n",
    "        add=n1+n2\n",
    "        print(add)\n",
    "addition(500,2000)\n",
    "\n",
    "# first we are defining function\n",
    "# while definethe function we given n2=500\n",
    "# now we are calling the function,\n",
    "# while we are calling n2=2000\n",
    "# so value will be overwrite\n",
    "# python always takes the latest value"
   ]
  },
  {
   "cell_type": "code",
   "execution_count": 2,
   "id": "9fc635b5-f8b9-4a44-b235-1a94a4d41b64",
   "metadata": {},
   "outputs": [
    {
     "name": "stdout",
     "output_type": "stream",
     "text": [
      "3500\n"
     ]
    }
   ],
   "source": [
    "# case-3\n",
    "def addition(n21,n22=100):\n",
    "        n22=3000\n",
    "        add=n21+n22\n",
    "        print(add)\n",
    "addition(500,2000)\n",
    "# defining the function ,we gave n22=100\n",
    "#  call the function n22=2000\n",
    "#  running the function n22=3000"
   ]
  },
  {
   "cell_type": "code",
   "execution_count": 10,
   "id": "059c5d41-b5f2-478d-adf3-3803986c7410",
   "metadata": {},
   "outputs": [
    {
     "name": "stdout",
     "output_type": "stream",
     "text": [
      "6400\n"
     ]
    }
   ],
   "source": [
    "# case-4\n",
    "def addition(n11,n12=500):\n",
    "        add=n11+n12\n",
    "        print(add)\n",
    "        n12=5000\n",
    "addition(400,6000)\n",
    "# define the function n2=500\n",
    "#  call the function n2=2000\n",
    "#  running the function ,n2=5000\n",
    "# n2====> 2000, n2=1000====>1000======> 6000\n"
   ]
  },
  {
   "cell_type": "code",
   "execution_count": 36,
   "id": "f46ce526-9468-407c-8823-85c4aded7e4a",
   "metadata": {},
   "outputs": [
    {
     "name": "stdout",
     "output_type": "stream",
     "text": [
      "5000\n"
     ]
    }
   ],
   "source": [
    "# case-5\n",
    "a61=100\n",
    "b62=200\n",
    "def add11(a61=1000,b62=5000):\n",
    "        add=a61+b62\n",
    "        print(add)\n",
    "add11(a61=2000,b62=3000)\n",
    "# assigning global variables\n",
    "#  defining function we gave a61=100,b62=200\n",
    "#  calling the functions a61=2000,b62=3000\n",
    "# running the function"
   ]
  },
  {
   "cell_type": "code",
   "execution_count": 38,
   "id": "8333d7e4-f490-413f-b776-70d66f72081a",
   "metadata": {},
   "outputs": [
    {
     "name": "stdout",
     "output_type": "stream",
     "text": [
      "5500\n"
     ]
    }
   ],
   "source": [
    "# case-6\n",
    "a71=300\n",
    "b71=500\n",
    "def add11(a71=3000):\n",
    "        add=a71+b71\n",
    "        print(add)\n",
    "add11(a71=5000)\n",
    "# assigning global variables a71,b71\n",
    "# while define the function we given a71=300\n",
    "# now we are calling the function,\n",
    "# while we are calling a71=3000\n",
    "# python always takes the latest value\n",
    "# a71=5000--->b71=500"
   ]
  },
  {
   "cell_type": "code",
   "execution_count": 35,
   "id": "6ab39f8d-151d-417a-b556-370a4f64c314",
   "metadata": {},
   "outputs": [
    {
     "name": "stdout",
     "output_type": "stream",
     "text": [
      "5200\n"
     ]
    }
   ],
   "source": [
    "#case-7\n",
    "a81=100\n",
    "b81=200\n",
    "def add11(a81=1000):\n",
    "        a81=5000\n",
    "        add=a81+b81\n",
    "        print(add)\n",
    "add11(a81=6000)\n",
    "#   assigning global variables a81,b81\n",
    "# while define the function we given a81=100\n",
    "# now we are calling the function,\n",
    "# while we are calling a81=1000\n",
    "#running the function we gave a81=6000\n",
    "# a81=6000--->b81=200"
   ]
  },
  {
   "cell_type": "code",
   "execution_count": 39,
   "id": "ecc3524d-8857-472d-98e0-e4688136ba5c",
   "metadata": {},
   "outputs": [
    {
     "name": "stdout",
     "output_type": "stream",
     "text": [
      "5200\n"
     ]
    }
   ],
   "source": [
    "# case-8\n",
    "n91=100\n",
    "n92=200\n",
    "def add11(n91=1000):\n",
    "        n91=5000\n",
    "        add1=n91+n92\n",
    "        print(add1)\n",
    "        n91=6000\n",
    "add11(n91=2000)\n",
    "# assining global variables n91=100,n92=200\n",
    "#  first we are defining function add11\n",
    "#  default value set 100 so the n91=5000 whill be change here\n",
    "#  in local variable  n91 is assigned as 1000\n",
    "# as we know the value inside the function\n",
    "# python always takes the latest value\n",
    "# n91==100---->1000------>2000\n",
    "# n92===200"
   ]
  },
  {
   "cell_type": "code",
   "execution_count": 40,
   "id": "102a102a-5e8d-4738-a963-dd065ac083c5",
   "metadata": {},
   "outputs": [
    {
     "name": "stdout",
     "output_type": "stream",
     "text": [
      "5600\n"
     ]
    }
   ],
   "source": [
    "# case-9\n",
    "b5=500\n",
    "def add11():\n",
    "    add11=a5+b15\n",
    "    print(add11)\n",
    "a5=5000\n",
    "add11()\n",
    "#we intialization of global variable b5=500\n",
    "# define the function \n",
    "#  here b5=500 value mentioned in global variable with in local global\n",
    "# so value with assigned in side the local variable will be considered\n",
    "#  running the function a5=5000"
   ]
  },
  {
   "cell_type": "code",
   "execution_count": 41,
   "id": "c614fc63-1ca1-4b51-b87f-4ac6b849a678",
   "metadata": {},
   "outputs": [
    {
     "name": "stdout",
     "output_type": "stream",
     "text": [
      "2100\n"
     ]
    }
   ],
   "source": [
    "# case-10\n",
    "a13=500\n",
    "b13=100\n",
    "def add11(a13=2000):\n",
    "        add=a13+b13\n",
    "        print(add)\n",
    "add11(a13=2000)\n",
    "# intialization of global variable a13=500\n",
    "# first we are defining function\n",
    "# while definethe function we given a13=500\n",
    "# now we are calling the function,\n",
    "# while we are calling a13=2000\n",
    "# so value will be overwrite\n",
    "# python always takes the latest value\n",
    "# a13=2000--->b13=100"
   ]
  },
  {
   "cell_type": "code",
   "execution_count": 42,
   "id": "2cec0459-f1c5-4232-8805-e6116642bfc3",
   "metadata": {},
   "outputs": [
    {
     "name": "stdout",
     "output_type": "stream",
     "text": [
      "6600\n"
     ]
    }
   ],
   "source": [
    "# case-11\n",
    "b15=600\n",
    "def add1():\n",
    "        add1=a15+b15\n",
    "        print(add1)\n",
    "a15=6000\n",
    "add1()\n",
    "#  first we intialization of global b15=200\n",
    "#  definding the function without any argument\n",
    "# agine we intialization the globle veriable a12=6000\n",
    "#  call the function\n",
    "#  function under goes the process and will be 6200"
   ]
  },
  {
   "cell_type": "code",
   "execution_count": null,
   "id": "316b6e64-9386-4c98-ab65-cbc380e28977",
   "metadata": {},
   "outputs": [],
   "source": []
  }
 ],
 "metadata": {
  "kernelspec": {
   "display_name": "Python 3 (ipykernel)",
   "language": "python",
   "name": "python3"
  },
  "language_info": {
   "codemirror_mode": {
    "name": "ipython",
    "version": 3
   },
   "file_extension": ".py",
   "mimetype": "text/x-python",
   "name": "python",
   "nbconvert_exporter": "python",
   "pygments_lexer": "ipython3",
   "version": "3.11.7"
  }
 },
 "nbformat": 4,
 "nbformat_minor": 5
}
