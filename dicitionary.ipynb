{
 "cells": [
  {
   "cell_type": "code",
   "execution_count": null,
   "id": "6f3d52af-3e8e-48ba-a0db-0186b0acd583",
   "metadata": {},
   "outputs": [],
   "source": [
    "**Dictionary**\n",
    "- we already seen\n",
    "- string\n",
    "- list\n",
    "- Tuple\n",
    "- set\n",
    "- Dictionary\n",
    "- int,float,bool ,complex\n",
    "- range\n",
    "- bytes\n",
    "- eval is not a data type"
   ]
  },
  {
   "cell_type": "code",
   "execution_count": null,
   "id": "4a1bb4c1-29a9-48ac-ab7d-6292ca98dc69",
   "metadata": {},
   "outputs": [],
   "source": [
    "# By using lambda list reduce\n",
    "\n",
    "str=b'hello'\n"
   ]
  },
  {
   "cell_type": "code",
   "execution_count": null,
   "id": "c9e70bc2-6887-4d78-b944-601eaca2786d",
   "metadata": {},
   "outputs": [],
   "source": [
    "string=' '\n",
    "list=[]\n",
    "tuple=()\n",
    "set={}\n",
    "dictionary={key :value}"
   ]
  },
  {
   "cell_type": "markdown",
   "id": "d5b16203-e4e8-4ca3-b606-d3abc2a10d0e",
   "metadata": {},
   "source": [
    "**zip**"
   ]
  },
  {
   "cell_type": "code",
   "execution_count": 2,
   "id": "b2792a51-2d1f-4dd1-bf29-e70540adf3ba",
   "metadata": {},
   "outputs": [
    {
     "name": "stdout",
     "output_type": "stream",
     "text": [
      "Ramesh 20\n",
      "Suresh 30\n",
      "Satish 40\n"
     ]
    }
   ],
   "source": [
    "names=['Ramesh','Suresh','Satish']\n",
    "age=[20,30,40]\n",
    "for i,j in zip(names,age):\n",
    "    print(i,j)"
   ]
  },
  {
   "cell_type": "code",
   "execution_count": 3,
   "id": "2b510445-9ce0-4dba-b050-694ba11d2663",
   "metadata": {},
   "outputs": [
    {
     "data": {
      "text/plain": [
       "[('Ramesh', 20), ('Suresh', 30), ('Satish', 40)]"
      ]
     },
     "execution_count": 3,
     "metadata": {},
     "output_type": "execute_result"
    }
   ],
   "source": [
    "list(zip(names,age))"
   ]
  },
  {
   "cell_type": "code",
   "execution_count": null,
   "id": "b542ae03-b8ff-47bc-87da-dcd79e147dac",
   "metadata": {},
   "outputs": [],
   "source": [
    "dict1={<key>:<value>}\n",
    "names=['Ramesh','Suresh','Satish']\n",
    "age=[20,30,40]\n",
    "'Ramesh' is the key ===== 20 its related value\n",
    "dict1={'Ramesh':20,'Suresh':30,'Satish':40}"
   ]
  },
  {
   "cell_type": "code",
   "execution_count": 4,
   "id": "bc8f1ef9-1adf-4754-91b1-6eb1a59f36b3",
   "metadata": {},
   "outputs": [
    {
     "data": {
      "text/plain": [
       "dict"
      ]
     },
     "execution_count": 4,
     "metadata": {},
     "output_type": "execute_result"
    }
   ],
   "source": [
    "dict1={'Ramesh':20,'Suresh':30,'Satish':40}\n",
    "type(dict1)"
   ]
  },
  {
   "cell_type": "markdown",
   "id": "05db08fb-ab8d-45fe-82a8-b59fce43ae4d",
   "metadata": {},
   "source": [
    "**create all type of dictionaries**"
   ]
  },
  {
   "cell_type": "code",
   "execution_count": 6,
   "id": "c6eb620f-acfb-433e-a888-6055d327fb7a",
   "metadata": {},
   "outputs": [
    {
     "data": {
      "text/plain": [
       "dict"
      ]
     },
     "execution_count": 6,
     "metadata": {},
     "output_type": "execute_result"
    }
   ],
   "source": [
    "dict2={'Ramesh':'d','Suresh':'g','Satish':'h'}\n",
    "type(dict2)"
   ]
  },
  {
   "cell_type": "code",
   "execution_count": 8,
   "id": "8f22f9f9-4de7-4389-b71c-890bd206e699",
   "metadata": {},
   "outputs": [
    {
     "data": {
      "text/plain": [
       "dict"
      ]
     },
     "execution_count": 8,
     "metadata": {},
     "output_type": "execute_result"
    }
   ],
   "source": [
    "dict1={20:'Ramesh',7:'ravi',5:'suresh'}\n",
    "type(dict1)"
   ]
  },
  {
   "cell_type": "code",
   "execution_count": 10,
   "id": "6a2619ba-3aa4-4c9b-9d16-df21e5552f9f",
   "metadata": {},
   "outputs": [
    {
     "data": {
      "text/plain": [
       "dict"
      ]
     },
     "execution_count": 10,
     "metadata": {},
     "output_type": "execute_result"
    }
   ],
   "source": [
    "dict1={'Ramesh':20.57,'Suresh':30.34,'Satish':40.34}\n",
    "type(dict1)"
   ]
  },
  {
   "cell_type": "code",
   "execution_count": 11,
   "id": "a980dc82-a672-45d8-8648-c50005895b9a",
   "metadata": {},
   "outputs": [
    {
     "data": {
      "text/plain": [
       "dict"
      ]
     },
     "execution_count": 11,
     "metadata": {},
     "output_type": "execute_result"
    }
   ],
   "source": [
    "dict1={'Ramesh':20>2,'Suresh':30<40,'Satish':40>10}\n",
    "type(dict1)"
   ]
  },
  {
   "cell_type": "code",
   "execution_count": 13,
   "id": "e698ea8e-3b7f-47e8-adc6-68d455dee364",
   "metadata": {},
   "outputs": [
    {
     "data": {
      "text/plain": [
       "dict"
      ]
     },
     "execution_count": 13,
     "metadata": {},
     "output_type": "execute_result"
    }
   ],
   "source": [
    "dict1={20:20}\n",
    "type(dict1)"
   ]
  },
  {
   "cell_type": "code",
   "execution_count": 14,
   "id": "082aa1b3-c193-4ee7-90fb-9b62a2951441",
   "metadata": {},
   "outputs": [
    {
     "data": {
      "text/plain": [
       "{'fruits': ['Apple', 'cherry']}"
      ]
     },
     "execution_count": 14,
     "metadata": {},
     "output_type": "execute_result"
    }
   ],
   "source": [
    "d5={'fruits':['Apple','cherry']}\n",
    "d5"
   ]
  },
  {
   "cell_type": "code",
   "execution_count": 15,
   "id": "af49d395-3725-4d9f-bf1c-9397ab6ac890",
   "metadata": {},
   "outputs": [
    {
     "ename": "TypeError",
     "evalue": "unhashable type: 'list'",
     "output_type": "error",
     "traceback": [
      "\u001b[1;31m---------------------------------------------------------------------------\u001b[0m",
      "\u001b[1;31mTypeError\u001b[0m                                 Traceback (most recent call last)",
      "Cell \u001b[1;32mIn[15], line 1\u001b[0m\n\u001b[1;32m----> 1\u001b[0m d5\u001b[38;5;241m=\u001b[39m{[\u001b[38;5;124m'\u001b[39m\u001b[38;5;124mApple\u001b[39m\u001b[38;5;124m'\u001b[39m,\u001b[38;5;124m'\u001b[39m\u001b[38;5;124mcherry\u001b[39m\u001b[38;5;124m'\u001b[39m]:\u001b[38;5;124m'\u001b[39m\u001b[38;5;124mFruits\u001b[39m\u001b[38;5;124m'\u001b[39m}\n\u001b[0;32m      2\u001b[0m d5\n",
      "\u001b[1;31mTypeError\u001b[0m: unhashable type: 'list'"
     ]
    }
   ],
   "source": [
    "d5={['Apple','cherry']:'Fruits'}\n",
    "d5"
   ]
  },
  {
   "cell_type": "code",
   "execution_count": 16,
   "id": "e1bb228b-e35b-4ab1-bc5e-132eb2075489",
   "metadata": {},
   "outputs": [
    {
     "data": {
      "text/plain": [
       "{('Apple', 'cherry'): 'Fruits'}"
      ]
     },
     "execution_count": 16,
     "metadata": {},
     "output_type": "execute_result"
    }
   ],
   "source": [
    "d5={('Apple','cherry'):'Fruits'}\n",
    "d5"
   ]
  },
  {
   "cell_type": "code",
   "execution_count": 17,
   "id": "cb6a5b68-547d-4c67-9b0c-7a782544b0c3",
   "metadata": {},
   "outputs": [
    {
     "data": {
      "text/plain": [
       "{'ajay': 30}"
      ]
     },
     "execution_count": 17,
     "metadata": {},
     "output_type": "execute_result"
    }
   ],
   "source": [
    "d6={'ajay':20,'ajay':30}\n",
    "d6"
   ]
  },
  {
   "cell_type": "code",
   "execution_count": 18,
   "id": "4a64f089-8b45-4684-b65d-b453b7620c6f",
   "metadata": {},
   "outputs": [
    {
     "data": {
      "text/plain": [
       "{20: 'ajay', 25: 'ajay'}"
      ]
     },
     "execution_count": 18,
     "metadata": {},
     "output_type": "execute_result"
    }
   ],
   "source": [
    "d6={20:'ajay',25:'ajay'}\n",
    "d6"
   ]
  },
  {
   "cell_type": "code",
   "execution_count": 19,
   "id": "340eb51b-db0c-489f-a020-3d42cc86a8ea",
   "metadata": {},
   "outputs": [
    {
     "data": {
      "text/plain": [
       "{'fruits': {'Mango': 25}}"
      ]
     },
     "execution_count": 19,
     "metadata": {},
     "output_type": "execute_result"
    }
   ],
   "source": [
    "d7={'fruits':{'Mango':25}}\n",
    "d7"
   ]
  },
  {
   "cell_type": "markdown",
   "id": "ddbb616d-5c18-4b2b-8f77-c153130cb47f",
   "metadata": {},
   "source": [
    "**key are important**\n",
    "- keys have only latest value\n",
    "- no duplicate key\n",
    "- key should be only one\n",
    "- values can be duplicate\n",
    "- which means different key\n",
    "- list can not be a key , because list are mutable\n",
    "- tuple can be a key , because tuple are immutable"
   ]
  },
  {
   "cell_type": "markdown",
   "id": "4f0e5aee-c011-4a4d-be42-e78d6a8bb78a",
   "metadata": {},
   "source": [
    "**max**"
   ]
  },
  {
   "cell_type": "code",
   "execution_count": 20,
   "id": "7fa573f3-bc62-44bd-8dbd-dce8d0bd91cc",
   "metadata": {},
   "outputs": [
    {
     "data": {
      "text/plain": [
       "'shubam'"
      ]
     },
     "execution_count": 20,
     "metadata": {},
     "output_type": "execute_result"
    }
   ],
   "source": [
    "d1={'manish':20,'shubam':30,'sam':40}\n",
    "max(d1)"
   ]
  },
  {
   "cell_type": "code",
   "execution_count": 21,
   "id": "458d1965-f12f-4e27-ba66-5e9603668acc",
   "metadata": {},
   "outputs": [
    {
     "data": {
      "text/plain": [
       "30"
      ]
     },
     "execution_count": 21,
     "metadata": {},
     "output_type": "execute_result"
    }
   ],
   "source": [
    "d2={20:'manish',30:'shubam',29:'sam'}\n",
    "max(d2)"
   ]
  },
  {
   "cell_type": "code",
   "execution_count": 22,
   "id": "ed8a7aa6-b767-459d-876f-91010f04c651",
   "metadata": {},
   "outputs": [
    {
     "data": {
      "text/plain": [
       "20"
      ]
     },
     "execution_count": 22,
     "metadata": {},
     "output_type": "execute_result"
    }
   ],
   "source": [
    "d2={20:'manish',20:'shubam',20:'sam'}\n",
    "max(d2)\n"
   ]
  },
  {
   "cell_type": "code",
   "execution_count": 23,
   "id": "e14cf634-aac3-4f70-a78d-4fca55f1995c",
   "metadata": {},
   "outputs": [
    {
     "ename": "TypeError",
     "evalue": "'>' not supported between instances of 'str' and 'int'",
     "output_type": "error",
     "traceback": [
      "\u001b[1;31m---------------------------------------------------------------------------\u001b[0m",
      "\u001b[1;31mTypeError\u001b[0m                                 Traceback (most recent call last)",
      "Cell \u001b[1;32mIn[23], line 2\u001b[0m\n\u001b[0;32m      1\u001b[0m d2\u001b[38;5;241m=\u001b[39m{\u001b[38;5;241m20\u001b[39m:\u001b[38;5;124m'\u001b[39m\u001b[38;5;124mmanish\u001b[39m\u001b[38;5;124m'\u001b[39m,\u001b[38;5;124m'\u001b[39m\u001b[38;5;124m20\u001b[39m\u001b[38;5;124m'\u001b[39m:\u001b[38;5;124m'\u001b[39m\u001b[38;5;124mshubam\u001b[39m\u001b[38;5;124m'\u001b[39m,\u001b[38;5;241m20\u001b[39m:\u001b[38;5;124m'\u001b[39m\u001b[38;5;124msam\u001b[39m\u001b[38;5;124m'\u001b[39m}\n\u001b[1;32m----> 2\u001b[0m \u001b[38;5;28mmax\u001b[39m(d2)\n",
      "\u001b[1;31mTypeError\u001b[0m: '>' not supported between instances of 'str' and 'int'"
     ]
    }
   ],
   "source": [
    "d2={20:'manish','20':'shubam',20:'sam'}\n",
    "max(d2)"
   ]
  },
  {
   "cell_type": "code",
   "execution_count": 25,
   "id": "0c6462b4-4837-4d05-92c2-72ff7ede2483",
   "metadata": {},
   "outputs": [
    {
     "data": {
      "text/plain": [
       "'shubam'"
      ]
     },
     "execution_count": 25,
     "metadata": {},
     "output_type": "execute_result"
    }
   ],
   "source": [
    "d2={'manish':20,'shubam':20,'sam':29}\n",
    "max(d2)"
   ]
  },
  {
   "cell_type": "code",
   "execution_count": 27,
   "id": "3d62764a-22a8-4716-998a-34d9c964a856",
   "metadata": {},
   "outputs": [
    {
     "data": {
      "text/plain": [
       "30"
      ]
     },
     "execution_count": 27,
     "metadata": {},
     "output_type": "execute_result"
    }
   ],
   "source": [
    "d2={20:'manish',30:'shubam',9:'sam'}\n",
    "max(d2)"
   ]
  },
  {
   "cell_type": "code",
   "execution_count": 29,
   "id": "962e6779-18d2-4ba7-9703-b8ec00ba62c3",
   "metadata": {},
   "outputs": [
    {
     "data": {
      "text/plain": [
       "'shubam'"
      ]
     },
     "execution_count": 29,
     "metadata": {},
     "output_type": "execute_result"
    }
   ],
   "source": [
    "d3={'manish':20,'shubam':'20','sam':29}\n",
    "max(d3)"
   ]
  },
  {
   "cell_type": "code",
   "execution_count": 30,
   "id": "3fd37c07-2f79-4a8a-bd4a-d21e7594c80b",
   "metadata": {},
   "outputs": [
    {
     "data": {
      "text/plain": [
       "'shubam'"
      ]
     },
     "execution_count": 30,
     "metadata": {},
     "output_type": "execute_result"
    }
   ],
   "source": [
    "d4={'manish':'20','shubam':'30','sam':'40'}\n",
    "max(d4)"
   ]
  },
  {
   "cell_type": "code",
   "execution_count": 32,
   "id": "18bca9ca-b942-41fa-8704-e0e0222d6cd9",
   "metadata": {},
   "outputs": [
    {
     "data": {
      "text/plain": [
       "'26'"
      ]
     },
     "execution_count": 32,
     "metadata": {},
     "output_type": "execute_result"
    }
   ],
   "source": [
    "d9={'20':'manish','26':'shubam','20':'sam'}\n",
    "max(d9)"
   ]
  },
  {
   "cell_type": "code",
   "execution_count": null,
   "id": "8c12ff03-af89-41c3-afcf-90a476156161",
   "metadata": {},
   "outputs": [],
   "source": [
    "**reversed**\n",
    "\n",
    "- only keys will come in reverse"
   ]
  },
  {
   "cell_type": "code",
   "execution_count": 38,
   "id": "30b0011c-598a-4a04-a627-69cf0c57dc14",
   "metadata": {},
   "outputs": [
    {
     "data": {
      "text/plain": [
       "['shubam', 'sam', 'manish']"
      ]
     },
     "execution_count": 38,
     "metadata": {},
     "output_type": "execute_result"
    }
   ],
   "source": [
    "d3={'manish':20,'shubam':'20','sam':29}\n",
    "list(sorted(d3,reverse=True))"
   ]
  },
  {
   "cell_type": "code",
   "execution_count": 34,
   "id": "1029eabf-19ea-43bb-9c53-895cb0729cd1",
   "metadata": {},
   "outputs": [
    {
     "data": {
      "text/plain": [
       "['sam', 'shubam', 'manish']"
      ]
     },
     "execution_count": 34,
     "metadata": {},
     "output_type": "execute_result"
    }
   ],
   "source": [
    "d9={'20':'manish','26':'shubam','20':'sam'}\n",
    "list(reversed(d1))"
   ]
  },
  {
   "cell_type": "code",
   "execution_count": 3,
   "id": "04150ce1-271f-4453-ab59-b03b6907a2a4",
   "metadata": {},
   "outputs": [
    {
     "data": {
      "text/plain": [
       "29"
      ]
     },
     "execution_count": 3,
     "metadata": {},
     "output_type": "execute_result"
    }
   ],
   "source": [
    "d3={'manish':20,'shubam':20,'sam':29}\n",
    "# Dictionary is a key:value  pair\n",
    "# we can not use  index number directly\n",
    "# Whenver you want to call a value ,we will use key\n",
    "d3['manish']\n",
    "d3['shubam']\n",
    "d3['sam']"
   ]
  },
  {
   "cell_type": "code",
   "execution_count": 8,
   "id": "fb90ae9a-40b6-4040-8622-4073292caa5d",
   "metadata": {},
   "outputs": [
    {
     "name": "stdout",
     "output_type": "stream",
     "text": [
      "manish age   20\n",
      "shubam age   20\n",
      "sam age   29\n"
     ]
    }
   ],
   "source": [
    "for i in d3:\n",
    "    print(f'{i} age   {d3[i]}')"
   ]
  },
  {
   "cell_type": "code",
   "execution_count": 9,
   "id": "0f95393e-c395-4131-938a-808abc2afe63",
   "metadata": {},
   "outputs": [
    {
     "name": "stdout",
     "output_type": "stream",
     "text": [
      "Ravi age is 23\n",
      "sai age is 24\n",
      "sredhar age is 25\n"
     ]
    }
   ],
   "source": [
    "names=['Ravi','sai','sredhar']\n",
    "age=[23,24,25]\n",
    "for i,j in zip(names,age):\n",
    "    print(f'{i} age is {j}')"
   ]
  },
  {
   "cell_type": "code",
   "execution_count": 12,
   "id": "23883069-3bed-4bc7-bdd1-6ae5002cdf82",
   "metadata": {},
   "outputs": [
    {
     "data": {
      "text/plain": [
       "[20, 20, 29]"
      ]
     },
     "execution_count": 12,
     "metadata": {},
     "output_type": "execute_result"
    }
   ],
   "source": [
    "d3={'manish':20,'shubam':20,'sam':29}\n",
    "keys,value=[],[]\n",
    "for i in d3:\n",
    "    keys.append(i)\n",
    "    value.append(d3[i])\n",
    "value"
   ]
  },
  {
   "cell_type": "code",
   "execution_count": null,
   "id": "f5a38557-02ba-495c-974d-74c3ddbe9653",
   "metadata": {},
   "outputs": [],
   "source": [
    "keys=[i for i in d1]\n",
    "values=[d[i] for i in "
   ]
  },
  {
   "cell_type": "markdown",
   "id": "380dec28-1f97-43c0-937e-e81b6396f697",
   "metadata": {},
   "source": [
    "**How to create a empty list**"
   ]
  },
  {
   "cell_type": "code",
   "execution_count": 14,
   "id": "c3f3863d-fc12-4f05-91e0-14a20205789e",
   "metadata": {},
   "outputs": [
    {
     "data": {
      "text/plain": [
       "[20]"
      ]
     },
     "execution_count": 14,
     "metadata": {},
     "output_type": "execute_result"
    }
   ],
   "source": [
    "l=[]\n",
    "l.append(20)\n",
    "l"
   ]
  },
  {
   "cell_type": "code",
   "execution_count": null,
   "id": "363a5ac8-db43-48ed-a5b5-6f1c86b96288",
   "metadata": {},
   "outputs": [],
   "source": [
    "**empty string**"
   ]
  },
  {
   "cell_type": "code",
   "execution_count": null,
   "id": "d123f9f3-5214-44e5-b575-83add87c59c9",
   "metadata": {},
   "outputs": [],
   "source": []
  },
  {
   "cell_type": "code",
   "execution_count": null,
   "id": "b430f433-0b54-45c9-8949-775a116aa24b",
   "metadata": {},
   "outputs": [],
   "source": [
    "**empty dictionary**"
   ]
  },
  {
   "cell_type": "code",
   "execution_count": 27,
   "id": "86e618f1-cb7e-448c-b78c-bed7175f6ac9",
   "metadata": {},
   "outputs": [
    {
     "ename": "SyntaxError",
     "evalue": "invalid syntax (2110928593.py, line 2)",
     "output_type": "error",
     "traceback": [
      "\u001b[1;36m  Cell \u001b[1;32mIn[27], line 2\u001b[1;36m\u001b[0m\n\u001b[1;33m    d[<key>]=<value>\u001b[0m\n\u001b[1;37m      ^\u001b[0m\n\u001b[1;31mSyntaxError\u001b[0m\u001b[1;31m:\u001b[0m invalid syntax\n"
     ]
    }
   ],
   "source": [
    "d={}\n",
    "d[<key>]=<value>\n",
    "d"
   ]
  },
  {
   "cell_type": "code",
   "execution_count": 23,
   "id": "3cc11eaf-2a22-49b3-b718-0457149a03c7",
   "metadata": {},
   "outputs": [
    {
     "data": {
      "text/plain": [
       "{'Bhanu': 23}"
      ]
     },
     "execution_count": 23,
     "metadata": {},
     "output_type": "execute_result"
    }
   ],
   "source": [
    "d4={}\n",
    "d4['Bhanu']=23\n",
    "d4"
   ]
  },
  {
   "cell_type": "code",
   "execution_count": 26,
   "id": "4de19fef-ac5d-4e8b-88c7-94204f5b0a9f",
   "metadata": {},
   "outputs": [
    {
     "data": {
      "text/plain": [
       "{'sredhar': 25, 'Ravi': 23, 'sai': 24}"
      ]
     },
     "execution_count": 26,
     "metadata": {},
     "output_type": "execute_result"
    }
   ],
   "source": [
    "names=['Ravi','sai','sredhar']\n",
    "age=[23,24,25]\n",
    "for i,j in zip(names,age):\n",
    "    d5[i]=j\n",
    "d5"
   ]
  },
  {
   "cell_type": "markdown",
   "id": "25a40c33-5254-4299-8ba2-eaa6b7bae602",
   "metadata": {},
   "source": [
    "**string to list**"
   ]
  },
  {
   "cell_type": "code",
   "execution_count": 29,
   "id": "ebf1134e-c563-4233-944a-a98b78728418",
   "metadata": {},
   "outputs": [
    {
     "data": {
      "text/plain": [
       "['hello', 'hai', 'hai', 'hai', 'how', 'how', 'are', 'you']"
      ]
     },
     "execution_count": 29,
     "metadata": {},
     "output_type": "execute_result"
    }
   ],
   "source": [
    "s='hello hai hai  hai how how are you'\n",
    "s.split()"
   ]
  },
  {
   "cell_type": "markdown",
   "id": "87587761-483b-40f9-93d5-636b93ec9ef4",
   "metadata": {},
   "source": [
    "**word frequency**"
   ]
  },
  {
   "cell_type": "code",
   "execution_count": 33,
   "id": "52ae8e00-6095-43ae-a698-4ff8e526dfbd",
   "metadata": {},
   "outputs": [
    {
     "ename": "TypeError",
     "evalue": "can only concatenate list (not \"str\") to list",
     "output_type": "error",
     "traceback": [
      "\u001b[1;31m---------------------------------------------------------------------------\u001b[0m",
      "\u001b[1;31mTypeError\u001b[0m                                 Traceback (most recent call last)",
      "Cell \u001b[1;32mIn[33], line 7\u001b[0m\n\u001b[0;32m      5\u001b[0m s\u001b[38;5;241m.\u001b[39msplit()\n\u001b[0;32m      6\u001b[0m \u001b[38;5;28;01mfor\u001b[39;00m i \u001b[38;5;129;01min\u001b[39;00m s:\n\u001b[1;32m----> 7\u001b[0m     count\u001b[38;5;241m=\u001b[39mcount\u001b[38;5;241m+\u001b[39mi\n\u001b[0;32m      8\u001b[0m     words\u001b[38;5;241m.\u001b[39mappend()\n",
      "\u001b[1;31mTypeError\u001b[0m: can only concatenate list (not \"str\") to list"
     ]
    }
   ],
   "source": [
    "s='hello hai hai hai how how are you'\n",
    "#o/p={'hello':1,'hai':3,'how':2,'are':1,'you':1}\n",
    "count=0\n",
    "words,count=[],[]\n",
    "s.split()\n",
    "for i in s:\n",
    "    count=count+i\n",
    "    words.append()\n"
   ]
  },
  {
   "cell_type": "code",
   "execution_count": 34,
   "id": "7475b0cb-321f-4e39-93bc-e93464999883",
   "metadata": {},
   "outputs": [
    {
     "data": {
      "text/plain": [
       "{'hello': 1, 'hai': 3, 'how': 2, 'are': 1, 'you': 1}"
      ]
     },
     "execution_count": 34,
     "metadata": {},
     "output_type": "execute_result"
    }
   ],
   "source": [
    "s='hello hai hai hai how how are you'\n",
    "words_list=s.split()\n",
    "words_list\n",
    "dict1={}\n",
    "for word in words_list:\n",
    "    dict1[word]=s.count(word)\n",
    "dict1"
   ]
  },
  {
   "cell_type": "code",
   "execution_count": null,
   "id": "d58f9efb-8a60-49c2-844a-8430f8787771",
   "metadata": {},
   "outputs": [],
   "source": [
    "#step= in the above sentances you need to remove a,an,the,as,and\n",
    "step=data "
   ]
  },
  {
   "cell_type": "code",
   "execution_count": null,
   "id": "d54a2fe4-288d-4ee6-8f26-14f957fcc5b1",
   "metadata": {},
   "outputs": [],
   "source": [
    "**mutable-immutable**\n",
    "- change the elements using index\n",
    "- but  in dictionary there is no index\n",
    "- in dictionary we will change  the value based on key only\n",
    "- instead of using the index change  the value using key\n",
    "- if it changes it is mutable\n",
    "- if it doesnot change it is immutable"
   ]
  },
  {
   "cell_type": "code",
   "execution_count": 35,
   "id": "08d581aa-c90f-4c64-98da-62aff5d9c336",
   "metadata": {},
   "outputs": [
    {
     "data": {
      "text/plain": [
       "{'manish': 20, 'shubam': 20, 'sam': 22}"
      ]
     },
     "execution_count": 35,
     "metadata": {},
     "output_type": "execute_result"
    }
   ],
   "source": [
    "d3={'manish':20,'shubam':20,'sam':29}\n",
    "d3['sam']=22\n",
    "d3\n"
   ]
  },
  {
   "cell_type": "markdown",
   "id": "3a1c60db-ff96-484e-b4bb-f98c6232a405",
   "metadata": {},
   "source": [
    "- list and dictionary are mutable\n",
    "- tuple and strings are immutable\n",
    "- Difference between list and tuple"
   ]
  },
  {
   "cell_type": "code",
   "execution_count": 39,
   "id": "4b6c57fd-b353-486b-867f-f86080dca2ac",
   "metadata": {},
   "outputs": [
    {
     "data": {
      "text/plain": [
       "['mango']"
      ]
     },
     "execution_count": 39,
     "metadata": {},
     "output_type": "execute_result"
    }
   ],
   "source": [
    "d={'fruits':['mango']}\n",
    "d['fruits']"
   ]
  },
  {
   "cell_type": "code",
   "execution_count": 43,
   "id": "3c0ea0e7-8ecf-4fcd-973d-def867d48901",
   "metadata": {},
   "outputs": [
    {
     "data": {
      "text/plain": [
       "'kashmir'"
      ]
     },
     "execution_count": 43,
     "metadata": {},
     "output_type": "execute_result"
    }
   ],
   "source": [
    "d={'fruits':[{'Apple':['kashmir']}]}\n",
    "d['fruits'][0]['Apple'][0]"
   ]
  },
  {
   "cell_type": "code",
   "execution_count": 49,
   "id": "069e7985-30ac-471d-96e3-15a89c5e7751",
   "metadata": {},
   "outputs": [
    {
     "data": {
      "text/plain": [
       "'india'"
      ]
     },
     "execution_count": 49,
     "metadata": {},
     "output_type": "execute_result"
    }
   ],
   "source": [
    "d={'fruites':[\n",
    "    {'Apple':\n",
    "     {'kashmir':\n",
    "      ['india']\n",
    "     }\n",
    "    }\n",
    "]\n",
    "  }\n",
    "len('fruites')\n",
    "d['fruites'][0]['Apple']['kashmir'][0]"
   ]
  },
  {
   "cell_type": "code",
   "execution_count": 56,
   "id": "d93f839c-43a3-4636-91de-a56873a3217b",
   "metadata": {},
   "outputs": [
    {
     "data": {
      "text/plain": [
       "{'Shambaji'}"
      ]
     },
     "execution_count": 56,
     "metadata": {},
     "output_type": "execute_result"
    }
   ],
   "source": [
    "d={'Fruites':{'Benganapalli':{'Mango':{'Nagpur':{'MH':{'Shivaji':{'Shambaji'}}}}}}}\n",
    "d['Fruites']['Benganapalli']['Mango']['Nagpur']['MH']['Shivaji']"
   ]
  },
  {
   "cell_type": "markdown",
   "id": "63415423-e921-472d-a0f3-4f9f4921e405",
   "metadata": {},
   "source": [
    "**dictionary methods**"
   ]
  },
  {
   "cell_type": "code",
   "execution_count": 1,
   "id": "b909cd69-4c16-457a-b88e-1bf9936793e3",
   "metadata": {},
   "outputs": [
    {
     "data": {
      "text/plain": [
       "['__class__',\n",
       " '__class_getitem__',\n",
       " '__contains__',\n",
       " '__delattr__',\n",
       " '__delitem__',\n",
       " '__dir__',\n",
       " '__doc__',\n",
       " '__eq__',\n",
       " '__format__',\n",
       " '__ge__',\n",
       " '__getattribute__',\n",
       " '__getitem__',\n",
       " '__getstate__',\n",
       " '__gt__',\n",
       " '__hash__',\n",
       " '__init__',\n",
       " '__init_subclass__',\n",
       " '__ior__',\n",
       " '__iter__',\n",
       " '__le__',\n",
       " '__len__',\n",
       " '__lt__',\n",
       " '__ne__',\n",
       " '__new__',\n",
       " '__or__',\n",
       " '__reduce__',\n",
       " '__reduce_ex__',\n",
       " '__repr__',\n",
       " '__reversed__',\n",
       " '__ror__',\n",
       " '__setattr__',\n",
       " '__setitem__',\n",
       " '__sizeof__',\n",
       " '__str__',\n",
       " '__subclasshook__',\n",
       " 'clear',\n",
       " 'copy',\n",
       " 'fromkeys',\n",
       " 'get',\n",
       " 'items',\n",
       " 'keys',\n",
       " 'pop',\n",
       " 'popitem',\n",
       " 'setdefault',\n",
       " 'update',\n",
       " 'values']"
      ]
     },
     "execution_count": 1,
     "metadata": {},
     "output_type": "execute_result"
    }
   ],
   "source": [
    "dir('') #string methods\n",
    "dir([]) #list methods\n",
    "dir(()) #tuple methods\n",
    "dir({}) #dictionary method"
   ]
  },
  {
   "cell_type": "code",
   "execution_count": null,
   "id": "cbfc22f4-be6c-485c-b091-75792cc7c24a",
   "metadata": {},
   "outputs": [],
   "source": [
    "string\n",
    "list \n",
    "tuple \n",
    "dictionary are all class objects"
   ]
  },
  {
   "cell_type": "code",
   "execution_count": 2,
   "id": "3c00a298-aef0-4dd6-8f66-f10a7e88422d",
   "metadata": {},
   "outputs": [
    {
     "name": "stdout",
     "output_type": "stream",
     "text": [
      "<class 'list'>\n"
     ]
    }
   ],
   "source": [
    "print(type([]))"
   ]
  },
  {
   "cell_type": "code",
   "execution_count": 3,
   "id": "8ab9c1a0-7aa5-49ab-8a21-1be177bc5204",
   "metadata": {},
   "outputs": [
    {
     "name": "stdout",
     "output_type": "stream",
     "text": [
      "<class 'tuple'>\n"
     ]
    }
   ],
   "source": [
    "print(type(()))"
   ]
  },
  {
   "cell_type": "code",
   "execution_count": 4,
   "id": "e0a10fe9-8b5d-482c-bb6b-77535211e2c5",
   "metadata": {},
   "outputs": [
    {
     "name": "stdout",
     "output_type": "stream",
     "text": [
      "<class 'str'>\n"
     ]
    }
   ],
   "source": [
    "print(type(''))"
   ]
  },
  {
   "cell_type": "code",
   "execution_count": 5,
   "id": "314b4637-0953-484e-b0a9-58c65e554f75",
   "metadata": {},
   "outputs": [
    {
     "name": "stdout",
     "output_type": "stream",
     "text": [
      "<class 'dict'>\n"
     ]
    }
   ],
   "source": [
    "print(type({}))"
   ]
  },
  {
   "cell_type": "markdown",
   "id": "3558a820-9ccb-4370-b752-0d618a8a37d0",
   "metadata": {},
   "source": [
    "**items-keys-values**"
   ]
  },
  {
   "cell_type": "code",
   "execution_count": 6,
   "id": "746f2dde-430b-41b3-b813-7439d3db80f4",
   "metadata": {},
   "outputs": [
    {
     "data": {
      "text/plain": [
       "{'manish': 20, 'shubam': 20, 'sam': 29}"
      ]
     },
     "execution_count": 6,
     "metadata": {},
     "output_type": "execute_result"
    }
   ],
   "source": [
    "d3={'manish':20,'shubam':20,'sam':29}\n",
    "d3"
   ]
  },
  {
   "cell_type": "code",
   "execution_count": 7,
   "id": "9f685202-4469-4542-98c9-8bf14eca055a",
   "metadata": {},
   "outputs": [],
   "source": [
    "#<package>.<methodname>"
   ]
  },
  {
   "cell_type": "code",
   "execution_count": 9,
   "id": "3238331a-b954-4b02-85c0-b2303ec7b2f4",
   "metadata": {},
   "outputs": [
    {
     "data": {
      "text/plain": [
       "dict_items([('manish', 20), ('shubam', 20), ('sam', 29)])"
      ]
     },
     "execution_count": 9,
     "metadata": {},
     "output_type": "execute_result"
    }
   ],
   "source": [
    "d3.items()"
   ]
  },
  {
   "cell_type": "code",
   "execution_count": 10,
   "id": "3f5f6e7f-5ccb-49ce-b94d-b6ae80a21568",
   "metadata": {},
   "outputs": [
    {
     "data": {
      "text/plain": [
       "dict_keys(['manish', 'shubam', 'sam'])"
      ]
     },
     "execution_count": 10,
     "metadata": {},
     "output_type": "execute_result"
    }
   ],
   "source": [
    "d3.keys()"
   ]
  },
  {
   "cell_type": "code",
   "execution_count": 11,
   "id": "ad554f95-0abc-49bc-b020-c20270ecee2e",
   "metadata": {},
   "outputs": [
    {
     "data": {
      "text/plain": [
       "dict_values([20, 20, 29])"
      ]
     },
     "execution_count": 11,
     "metadata": {},
     "output_type": "execute_result"
    }
   ],
   "source": [
    "d3.values()"
   ]
  },
  {
   "cell_type": "code",
   "execution_count": 12,
   "id": "8412f29f-e09f-4df7-9829-3b29ab324167",
   "metadata": {},
   "outputs": [
    {
     "name": "stdout",
     "output_type": "stream",
     "text": [
      "manish 20\n",
      "shubam 20\n",
      "sam 29\n"
     ]
    },
    {
     "data": {
      "text/plain": [
       "(['manish', 'shubam', 'sam'], [20, 20, 29])"
      ]
     },
     "execution_count": 12,
     "metadata": {},
     "output_type": "execute_result"
    }
   ],
   "source": [
    "#we already learn how to make a list from dictionary\n",
    "d={'manish':20,'shubam':20,'sam':29}\n",
    "keys,values=[],[]\n",
    "for i in d:\n",
    "    print(i,d[i])\n",
    "    keys.append(i)\n",
    "    values.append(d[i])\n",
    "\n",
    "keys,values"
   ]
  },
  {
   "cell_type": "code",
   "execution_count": 13,
   "id": "9e60a9ab-8ce8-47a1-8c72-8df695421d31",
   "metadata": {},
   "outputs": [
    {
     "data": {
      "text/plain": [
       "dict_keys"
      ]
     },
     "execution_count": 13,
     "metadata": {},
     "output_type": "execute_result"
    }
   ],
   "source": [
    "type(d.keys())"
   ]
  },
  {
   "cell_type": "code",
   "execution_count": 14,
   "id": "90e79307-2d08-415c-b478-22d937ebcab7",
   "metadata": {},
   "outputs": [
    {
     "data": {
      "text/plain": [
       "['manish', 'shubam', 'sam']"
      ]
     },
     "execution_count": 14,
     "metadata": {},
     "output_type": "execute_result"
    }
   ],
   "source": [
    "list(d.keys())"
   ]
  },
  {
   "cell_type": "code",
   "execution_count": 15,
   "id": "b3320994-cc81-4acd-ad16-1b201c5fd078",
   "metadata": {},
   "outputs": [
    {
     "data": {
      "text/plain": [
       "(['manish', 'shubam', 'sam'], [20, 20, 29])"
      ]
     },
     "execution_count": 15,
     "metadata": {},
     "output_type": "execute_result"
    }
   ],
   "source": [
    "list(d.keys()),list(d.values())"
   ]
  },
  {
   "cell_type": "markdown",
   "id": "d85d3154-5645-440f-a50b-81dbd8625572",
   "metadata": {},
   "source": [
    "- dictionary keys  will give dictionary keys items in a list\n",
    "- it looks like a list ,but  it is not a list\n",
    "- which means we can not apply list methods\n",
    "- so we need to convert into list type ,by using list type casting"
   ]
  },
  {
   "cell_type": "markdown",
   "id": "878833bf-a263-4097-8784-6ebf4f910668",
   "metadata": {},
   "source": [
    "**method-1**"
   ]
  },
  {
   "cell_type": "code",
   "execution_count": null,
   "id": "fced84c1-66b2-462f-b8f0-288a40ca93f2",
   "metadata": {},
   "outputs": [],
   "source": [
    "#we already learn how to make a list from dictionary\n",
    "d={'manish':20,'shubam':20,'sam':29}\n",
    "keys,values=[],[]\n",
    "for i in d:\n",
    "    print(i,d[i])\n",
    "    keys.append(i)\n",
    "    values.append(d[i])\n",
    "\n",
    "keys,values"
   ]
  },
  {
   "cell_type": "markdown",
   "id": "455a796f-2aa8-4224-8b39-d9b9be88ba02",
   "metadata": {},
   "source": [
    "**method-2**"
   ]
  },
  {
   "cell_type": "code",
   "execution_count": 16,
   "id": "065eb20b-0825-4582-93d4-d9813e6f6078",
   "metadata": {},
   "outputs": [],
   "source": [
    "d={'manish':20,'shubam':20,'sam':29}\n",
    "keys=list(d.keys())\n",
    "values=list(d.values())"
   ]
  },
  {
   "cell_type": "code",
   "execution_count": 18,
   "id": "b3d90202-831a-4076-8ad0-079ceddac166",
   "metadata": {},
   "outputs": [
    {
     "data": {
      "text/plain": [
       "dict_items([('manish', 20), ('shubam', 20), ('sam', 29)])"
      ]
     },
     "execution_count": 18,
     "metadata": {},
     "output_type": "execute_result"
    }
   ],
   "source": [
    "d.items()"
   ]
  },
  {
   "cell_type": "markdown",
   "id": "b6bb0304-35f6-4c9f-9c09-64627ae28e76",
   "metadata": {},
   "source": [
    "**method-3**"
   ]
  },
  {
   "cell_type": "code",
   "execution_count": 25,
   "id": "77fc0bc0-e192-4ff9-a2f2-a0ee3650e7f5",
   "metadata": {},
   "outputs": [
    {
     "name": "stdout",
     "output_type": "stream",
     "text": [
      "manish\n",
      "shubam\n",
      "sam\n"
     ]
    },
    {
     "data": {
      "text/plain": [
       "(['manish', 'shubam', 'sam'], [20, 20, 29])"
      ]
     },
     "execution_count": 25,
     "metadata": {},
     "output_type": "execute_result"
    }
   ],
   "source": [
    "keys,values=[],[]\n",
    "for i,j in d.items():\n",
    "    print(i)\n",
    "    keys.append(i)\n",
    "    values.append(j)\n",
    "keys,values"
   ]
  },
  {
   "cell_type": "code",
   "execution_count": null,
   "id": "197e20e2-485c-4307-b239-e60c837511ac",
   "metadata": {},
   "outputs": [],
   "source": [
    "**how to read the text file**\n",
    "\n",
    "- in order to read any file , we need 3 points\n",
    "- where is the file located : dicrectory or folder name\n",
    "- what is the file name\n",
    "- what is the extension "
   ]
  }
 ],
 "metadata": {
  "kernelspec": {
   "display_name": "Python 3 (ipykernel)",
   "language": "python",
   "name": "python3"
  },
  "language_info": {
   "codemirror_mode": {
    "name": "ipython",
    "version": 3
   },
   "file_extension": ".py",
   "mimetype": "text/x-python",
   "name": "python",
   "nbconvert_exporter": "python",
   "pygments_lexer": "ipython3",
   "version": "3.11.7"
  }
 },
 "nbformat": 4,
 "nbformat_minor": 5
}
