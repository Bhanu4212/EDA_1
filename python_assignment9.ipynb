{
 "cells": [
  {
   "cell_type": "code",
   "execution_count": 17,
   "id": "f70100c5-87d1-471e-a376-d95bd2fa5525",
   "metadata": {},
   "outputs": [
    {
     "name": "stdin",
     "output_type": "stream",
     "text": [
      "enter length in centimeters 5\n"
     ]
    },
    {
     "name": "stdout",
     "output_type": "stream",
     "text": [
      "1.968503937007874\n"
     ]
    }
   ],
   "source": [
    "#Write a program that asks the user to enter a length in centimetres. If the user enters\n",
    "#a negative length, the program should tell the user that the entry is invalid. Otherwise,\n",
    "#the program should convert the length to inches and print out the result. There are\n",
    "#2.54 centimetres in an inch.\n",
    "\n",
    "length=eval(input('enter length in centimeters'))\n",
    "if length<0:\n",
    "    print('entry is invalid' )\n",
    "else:\n",
    "    i=length/2.54\n",
    "    print(i)"
   ]
  },
  {
   "cell_type": "code",
   "execution_count": 36,
   "id": "ccc7f8a0-9ff6-4401-adf1-feb0cce0c5a4",
   "metadata": {},
   "outputs": [
    {
     "name": "stdin",
     "output_type": "stream",
     "text": [
      "enter a temperature: 25\n",
      "enter units in (celsius or fahrenheit) celsius\n"
     ]
    },
    {
     "name": "stdout",
     "output_type": "stream",
     "text": [
      "temperature is: -3.8888888888888893\n"
     ]
    }
   ],
   "source": [
    "#Ask the user for a temperature. Then ask them what units, Celsius or Fahrenheit, the\n",
    "#temperature is in. Your program should convert the temperature to the other unit. The\n",
    "#conversions are F = 9 5 C +32 and C = 5 9 (F − 32).\n",
    "\n",
    "temp=eval(input('enter a temperature:'))\n",
    "unit=input('enter units in (celsius or fahrenheit)')\n",
    "if unit=='Fahrenheit':\n",
    "    fahrenheit1=(9/5*temp)+32\n",
    "    print(f'temperature is:',farenheit)\n",
    "else:\n",
    "    celsius=5/9*(temp-32)\n",
    "    print(f'temperature is:',celsius)"
   ]
  },
  {
   "cell_type": "code",
   "execution_count": 8,
   "id": "6e48282f-05e6-4d97-9d2d-d6c1cc613999",
   "metadata": {},
   "outputs": [
    {
     "name": "stdin",
     "output_type": "stream",
     "text": [
      "enter temperature in celsius 25\n"
     ]
    },
    {
     "name": "stdout",
     "output_type": "stream",
     "text": [
      "the temperature is in the normal range\n"
     ]
    }
   ],
   "source": [
    "# Problem-3(Use conditional statements)\n",
    "# Ask the user to enter a temperature in Celsius. The program should print a message based on the temperature:\n",
    "# If the temperature is less than -273.15, print that the temperature is invalid because it is below absolute zero.\n",
    "# If it is exactly -273.15, print that the temperature is absolute 0.\n",
    "# If the temperature is between -273.15 and 0, print that the temperature is below freezing. \n",
    "# If it is 0, print that the temperature is at the freezing point.\n",
    "# If it is between 0 and 100, print that the temperature is in the normal range. \n",
    "# If it is 100, print that the temperature is at the boiling point.\n",
    "# If it is above 100, print that the temperature is above the boiling point.\n",
    "temp1=eval(input('enter temperature in celsius'))\n",
    "if temp1<0:\n",
    "    print('the temperature is invalid because it is below absolute zero')\n",
    "elif temp1==-273.15:\n",
    "    print('the temperature is absolute 0')\n",
    "elif -273.15<temp1<0:\n",
    "    print('the temperature is below freezing')\n",
    "elif temp1==0:\n",
    "    print('the temperature is at the freezing point')\n",
    "elif 0<temp1<100:\n",
    "    print('the temperature is in the normal range')\n",
    "elif temp1==100:\n",
    "    print('the temperature is at the boiling point')\n",
    "else:\n",
    "    print('the temperature is above the boiling point')"
   ]
  },
  {
   "cell_type": "code",
   "execution_count": 12,
   "id": "73548e86-1d73-4588-a338-80f8be7c8aa4",
   "metadata": {},
   "outputs": [
    {
     "name": "stdin",
     "output_type": "stream",
     "text": [
      "enter no of credits 29\n"
     ]
    },
    {
     "name": "stdout",
     "output_type": "stream",
     "text": [
      "the student is asophomore\n"
     ]
    }
   ],
   "source": [
    "#### Problem-4(Use conditional statements)\n",
    "#Write a program that asks the user how many credits they have taken. If they have taken 23 or\n",
    "#less, print that the student is a freshman. If they have taken between 24 and 53, print that they\n",
    "#are asophomore. The range for juniors is 54 to 83, and for seniors it is 84 and over.\n",
    "\n",
    "credits=eval(input('enter no of credits'))\n",
    "if 23>credits:\n",
    "    print('the student is a freshman')\n",
    "elif 24<credits<53:\n",
    "    print('the student is asophomore')\n",
    "elif 54<credits<83:\n",
    "    print('the student is junior')\n",
    "else:\n",
    "    print('the student is senior')"
   ]
  },
  {
   "cell_type": "code",
   "execution_count": 13,
   "id": "8fed7934-93f8-46e5-8e22-76094bcad271",
   "metadata": {},
   "outputs": [
    {
     "name": "stdin",
     "output_type": "stream",
     "text": [
      "enter a number 1 to 10 5\n"
     ]
    },
    {
     "name": "stdout",
     "output_type": "stream",
     "text": [
      "your guess is right\n"
     ]
    }
   ],
   "source": [
    "##### Problem-5(Use conditional statements)\n",
    "#Generate a random number between 1 and 10. Ask the user to guess the number and print a\n",
    "#message based on whether they get it right or not.\n",
    "\n",
    "import random\n",
    "num1=random.randint(1,10)\n",
    "num2=eval(input('enter a number 1 to 10'))\n",
    "if num1==num2:\n",
    "    print('your guess is right')\n",
    "else:\n",
    "    print('your guess is wrong')"
   ]
  },
  {
   "cell_type": "code",
   "execution_count": 22,
   "id": "8b34abeb-c24f-4e6a-a96b-9078e45e7f5f",
   "metadata": {},
   "outputs": [
    {
     "name": "stdin",
     "output_type": "stream",
     "text": [
      "enter no of item 55\n"
     ]
    },
    {
     "name": "stdout",
     "output_type": "stream",
     "text": [
      "total cost 550$\n"
     ]
    }
   ],
   "source": [
    "#### Problem-6(Use conditional statements)\n",
    "#A store charges $12 per item if you buy less than 10 items. If you buy between 10\n",
    "#and 99 items, the cost is $10 per item. If you buy 100 or more items, the cost is $7\n",
    "#per item. Write a program that asks the user how many items they are buying and\n",
    "#prints the total cost.\n",
    "\n",
    "items=eval(input('enter no of item'))\n",
    "if items<10:\n",
    "    items=items*12\n",
    "    print(f'total cost {items}$') \n",
    "elif items<99:\n",
    "    items=items*10\n",
    "    print(f'total cost {items}$') \n",
    "else:\n",
    "    items=items*7\n",
    "    print(f'total cost {items}$') "
   ]
  },
  {
   "cell_type": "code",
   "execution_count": 32,
   "id": "fdcc7e41-d2ac-4a26-ac4f-985b7ca0b3b4",
   "metadata": {},
   "outputs": [
    {
     "name": "stdin",
     "output_type": "stream",
     "text": [
      "enter a  float number1 5\n",
      "enter a  float number2 4\n"
     ]
    },
    {
     "name": "stdout",
     "output_type": "stream",
     "text": [
      "close\n"
     ]
    }
   ],
   "source": [
    "#### Problem-7(Use conditional statements)\n",
    "#Write a program that asks the user for two numbers and prints Close if the\n",
    "#numbers are within .001of each other and Not close otherwise.\n",
    "\n",
    "num1=eval(input('enter a  float number1'))\n",
    "num2=eval(input('enter a  float number2'))\n",
    "if num1<num2:\n",
    "    value=num1-num2\n",
    "else:\n",
    "    value=num2-num1\n",
    "if value<=0.001:\n",
    "    print('close')\n",
    "else:\n",
    "    print('not close')"
   ]
  },
  {
   "cell_type": "code",
   "execution_count": 36,
   "id": "515cb252-7df4-4b62-9c62-e4ec0e34bb57",
   "metadata": {},
   "outputs": [
    {
     "name": "stdin",
     "output_type": "stream",
     "text": [
      "enter a year 2020\n"
     ]
    },
    {
     "name": "stdout",
     "output_type": "stream",
     "text": [
      "its a leap year\n"
     ]
    }
   ],
   "source": [
    "#### Problem-8(Use conditional statements)\n",
    "#A year is a leap year if it is divisible by 4, except that years divisible by 100 are not leap years unless\n",
    "#they are also divisible by 400. Write a program that asks the user for a year and prints out whether\n",
    "#it is a leap year or not.\n",
    "\n",
    "year=eval(input('enter a year'))\n",
    "if year%4==0 and year%400:\n",
    "    print('its a leap year')\n",
    "else:\n",
    "    print('its not aleap year')"
   ]
  },
  {
   "cell_type": "code",
   "execution_count": 37,
   "id": "8053ecba-a7bc-465b-bcbf-e8d52f72d3a6",
   "metadata": {},
   "outputs": [
    {
     "name": "stdin",
     "output_type": "stream",
     "text": [
      "enter a number 15\n"
     ]
    },
    {
     "name": "stdout",
     "output_type": "stream",
     "text": [
      "1 divisor 15\n",
      "3 divisor 15\n",
      "5 divisor 15\n",
      "15 divisor 15\n"
     ]
    }
   ],
   "source": [
    "#### Problem-9(Use conditional statements)\n",
    "#Write a program that asks the user to enter a number and prints out all the divisors of that\n",
    "#number. [Hint: the % operator is used to tell if a number is divisible by something.\n",
    "\n",
    "num=eval(input('enter a number'))\n",
    "for i in range(1,num+1):\n",
    "    if num%i==0:\n",
    "        print(f'{i} divisor {num}')"
   ]
  },
  {
   "cell_type": "code",
   "execution_count": 58,
   "id": "cd3f0e56-c193-40a3-a062-1a154b525aad",
   "metadata": {},
   "outputs": [
    {
     "name": "stdin",
     "output_type": "stream",
     "text": [
      "enter hour between 1 and 12: 9\n",
      "enter (1) for am or (2) for pm: 1\n",
      "enter hours future you want to go: 5\n"
     ]
    },
    {
     "name": "stdout",
     "output_type": "stream",
     "text": [
      "New hour:2 pm\n"
     ]
    }
   ],
   "source": [
    "#### Problem-10(Use conditional statements)\n",
    "#Write a program that asks the user for an hour between 1 and 12, asks them to\n",
    "#enter am or pm, and asks them how many hours into the future they want to go.\n",
    "#3Print out what the hour will be that many hours into the future, printing am or pm as\n",
    "#appropriate. An example is shown below.\n",
    "#Enter hour: 8\n",
    "#am (1) or pm (2)? 1\n",
    "#How many hours ahead? 5\n",
    "#New hour: 1 pm\n",
    "\n",
    "time=eval(input('enter hour between 1 and 12:'))\n",
    "when=eval(input('enter (1) for am or (2) for pm:'))\n",
    "future=eval(input('enter hours future you want to go:'))\n",
    "total_hours=12\n",
    "if time+future>total_hours:\n",
    "    hours=(time+future)-total_hours\n",
    "else:\n",
    "    hours=total_hours-(time+future)\n",
    "if when==1:\n",
    "    print(f'New hour:{hour} pm')\n",
    "else:\n",
    "     print(f'New hour:{hour} am')\n",
    "\n"
   ]
  },
  {
   "cell_type": "code",
   "execution_count": null,
   "id": "2b56efc3-b245-463b-a7c1-b94a80a36286",
   "metadata": {},
   "outputs": [],
   "source": []
  }
 ],
 "metadata": {
  "kernelspec": {
   "display_name": "Python 3 (ipykernel)",
   "language": "python",
   "name": "python3"
  },
  "language_info": {
   "codemirror_mode": {
    "name": "ipython",
    "version": 3
   },
   "file_extension": ".py",
   "mimetype": "text/x-python",
   "name": "python",
   "nbconvert_exporter": "python",
   "pygments_lexer": "ipython3",
   "version": "3.11.7"
  }
 },
 "nbformat": 4,
 "nbformat_minor": 5
}
