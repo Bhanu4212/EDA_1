{
 "cells": [
  {
   "cell_type": "markdown",
   "id": "3edc00cd-a3b9-4495-9dea-f60d636fb9d8",
   "metadata": {},
   "source": [
    "**for-in**"
   ]
  },
  {
   "cell_type": "code",
   "execution_count": 2,
   "id": "2a4ca64e-3cb6-48f1-8a5b-509f2c65b6a5",
   "metadata": {},
   "outputs": [
    {
     "name": "stdout",
     "output_type": "stream",
     "text": [
      "1 2 3 4 8 9 3 "
     ]
    }
   ],
   "source": [
    "l1=[1,2,3,4,8,9,3]\n",
    "for i in l1:\n",
    "    print(i,end=' ')\n"
   ]
  },
  {
   "cell_type": "markdown",
   "id": "70686292-5364-47cf-a984-0486e8b42c69",
   "metadata": {},
   "source": [
    "**for-range**"
   ]
  },
  {
   "cell_type": "code",
   "execution_count": 3,
   "id": "8da2528e-60e9-4b91-86f4-20dffb438392",
   "metadata": {},
   "outputs": [
    {
     "name": "stdout",
     "output_type": "stream",
     "text": [
      "1 2 3 4 8 9 3 "
     ]
    }
   ],
   "source": [
    "l1=[1,2,3,4,8,9,3]\n",
    "for i in range(len(l1)):\n",
    "    print(l1[i],end=' ')"
   ]
  },
  {
   "cell_type": "markdown",
   "id": "a84ff72d-e0fd-4491-9559-2d8774f9ac4c",
   "metadata": {},
   "source": [
    "**mutability check**"
   ]
  },
  {
   "cell_type": "code",
   "execution_count": 4,
   "id": "bf788883-a56c-42fe-ac2a-b452de7686d2",
   "metadata": {},
   "outputs": [
    {
     "name": "stdout",
     "output_type": "stream",
     "text": [
      "[1, 2, 15, 4, 8, 9, 3]\n",
      "[1, 2, 15, 4, 8, 9, 3, 4]\n",
      "[1, 15, 4, 8, 9, 3, 4]\n"
     ]
    }
   ],
   "source": [
    "l1=[1,2,3,4,8,9,3]\n",
    "l1[2]=15\n",
    "print(l1)\n",
    "l1.append(4)\n",
    "print(l1)\n",
    "l1.remove(l1[1])\n",
    "print(l1)"
   ]
  },
  {
   "cell_type": "markdown",
   "id": "9a502e4f-2597-4da1-abac-dd02109e1be0",
   "metadata": {},
   "source": [
    "**slicing**"
   ]
  },
  {
   "cell_type": "code",
   "execution_count": 7,
   "id": "ac928041-f02c-4dc6-b120-5e324ea0bd40",
   "metadata": {},
   "outputs": [
    {
     "data": {
      "text/plain": [
       "[1, 2, 3, 4, 8]"
      ]
     },
     "execution_count": 7,
     "metadata": {},
     "output_type": "execute_result"
    }
   ],
   "source": [
    "l1=[1,2,3,4,8,9,3]\n",
    "\n",
    "list1=l1[0:5:1]\n",
    "list1\n"
   ]
  },
  {
   "cell_type": "markdown",
   "id": "6d42986f-ac52-483a-ba9c-74689e1ab254",
   "metadata": {},
   "source": [
    "**concatination**"
   ]
  },
  {
   "cell_type": "code",
   "execution_count": 9,
   "id": "d7e0c7ec-3502-4b73-afbe-dea212ee2796",
   "metadata": {},
   "outputs": [
    {
     "data": {
      "text/plain": [
       "[1, 3, 5, 6, 2, 8, 4, 2]"
      ]
     },
     "execution_count": 9,
     "metadata": {},
     "output_type": "execute_result"
    }
   ],
   "source": [
    "l1=[1,3,5,6]\n",
    "l2=[2,8,4,2]\n",
    "list1=l1+l2\n",
    "list1"
   ]
  },
  {
   "cell_type": "markdown",
   "id": "4ab2a838-93b0-45bf-a62b-2b0760a383cb",
   "metadata": {},
   "source": [
    "**positive index**"
   ]
  },
  {
   "cell_type": "code",
   "execution_count": 10,
   "id": "ceb71496-f81a-4cf6-9b98-0a1c3abbcc4a",
   "metadata": {},
   "outputs": [
    {
     "data": {
      "text/plain": [
       "[3, 4, 8, 9, 3]"
      ]
     },
     "execution_count": 10,
     "metadata": {},
     "output_type": "execute_result"
    }
   ],
   "source": [
    "l1=[1,2,3,4,8,9,3]\n",
    "l2=l1[2:]\n",
    "l2"
   ]
  },
  {
   "cell_type": "markdown",
   "id": "1df1e799-20d9-4e1a-b7ee-d2bac01f3561",
   "metadata": {},
   "source": [
    "**negative index**"
   ]
  },
  {
   "cell_type": "code",
   "execution_count": 13,
   "id": "34001aa4-b7f3-4584-b8db-c49c1cbf2b89",
   "metadata": {},
   "outputs": [
    {
     "data": {
      "text/plain": [
       "[8, 9, 3]"
      ]
     },
     "execution_count": 13,
     "metadata": {},
     "output_type": "execute_result"
    }
   ],
   "source": [
    "l1=[1,2,3,4,8,9,3]\n",
    "l2=l1[-3:]\n",
    "l2"
   ]
  },
  {
   "cell_type": "markdown",
   "id": "f9067949-e29b-4bdb-b922-3284da2c73bf",
   "metadata": {},
   "source": [
    "**both positive and negative**"
   ]
  },
  {
   "cell_type": "code",
   "execution_count": 15,
   "id": "395bc377-e345-446e-8694-e62906bd2cc7",
   "metadata": {},
   "outputs": [
    {
     "data": {
      "text/plain": [
       "[4, 8, 9, 3, 'bhanu', 'ravi']"
      ]
     },
     "execution_count": 15,
     "metadata": {},
     "output_type": "execute_result"
    }
   ],
   "source": [
    "l1=[1,2,3,4,8,9,3,'bhanu','ravi','akhil']\n",
    "l2=l1[3:-1]\n",
    "l2"
   ]
  },
  {
   "cell_type": "code",
   "execution_count": null,
   "id": "79082fe8-c6fc-4627-a506-3c36defed29d",
   "metadata": {},
   "outputs": [],
   "source": []
  }
 ],
 "metadata": {
  "kernelspec": {
   "display_name": "Python 3 (ipykernel)",
   "language": "python",
   "name": "python3"
  },
  "language_info": {
   "codemirror_mode": {
    "name": "ipython",
    "version": 3
   },
   "file_extension": ".py",
   "mimetype": "text/x-python",
   "name": "python",
   "nbconvert_exporter": "python",
   "pygments_lexer": "ipython3",
   "version": "3.11.7"
  }
 },
 "nbformat": 4,
 "nbformat_minor": 5
}
