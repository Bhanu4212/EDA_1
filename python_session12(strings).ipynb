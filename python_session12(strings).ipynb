{
 "cells": [
  {
   "cell_type": "markdown",
   "id": "b52d483e-4e35-4252-8be6-132634b7ba2c",
   "metadata": {},
   "source": [
    "####python  is divide into Three parts###### \n",
    "**basics**\n",
    "1) variables\n",
    "2) Data types\n",
    "3) type conversions\n",
    "4) Eval input\n",
    "5 pacakages\n",
    "6 conditional statement\n",
    "7 Try-except\n",
    "8 functions\n",
    "9 for\n",
    "10 while\n",
    "\n",
    "-------Intermediate-------------------\n",
    "11 strings\n",
    "12 lists\n",
    "13 dictionary\n",
    "14 tuples\n",
    "15 sets\n",
    "16 lamda functions\n",
    "17 file handiling\n",
    "\n",
    "-------Advanced---------------m\n",
    "18 opps"
   ]
  },
  {
   "cell_type": "markdown",
   "id": "df9f5876-f076-45ce-ba88-347c151ae796",
   "metadata": {},
   "source": [
    "#####################part-1#######################\n",
    "- initialization\n",
    "- type\n",
    "- len\n",
    "- max\n",
    "- mini\n",
    "- sorted\n",
    "- reversed\n",
    "- in \n",
    "- for loop using in\n",
    "- index\n",
    "- for loop using index\n",
    "- mutable\n",
    "- concatination\n",
    "\n",
    "##################part-2################################\n",
    "\n",
    "-methods\n",
    "\n"
   ]
  },
  {
   "cell_type": "markdown",
   "id": "5cef77a3-526c-476d-910c-bfdfc3ba4ffd",
   "metadata": {},
   "source": [
    "$initialization$"
   ]
  },
  {
   "cell_type": "markdown",
   "id": "8b870594-e5c3-48c5-b6b2-8d8da513150c",
   "metadata": {},
   "source": [
    "**note**\n",
    "\n",
    "- if we mention single quotes('') or double qoutes(\"\") \n",
    "- if we print strings we will see answer without quotes\n",
    "- triple quotes  are using  for doc string\n",
    "- in order to convey  the information about coding part  we will use doc string\n",
    "- anything inside  the single "
   ]
  },
  {
   "cell_type": "code",
   "execution_count": 1,
   "id": "06537936-b68e-498d-8dce-d491c4d4c3e4",
   "metadata": {},
   "outputs": [],
   "source": [
    "str1='python'"
   ]
  },
  {
   "cell_type": "code",
   "execution_count": 2,
   "id": "824c063f-5c6c-42f8-a5f9-44e569e20dcd",
   "metadata": {},
   "outputs": [
    {
     "data": {
      "text/plain": [
       "'python'"
      ]
     },
     "execution_count": 2,
     "metadata": {},
     "output_type": "execute_result"
    }
   ],
   "source": [
    "str1"
   ]
  },
  {
   "cell_type": "markdown",
   "id": "b10b99be-912d-4a09-8e88-57b20a555bee",
   "metadata": {},
   "source": [
    "**Triple quotes**"
   ]
  },
  {
   "cell_type": "code",
   "execution_count": 3,
   "id": "d73fc5cf-4218-4380-b83f-e6d54e832627",
   "metadata": {},
   "outputs": [],
   "source": [
    "str3=\"\"\"hi how are you\n",
    "        im good\"\"\"\n"
   ]
  },
  {
   "cell_type": "code",
   "execution_count": 4,
   "id": "ad04f0ae-1f02-4c35-bbdd-ca789c93ea70",
   "metadata": {},
   "outputs": [
    {
     "name": "stdout",
     "output_type": "stream",
     "text": [
      "hi how are you\n",
      "        im good\n"
     ]
    }
   ],
   "source": [
    "print(str3)"
   ]
  },
  {
   "cell_type": "markdown",
   "id": "53f7e7ee-e4e9-4320-98d9-26ab0270f203",
   "metadata": {},
   "source": [
    "**types**"
   ]
  },
  {
   "cell_type": "code",
   "execution_count": null,
   "id": "42b29ed9-5112-4e8d-b635-827411ea2d2b",
   "metadata": {},
   "outputs": [],
   "source": [
    "str4='10'  # integer value in string\n",
    "str5='10.5'  # float value in string\n",
    "str5='123abc'    #Alpha  numeric in the form of string\n",
    "str7="
   ]
  },
  {
   "cell_type": "markdown",
   "id": "8e76be62-5e3b-4e20-a8c1-e8d00be79588",
   "metadata": {},
   "source": [
    "**Len**"
   ]
  },
  {
   "cell_type": "code",
   "execution_count": 5,
   "id": "1cf81ba7-8585-45e2-86fe-ff4ab7f75b24",
   "metadata": {},
   "outputs": [
    {
     "data": {
      "text/plain": [
       "6"
      ]
     },
     "execution_count": 5,
     "metadata": {},
     "output_type": "execute_result"
    }
   ],
   "source": [
    "str1='python'\n",
    "len(str1)"
   ]
  },
  {
   "cell_type": "code",
   "execution_count": 6,
   "id": "f0267da9-0162-430c-bc58-e39489c04ffc",
   "metadata": {},
   "outputs": [
    {
     "data": {
      "text/plain": [
       "5"
      ]
     },
     "execution_count": 6,
     "metadata": {},
     "output_type": "execute_result"
    }
   ],
   "source": [
    "str2='bhanu'\n",
    "len(str2)"
   ]
  },
  {
   "cell_type": "markdown",
   "id": "b9dd66a2-3f2b-4ea7-a194-20b088722106",
   "metadata": {},
   "source": [
    "**max**"
   ]
  },
  {
   "cell_type": "code",
   "execution_count": 12,
   "id": "7021262f-25d5-4adc-a121-3a44f11a2715",
   "metadata": {},
   "outputs": [],
   "source": [
    "str8=\"python\"\n"
   ]
  },
  {
   "cell_type": "code",
   "execution_count": 13,
   "id": "d6216a47-e915-4d8c-858a-a1bce250b44b",
   "metadata": {},
   "outputs": [
    {
     "data": {
      "text/plain": [
       "'y'"
      ]
     },
     "execution_count": 13,
     "metadata": {},
     "output_type": "execute_result"
    }
   ],
   "source": [
    "max(str8)"
   ]
  },
  {
   "cell_type": "code",
   "execution_count": 16,
   "id": "0da658b2-9a31-48b0-b0a2-778777cec417",
   "metadata": {},
   "outputs": [
    {
     "data": {
      "text/plain": [
       "(112, 121, 116, 104, 111, 110)"
      ]
     },
     "execution_count": 16,
     "metadata": {},
     "output_type": "execute_result"
    }
   ],
   "source": [
    "ord('p'),ord('y'),ord('t'),ord('h'),ord('o'),ord('n')"
   ]
  },
  {
   "cell_type": "code",
   "execution_count": 17,
   "id": "f13c13ea-a11d-42a9-9bc1-165b87b05086",
   "metadata": {},
   "outputs": [
    {
     "data": {
      "text/plain": [
       "'h'"
      ]
     },
     "execution_count": 17,
     "metadata": {},
     "output_type": "execute_result"
    }
   ],
   "source": [
    "min(str8)"
   ]
  },
  {
   "cell_type": "markdown",
   "id": "b8adf402-1dfe-4762-b9e0-a9aec713c99a",
   "metadata": {},
   "source": [
    "**keywords vs methods**"
   ]
  },
  {
   "cell_type": "code",
   "execution_count": null,
   "id": "eaff871f-3ee1-4b18-82e7-8e143daf6678",
   "metadata": {},
   "outputs": [],
   "source": [
    "type()\n",
    "print()\n",
    "len()\n",
    "max()\n",
    "min()\n",
    "eval()\n",
    "input()"
   ]
  },
  {
   "cell_type": "code",
   "execution_count": null,
   "id": "bc4449d5-51c8-4783-b434-9ca24ccafbc2",
   "metadata": {},
   "outputs": [],
   "source": [
    "- in oredr use method we need to call packages\n",
    "\n",
    "import random\n",
    "random.randint()\n",
    "\n",
    "import math\n",
    "math.sqrt()\n",
    "\n",
    "import time\n",
    "time.sleep()"
   ]
  },
  {
   "cell_type": "code",
   "execution_count": 18,
   "id": "426e3cd8-e697-4116-90e8-f70b3739ce35",
   "metadata": {},
   "outputs": [
    {
     "data": {
      "text/plain": [
       "'y'"
      ]
     },
     "execution_count": 18,
     "metadata": {},
     "output_type": "execute_result"
    }
   ],
   "source": [
    "max(str8)"
   ]
  },
  {
   "cell_type": "code",
   "execution_count": 22,
   "id": "e3b09a0c-0607-474a-8c6d-058764da5c0c",
   "metadata": {},
   "outputs": [
    {
     "ename": "TypeError",
     "evalue": "unsupported operand type(s) for +: 'int' and 'str'",
     "output_type": "error",
     "traceback": [
      "\u001b[1;31m---------------------------------------------------------------------------\u001b[0m",
      "\u001b[1;31mTypeError\u001b[0m                                 Traceback (most recent call last)",
      "Cell \u001b[1;32mIn[22], line 2\u001b[0m\n\u001b[0;32m      1\u001b[0m str4\u001b[38;5;241m=\u001b[39m\u001b[38;5;124m'\u001b[39m\u001b[38;5;124mpython\u001b[39m\u001b[38;5;124m'\u001b[39m \u001b[38;5;66;03m# in string family we cannot add number since it is with math family \u001b[39;00m\n\u001b[1;32m----> 2\u001b[0m \u001b[38;5;28msum\u001b[39m(str4)\n",
      "\u001b[1;31mTypeError\u001b[0m: unsupported operand type(s) for +: 'int' and 'str'"
     ]
    }
   ],
   "source": [
    "str4='python' # in string family we cannot add number since it is with math family \n",
    "sum(str4)"
   ]
  },
  {
   "cell_type": "markdown",
   "id": "daf6b141-0a1c-4928-b2ba-d878b9a91c4a",
   "metadata": {},
   "source": [
    "**Sorted**"
   ]
  },
  {
   "cell_type": "code",
   "execution_count": null,
   "id": "0fe967b2-5df5-43ab-9738-864daa8b5924",
   "metadata": {},
   "outputs": [],
   "source": [
    "len('python')\n"
   ]
  },
  {
   "cell_type": "code",
   "execution_count": 23,
   "id": "eb8949d6-76d4-4e65-bb54-e3139a476dbe",
   "metadata": {},
   "outputs": [
    {
     "data": {
      "text/plain": [
       "['h', 'n', 'o', 'p', 't', 'y']"
      ]
     },
     "execution_count": 23,
     "metadata": {},
     "output_type": "execute_result"
    }
   ],
   "source": [
    "sorted('python')"
   ]
  },
  {
   "cell_type": "markdown",
   "id": "d163b676-de25-490f-9926-93fb1997f2d7",
   "metadata": {},
   "source": [
    "- sorted gives acensinding order  on based on  ascii value\n",
    "- sorted is based on  afunction\n",
    "- every  fuction we have arguments\n",
    "- in that one default argument is **reverse=False**\n",
    "- by default sorted  output gives ascending order\n",
    "- we can change order by giving **reverse=True**\n",
    "- "
   ]
  },
  {
   "cell_type": "code",
   "execution_count": 24,
   "id": "9030adf6-e94f-4a48-9a64-ebf21bab2a08",
   "metadata": {},
   "outputs": [
    {
     "data": {
      "text/plain": [
       "['y', 't', 'p', 'o', 'n', 'h']"
      ]
     },
     "execution_count": 24,
     "metadata": {},
     "output_type": "execute_result"
    }
   ],
   "source": [
    "sorted(str1,reverse=True)"
   ]
  },
  {
   "cell_type": "code",
   "execution_count": 25,
   "id": "5be3a299-468f-4ef1-9b19-0c18aeddf87e",
   "metadata": {},
   "outputs": [
    {
     "data": {
      "text/plain": [
       "0j"
      ]
     },
     "execution_count": 25,
     "metadata": {},
     "output_type": "execute_result"
    }
   ],
   "source": [
    "complex()"
   ]
  },
  {
   "cell_type": "code",
   "execution_count": 26,
   "id": "a8e441b0-27e0-4d09-b789-97f03d1b6047",
   "metadata": {},
   "outputs": [
    {
     "data": {
      "text/plain": [
       "(10+20j)"
      ]
     },
     "execution_count": 26,
     "metadata": {},
     "output_type": "execute_result"
    }
   ],
   "source": [
    "complex(10,20)"
   ]
  },
  {
   "cell_type": "code",
   "execution_count": 28,
   "id": "912d8637-7fb7-45af-bec2-7b60ce6cbbb6",
   "metadata": {},
   "outputs": [
    {
     "data": {
      "text/plain": [
       "(10+20j)"
      ]
     },
     "execution_count": 28,
     "metadata": {},
     "output_type": "execute_result"
    }
   ],
   "source": [
    "complex(real=10,imag=20)"
   ]
  },
  {
   "cell_type": "code",
   "execution_count": 29,
   "id": "30c9e81a-2011-4505-97cc-d42ce301532c",
   "metadata": {},
   "outputs": [
    {
     "ename": "TypeError",
     "evalue": "Random.randint() missing 2 required positional arguments: 'a' and 'b'",
     "output_type": "error",
     "traceback": [
      "\u001b[1;31m---------------------------------------------------------------------------\u001b[0m",
      "\u001b[1;31mTypeError\u001b[0m                                 Traceback (most recent call last)",
      "Cell \u001b[1;32mIn[29], line 2\u001b[0m\n\u001b[0;32m      1\u001b[0m \u001b[38;5;28;01mimport\u001b[39;00m \u001b[38;5;21;01mrandom\u001b[39;00m\n\u001b[1;32m----> 2\u001b[0m random\u001b[38;5;241m.\u001b[39mrandint()\n",
      "\u001b[1;31mTypeError\u001b[0m: Random.randint() missing 2 required positional arguments: 'a' and 'b'"
     ]
    }
   ],
   "source": [
    "import random\n",
    "random.randint()"
   ]
  },
  {
   "cell_type": "code",
   "execution_count": null,
   "id": "6e9a496c-8309-41de-95f8-606cc1c8de15",
   "metadata": {},
   "outputs": [],
   "source": [
    "function() #answer\n",
    "function(a,b) \n",
    "fuction(a=10,b=20)"
   ]
  },
  {
   "cell_type": "code",
   "execution_count": 31,
   "id": "8fe9e224-4884-4aa5-b05e-eee09fe91102",
   "metadata": {},
   "outputs": [
    {
     "data": {
      "text/plain": [
       "0.6876208016760283"
      ]
     },
     "execution_count": 31,
     "metadata": {},
     "output_type": "execute_result"
    }
   ],
   "source": [
    "import random\n",
    "random.random() # we will get answer but not in our hands"
   ]
  },
  {
   "cell_type": "code",
   "execution_count": 34,
   "id": "0d6abbdb-99f5-4607-ad78-af0b79eef5f6",
   "metadata": {},
   "outputs": [
    {
     "data": {
      "text/plain": [
       "10"
      ]
     },
     "execution_count": 34,
     "metadata": {},
     "output_type": "execute_result"
    }
   ],
   "source": [
    "import random \n",
    "random.randint(10,20)"
   ]
  },
  {
   "cell_type": "code",
   "execution_count": 35,
   "id": "adac04ef-26cd-4b8a-94c6-8652223f0a8a",
   "metadata": {},
   "outputs": [
    {
     "ename": "TypeError",
     "evalue": "sorted expected 1 argument, got 0",
     "output_type": "error",
     "traceback": [
      "\u001b[1;31m---------------------------------------------------------------------------\u001b[0m",
      "\u001b[1;31mTypeError\u001b[0m                                 Traceback (most recent call last)",
      "Cell \u001b[1;32mIn[35], line 1\u001b[0m\n\u001b[1;32m----> 1\u001b[0m \u001b[38;5;28msorted\u001b[39m(iterable\u001b[38;5;241m=\u001b[39m\u001b[38;5;124m'\u001b[39m\u001b[38;5;124mpython\u001b[39m\u001b[38;5;124m'\u001b[39m)\n\u001b[0;32m      2\u001b[0m random\u001b[38;5;241m.\u001b[39mrandint(a\u001b[38;5;241m=\u001b[39m\u001b[38;5;241m10\u001b[39m,b\u001b[38;5;241m=\u001b[39m\u001b[38;5;241m30\u001b[39m)\n",
      "\u001b[1;31mTypeError\u001b[0m: sorted expected 1 argument, got 0"
     ]
    }
   ],
   "source": [
    "sorted(iterable='python')\n",
    "random.randint(a=10,b=30)"
   ]
  },
  {
   "cell_type": "code",
   "execution_count": 36,
   "id": "13c76bf4-6683-4c1d-8512-1802fee234d5",
   "metadata": {},
   "outputs": [
    {
     "data": {
      "text/plain": [
       "19"
      ]
     },
     "execution_count": 36,
     "metadata": {},
     "output_type": "execute_result"
    }
   ],
   "source": [
    "random.randint(a=10,b=30)"
   ]
  },
  {
   "cell_type": "code",
   "execution_count": null,
   "id": "a0306c7e-f855-4106-9e2a-5448456d8160",
   "metadata": {},
   "outputs": [],
   "source": [
    "**note**\n",
    "\n",
    "- we have arguments before / or after /\n",
    "- we can use arguments names after / only\n",
    "- for example  sorted  has two argument one is iterable and another  is reverse\n",
    "- iterable is mentioned before / symbol\n",
    "- "
   ]
  },
  {
   "cell_type": "markdown",
   "id": "46bf579b-5b59-4167-965f-b1d5ef049ca0",
   "metadata": {},
   "source": [
    "**reversed**\n"
   ]
  },
  {
   "cell_type": "code",
   "execution_count": null,
   "id": "f233dbca-7a07-45c2-971b-f3476e81742c",
   "metadata": {},
   "outputs": [],
   "source": [
    "type()\n",
    "len()\n",
    "sorted()\n",
    "max()\n",
    "reversed()\n",
    "print()\n",
    "input()\n",
    "eval()"
   ]
  },
  {
   "cell_type": "code",
   "execution_count": 37,
   "id": "48e6df8a-22b3-4d6b-8eb2-dde9a6a51e6b",
   "metadata": {},
   "outputs": [
    {
     "data": {
      "text/plain": [
       "<reversed at 0x1d9be8b75e0>"
      ]
     },
     "execution_count": 37,
     "metadata": {},
     "output_type": "execute_result"
    }
   ],
   "source": [
    "reversed('python')"
   ]
  },
  {
   "cell_type": "code",
   "execution_count": null,
   "id": "9dbdc7c8-e3e3-4124-bab4-08339c2d83ae",
   "metadata": {},
   "outputs": [],
   "source": [
    "- i already done my works\n",
    "- your output is  stored in that memory location\n",
    "- whenever  you  see this kind  of answer "
   ]
  },
  {
   "cell_type": "code",
   "execution_count": 39,
   "id": "6d77df7d-cae1-431c-9e56-090af0dc5bd2",
   "metadata": {},
   "outputs": [
    {
     "name": "stdout",
     "output_type": "stream",
     "text": [
      "n\n",
      "o\n",
      "h\n",
      "t\n",
      "y\n",
      "p\n"
     ]
    }
   ],
   "source": [
    "str6='python'\n",
    "output=reversed(str6)\n",
    "for i in output:\n",
    "    print(i)"
   ]
  },
  {
   "cell_type": "markdown",
   "id": "2521cb08-b5c9-4c29-9a59-0ef6c37ba390",
   "metadata": {},
   "source": [
    "- initialzation\n",
    "- type\n",
    "- len\n",
    "- min\n",
    "- max\n",
    "- input\n",
    "- eval\n",
    "- print\n",
    "- sorted\n",
    "- reversed"
   ]
  },
  {
   "cell_type": "code",
   "execution_count": null,
   "id": "94e2799d-bf43-490c-a8be-7b612a29e2ce",
   "metadata": {},
   "outputs": [],
   "source": [
    "# sorted()\n",
    "# it will provide the values either ascending or descending order\n",
    "\n",
    "sorted('naresh') #Ascending or Descending\n",
    "\n",
    "# when i run directly it will give answer\n",
    "#the function \n",
    "# how this defaulrt"
   ]
  },
  {
   "cell_type": "code",
   "execution_count": 4,
   "id": "7e9baa59-f690-4ff1-8e87-5d5481090d6c",
   "metadata": {},
   "outputs": [
    {
     "data": {
      "text/plain": [
       "['s', 'r', 'n', 'h', 'e', 'a']"
      ]
     },
     "execution_count": 4,
     "metadata": {},
     "output_type": "execute_result"
    }
   ],
   "source": [
    "sorted('naresh',reverse=True)"
   ]
  },
  {
   "cell_type": "code",
   "execution_count": 6,
   "id": "ec8391f6-0820-4601-99d7-d3ead5323ad6",
   "metadata": {},
   "outputs": [
    {
     "name": "stdout",
     "output_type": "stream",
     "text": [
      "h\n",
      "s\n",
      "e\n",
      "r\n",
      "a\n",
      "n\n"
     ]
    }
   ],
   "source": [
    " for i in reversed('naresh'):\n",
    "     print(i)"
   ]
  },
  {
   "cell_type": "markdown",
   "id": "0c6b336c-da24-44a9-ab27-4e2c6dc27cb2",
   "metadata": {},
   "source": [
    "sorted((1,10,20,30,40),revered=False)"
   ]
  },
  {
   "cell_type": "code",
   "execution_count": 9,
   "id": "e0591025-fd40-4c13-9981-eefb815c5a8d",
   "metadata": {},
   "outputs": [
    {
     "data": {
      "text/plain": [
       "False"
      ]
     },
     "execution_count": 9,
     "metadata": {},
     "output_type": "execute_result"
    }
   ],
   "source": [
    "str1='naresh'\n",
    "'n' not in str1"
   ]
  },
  {
   "cell_type": "code",
   "execution_count": 10,
   "id": "e28798fb-0fb2-4649-bf79-9c799675264e",
   "metadata": {},
   "outputs": [
    {
     "name": "stdout",
     "output_type": "stream",
     "text": [
      "n\n",
      "a\n",
      "r\n",
      "e\n",
      "s\n",
      "h\n"
     ]
    }
   ],
   "source": [
    "for i in str1:\n",
    "    print(i)"
   ]
  },
  {
   "cell_type": "markdown",
   "id": "6d720ee2-5499-444b-a653-a1ce39bdafcd",
   "metadata": {},
   "source": [
    "**note**\n",
    "\n",
    "- in operator directly acess the letters"
   ]
  },
  {
   "cell_type": "code",
   "execution_count": 18,
   "id": "1a2dfc43-364a-4097-a903-c4ecb6eab336",
   "metadata": {},
   "outputs": [
    {
     "name": "stdout",
     "output_type": "stream",
     "text": [
      "3\n"
     ]
    }
   ],
   "source": [
    "#wap ask a user count how many 'a' are pesent in string \n",
    "# str1='hai naresh how are you'\n",
    "\n",
    "#idea\n",
    "# step1-count=0\n",
    "#step2- using for loop in operator  iterate through gien string\n",
    "#step3- apply the if condition, whenever  the letters equal to 'a'\n",
    "#step4- count=count+1\n",
    "\n",
    "count=0\n",
    "str3='hai naresh how are you'\n",
    "for i in str3:\n",
    "    if i=='a':\n",
    "        count=count+1\n",
    "print(count)\n",
    "\n",
    "#step1: i=h if h=='a' False\n",
    "#step2: i='a' if 'a'=='a' count=0+1\n",
    "#step3: i='i' if  'i'=='a' "
   ]
  },
  {
   "cell_type": "code",
   "execution_count": 23,
   "id": "9f39ccc1-7701-486a-99a3-8e3d19f415df",
   "metadata": {},
   "outputs": [
    {
     "name": "stdout",
     "output_type": "stream",
     "text": [
      "9\n"
     ]
    }
   ],
   "source": [
    "#wap ask the user find oval in a string\n",
    "\n",
    "count=0\n",
    "str4='hai naresh how are you'\n",
    "for i in str4:\n",
    "    if i in 'aeiou':\n",
    "        count=count+1        \n",
    "print(count)"
   ]
  },
  {
   "cell_type": "code",
   "execution_count": 1,
   "id": "3a6df2f0-f13c-489c-bd41-10b4f1ca0e3c",
   "metadata": {},
   "outputs": [
    {
     "ename": "NameError",
     "evalue": "name 'str4' is not defined",
     "output_type": "error",
     "traceback": [
      "\u001b[1;31m---------------------------------------------------------------------------\u001b[0m",
      "\u001b[1;31mNameError\u001b[0m                                 Traceback (most recent call last)",
      "Cell \u001b[1;32mIn[1], line 3\u001b[0m\n\u001b[0;32m      1\u001b[0m count\u001b[38;5;241m=\u001b[39m\u001b[38;5;241m0\u001b[39m\n\u001b[0;32m      2\u001b[0m str7\u001b[38;5;241m=\u001b[39m\u001b[38;5;124m'\u001b[39m\u001b[38;5;124maeiou\u001b[39m\u001b[38;5;124m'\u001b[39m\n\u001b[1;32m----> 3\u001b[0m \u001b[38;5;28;01mfor\u001b[39;00m i \u001b[38;5;129;01min\u001b[39;00m str4:\n\u001b[0;32m      4\u001b[0m     \u001b[38;5;28;01mif\u001b[39;00m i \u001b[38;5;129;01min\u001b[39;00m str7:\n\u001b[0;32m      5\u001b[0m         count\u001b[38;5;241m=\u001b[39mcount\u001b[38;5;241m+\u001b[39m\u001b[38;5;241m1\u001b[39m\n",
      "\u001b[1;31mNameError\u001b[0m: name 'str4' is not defined"
     ]
    }
   ],
   "source": [
    "count=0\n",
    "str7='aeiou'\n",
    "for i in str4:\n",
    "    if i not in str7:\n",
    "        if i in 'aeiou':\n",
    "        count=count+1\n",
    "        str7=str7+i\n",
    "print(count)\n",
    "        "
   ]
  },
  {
   "cell_type": "code",
   "execution_count": 4,
   "id": "dcda5691-aa86-4c0b-af0f-ccb2531cab9c",
   "metadata": {},
   "outputs": [
    {
     "name": "stdout",
     "output_type": "stream",
     "text": [
      "the 9 vowels are not repeated\n"
     ]
    }
   ],
   "source": [
    "#Q3 home work qn\n",
    "#str1='hai naresh how are you'\n",
    "#Repeted  vowels are there\n",
    "#we dont want  repeted vowels\n",
    "#count the vowels avoid the repeatition unique vowels\n",
    "\n",
    "\n",
    "#step1: count=0\n",
    "#step2: take one more empty string :exes2=''\n",
    "s2=''\n",
    "#step3: using for loop in operator iterate  through given string\n",
    "#step4: condition -1: that letter shoud not avaiable in s2\n",
    "#step5:     condition-2: vowels check condition\n",
    "#step6:     count=count+1\n",
    "#step7:    update the s2  s2=s2+<letter>\n",
    "\n",
    "\n",
    "count=0\n",
    "str1='hai naresh how are you'\n",
    "str2=''\n",
    "for i in str1:\n",
    "    if i not in str2:    \n",
    "        if i in 'aeiou':\n",
    "        if i not in str2:\n",
    "           count=count+1\n",
    "        srt2=str2+(i)\n",
    "print(f'the {count} vowels are not repeated')"
   ]
  },
  {
   "cell_type": "markdown",
   "id": "3c586790-41aa-4a42-84e8-e1c442ab7644",
   "metadata": {},
   "source": [
    "**How to update the empty string**"
   ]
  },
  {
   "cell_type": "code",
   "execution_count": 31,
   "id": "30aadb71-7599-4f2b-ae91-fe90df1b781f",
   "metadata": {},
   "outputs": [
    {
     "data": {
      "text/plain": [
       "' python'"
      ]
     },
     "execution_count": 31,
     "metadata": {},
     "output_type": "execute_result"
    }
   ],
   "source": [
    "s1='python'\n",
    "s2=' '\n",
    "for i in s1:\n",
    "    s2=s2+i    #concatination\n",
    "\n",
    "s2"
   ]
  },
  {
   "cell_type": "markdown",
   "id": "5258020b-65fe-48fb-9d32-96e0a296f7e9",
   "metadata": {},
   "source": [
    "**concatination**"
   ]
  },
  {
   "cell_type": "code",
   "execution_count": 30,
   "id": "eb37ab68-f445-4270-bc34-28e4f87186d1",
   "metadata": {},
   "outputs": [
    {
     "data": {
      "text/plain": [
       "'hellobey'"
      ]
     },
     "execution_count": 30,
     "metadata": {},
     "output_type": "execute_result"
    }
   ],
   "source": [
    "s1='hello'\n",
    "s2='bey'\n",
    "s1+s2"
   ]
  },
  {
   "cell_type": "code",
   "execution_count": 33,
   "id": "3b5aa0dd-550b-4a36-a907-9695a9127f28",
   "metadata": {},
   "outputs": [
    {
     "data": {
      "text/plain": [
       "'hello bey'"
      ]
     },
     "execution_count": 33,
     "metadata": {},
     "output_type": "execute_result"
    }
   ],
   "source": [
    "s1='hello'\n",
    "s2=' bey'\n",
    "s1+s2"
   ]
  },
  {
   "cell_type": "code",
   "execution_count": 34,
   "id": "f2fe4cc4-489e-4d93-8024-4da23f280a44",
   "metadata": {},
   "outputs": [],
   "source": [
    "s1='hello'\n",
    "s2=' '\n",
    "s3='bye'\n",
    "s4=s1+s2+s3"
   ]
  },
  {
   "cell_type": "code",
   "execution_count": 35,
   "id": "b1f5ee63-b130-4aa8-8a0d-674e610cf097",
   "metadata": {},
   "outputs": [
    {
     "data": {
      "text/plain": [
       "'hello bye'"
      ]
     },
     "execution_count": 35,
     "metadata": {},
     "output_type": "execute_result"
    }
   ],
   "source": [
    "s4"
   ]
  },
  {
   "cell_type": "code",
   "execution_count": 39,
   "id": "37db5935-950f-4f77-a554-30c49a167353",
   "metadata": {},
   "outputs": [
    {
     "ename": "TypeError",
     "evalue": "can't multiply sequence by non-int of type 'str'",
     "output_type": "error",
     "traceback": [
      "\u001b[1;31m---------------------------------------------------------------------------\u001b[0m",
      "\u001b[1;31mTypeError\u001b[0m                                 Traceback (most recent call last)",
      "Cell \u001b[1;32mIn[39], line 3\u001b[0m\n\u001b[0;32m      1\u001b[0m s1\u001b[38;5;241m=\u001b[39m\u001b[38;5;124m'\u001b[39m\u001b[38;5;124mhello\u001b[39m\u001b[38;5;124m'\u001b[39m\n\u001b[0;32m      2\u001b[0m s2\u001b[38;5;241m=\u001b[39m\u001b[38;5;124m'\u001b[39m\u001b[38;5;124mbye\u001b[39m\u001b[38;5;124m'\u001b[39m\n\u001b[1;32m----> 3\u001b[0m s3\u001b[38;5;241m=\u001b[39ms1\u001b[38;5;241m*\u001b[39ms2\n\u001b[0;32m      4\u001b[0m s4\u001b[38;5;241m=\u001b[39ms1\u001b[38;5;241m/\u001b[39ms2\n\u001b[0;32m      5\u001b[0m s5\u001b[38;5;241m=\u001b[39ms1\u001b[38;5;241m-\u001b[39ms2\n",
      "\u001b[1;31mTypeError\u001b[0m: can't multiply sequence by non-int of type 'str'"
     ]
    }
   ],
   "source": [
    "s1='hello'\n",
    "s2='bye'\n",
    "s3=s1*s2\n",
    "s9=s1/s2\n",
    "s10=s1-s2"
   ]
  },
  {
   "cell_type": "code",
   "execution_count": 42,
   "id": "af3ded37-cf15-488c-b10e-ff7478b34bfc",
   "metadata": {},
   "outputs": [
    {
     "ename": "TypeError",
     "evalue": "unsupported operand type(s) for /: 'str' and 'str'",
     "output_type": "error",
     "traceback": [
      "\u001b[1;31m---------------------------------------------------------------------------\u001b[0m",
      "\u001b[1;31mTypeError\u001b[0m                                 Traceback (most recent call last)",
      "Cell \u001b[1;32mIn[42], line 1\u001b[0m\n\u001b[1;32m----> 1\u001b[0m s1\u001b[38;5;241m/\u001b[39ms2\n",
      "\u001b[1;31mTypeError\u001b[0m: unsupported operand type(s) for /: 'str' and 'str'"
     ]
    }
   ],
   "source": [
    "s1/s2"
   ]
  },
  {
   "cell_type": "code",
   "execution_count": 43,
   "id": "29d5633d-523d-44cc-a1b6-3070efdf18ae",
   "metadata": {},
   "outputs": [
    {
     "ename": "TypeError",
     "evalue": "unsupported operand type(s) for -: 'str' and 'str'",
     "output_type": "error",
     "traceback": [
      "\u001b[1;31m---------------------------------------------------------------------------\u001b[0m",
      "\u001b[1;31mTypeError\u001b[0m                                 Traceback (most recent call last)",
      "Cell \u001b[1;32mIn[43], line 1\u001b[0m\n\u001b[1;32m----> 1\u001b[0m s1\u001b[38;5;241m-\u001b[39ms2\n",
      "\u001b[1;31mTypeError\u001b[0m: unsupported operand type(s) for -: 'str' and 'str'"
     ]
    }
   ],
   "source": [
    "s1-s2"
   ]
  },
  {
   "cell_type": "code",
   "execution_count": 44,
   "id": "2f7fd358-d091-4eb9-8c99-54db568fd7a9",
   "metadata": {},
   "outputs": [
    {
     "data": {
      "text/plain": [
       "'hellohello'"
      ]
     },
     "execution_count": 44,
     "metadata": {},
     "output_type": "execute_result"
    }
   ],
   "source": [
    "s1='hello'\n",
    "s2=2\n",
    "s1*s2"
   ]
  },
  {
   "cell_type": "markdown",
   "id": "226475f5-53cf-4907-806e-81919188b229",
   "metadata": {},
   "source": [
    "**index operation**\n",
    "\n",
    "-in python index starts with zero\n",
    "-we have two directions\n",
    "    - positive direction\n",
    "     - positive number start with zero\n",
    "    - negative direction\n",
    "     - negative number start with-1,"
   ]
  },
  {
   "cell_type": "markdown",
   "id": "bf811f59-091f-430b-af99-8fcd2bad261d",
   "metadata": {},
   "source": [
    "s1='python'\n",
    "\n",
    "-6   -5   -4    -3    -2     -1\n",
    "p     y    t     h     o      n \n",
    "\n",
    "0     1    2     3     4      5"
   ]
  },
  {
   "cell_type": "code",
   "execution_count": 45,
   "id": "6227f70b-72e2-4b1f-8393-2985cd02bbbc",
   "metadata": {},
   "outputs": [
    {
     "data": {
      "text/plain": [
       "('p', 'y', 't', 'h', 'o', 'n')"
      ]
     },
     "execution_count": 45,
     "metadata": {},
     "output_type": "execute_result"
    }
   ],
   "source": [
    "s1='python'\n",
    "s1[0],s1[1],s1[2],s1[3],s1[4],s1[5]"
   ]
  },
  {
   "cell_type": "code",
   "execution_count": 46,
   "id": "1d0e4d4d-9716-4af9-b5cc-c43e44e6fbfb",
   "metadata": {},
   "outputs": [
    {
     "data": {
      "text/plain": [
       "('n', 'o', 'h', 't', 'y', 'p')"
      ]
     },
     "execution_count": 46,
     "metadata": {},
     "output_type": "execute_result"
    }
   ],
   "source": [
    "s1='python'\n",
    "s1[-1],s1[-2],s1[-3],s1[-4],s1[-5],s1[-6]"
   ]
  },
  {
   "cell_type": "code",
   "execution_count": 5,
   "id": "14a8fc81-45d2-45a5-b363-9f9cbd0f5bc5",
   "metadata": {},
   "outputs": [
    {
     "name": "stdout",
     "output_type": "stream",
     "text": [
      "the 5 vowels are not repeated\n"
     ]
    }
   ],
   "source": [
    "#Q3 home work qn\n",
    "#str1='hai naresh how are you'\n",
    "#Repeted  vowels are there\n",
    "#we dont want  repeted vowels\n",
    "#count the vowels avoid the repeatition unique vowels\n",
    "\n",
    "\n",
    "#step1: count=0\n",
    "#step2: take one more empty string :exes2=''\n",
    "s2=''\n",
    "#step3: using for loop in operator iterate  through given string\n",
    "#step4: condition -1: that letter shoud not avaiable in s2\n",
    "#step5:     condition-2: vowels check condition\n",
    "#step6:     count=count+1\n",
    "#step7:    update the s2  s2=s2+<letter>\n",
    "\n",
    "\n",
    "count=0\n",
    "str1='hai naresh how are you'\n",
    "str2=''\n",
    "for i in str1:\n",
    "    if i not in str2:    \n",
    "        if i in 'aeiou':\n",
    "           count=count+1\n",
    "        str2=str2+(i)\n",
    "print(f'the {count} vowels are not repeated')"
   ]
  },
  {
   "cell_type": "markdown",
   "id": "c818cdb7-c689-4f1f-9793-ef485318c9cb",
   "metadata": {},
   "source": [
    "**mutable-immutable**\n",
    "\n",
    "- mutable can change\n",
    "  - we can change using index operation\n",
    "- immutable cannot change\n",
    "  - we can not change using indexing\n",
    "  - strings are immutable"
   ]
  },
  {
   "cell_type": "code",
   "execution_count": 3,
   "id": "b40e9a07-2bb9-4f1c-9b67-b83d9a8ea6a9",
   "metadata": {},
   "outputs": [
    {
     "ename": "TypeError",
     "evalue": "'str' object does not support item assignment",
     "output_type": "error",
     "traceback": [
      "\u001b[1;31m---------------------------------------------------------------------------\u001b[0m",
      "\u001b[1;31mTypeError\u001b[0m                                 Traceback (most recent call last)",
      "Cell \u001b[1;32mIn[3], line 5\u001b[0m\n\u001b[0;32m      1\u001b[0m s\u001b[38;5;241m=\u001b[39m\u001b[38;5;124m'\u001b[39m\u001b[38;5;124mwelcome\u001b[39m\u001b[38;5;124m'\u001b[39m   \u001b[38;5;66;03m#weLcome\u001b[39;00m\n\u001b[0;32m      2\u001b[0m \u001b[38;5;66;03m#i want to repalce 'l' with 'L'\u001b[39;00m\n\u001b[0;32m      3\u001b[0m \u001b[38;5;66;03m# possible\u001b[39;00m\n\u001b[0;32m      4\u001b[0m \u001b[38;5;66;03m# not possible\u001b[39;00m\n\u001b[1;32m----> 5\u001b[0m s[\u001b[38;5;241m2\u001b[39m]\u001b[38;5;241m=\u001b[39m\u001b[38;5;124m'\u001b[39m\u001b[38;5;124mL\u001b[39m\u001b[38;5;124m'\u001b[39m\n",
      "\u001b[1;31mTypeError\u001b[0m: 'str' object does not support item assignment"
     ]
    }
   ],
   "source": [
    "s='welcome'   #weLcome\n",
    "#i want to repalce 'l' with 'L'\n",
    "# possible\n",
    "# not possible\n",
    "s[2]='L'"
   ]
  },
  {
   "cell_type": "markdown",
   "id": "d92963be-f288-4eaf-9172-cfa837d75501",
   "metadata": {},
   "source": [
    "##Strings are immutable##"
   ]
  },
  {
   "cell_type": "code",
   "execution_count": 6,
   "id": "c0952f13-65a9-4bff-b9b5-c7c37fb2a320",
   "metadata": {},
   "outputs": [
    {
     "data": {
      "text/plain": [
       "[1, 200, 3, 4]"
      ]
     },
     "execution_count": 6,
     "metadata": {},
     "output_type": "execute_result"
    }
   ],
   "source": [
    "l=[1,2,3,4]\n",
    "l[1]=200\n",
    "l"
   ]
  },
  {
   "cell_type": "code",
   "execution_count": null,
   "id": "34590969-f44a-419f-a242-e8871ead0093",
   "metadata": {},
   "outputs": [],
   "source": [
    "s='welcome'\n",
    "s[2]='L'\n",
    "\n",
    "#################################\n",
    "l=[1,2,3,4]\n",
    "l[1]=200\n",
    "l"
   ]
  },
  {
   "cell_type": "markdown",
   "id": "9afff574-5ef0-433a-b49c-3fa98e30d5e9",
   "metadata": {},
   "source": [
    "-range belongs to which family\n",
    " - math family\n",
    "-inside range bracket what we need to provide\n",
    " - number\n",
    "- How many numbers we need to provide\n",
    "  - number of letters:len(string)\n",
    "- how to access to letter using number\n",
    "  - by index"
   ]
  },
  {
   "cell_type": "code",
   "execution_count": 7,
   "id": "b3d3ca8d-617d-4267-bb2a-15629550a728",
   "metadata": {},
   "outputs": [
    {
     "name": "stdout",
     "output_type": "stream",
     "text": [
      "w\n",
      "e\n",
      "l\n",
      "c\n",
      "o\n",
      "m\n",
      "e\n"
     ]
    }
   ],
   "source": [
    "#Q4 print each letter using for loop range \n",
    "\n",
    "s='welcome'\n",
    "# range belongs to which family\n",
    "# inside bracket we need to provide a number \n",
    "# How many number \n",
    "s='welcome'\n",
    "for i in range(7):\n",
    "    print(s[i])\n",
    "#"
   ]
  },
  {
   "cell_type": "code",
   "execution_count": 9,
   "id": "bc8e52fc-b592-4031-8bca-bbce6fe861f1",
   "metadata": {},
   "outputs": [
    {
     "name": "stdout",
     "output_type": "stream",
     "text": [
      "w\n",
      "e\n",
      "l\n",
      "c\n",
      "o\n",
      "m\n",
      "e\n",
      " \n",
      "t\n",
      "o\n",
      " \n",
      "n\n",
      "a\n",
      "r\n",
      "e\n",
      "s\n",
      "h\n",
      " \n",
      "i\n",
      "t\n",
      " \n"
     ]
    }
   ],
   "source": [
    "s='welcome to naresh it '\n",
    "n=len(s)\n",
    "for i in range(n):\n",
    "    print(s[i])\n"
   ]
  },
  {
   "cell_type": "markdown",
   "id": "588d1a0a-acd1-4502-921e-546d2dd32e28",
   "metadata": {},
   "source": [
    "- **for-in** directly access the letter\n",
    "- **for-range** will access using index"
   ]
  },
  {
   "cell_type": "code",
   "execution_count": 10,
   "id": "7efa17c7-27b2-402b-a026-8749326b6e05",
   "metadata": {},
   "outputs": [
    {
     "name": "stdout",
     "output_type": "stream",
     "text": [
      "B\n",
      "h\n",
      "a\n",
      "n\n",
      "u\n"
     ]
    }
   ],
   "source": [
    "s='Bhanu'\n",
    "for i in range(5):\n",
    "    print(s[i])"
   ]
  },
  {
   "cell_type": "code",
   "execution_count": 13,
   "id": "bafe9252-4a31-4b28-a68f-bcbe666ed8a8",
   "metadata": {},
   "outputs": [
    {
     "name": "stdout",
     "output_type": "stream",
     "text": [
      " the positive index of w is 0\n",
      " the positive index of e is 1\n",
      " the positive index of l is 2\n",
      " the positive index of c is 3\n",
      " the positive index of o is 4\n"
     ]
    }
   ],
   "source": [
    "#Q5 wap ask the user iterate using a string\n",
    "# string='welcome'\n",
    "#print the positive  index of w is 0\n",
    "#     the positive index of w is 1\n",
    "#     the positive index of w is 2\n",
    "\n",
    "s1='welcome'\n",
    "n=len(s)\n",
    "for i in range(n):\n",
    "    print(f' the positive index of {s1[i]} is {i}')"
   ]
  },
  {
   "cell_type": "code",
   "execution_count": 22,
   "id": "3f767095-82ad-4519-b58f-e81c748e9cc4",
   "metadata": {},
   "outputs": [
    {
     "name": "stdout",
     "output_type": "stream",
     "text": [
      " the negative index of w is 0\n",
      " the negative index of e is 1\n",
      " the negative index of l is 2\n",
      " the negative index of c is 3\n",
      " the negative index of o is 4\n",
      " the negative index of m is 5\n",
      " the negative index of e is 6\n"
     ]
    }
   ],
   "source": [
    "#Q6 wap ask the user iterate using a string\n",
    "# string='welcome'\n",
    "#print the negative index of w is 0\n",
    "#     the negative index of e is 1\n",
    "#     the negative index of l is 2\n",
    "\n",
    "s1='welcome'\n",
    "n=len(s1)\n",
    "for i in range(n):\n",
    "    print(f' the negative index of {s1[i]} is {i}')"
   ]
  },
  {
   "cell_type": "code",
   "execution_count": 21,
   "id": "0c78691c-d6ad-4ecf-b13c-e5e1b12c0b5e",
   "metadata": {},
   "outputs": [
    {
     "name": "stdout",
     "output_type": "stream",
     "text": [
      "0 w\n",
      "1 e\n",
      "2 l\n",
      "3 c\n",
      "4 o\n",
      " the positive index of ois 4\n"
     ]
    }
   ],
   "source": [
    "s1='welcome'\n",
    "n=len(s)\n",
    "for i in range(n):\n",
    " print(i,s1[i])\n",
    "print(f' the positive index of {s1[i]}is {i}')"
   ]
  },
  {
   "cell_type": "code",
   "execution_count": 29,
   "id": "4208a2d9-d4c1-4d44-9f9e-222d1cc63a89",
   "metadata": {},
   "outputs": [
    {
     "name": "stdout",
     "output_type": "stream",
     "text": [
      "0 -7\n",
      " the negative index of wis -7\n",
      "1 -6\n",
      " the negative index of eis -6\n",
      "2 -5\n",
      " the negative index of lis -5\n",
      "3 -4\n",
      " the negative index of cis -4\n",
      "4 -3\n",
      " the negative index of ois -3\n",
      "5 -2\n",
      " the negative index of mis -2\n",
      "6 -1\n",
      " the negative index of eis -1\n"
     ]
    }
   ],
   "source": [
    "s='welcome'\n",
    "for i in range(len(s)):\n",
    "    print(i,i-len(s))\n",
    "    print(f' the negative index of {s1[i]}is {i-len(s)}')"
   ]
  },
  {
   "cell_type": "code",
   "execution_count": 28,
   "id": "40e34c0d-c26a-4346-b3b8-6f063c746598",
   "metadata": {},
   "outputs": [
    {
     "name": "stdout",
     "output_type": "stream",
     "text": [
      "0 7\n",
      " the positive index of wis 7\n",
      "1 8\n",
      " the positive index of eis 8\n",
      "2 9\n",
      " the positive index of lis 9\n",
      "3 10\n",
      " the positive index of cis 10\n",
      "4 11\n",
      " the positive index of ois 11\n",
      "5 12\n",
      " the positive index of mis 12\n",
      "6 13\n",
      " the positive index of eis 13\n"
     ]
    }
   ],
   "source": [
    "for i in range(len(s)):\n",
    "    print(i,i+len(s))\n",
    "    print(f' the positive index of {s[i]}is {i+len(s)}')"
   ]
  },
  {
   "cell_type": "code",
   "execution_count": 31,
   "id": "e9888b52-3a8c-4f2d-a36f-9ce27020e738",
   "metadata": {},
   "outputs": [
    {
     "name": "stdout",
     "output_type": "stream",
     "text": [
      " the negative index  -7 and positive index 0 is w\n",
      " the negative index  -6 and positive index 1 is e\n",
      " the negative index  -5 and positive index 2 is l\n",
      " the negative index  -4 and positive index 3 is c\n",
      " the negative index  -3 and positive index 4 is o\n",
      " the negative index  -2 and positive index 5 is m\n",
      " the negative index  -1 and positive index 6 is e\n"
     ]
    }
   ],
   "source": [
    "s='welcome'\n",
    "for i in range(len(s)):\n",
    "    print(f' the negative index  {i-len(s)} and positive index {i} is {s[i]}')"
   ]
  },
  {
   "cell_type": "code",
   "execution_count": 44,
   "id": "512ea1a7-4260-436a-aa95-5e3d2fffedac",
   "metadata": {},
   "outputs": [
    {
     "name": "stdout",
     "output_type": "stream",
     "text": [
      "1\n",
      "8\n",
      "18\n"
     ]
    }
   ],
   "source": [
    "#Q8 wap ask the user get index of each 'a' in a given string\n",
    "#s='hai how are you i am good'\n",
    "\n",
    "s='hai how are you i am good'\n",
    "n=len(s)\n",
    "for i in range(n):\n",
    "    if s[i]=='a':\n",
    "       print(i)\n",
    "    \n",
    "    "
   ]
  },
  {
   "cell_type": "code",
   "execution_count": 51,
   "id": "8559aa57-2c0e-4953-86fa-2d74ce9f0499",
   "metadata": {},
   "outputs": [],
   "source": [
    "#Q9\n",
    "count=0\n",
    "s='hai how are you i am good'\n",
    "n=len(s)\n",
    "for i in range(n):\n",
    "    if s[i]=='a':\n",
    "        count=count+1\n",
    "    \n",
    "    \n",
    "    "
   ]
  },
  {
   "cell_type": "code",
   "execution_count": 52,
   "id": "1cd9d2e9-36c8-452e-8a43-de0754a35526",
   "metadata": {},
   "outputs": [
    {
     "data": {
      "text/plain": [
       "3"
      ]
     },
     "execution_count": 52,
     "metadata": {},
     "output_type": "execute_result"
    }
   ],
   "source": [
    "count"
   ]
  },
  {
   "cell_type": "code",
   "execution_count": 53,
   "id": "47ed098f-cfe4-4b46-bf3a-1d273eecaa55",
   "metadata": {},
   "outputs": [
    {
     "data": {
      "text/plain": [
       "27"
      ]
     },
     "execution_count": 53,
     "metadata": {},
     "output_type": "execute_result"
    }
   ],
   "source": [
    "#Q10\n",
    "\n",
    "summ=0\n",
    "s='hai how are you i am good'\n",
    "n=len(s)\n",
    "for i in range(n):\n",
    "    if s[i]=='a':\n",
    "        summ=summ+i\n",
    "\n",
    "summ\n"
   ]
  },
  {
   "cell_type": "code",
   "execution_count": 55,
   "id": "05a1eeee-cd4f-4ff0-9083-9dc65939a5a1",
   "metadata": {},
   "outputs": [
    {
     "name": "stdout",
     "output_type": "stream",
     "text": [
      "a\n",
      "i\n",
      "o\n",
      "a\n",
      "e\n",
      "o\n",
      "u\n",
      "i\n",
      "a\n",
      "o\n",
      "o\n"
     ]
    }
   ],
   "source": [
    "#11Q wap ask the user get the vowels from a given string using for i in range\n",
    "\n",
    "count=0\n",
    "s='hai how are you i am good'\n",
    "for i  in range(len(s)) :\n",
    "    if s[i] in 'aeiou':\n",
    "        print(s[i])\n",
    "        count=count+1\n",
    "        "
   ]
  },
  {
   "cell_type": "code",
   "execution_count": 59,
   "id": "48f35cd0-a536-49c6-a074-d6d940b0b311",
   "metadata": {},
   "outputs": [
    {
     "name": "stdout",
     "output_type": "stream",
     "text": [
      "a\n",
      "i\n",
      "o\n",
      "e\n",
      "u\n",
      "the number of vowels are: 5\n"
     ]
    }
   ],
   "source": [
    "count=0\n",
    "s='hai how are you i am good'\n",
    "s1=''\n",
    "for i in range(len(s)):\n",
    "    if s[i] not in s1:  # we are checking the letters is available in s1()\n",
    "        if s[i] in 'aeiou':\n",
    "            print(s[i])\n",
    "            s1=s1+s[i]\n",
    "            count=count+1\n",
    "print('the number of vowels are:',count) "
   ]
  },
  {
   "cell_type": "code",
   "execution_count": 61,
   "id": "7bbbd8d8-d5ae-4875-a029-78b10bb73d6a",
   "metadata": {},
   "outputs": [
    {
     "name": "stdout",
     "output_type": "stream",
     "text": [
      "a\n",
      "i\n",
      "o\n",
      "e\n",
      "u\n",
      "the number of vowels are: 5\n"
     ]
    }
   ],
   "source": [
    "count=0\n",
    "s='hai how are you i am good'\n",
    "s1=''\n",
    "for i in range(len(s)):\n",
    "    if s[i] not in s1 and  s[i] in 'aeiou':\n",
    "        print(s[i])\n",
    "        s1=s1+s[i]\n",
    "        count=count+1\n",
    "print('the number of vowels are:',count) "
   ]
  },
  {
   "cell_type": "code",
   "execution_count": null,
   "id": "b01bc9e1-82ca-4bf9-aa7f-ee087febe1d6",
   "metadata": {},
   "outputs": [],
   "source": [
    "#Q14 string1='ola ola ola'\n",
    "#number of ola =3\n",
    "\n",
    "#Q15 string1='hello hello hello how how how how how are you'\n",
    "#what is the most repeated word :how\n",
    "\n",
    "#Q16 string1='helllo how are u'\n",
    "# what is max length of word : hello\n",
    "# what is min length of word : u\n",
    "\n",
    "#Q17 sort the letters without using sorted"
   ]
  },
  {
   "cell_type": "markdown",
   "id": "c4fa1dd4-407b-4622-950c-c777915d3c0c",
   "metadata": {},
   "source": [
    "**slice**"
   ]
  },
  {
   "cell_type": "markdown",
   "id": "97cae05d-2272-4b2a-970a-ef0a7bf21c09",
   "metadata": {},
   "source": [
    "- we can cut into pieces\n",
    "- similar to range concept\n",
    "- start,stop,step here also"
   ]
  },
  {
   "cell_type": "code",
   "execution_count": 1,
   "id": "053ec983-cd60-467a-8716-d770b32fb2f2",
   "metadata": {},
   "outputs": [],
   "source": [
    "str1='hai how are you'"
   ]
  },
  {
   "cell_type": "code",
   "execution_count": null,
   "id": "323941cc-21c3-4fd4-bee9-a5ecb1b5c755",
   "metadata": {},
   "outputs": [],
   "source": [
    "\n",
    "-15  -14   -13  -12  -11  -10  -9  -8  -7  -6  -5 -4 -3  -2  -1\n",
    " h     a    i          h   o    w       a   r   e       y   o   u\n",
    " 0     1    2    3     4   5   6    7  8   9   10  11  12  13  14"
   ]
  },
  {
   "cell_type": "code",
   "execution_count": null,
   "id": "37b9aef2-6c18-447d-8056-2b04711a2b5e",
   "metadata": {},
   "outputs": [],
   "source": [
    "str1[start:stop:step]"
   ]
  },
  {
   "cell_type": "markdown",
   "id": "c491a892-74c7-494d-b433-bf2e9582e418",
   "metadata": {},
   "source": [
    "$pattern-1$\n",
    "\n",
    "**str1[start:]\n",
    "- by default start value= start only\n",
    "- lastvalue=last only\n",
    "-step nothing mentioned means ,it is a positive direction and increment by 1"
   ]
  },
  {
   "cell_type": "code",
   "execution_count": 10,
   "id": "23bbf79f-6e6e-40c5-a5fa-105c248ef5b6",
   "metadata": {},
   "outputs": [
    {
     "data": {
      "text/plain": [
       "'ow  are you'"
      ]
     },
     "execution_count": 10,
     "metadata": {},
     "output_type": "execute_result"
    }
   ],
   "source": [
    "str1='hai how  are you'\n",
    "str1[5:]"
   ]
  },
  {
   "cell_type": "code",
   "execution_count": 9,
   "id": "b804f448-aaec-4765-a63a-df7893b41cc3",
   "metadata": {},
   "outputs": [
    {
     "data": {
      "text/plain": [
       "'e you'"
      ]
     },
     "execution_count": 9,
     "metadata": {},
     "output_type": "execute_result"
    }
   ],
   "source": [
    "str1[-5:]"
   ]
  },
  {
   "cell_type": "code",
   "execution_count": 7,
   "id": "9feb2586-9317-4bc8-950d-231e7f78f114",
   "metadata": {},
   "outputs": [
    {
     "data": {
      "text/plain": [
       "'how  are you'"
      ]
     },
     "execution_count": 7,
     "metadata": {},
     "output_type": "execute_result"
    }
   ],
   "source": [
    "str1[4:]"
   ]
  },
  {
   "cell_type": "code",
   "execution_count": 14,
   "id": "bd3089eb-15ca-478f-81c8-bfa4e0199df3",
   "metadata": {},
   "outputs": [
    {
     "data": {
      "text/plain": [
       "'hai how  are yo'"
      ]
     },
     "execution_count": 14,
     "metadata": {},
     "output_type": "execute_result"
    }
   ],
   "source": [
    "str1[0:14+1:]"
   ]
  },
  {
   "cell_type": "code",
   "execution_count": 15,
   "id": "d5c9ea9b-5ad1-4d4b-bf13-943bf418e1d0",
   "metadata": {},
   "outputs": [
    {
     "data": {
      "text/plain": [
       "'hai how  a'"
      ]
     },
     "execution_count": 15,
     "metadata": {},
     "output_type": "execute_result"
    }
   ],
   "source": [
    "str1[0:10:]"
   ]
  },
  {
   "cell_type": "markdown",
   "id": "4accc345-5b10-44d6-9636-995365334aab",
   "metadata": {},
   "source": [
    "$pattren-2$\n",
    "\n",
    "str1[start:stop]\n",
    "\n",
    "- start value means by default start only\n",
    "- step is not mentioned positive direction\n",
    "- last=stop-1"
   ]
  },
  {
   "cell_type": "code",
   "execution_count": 16,
   "id": "c0483bc8-9a5e-4938-9e3b-a07dadeee77a",
   "metadata": {},
   "outputs": [
    {
     "data": {
      "text/plain": [
       "'ow  are y'"
      ]
     },
     "execution_count": 16,
     "metadata": {},
     "output_type": "execute_result"
    }
   ],
   "source": [
    "str1[5:14]"
   ]
  },
  {
   "cell_type": "code",
   "execution_count": 17,
   "id": "8304efa5-f91c-4ef5-b0fb-35d20b9e5094",
   "metadata": {},
   "outputs": [
    {
     "data": {
      "text/plain": [
       "'e y'"
      ]
     },
     "execution_count": 17,
     "metadata": {},
     "output_type": "execute_result"
    }
   ],
   "source": [
    "str1[-5:14]"
   ]
  },
  {
   "cell_type": "code",
   "execution_count": null,
   "id": "a0e8de8b-0175-4a49-97c5-cd3716d4661c",
   "metadata": {},
   "outputs": [],
   "source": [
    "\n",
    "#-15  -14   -13  -12  -11  -10  -9  -8  -7  -6  -5  -4   -3   -2   -1\n",
    "# h     a    i          h   o    w       a   r   e        y    o    u\n",
    "# 0     1    2    3     4   5   6    7  8   9   10   11   12  13   14"
   ]
  },
  {
   "cell_type": "code",
   "execution_count": 19,
   "id": "6312193c-0a91-43fa-9f10-920582a24538",
   "metadata": {},
   "outputs": [
    {
     "data": {
      "text/plain": [
       "''"
      ]
     },
     "execution_count": 19,
     "metadata": {},
     "output_type": "execute_result"
    }
   ],
   "source": [
    "str1[5:-14]"
   ]
  },
  {
   "cell_type": "code",
   "execution_count": 20,
   "id": "3b1e8a31-3c7e-4da4-84d2-f65d4dd5878f",
   "metadata": {},
   "outputs": [
    {
     "data": {
      "text/plain": [
       "'how  are'"
      ]
     },
     "execution_count": 20,
     "metadata": {},
     "output_type": "execute_result"
    }
   ],
   "source": [
    "str1[4:-4]"
   ]
  },
  {
   "cell_type": "code",
   "execution_count": 23,
   "id": "36ed44ec-dc40-4ecd-98ce-2319f577b78e",
   "metadata": {},
   "outputs": [
    {
     "data": {
      "text/plain": [
       "'ow  are y'"
      ]
     },
     "execution_count": 23,
     "metadata": {},
     "output_type": "execute_result"
    }
   ],
   "source": [
    "str1[5:14]"
   ]
  },
  {
   "cell_type": "code",
   "execution_count": 26,
   "id": "d71392e5-eff4-4474-9be3-95f20f76476c",
   "metadata": {},
   "outputs": [
    {
     "data": {
      "text/plain": [
       "'e y'"
      ]
     },
     "execution_count": 26,
     "metadata": {},
     "output_type": "execute_result"
    }
   ],
   "source": [
    "str1='hai how  are you'\n",
    "str1[-5:14]"
   ]
  },
  {
   "cell_type": "code",
   "execution_count": 27,
   "id": "8837b652-ccb5-450a-ab2c-2528243d90c9",
   "metadata": {},
   "outputs": [
    {
     "data": {
      "text/plain": [
       "''"
      ]
     },
     "execution_count": 27,
     "metadata": {},
     "output_type": "execute_result"
    }
   ],
   "source": [
    "str1[-5:-14]"
   ]
  },
  {
   "cell_type": "markdown",
   "id": "cb38f0f7-d319-4a94-b1ef-a2f5b8db4f72",
   "metadata": {},
   "source": [
    "**truncation behaviour**\n",
    "- when ever string range is limited ,but we provided unlimited number\n",
    "- string will consider till range we have\n",
    "- in the above example out range only 15 letters\n",
    "- we provided 500,then 500 will truncate to till 15 letters only"
   ]
  },
  {
   "cell_type": "code",
   "execution_count": null,
   "id": "8bdd25f6-f6c6-4fb4-99ff-fdd9c91508a4",
   "metadata": {},
   "outputs": [],
   "source": [
    "str1[5:500] # w\n",
    "str1[-500:500] #w\n",
    "str1[-1:500]  #w\n",
    "str1[500]  #no answer\n",
    "str1[-500:-100] # no answer"
   ]
  },
  {
   "cell_type": "code",
   "execution_count": 28,
   "id": "18ffd7fd-2ba9-44d6-89cd-59ac0c22d06a",
   "metadata": {},
   "outputs": [
    {
     "data": {
      "text/plain": [
       "'ow  are you'"
      ]
     },
     "execution_count": 28,
     "metadata": {},
     "output_type": "execute_result"
    }
   ],
   "source": [
    "str1[5:500] # w\n"
   ]
  },
  {
   "cell_type": "code",
   "execution_count": 29,
   "id": "4b0cf1a8-c491-4398-8b20-a52ef782c848",
   "metadata": {},
   "outputs": [
    {
     "data": {
      "text/plain": [
       "'hai how  are you'"
      ]
     },
     "execution_count": 29,
     "metadata": {},
     "output_type": "execute_result"
    }
   ],
   "source": [
    "str1[-500:500] #w\n"
   ]
  },
  {
   "cell_type": "code",
   "execution_count": 30,
   "id": "83848872-7ec4-4298-b987-c4c672b27544",
   "metadata": {},
   "outputs": [
    {
     "data": {
      "text/plain": [
       "'u'"
      ]
     },
     "execution_count": 30,
     "metadata": {},
     "output_type": "execute_result"
    }
   ],
   "source": [
    "str1[-1:500]  #w\n"
   ]
  },
  {
   "cell_type": "code",
   "execution_count": 32,
   "id": "47d6a89d-f6aa-44b2-94bb-def82ae99b51",
   "metadata": {},
   "outputs": [
    {
     "data": {
      "text/plain": [
       "''"
      ]
     },
     "execution_count": 32,
     "metadata": {},
     "output_type": "execute_result"
    }
   ],
   "source": [
    "str1[500:]  #w"
   ]
  },
  {
   "cell_type": "code",
   "execution_count": 33,
   "id": "522506f9-0b93-40f6-9f25-7ac6fc42e135",
   "metadata": {},
   "outputs": [
    {
     "data": {
      "text/plain": [
       "''"
      ]
     },
     "execution_count": 33,
     "metadata": {},
     "output_type": "execute_result"
    }
   ],
   "source": [
    "str1[500:-5]"
   ]
  },
  {
   "cell_type": "code",
   "execution_count": 34,
   "id": "56d8c6dc-b35e-4ae1-ad76-a2f4b8ec4e6f",
   "metadata": {},
   "outputs": [
    {
     "data": {
      "text/plain": [
       "'hai h'"
      ]
     },
     "execution_count": 34,
     "metadata": {},
     "output_type": "execute_result"
    }
   ],
   "source": [
    "str1[-500:5]"
   ]
  },
  {
   "cell_type": "code",
   "execution_count": 35,
   "id": "eb821ecd-bcb8-4749-961f-3715d96a9adb",
   "metadata": {},
   "outputs": [
    {
     "data": {
      "text/plain": [
       "''"
      ]
     },
     "execution_count": 35,
     "metadata": {},
     "output_type": "execute_result"
    }
   ],
   "source": [
    "str1[-500:-100]"
   ]
  },
  {
   "cell_type": "markdown",
   "id": "a749a06d-d6c1-4dfc-a4a5-10fc8871a565",
   "metadata": {},
   "source": [
    "$pattren -3$\n",
    "\n",
    "**str1[start:stop:step]**\n",
    "\n",
    "- start value means start only\n",
    "- if step value positive\n",
    "     - last value=stop-1\n",
    "- if step value negative\n",
    "    - last value= stop+1"
   ]
  },
  {
   "cell_type": "code",
   "execution_count": 36,
   "id": "56c5a7cf-4a07-4174-b3f3-1990355b5a5d",
   "metadata": {},
   "outputs": [
    {
     "data": {
      "text/plain": [
       "'hai how  are you'"
      ]
     },
     "execution_count": 36,
     "metadata": {},
     "output_type": "execute_result"
    }
   ],
   "source": [
    "str1[-100:100+1]"
   ]
  },
  {
   "cell_type": "code",
   "execution_count": 37,
   "id": "e3497ee1-1a34-4dd2-a7be-9256c61da274",
   "metadata": {},
   "outputs": [
    {
     "data": {
      "text/plain": [
       "'hai how'"
      ]
     },
     "execution_count": 37,
     "metadata": {},
     "output_type": "execute_result"
    }
   ],
   "source": [
    "str1[-100:-10+1]"
   ]
  },
  {
   "cell_type": "code",
   "execution_count": 39,
   "id": "da73776d-19f7-4724-a7a5-2719491dc81b",
   "metadata": {},
   "outputs": [
    {
     "data": {
      "text/plain": [
       "''"
      ]
     },
     "execution_count": 39,
     "metadata": {},
     "output_type": "execute_result"
    }
   ],
   "source": [
    "str1[10:-100+1]"
   ]
  },
  {
   "cell_type": "code",
   "execution_count": 40,
   "id": "4ad6ad7b-efa8-4ba3-9bbb-c88b3a7b93f9",
   "metadata": {},
   "outputs": [
    {
     "data": {
      "text/plain": [
       "'bhanu'"
      ]
     },
     "execution_count": 40,
     "metadata": {},
     "output_type": "execute_result"
    }
   ],
   "source": [
    "str2='bhanu'\n",
    "str2[-5:5]"
   ]
  },
  {
   "cell_type": "code",
   "execution_count": 41,
   "id": "dbf37490-f009-4a9f-b053-8ef115633b5f",
   "metadata": {},
   "outputs": [
    {
     "data": {
      "text/plain": [
       "'bhan'"
      ]
     },
     "execution_count": 41,
     "metadata": {},
     "output_type": "execute_result"
    }
   ],
   "source": [
    "str2[-20:4]"
   ]
  },
  {
   "cell_type": "code",
   "execution_count": null,
   "id": "b3f21c68-0718-4486-8538-67bf30eb2ffe",
   "metadata": {},
   "outputs": [],
   "source": [
    "str1[2:13:2]\n",
    "str1[2:13:-2]\n",
    "str1[2:-13:2]\n",
    "str1[2:-13:-2]\n",
    "str1[-2:13:2]\n",
    "str1[-2:-13:2]\n",
    "str1"
   ]
  },
  {
   "cell_type": "code",
   "execution_count": 45,
   "id": "583e251f-5a7d-4523-8351-0535ba9b004b",
   "metadata": {},
   "outputs": [
    {
     "data": {
      "text/plain": [
       "'i'"
      ]
     },
     "execution_count": 45,
     "metadata": {},
     "output_type": "execute_result"
    }
   ],
   "source": [
    "str1[2:-13:2]"
   ]
  },
  {
   "cell_type": "code",
   "execution_count": 60,
   "id": "485285d5-3e65-496b-a7a7-a216b195bf57",
   "metadata": {},
   "outputs": [
    {
     "data": {
      "text/plain": [
       "''"
      ]
     },
     "execution_count": 60,
     "metadata": {},
     "output_type": "execute_result"
    }
   ],
   "source": [
    "str1[2:-13:-2]"
   ]
  },
  {
   "cell_type": "code",
   "execution_count": 47,
   "id": "c05a2946-a513-4ad0-9197-fee9cb809180",
   "metadata": {},
   "outputs": [
    {
     "data": {
      "text/plain": [
       "''"
      ]
     },
     "execution_count": 47,
     "metadata": {},
     "output_type": "execute_result"
    }
   ],
   "source": [
    "str1[-2:13:2]"
   ]
  },
  {
   "cell_type": "code",
   "execution_count": 48,
   "id": "57c5ae5f-b0b5-437f-865c-87a68e98bde4",
   "metadata": {},
   "outputs": [
    {
     "data": {
      "text/plain": [
       "''"
      ]
     },
     "execution_count": 48,
     "metadata": {},
     "output_type": "execute_result"
    }
   ],
   "source": [
    "str1[-2:-13:2]\n"
   ]
  },
  {
   "cell_type": "code",
   "execution_count": 49,
   "id": "dec92c98-dee0-4443-9f75-8ecf981d3fe5",
   "metadata": {},
   "outputs": [
    {
     "data": {
      "text/plain": [
       "'o r wh'"
      ]
     },
     "execution_count": 49,
     "metadata": {},
     "output_type": "execute_result"
    }
   ],
   "source": [
    "str1[-2:-13:-2]\n"
   ]
  },
  {
   "cell_type": "code",
   "execution_count": 50,
   "id": "3e27681b-250e-4aec-958f-cdc170f53233",
   "metadata": {},
   "outputs": [
    {
     "data": {
      "text/plain": [
       "''"
      ]
     },
     "execution_count": 50,
     "metadata": {},
     "output_type": "execute_result"
    }
   ],
   "source": [
    "str1[13:2:2]\n"
   ]
  },
  {
   "cell_type": "code",
   "execution_count": 52,
   "id": "d042d704-ba3f-42c9-bcd8-2d41aee0742a",
   "metadata": {},
   "outputs": [
    {
     "data": {
      "text/plain": [
       "' o aey'"
      ]
     },
     "execution_count": 52,
     "metadata": {},
     "output_type": "execute_result"
    }
   ],
   "source": [
    "str1[-13:-2:2]\n"
   ]
  },
  {
   "cell_type": "code",
   "execution_count": 53,
   "id": "2d117f3f-0785-4a09-b5c5-3fa56325985c",
   "metadata": {},
   "outputs": [
    {
     "data": {
      "text/plain": [
       "''"
      ]
     },
     "execution_count": 53,
     "metadata": {},
     "output_type": "execute_result"
    }
   ],
   "source": [
    "str1[2:2:2]\n"
   ]
  },
  {
   "cell_type": "code",
   "execution_count": 54,
   "id": "666c55e1-f7f1-4679-ae48-46dc849a95f5",
   "metadata": {},
   "outputs": [
    {
     "data": {
      "text/plain": [
       "' o aey'"
      ]
     },
     "execution_count": 54,
     "metadata": {},
     "output_type": "execute_result"
    }
   ],
   "source": [
    "str1[-13:-2:2]\n"
   ]
  },
  {
   "cell_type": "code",
   "execution_count": 55,
   "id": "02e7bb4f-bb9d-4616-9e17-d88d3d32b428",
   "metadata": {},
   "outputs": [
    {
     "data": {
      "text/plain": [
       "' '"
      ]
     },
     "execution_count": 55,
     "metadata": {},
     "output_type": "execute_result"
    }
   ],
   "source": [
    "str1[-13:2:-2]\n"
   ]
  },
  {
   "cell_type": "code",
   "execution_count": 56,
   "id": "3d8d80e4-ed66-4d10-814f-26704b4677fc",
   "metadata": {},
   "outputs": [
    {
     "data": {
      "text/plain": [
       "'yea o '"
      ]
     },
     "execution_count": 56,
     "metadata": {},
     "output_type": "execute_result"
    }
   ],
   "source": [
    "str1[13:2:-2]"
   ]
  },
  {
   "cell_type": "code",
   "execution_count": 57,
   "id": "6fbcb262-0aea-417b-97a7-7621d860db72",
   "metadata": {},
   "outputs": [
    {
     "data": {
      "text/plain": [
       "'yea o '"
      ]
     },
     "execution_count": 57,
     "metadata": {},
     "output_type": "execute_result"
    }
   ],
   "source": [
    "str1[13:2:-2]"
   ]
  },
  {
   "cell_type": "code",
   "execution_count": 59,
   "id": "4a8b9752-1655-4824-a3c1-791b1e78aa5b",
   "metadata": {},
   "outputs": [
    {
     "data": {
      "text/plain": [
       "''"
      ]
     },
     "execution_count": 59,
     "metadata": {},
     "output_type": "execute_result"
    }
   ],
   "source": [
    "str1[2:-13:-2]"
   ]
  },
  {
   "cell_type": "code",
   "execution_count": null,
   "id": "fdf0f9bc-e64f-4374-a90e-287e83ceb50e",
   "metadata": {},
   "outputs": [],
   "source": [
    "str1[:]  #n complete string\n",
    "str1[::]  # complete string\n",
    "str1[<start>::-1]  # reverses start value=-1\n",
    "str1[<start>:5:-2]"
   ]
  },
  {
   "cell_type": "markdown",
   "id": "4442df8e-9987-4f6b-82b1-fc196e2ca530",
   "metadata": {},
   "source": [
    "**methods**\n",
    "\n",
    "\n",
    "- strings lists tuple directionary every data type has its own methods\n",
    "- we already  seen that packages has different methods\n",
    "- for example random pacakge: randint method\n",
    "- math pacakge:sqrt\n",
    "- in the same way strings also have methods\n",
    "- in order to see methods for the pacakges\n",
    "    - we are importing the pacakage\n",
    "    - we are applying dir\n",
    "- in the similar way in order to see the method of string,we need to apply dir only "
   ]
  },
  {
   "cell_type": "code",
   "execution_count": 64,
   "id": "33865873-bac9-4e8b-919e-b4f2bf922eac",
   "metadata": {},
   "outputs": [
    {
     "data": {
      "text/plain": [
       "['__add__',\n",
       " '__class__',\n",
       " '__contains__',\n",
       " '__delattr__',\n",
       " '__dir__',\n",
       " '__doc__',\n",
       " '__eq__',\n",
       " '__format__',\n",
       " '__ge__',\n",
       " '__getattribute__',\n",
       " '__getitem__',\n",
       " '__getnewargs__',\n",
       " '__getstate__',\n",
       " '__gt__',\n",
       " '__hash__',\n",
       " '__init__',\n",
       " '__init_subclass__',\n",
       " '__iter__',\n",
       " '__le__',\n",
       " '__len__',\n",
       " '__lt__',\n",
       " '__mod__',\n",
       " '__mul__',\n",
       " '__ne__',\n",
       " '__new__',\n",
       " '__reduce__',\n",
       " '__reduce_ex__',\n",
       " '__repr__',\n",
       " '__rmod__',\n",
       " '__rmul__',\n",
       " '__setattr__',\n",
       " '__sizeof__',\n",
       " '__str__',\n",
       " '__subclasshook__',\n",
       " 'capitalize',\n",
       " 'casefold',\n",
       " 'center',\n",
       " 'count',\n",
       " 'encode',\n",
       " 'endswith',\n",
       " 'expandtabs',\n",
       " 'find',\n",
       " 'format',\n",
       " 'format_map',\n",
       " 'index',\n",
       " 'isalnum',\n",
       " 'isalpha',\n",
       " 'isascii',\n",
       " 'isdecimal',\n",
       " 'isdigit',\n",
       " 'isidentifier',\n",
       " 'islower',\n",
       " 'isnumeric',\n",
       " 'isprintable',\n",
       " 'isspace',\n",
       " 'istitle',\n",
       " 'isupper',\n",
       " 'join',\n",
       " 'ljust',\n",
       " 'lower',\n",
       " 'lstrip',\n",
       " 'maketrans',\n",
       " 'partition',\n",
       " 'removeprefix',\n",
       " 'removesuffix',\n",
       " 'replace',\n",
       " 'rfind',\n",
       " 'rindex',\n",
       " 'rjust',\n",
       " 'rpartition',\n",
       " 'rsplit',\n",
       " 'rstrip',\n",
       " 'split',\n",
       " 'splitlines',\n",
       " 'startswith',\n",
       " 'strip',\n",
       " 'swapcase',\n",
       " 'title',\n",
       " 'translate',\n",
       " 'upper',\n",
       " 'zfill']"
      ]
     },
     "execution_count": 64,
     "metadata": {},
     "output_type": "execute_result"
    }
   ],
   "source": [
    "dir('')"
   ]
  },
  {
   "cell_type": "code",
   "execution_count": 65,
   "id": "8acefc6f-292a-4d7b-9a39-d065d2d032d9",
   "metadata": {},
   "outputs": [
    {
     "data": {
      "text/plain": [
       "['__add__',\n",
       " '__class__',\n",
       " '__contains__',\n",
       " '__delattr__',\n",
       " '__dir__',\n",
       " '__doc__',\n",
       " '__eq__',\n",
       " '__format__',\n",
       " '__ge__',\n",
       " '__getattribute__',\n",
       " '__getitem__',\n",
       " '__getnewargs__',\n",
       " '__getstate__',\n",
       " '__gt__',\n",
       " '__hash__',\n",
       " '__init__',\n",
       " '__init_subclass__',\n",
       " '__iter__',\n",
       " '__le__',\n",
       " '__len__',\n",
       " '__lt__',\n",
       " '__mod__',\n",
       " '__mul__',\n",
       " '__ne__',\n",
       " '__new__',\n",
       " '__reduce__',\n",
       " '__reduce_ex__',\n",
       " '__repr__',\n",
       " '__rmod__',\n",
       " '__rmul__',\n",
       " '__setattr__',\n",
       " '__sizeof__',\n",
       " '__str__',\n",
       " '__subclasshook__',\n",
       " 'capitalize',\n",
       " 'casefold',\n",
       " 'center',\n",
       " 'count',\n",
       " 'encode',\n",
       " 'endswith',\n",
       " 'expandtabs',\n",
       " 'find',\n",
       " 'format',\n",
       " 'format_map',\n",
       " 'index',\n",
       " 'isalnum',\n",
       " 'isalpha',\n",
       " 'isascii',\n",
       " 'isdecimal',\n",
       " 'isdigit',\n",
       " 'isidentifier',\n",
       " 'islower',\n",
       " 'isnumeric',\n",
       " 'isprintable',\n",
       " 'isspace',\n",
       " 'istitle',\n",
       " 'isupper',\n",
       " 'join',\n",
       " 'ljust',\n",
       " 'lower',\n",
       " 'lstrip',\n",
       " 'maketrans',\n",
       " 'partition',\n",
       " 'removeprefix',\n",
       " 'removesuffix',\n",
       " 'replace',\n",
       " 'rfind',\n",
       " 'rindex',\n",
       " 'rjust',\n",
       " 'rpartition',\n",
       " 'rsplit',\n",
       " 'rstrip',\n",
       " 'split',\n",
       " 'splitlines',\n",
       " 'startswith',\n",
       " 'strip',\n",
       " 'swapcase',\n",
       " 'title',\n",
       " 'translate',\n",
       " 'upper',\n",
       " 'zfill']"
      ]
     },
     "execution_count": 65,
     "metadata": {},
     "output_type": "execute_result"
    }
   ],
   "source": [
    "dir('hai')"
   ]
  },
  {
   "cell_type": "code",
   "execution_count": 66,
   "id": "1ac16ddd-caaa-484e-ab64-d81a9d99387e",
   "metadata": {},
   "outputs": [
    {
     "data": {
      "text/plain": [
       "['__abs__',\n",
       " '__add__',\n",
       " '__and__',\n",
       " '__bool__',\n",
       " '__ceil__',\n",
       " '__class__',\n",
       " '__delattr__',\n",
       " '__dir__',\n",
       " '__divmod__',\n",
       " '__doc__',\n",
       " '__eq__',\n",
       " '__float__',\n",
       " '__floor__',\n",
       " '__floordiv__',\n",
       " '__format__',\n",
       " '__ge__',\n",
       " '__getattribute__',\n",
       " '__getnewargs__',\n",
       " '__getstate__',\n",
       " '__gt__',\n",
       " '__hash__',\n",
       " '__index__',\n",
       " '__init__',\n",
       " '__init_subclass__',\n",
       " '__int__',\n",
       " '__invert__',\n",
       " '__le__',\n",
       " '__lshift__',\n",
       " '__lt__',\n",
       " '__mod__',\n",
       " '__mul__',\n",
       " '__ne__',\n",
       " '__neg__',\n",
       " '__new__',\n",
       " '__or__',\n",
       " '__pos__',\n",
       " '__pow__',\n",
       " '__radd__',\n",
       " '__rand__',\n",
       " '__rdivmod__',\n",
       " '__reduce__',\n",
       " '__reduce_ex__',\n",
       " '__repr__',\n",
       " '__rfloordiv__',\n",
       " '__rlshift__',\n",
       " '__rmod__',\n",
       " '__rmul__',\n",
       " '__ror__',\n",
       " '__round__',\n",
       " '__rpow__',\n",
       " '__rrshift__',\n",
       " '__rshift__',\n",
       " '__rsub__',\n",
       " '__rtruediv__',\n",
       " '__rxor__',\n",
       " '__setattr__',\n",
       " '__sizeof__',\n",
       " '__str__',\n",
       " '__sub__',\n",
       " '__subclasshook__',\n",
       " '__truediv__',\n",
       " '__trunc__',\n",
       " '__xor__',\n",
       " 'as_integer_ratio',\n",
       " 'bit_count',\n",
       " 'bit_length',\n",
       " 'conjugate',\n",
       " 'denominator',\n",
       " 'from_bytes',\n",
       " 'imag',\n",
       " 'numerator',\n",
       " 'real',\n",
       " 'to_bytes']"
      ]
     },
     "execution_count": 66,
     "metadata": {},
     "output_type": "execute_result"
    }
   ],
   "source": [
    "dir(10)"
   ]
  },
  {
   "cell_type": "markdown",
   "id": "7252a15b-7841-4eec-9d88-1b0c0ce0f2e0",
   "metadata": {},
   "source": [
    "- lower\n",
    "- upper\n",
    "- capitallize\n",
    "- title\n",
    "- casefold\n",
    "- center"
   ]
  },
  {
   "cell_type": "markdown",
   "id": "b58e5f26-9f17-425f-b681-83e3528e0b1d",
   "metadata": {},
   "source": [
    "**lower**"
   ]
  },
  {
   "cell_type": "code",
   "execution_count": 67,
   "id": "e11c5867-3616-4a72-b977-6a5d06f7e785",
   "metadata": {},
   "outputs": [
    {
     "data": {
      "text/plain": [
       "'hai how  are you'"
      ]
     },
     "execution_count": 67,
     "metadata": {},
     "output_type": "execute_result"
    }
   ],
   "source": [
    "str1.lower()"
   ]
  },
  {
   "cell_type": "markdown",
   "id": "aa37bce9-2cae-4681-a2bc-a041f5356ce9",
   "metadata": {},
   "source": [
    "**upper**"
   ]
  },
  {
   "cell_type": "code",
   "execution_count": 76,
   "id": "f9d22bff-7f0c-4d36-a829-1c7e03241bd5",
   "metadata": {},
   "outputs": [
    {
     "data": {
      "text/plain": [
       "'HAI HOW  ARE YOU'"
      ]
     },
     "execution_count": 76,
     "metadata": {},
     "output_type": "execute_result"
    }
   ],
   "source": [
    "str1.upper()"
   ]
  },
  {
   "cell_type": "markdown",
   "id": "fccfdd78-65f6-4bb3-8b8a-721286149899",
   "metadata": {},
   "source": [
    "**capitalize**"
   ]
  },
  {
   "cell_type": "code",
   "execution_count": 69,
   "id": "b12d39a9-19ed-4905-87aa-b3a6c01d469d",
   "metadata": {},
   "outputs": [
    {
     "data": {
      "text/plain": [
       "'Hai how  are you'"
      ]
     },
     "execution_count": 69,
     "metadata": {},
     "output_type": "execute_result"
    }
   ],
   "source": [
    "str1.capitalize()"
   ]
  },
  {
   "cell_type": "markdown",
   "id": "7fed8483-95c1-4a42-99aa-eecc44cc7fa3",
   "metadata": {},
   "source": [
    "**title**"
   ]
  },
  {
   "cell_type": "code",
   "execution_count": 70,
   "id": "4670212c-78c3-412a-9217-605ad28d013e",
   "metadata": {},
   "outputs": [
    {
     "data": {
      "text/plain": [
       "'Hai How  Are You'"
      ]
     },
     "execution_count": 70,
     "metadata": {},
     "output_type": "execute_result"
    }
   ],
   "source": [
    "str1.title()"
   ]
  },
  {
   "cell_type": "markdown",
   "id": "dc52a337-dc85-4aa9-8bb9-b5e9869a2450",
   "metadata": {},
   "source": [
    "**casefold**"
   ]
  },
  {
   "cell_type": "code",
   "execution_count": 71,
   "id": "108ac44e-3ba3-41db-a79f-ee9ad4b069d2",
   "metadata": {},
   "outputs": [
    {
     "data": {
      "text/plain": [
       "'hai how  are you'"
      ]
     },
     "execution_count": 71,
     "metadata": {},
     "output_type": "execute_result"
    }
   ],
   "source": [
    "str1.casefold()"
   ]
  },
  {
   "cell_type": "markdown",
   "id": "f5077a90-09c7-472b-8b5f-b6c5625ee997",
   "metadata": {},
   "source": [
    "**center**"
   ]
  },
  {
   "cell_type": "code",
   "execution_count": 77,
   "id": "df78966f-c51f-4873-b5c4-5ec3e00e2935",
   "metadata": {},
   "outputs": [
    {
     "data": {
      "text/plain": [
       "'  hai how  are you  '"
      ]
     },
     "execution_count": 77,
     "metadata": {},
     "output_type": "execute_result"
    }
   ],
   "source": [
    "str1.center(20)"
   ]
  },
  {
   "cell_type": "code",
   "execution_count": null,
   "id": "bd9a86a1-3692-4488-82ec-a2c6fe25c3f1",
   "metadata": {},
   "outputs": [],
   "source": [
    "#str1='hai how are you'\n",
    "#o/p= "
   ]
  },
  {
   "cell_type": "code",
   "execution_count": 78,
   "id": "1db8c6b3-f380-46ae-bdb8-bab8a6c9e930",
   "metadata": {},
   "outputs": [
    {
     "data": {
      "text/plain": [
       "20"
      ]
     },
     "execution_count": 78,
     "metadata": {},
     "output_type": "execute_result"
    }
   ],
   "source": [
    "len(str1.center(20))"
   ]
  },
  {
   "cell_type": "markdown",
   "id": "6ae68925-7bb5-4eb5-bae7-02fef6cc49a3",
   "metadata": {},
   "source": [
    "- center has two arguments\n",
    "    - width\n",
    "    - fill char\n",
    "- original string alread : 15 letters\n",
    "- we want to create a new string with 20 letters\n",
    "- reamining 5 letters by default empty\n",
    "- we can fill characters also"
   ]
  },
  {
   "cell_type": "code",
   "execution_count": null,
   "id": "5e4ba505-439f-4074-9293-d8dc0d90e739",
   "metadata": {},
   "outputs": [],
   "source": [
    "str1.center(26,'':)"
   ]
  },
  {
   "cell_type": "markdown",
   "id": "c3d51014-57b6-4dfd-b5d5-0757720f1a34",
   "metadata": {},
   "source": [
    "**count**"
   ]
  },
  {
   "cell_type": "code",
   "execution_count": 1,
   "id": "ac050d50-0cfb-4f10-87ce-0352a0edf1f4",
   "metadata": {},
   "outputs": [],
   "source": [
    "str1='hai how are you'\n",
    "# how many 'a' are avilable"
   ]
  },
  {
   "cell_type": "code",
   "execution_count": 3,
   "id": "aaddd202-7fb8-4d3b-93b3-2685388d76dc",
   "metadata": {},
   "outputs": [],
   "source": [
    "count=0\n",
    "for i in str1:\n",
    "    if i=='a':\n",
    "        count=count+1\n",
    "count=0"
   ]
  },
  {
   "cell_type": "code",
   "execution_count": 5,
   "id": "862a873a-2c34-4fbf-8eb5-8a6b412d04af",
   "metadata": {},
   "outputs": [
    {
     "data": {
      "text/plain": [
       "2"
      ]
     },
     "execution_count": 5,
     "metadata": {},
     "output_type": "execute_result"
    }
   ],
   "source": [
    "str1='hai how are you'\n",
    "str1.count('a')"
   ]
  },
  {
   "cell_type": "code",
   "execution_count": 6,
   "id": "c91460f6-2ca8-4297-94c1-9b56dfe89403",
   "metadata": {},
   "outputs": [
    {
     "data": {
      "text/plain": [
       "3"
      ]
     },
     "execution_count": 6,
     "metadata": {},
     "output_type": "execute_result"
    }
   ],
   "source": [
    "str1='hai hai hai'\n",
    "str1.count('a')"
   ]
  },
  {
   "cell_type": "code",
   "execution_count": null,
   "id": "a916db1f-72dd-41bd-b8ca-21edf3b8ef9f",
   "metadata": {},
   "outputs": [],
   "source": [
    "- we want number of  'a' from a specific index\n",
    "- we want"
   ]
  },
  {
   "cell_type": "code",
   "execution_count": 13,
   "id": "d72f99b8-570c-436a-980c-beba03437046",
   "metadata": {},
   "outputs": [
    {
     "data": {
      "text/plain": [
       "1"
      ]
     },
     "execution_count": 13,
     "metadata": {},
     "output_type": "execute_result"
    }
   ],
   "source": [
    "#-10   -9    -8  -7  -6   -5   -4  -3 -2    -1     0\n",
    "# h     a     i      h     a    i      h     a     i \n",
    "# 0     1     2  3   4     5    6  7   8     9     10\n",
    "str1.count('a')\n",
    "str1.count('a',5)\n",
    "str1.count('a',4,8)"
   ]
  },
  {
   "cell_type": "code",
   "execution_count": 14,
   "id": "ac0a6348-a03b-4bdb-a82f-1f61c2434520",
   "metadata": {},
   "outputs": [
    {
     "data": {
      "text/plain": [
       "3"
      ]
     },
     "execution_count": 14,
     "metadata": {},
     "output_type": "execute_result"
    }
   ],
   "source": [
    "str1.count('h')\n",
    "str1.count('h')"
   ]
  },
  {
   "cell_type": "code",
   "execution_count": 15,
   "id": "62c33272-1e63-4428-a45f-43bd0adfd7d8",
   "metadata": {},
   "outputs": [
    {
     "data": {
      "text/plain": [
       "1"
      ]
     },
     "execution_count": 15,
     "metadata": {},
     "output_type": "execute_result"
    }
   ],
   "source": [
    "str1.count('a',4,8)"
   ]
  },
  {
   "cell_type": "code",
   "execution_count": 16,
   "id": "7e4cd818-c9eb-4a30-aae3-3838bc86ad5c",
   "metadata": {},
   "outputs": [
    {
     "data": {
      "text/plain": [
       "1"
      ]
     },
     "execution_count": 16,
     "metadata": {},
     "output_type": "execute_result"
    }
   ],
   "source": [
    "str1.count('a',4,8)"
   ]
  },
  {
   "cell_type": "code",
   "execution_count": 17,
   "id": "ffe1be98-c8f3-4066-8608-dbb61504eac6",
   "metadata": {},
   "outputs": [
    {
     "data": {
      "text/plain": [
       "0"
      ]
     },
     "execution_count": 17,
     "metadata": {},
     "output_type": "execute_result"
    }
   ],
   "source": [
    "str1.count('a',-4,1)"
   ]
  },
  {
   "cell_type": "code",
   "execution_count": null,
   "id": "e524a345-3f2a-4b31-862b-d60a5863ff2e",
   "metadata": {},
   "outputs": [],
   "source": [
    "# in the "
   ]
  },
  {
   "cell_type": "code",
   "execution_count": 20,
   "id": "3288dcbe-03bc-4d62-be25-5fdec81345ef",
   "metadata": {},
   "outputs": [
    {
     "data": {
      "text/plain": [
       "3"
      ]
     },
     "execution_count": 20,
     "metadata": {},
     "output_type": "execute_result"
    }
   ],
   "source": [
    "str1='ola ola ola'\n",
    "str1.count('ola')"
   ]
  },
  {
   "cell_type": "code",
   "execution_count": 25,
   "id": "1b074f2b-d223-41a9-a4d5-ac150b0f2a06",
   "metadata": {},
   "outputs": [],
   "source": [
    "str1='ola ola ola'\n",
    "for i in str1:\n",
    "    if i=='ola':\n",
    "       print(i)"
   ]
  },
  {
   "cell_type": "markdown",
   "id": "e98c8b17-be8e-401f-aec7-65e2f7b2734e",
   "metadata": {},
   "source": [
    "**window method**"
   ]
  },
  {
   "cell_type": "code",
   "execution_count": null,
   "id": "6d7a58f4-30e0-4617-b447-d386390c7de8",
   "metadata": {},
   "outputs": [],
   "source": [
    "str1[i:i+3]\n",
    "i=0  str1[0:3]\n",
    "i=1  str1[0:4]\n",
    "i=2"
   ]
  },
  {
   "cell_type": "code",
   "execution_count": 28,
   "id": "3c83f873-b354-4082-b2dd-55610bfd528c",
   "metadata": {},
   "outputs": [],
   "source": [
    "str1='ola ola ola'\n",
    "count=0\n",
    "for i in range(len(str1)):\n",
    "    if str1[i:i+3]=='ola':\n",
    "        count=count+1\n",
    "\n",
    "#step-1"
   ]
  },
  {
   "cell_type": "code",
   "execution_count": 29,
   "id": "2c160fe8-755b-4123-ab24-40b644b0fec2",
   "metadata": {},
   "outputs": [
    {
     "data": {
      "text/plain": [
       "3"
      ]
     },
     "execution_count": 29,
     "metadata": {},
     "output_type": "execute_result"
    }
   ],
   "source": [
    "count"
   ]
  },
  {
   "cell_type": "code",
   "execution_count": 30,
   "id": "71ca2c60-98e6-47cb-a4de-1e138aee4b73",
   "metadata": {},
   "outputs": [
    {
     "data": {
      "text/plain": [
       "1"
      ]
     },
     "execution_count": 30,
     "metadata": {},
     "output_type": "execute_result"
    }
   ],
   "source": [
    "str1='ola ola ola'\n",
    "str1.count('ola ola ')"
   ]
  },
  {
   "cell_type": "code",
   "execution_count": 31,
   "id": "c298d880-ff4c-4c44-8dc3-c369f6cb3eb9",
   "metadata": {},
   "outputs": [
    {
     "data": {
      "text/plain": [
       "1"
      ]
     },
     "execution_count": 31,
     "metadata": {},
     "output_type": "execute_result"
    }
   ],
   "source": [
    "str1='ola ola ola'\n",
    "str1.count(str1)"
   ]
  },
  {
   "cell_type": "code",
   "execution_count": 32,
   "id": "42f68518-406c-43a7-b56a-11ec99c67ad7",
   "metadata": {},
   "outputs": [
    {
     "data": {
      "text/plain": [
       "0"
      ]
     },
     "execution_count": 32,
     "metadata": {},
     "output_type": "execute_result"
    }
   ],
   "source": [
    "str1.count('z')\n",
    "# no answer ''\n",
    "# error\n",
    "#0\n",
    "#nt"
   ]
  },
  {
   "cell_type": "markdown",
   "id": "bb64d5a2-82db-4207-9786-abd9a2fd3f8e",
   "metadata": {},
   "source": [
    "**Replace**"
   ]
  },
  {
   "cell_type": "code",
   "execution_count": null,
   "id": "24daff89-f0fe-468a-af10-f31a9faa475b",
   "metadata": {},
   "outputs": [],
   "source": [
    "str1='welcome'\n",
    "# I want to replace 'l' with 'L'"
   ]
  },
  {
   "cell_type": "code",
   "execution_count": 38,
   "id": "b2d15490-cbb3-4dbb-9578-9232da77b7ad",
   "metadata": {},
   "outputs": [
    {
     "data": {
      "text/plain": [
       "'weLcome'"
      ]
     },
     "execution_count": 38,
     "metadata": {},
     "output_type": "execute_result"
    }
   ],
   "source": [
    "# we know that strings are immutable\n",
    "# we can not use index operations also\n",
    "# slice and connection\n",
    "#Dividing welcome: we  come\n",
    "#s1='we'\n",
    "#s2='come'\n",
    "#s1+'L'+s2\n",
    "\n",
    "str1='welcome'\n",
    "s1=str1[0:2]\n",
    "s2=str1[3:7]\n",
    "s1+'L'+s2"
   ]
  },
  {
   "cell_type": "code",
   "execution_count": 41,
   "id": "7f817cb7-dcbb-4639-804c-156170e4b983",
   "metadata": {},
   "outputs": [
    {
     "ename": "TypeError",
     "evalue": "unsupported operand type(s) for -: 'str' and 'int'",
     "output_type": "error",
     "traceback": [
      "\u001b[1;31m---------------------------------------------------------------------------\u001b[0m",
      "\u001b[1;31mTypeError\u001b[0m                                 Traceback (most recent call last)",
      "Cell \u001b[1;32mIn[41], line 1\u001b[0m\n\u001b[1;32m----> 1\u001b[0m \u001b[38;5;28mchr\u001b[39m(\u001b[38;5;28mord\u001b[39m(\u001b[38;5;124m'\u001b[39m\u001b[38;5;124ml\u001b[39m\u001b[38;5;124m'\u001b[39m))\u001b[38;5;241m-\u001b[39m\u001b[38;5;241m32\u001b[39m\n",
      "\u001b[1;31mTypeError\u001b[0m: unsupported operand type(s) for -: 'str' and 'int'"
     ]
    }
   ],
   "source": [
    "chr(ord('l'))-32"
   ]
  },
  {
   "cell_type": "code",
   "execution_count": 40,
   "id": "8352377d-fb03-45b6-8b3d-9bc2ae513a32",
   "metadata": {},
   "outputs": [
    {
     "data": {
      "text/plain": [
       "'weLcome'"
      ]
     },
     "execution_count": 40,
     "metadata": {},
     "output_type": "execute_result"
    }
   ],
   "source": [
    "str1='welcome'\n",
    "str1.replace('l','L')"
   ]
  },
  {
   "cell_type": "code",
   "execution_count": 42,
   "id": "247664dd-098e-4be5-ac35-7bfb84cc0b99",
   "metadata": {},
   "outputs": [
    {
     "data": {
      "text/plain": [
       "'weLLcome'"
      ]
     },
     "execution_count": 42,
     "metadata": {},
     "output_type": "execute_result"
    }
   ],
   "source": [
    "str1='wellcome'\n",
    "str1.replace('l','L')"
   ]
  },
  {
   "cell_type": "code",
   "execution_count": null,
   "id": "532995a1-d6ea-43f4-8fb7-29c48c75fa2d",
   "metadata": {},
   "outputs": [],
   "source": [
    "- by default will change all the occurance\n",
    "- count=-1 is responsible for that\n",
    "- which means we can provide some count also, which\n",
    "- Give welcome"
   ]
  },
  {
   "cell_type": "code",
   "execution_count": 44,
   "id": "37732500-0354-4276-a90d-c27aec477992",
   "metadata": {},
   "outputs": [
    {
     "data": {
      "text/plain": [
       "'weLllcome'"
      ]
     },
     "execution_count": 44,
     "metadata": {},
     "output_type": "execute_result"
    }
   ],
   "source": [
    "str1='welllcome'\n",
    "str1.replace('l','L',1)\n",
    "\n",
    "# when we write count=i\n",
    "#it will change only one letter\n",
    "# that to only first occurance "
   ]
  },
  {
   "cell_type": "code",
   "execution_count": 45,
   "id": "d58c597d-511d-4dd9-8e3d-245dfcda45c6",
   "metadata": {},
   "outputs": [
    {
     "data": {
      "text/plain": [
       "'weLLlcome'"
      ]
     },
     "execution_count": 45,
     "metadata": {},
     "output_type": "execute_result"
    }
   ],
   "source": [
    "str1='welllcome'\n",
    "str1.replace('l','L',2)\n"
   ]
  },
  {
   "cell_type": "code",
   "execution_count": 56,
   "id": "85029b69-a1eb-44c8-afb4-2d79c7bdec86",
   "metadata": {},
   "outputs": [
    {
     "data": {
      "text/plain": [
       "'resta$t'"
      ]
     },
     "execution_count": 56,
     "metadata": {},
     "output_type": "execute_result"
    }
   ],
   "source": [
    "# str1='restart'\n",
    "#i/p='resta$t'\n",
    "\n",
    "str1='restart'\n",
    "s1=str1[:1]\n",
    "s2=str1[1:]\n",
    "s3=s2.replace('r','$')\n",
    "s1+s3\n"
   ]
  },
  {
   "cell_type": "code",
   "execution_count": 64,
   "id": "cfb8f264-c9e2-43f0-93d7-70c74464e20f",
   "metadata": {},
   "outputs": [
    {
     "ename": "SyntaxError",
     "evalue": "invalid syntax (2842843068.py, line 1)",
     "output_type": "error",
     "traceback": [
      "\u001b[1;36m  Cell \u001b[1;32mIn[64], line 1\u001b[1;36m\u001b[0m\n\u001b[1;33m    str1[::-1].replace['r','$']str1[::-1]\u001b[0m\n\u001b[1;37m                               ^\u001b[0m\n\u001b[1;31mSyntaxError\u001b[0m\u001b[1;31m:\u001b[0m invalid syntax\n"
     ]
    }
   ],
   "source": [
    "str1[::-1].replace['r','$']str1[::-1]"
   ]
  },
  {
   "cell_type": "markdown",
   "id": "7544e862-d5e5-450f-9083-8bcfa04a3c38",
   "metadata": {},
   "source": [
    "**index-find**"
   ]
  },
  {
   "cell_type": "code",
   "execution_count": 60,
   "id": "c42d213e-bccb-4a64-a89f-01cdff0a2e13",
   "metadata": {},
   "outputs": [
    {
     "data": {
      "text/plain": [
       "['__add__',\n",
       " '__class__',\n",
       " '__contains__',\n",
       " '__delattr__',\n",
       " '__dir__',\n",
       " '__doc__',\n",
       " '__eq__',\n",
       " '__format__',\n",
       " '__ge__',\n",
       " '__getattribute__',\n",
       " '__getitem__',\n",
       " '__getnewargs__',\n",
       " '__getstate__',\n",
       " '__gt__',\n",
       " '__hash__',\n",
       " '__init__',\n",
       " '__init_subclass__',\n",
       " '__iter__',\n",
       " '__le__',\n",
       " '__len__',\n",
       " '__lt__',\n",
       " '__mod__',\n",
       " '__mul__',\n",
       " '__ne__',\n",
       " '__new__',\n",
       " '__reduce__',\n",
       " '__reduce_ex__',\n",
       " '__repr__',\n",
       " '__rmod__',\n",
       " '__rmul__',\n",
       " '__setattr__',\n",
       " '__sizeof__',\n",
       " '__str__',\n",
       " '__subclasshook__',\n",
       " 'capitalize',\n",
       " 'casefold',\n",
       " 'center',\n",
       " 'count',\n",
       " 'encode',\n",
       " 'endswith',\n",
       " 'expandtabs',\n",
       " 'find',\n",
       " 'format',\n",
       " 'format_map',\n",
       " 'index',\n",
       " 'isalnum',\n",
       " 'isalpha',\n",
       " 'isascii',\n",
       " 'isdecimal',\n",
       " 'isdigit',\n",
       " 'isidentifier',\n",
       " 'islower',\n",
       " 'isnumeric',\n",
       " 'isprintable',\n",
       " 'isspace',\n",
       " 'istitle',\n",
       " 'isupper',\n",
       " 'join',\n",
       " 'ljust',\n",
       " 'lower',\n",
       " 'lstrip',\n",
       " 'maketrans',\n",
       " 'partition',\n",
       " 'removeprefix',\n",
       " 'removesuffix',\n",
       " 'replace',\n",
       " 'rfind',\n",
       " 'rindex',\n",
       " 'rjust',\n",
       " 'rpartition',\n",
       " 'rsplit',\n",
       " 'rstrip',\n",
       " 'split',\n",
       " 'splitlines',\n",
       " 'startswith',\n",
       " 'strip',\n",
       " 'swapcase',\n",
       " 'title',\n",
       " 'translate',\n",
       " 'upper',\n",
       " 'zfill']"
      ]
     },
     "execution_count": 60,
     "metadata": {},
     "output_type": "execute_result"
    }
   ],
   "source": [
    "dir(str)"
   ]
  },
  {
   "cell_type": "code",
   "execution_count": 65,
   "id": "f3a21630-2a83-4460-bb21-f609a88c6391",
   "metadata": {},
   "outputs": [
    {
     "data": {
      "text/plain": [
       "False"
      ]
     },
     "execution_count": 65,
     "metadata": {},
     "output_type": "execute_result"
    }
   ],
   "source": [
    "str1='hello'\n",
    "str1.isupper()"
   ]
  },
  {
   "cell_type": "code",
   "execution_count": 66,
   "id": "4fb3bdf0-7594-432a-8022-b70902d08fe0",
   "metadata": {},
   "outputs": [
    {
     "data": {
      "text/plain": [
       "True"
      ]
     },
     "execution_count": 66,
     "metadata": {},
     "output_type": "execute_result"
    }
   ],
   "source": [
    "str1='HELLO'\n",
    "str1.isupper()"
   ]
  },
  {
   "cell_type": "code",
   "execution_count": null,
   "id": "92c81f67-cef3-4a94-a12d-b1cc920aa2d4",
   "metadata": {},
   "outputs": [],
   "source": [
    "'isalnum',\n",
    " 'isalpha',\n",
    " 'isascii',\n",
    " 'isdecimal',\n",
    " 'isdigit',\n",
    " 'isidentifier',\n",
    " 'islower',\n",
    " 'isnumeric',\n",
    " 'isprintable',\n",
    " 'isspace',\n",
    " 'istitle',\n",
    " 'isupper',"
   ]
  },
  {
   "cell_type": "markdown",
   "id": "57ff76d6-a415-4f6a-bcb4-3cd0369d6497",
   "metadata": {},
   "source": [
    "**index**\n",
    "\n",
    "- name index says that it will give the index of any letters in a given string\n",
    "- we already  seen about count: count will give  how many letters are there in string\n",
    "    - at what index you want to count\n",
    "    - between index  also we count the letters\n",
    "- index meaning it will provide the index\n",
    "- imagine that there  same letters repeated\n",
    "- how can we find the next index"
   ]
  },
  {
   "cell_type": "code",
   "execution_count": 14,
   "id": "3f798dec-1044-4469-9923-222ed4cf95a2",
   "metadata": {},
   "outputs": [
    {
     "data": {
      "text/plain": [
       "1"
      ]
     },
     "execution_count": 14,
     "metadata": {},
     "output_type": "execute_result"
    }
   ],
   "source": [
    "#-11  -10  -9  -8  -7   -6  -5  -4  -3  -2  -1\n",
    "# h    a    i       h    a   i       h   a   i\n",
    "# 0    1    2   3   4    5   6   7   8   9   10\n",
    "\n",
    "str1='hai hai hai'\n",
    "str1.index('a')\n",
    "#Return the lowest index in 5 where substracting sub is found,"
   ]
  },
  {
   "cell_type": "code",
   "execution_count": 10,
   "id": "ca2ab172-6283-44ea-8c0e-c9b587901701",
   "metadata": {},
   "outputs": [
    {
     "data": {
      "text/plain": [
       "5"
      ]
     },
     "execution_count": 10,
     "metadata": {},
     "output_type": "execute_result"
    }
   ],
   "source": [
    "# I want to know next 'a'  index after 3rd index\n",
    "str1='hai hai hai'\n",
    "str1.index('a',3)"
   ]
  },
  {
   "cell_type": "code",
   "execution_count": 11,
   "id": "2725989f-4100-441a-be0d-1a3630738d54",
   "metadata": {},
   "outputs": [
    {
     "data": {
      "text/plain": [
       "5"
      ]
     },
     "execution_count": 11,
     "metadata": {},
     "output_type": "execute_result"
    }
   ],
   "source": [
    "#I want to know next 'a' between 3rd and 7th index\n",
    "str1='hai hai hai'\n",
    "str1.index('a',3,7)"
   ]
  },
  {
   "cell_type": "code",
   "execution_count": null,
   "id": "dfd391d4-1be0-4acc-8b93-402f67793541",
   "metadata": {},
   "outputs": [],
   "source": [
    "# I always a return  alowest index only\n",
    "str1='hai hai hai'\n",
    "str1.index('a')   # among all the index the lowest index is '1'\n",
    "\n",
    "str1='hai hai hai'\n",
    "str1.index('a',3) # after 3rd index  the lowest index of 'a' is 5\n",
    "\n",
    "\n",
    "str1='hai hai hai'\n",
    "str1.index('a',3,7) # between \n"
   ]
  },
  {
   "cell_type": "code",
   "execution_count": 13,
   "id": "045e6b4c-091c-4098-bd20-156eae3a6c99",
   "metadata": {},
   "outputs": [
    {
     "data": {
      "text/plain": [
       "9"
      ]
     },
     "execution_count": 13,
     "metadata": {},
     "output_type": "execute_result"
    }
   ],
   "source": [
    "str1='hai hai hai'\n",
    "str1.index('a',-3,-1)"
   ]
  },
  {
   "cell_type": "code",
   "execution_count": 16,
   "id": "185a7211-f900-45de-97d9-7537a077319a",
   "metadata": {},
   "outputs": [
    {
     "data": {
      "text/plain": [
       "5"
      ]
     },
     "execution_count": 16,
     "metadata": {},
     "output_type": "execute_result"
    }
   ],
   "source": [
    "str1='hai hai hai'\n",
    "str1.index('a',-9,-4)"
   ]
  },
  {
   "cell_type": "code",
   "execution_count": 17,
   "id": "abbff444-e99a-42e0-b5c8-dc9c56eba6ac",
   "metadata": {},
   "outputs": [
    {
     "data": {
      "text/plain": [
       "3"
      ]
     },
     "execution_count": 17,
     "metadata": {},
     "output_type": "execute_result"
    }
   ],
   "source": [
    "str='hai hai hai'\n",
    "str.count('a')"
   ]
  },
  {
   "cell_type": "code",
   "execution_count": 18,
   "id": "75a97878-b2f7-4e4b-920e-2bd5579445f5",
   "metadata": {},
   "outputs": [
    {
     "data": {
      "text/plain": [
       "2"
      ]
     },
     "execution_count": 18,
     "metadata": {},
     "output_type": "execute_result"
    }
   ],
   "source": [
    "str='hai hai hai'\n",
    "str.count('a',3)"
   ]
  },
  {
   "cell_type": "code",
   "execution_count": 23,
   "id": "fbda7150-3de1-4fa0-a90c-2232cb6fb67d",
   "metadata": {},
   "outputs": [
    {
     "name": "stdout",
     "output_type": "stream",
     "text": [
      "3\n",
      "2\n",
      "1\n"
     ]
    }
   ],
   "source": [
    "#-11  -10  -9  -8  -7   -6  -5  -4  -3  -2  -1\n",
    "# h    a    i       h    a   i       h   a   i\n",
    "# 0    1    2   3   4    5   6   7   8   9   10\n",
    "\n",
    "str='hai hai hai'\n",
    "print(str.count('a'))\n",
    "print(str.count('a',3))\n",
    "print(str.count('a',3,8))"
   ]
  },
  {
   "cell_type": "code",
   "execution_count": 22,
   "id": "e51dec8d-8407-44f2-bcd8-cec9ce3f77fd",
   "metadata": {},
   "outputs": [
    {
     "name": "stdout",
     "output_type": "stream",
     "text": [
      "1\n",
      "5\n",
      "5\n"
     ]
    }
   ],
   "source": [
    "#-11  -10  -9  -8  -7   -6  -5  -4  -3  -2  -1\n",
    "# h    a    i       h    a   i       h   a   i\n",
    "# 0    1    2   3   4    5   6   7   8   9   10\n",
    "\n",
    "str='hai hai hai'\n",
    "print(str.index('a'))\n",
    "print(str.index('a',3))\n",
    "print(str.index('a',3,8))"
   ]
  },
  {
   "cell_type": "code",
   "execution_count": 27,
   "id": "8a41d6ea-01e4-408e-b815-003215419aaf",
   "metadata": {},
   "outputs": [
    {
     "name": "stdout",
     "output_type": "stream",
     "text": [
      "3\n",
      "2\n",
      "2\n"
     ]
    }
   ],
   "source": [
    "#-11  -10  -9  -8  -7   -6  -5  -4  -3  -2  -1\n",
    "# h    a    i       h    a   i       h   a   i\n",
    "# 0    1    2   3   4    5   6   7   8   9   10\n",
    "\n",
    "str='hai hai hai'\n",
    "print(str.count('a'))\n",
    "print(str.count('a',3))\n",
    "print(str.count('a',3,-1))"
   ]
  },
  {
   "cell_type": "code",
   "execution_count": 28,
   "id": "3db41f35-174a-4657-93e9-67f4eb3c0c35",
   "metadata": {},
   "outputs": [
    {
     "name": "stdout",
     "output_type": "stream",
     "text": [
      "1\n",
      "5\n",
      "9\n"
     ]
    }
   ],
   "source": [
    "str1='hai hai hai'\n",
    "# I want to know all the index of 'a'\n",
    "for i in range(len(str1)):\n",
    "    if str1[i]=='a':\n",
    "        print(i)"
   ]
  },
  {
   "cell_type": "code",
   "execution_count": 38,
   "id": "b2dff119-4b88-4179-8aa6-bd1ad7326d7e",
   "metadata": {},
   "outputs": [
    {
     "name": "stdout",
     "output_type": "stream",
     "text": [
      "1\n",
      "5\n",
      "9\n",
      "13\n",
      "17\n"
     ]
    }
   ],
   "source": [
    "#-11  -10  -9  -8  -7   -6  -5  -4  -3  -2  -1\n",
    "# h    a    i       h    a   i       h   a   i\n",
    "# 0    1    2   3   4    5   6   7   8   9   10\n",
    "\n",
    "str1='hai hai hai hai hai'\n",
    "i1=str1.index('a')\n",
    "print(i1)\n",
    "i2=str1.index('a',i1+1)\n",
    "print(i2)\n",
    "i3=str1.index('a',i2+1)\n",
    "print(i3)\n",
    "i4=str1.index('a',i3+1)\n",
    "print(i4)\n",
    "i5=str1.index('a',i4+1)\n",
    "print(i5)"
   ]
  },
  {
   "cell_type": "code",
   "execution_count": 39,
   "id": "75bbf554-3422-4024-ba63-da7876a70872",
   "metadata": {},
   "outputs": [
    {
     "name": "stdout",
     "output_type": "stream",
     "text": [
      "1\n",
      "5\n",
      "9\n"
     ]
    }
   ],
   "source": [
    "#-11  -10  -9  -8  -7   -6  -5  -4  -3  -2  -1\n",
    "# h    a    i       h    a   i       h   a   i\n",
    "# 0    1    2   3   4    5   6   7   8   9   10\n",
    "\n",
    "str='hai hai hai'\n",
    "i1=str1.index('a')\n",
    "print(i1)\n",
    "i2=str1.index('a',2)\n",
    "print(i2)\n",
    "i3=str1.index('a',6)\n",
    "print(i3)"
   ]
  },
  {
   "cell_type": "markdown",
   "id": "1a455e87-9c73-4dec-8252-39c65ed14f9d",
   "metadata": {},
   "source": [
    "**find**"
   ]
  },
  {
   "cell_type": "code",
   "execution_count": 49,
   "id": "b70b0251-5280-4070-b527-47fea6fdb065",
   "metadata": {},
   "outputs": [
    {
     "name": "stdout",
     "output_type": "stream",
     "text": [
      "1\n",
      "5\n",
      "9\n",
      "-1\n"
     ]
    }
   ],
   "source": [
    "str1='hai hai hai '\n",
    "i1=str1.find('a')\n",
    "print(i1)\n",
    "i2=str1.find('a',i1+2)\n",
    "print(i2)\n",
    "i3=str1.find('a',6)\n",
    "print(i3)\n",
    "i4=str1.find('a',i3+1)\n",
    "print(i4)"
   ]
  },
  {
   "cell_type": "code",
   "execution_count": null,
   "id": "7184a288-e6fc-4e2e-a3fd-ed30b9014a96",
   "metadata": {},
   "outputs": [],
   "source": [
    "str1.index()#Raises ValueError when the substring is not found.\n"
   ]
  },
  {
   "cell_type": "code",
   "execution_count": null,
   "id": "8d05452e-9d31-4d08-bc22-5f16379345a7",
   "metadata": {},
   "outputs": [],
   "source": [
    "str1.find()#Return -1 on failure.\n"
   ]
  },
  {
   "cell_type": "code",
   "execution_count": 50,
   "id": "4033ede3-3eb9-4f92-a045-eedf412a3f6f",
   "metadata": {},
   "outputs": [
    {
     "data": {
      "text/plain": [
       "'hai hai hai'"
      ]
     },
     "execution_count": 50,
     "metadata": {},
     "output_type": "execute_result"
    }
   ],
   "source": [
    "str1='hai hai hai'\n",
    "str1.replace('z','Z')"
   ]
  },
  {
   "cell_type": "code",
   "execution_count": 51,
   "id": "e59fcf84-f6ee-402f-a030-329a99ffef7d",
   "metadata": {},
   "outputs": [
    {
     "data": {
      "text/plain": [
       "0"
      ]
     },
     "execution_count": 51,
     "metadata": {},
     "output_type": "execute_result"
    }
   ],
   "source": [
    "str1='hai hai hai'\n",
    "str1.count('z')"
   ]
  },
  {
   "cell_type": "markdown",
   "id": "41bb2443-f32a-45bd-8358-8a637a975d6b",
   "metadata": {},
   "source": [
    "- if sub string not found\n",
    "- count method will give zero\n",
    "- Repalce method will give original string\n",
    "- index will give sub string not found error\n",
    "- Find will give -1"
   ]
  },
  {
   "cell_type": "code",
   "execution_count": 67,
   "id": "b3546089-7d44-4da3-9150-614c7d46bd4c",
   "metadata": {},
   "outputs": [
    {
     "data": {
      "text/plain": [
       "('omakr', 'nallagoni', 'cognizant')"
      ]
     },
     "execution_count": 67,
     "metadata": {},
     "output_type": "execute_result"
    }
   ],
   "source": [
    "str1='omakr.nallagoni@cognizant.com'\n",
    "# first name= omkar\n",
    "# second name= nallagoni\n",
    "#company name= cognizant\n",
    "#str2='virat.kohli@rcb.com'\n",
    "#str3='rohit.sharma@mi.com'\n",
    "#str4='a.b@c.com'\n",
    "\n",
    "i1=str1.index('.')\n",
    "i2=str1.index('@')\n",
    "i3=str1.index('.',i1+1)\n",
    "first_name=str1[:i1]\n",
    "second_name=str1[i1+1:i2]\n",
    "cname=str1[i2+1:i3]\n",
    "first_name,second_name,cname"
   ]
  },
  {
   "cell_type": "markdown",
   "id": "04b498d1-dc08-44bc-9371-f6b7208dde71",
   "metadata": {},
   "source": [
    "- upper/lower/casefold\n",
    "- cappitalize?title\n",
    "- count\n",
    "- Repalce\n",
    "- index/find\n",
    "- start with is"
   ]
  },
  {
   "cell_type": "code",
   "execution_count": null,
   "id": "f5dd41c3-f816-4317-bf96-aba41dec18a5",
   "metadata": {},
   "outputs": [],
   "source": [
    "- split\n",
    "- strip/isstrip\n",
    "- start"
   ]
  },
  {
   "cell_type": "code",
   "execution_count": null,
   "id": "1ce3d373-ea54-4d09-8b7c-0e1db1d9a133",
   "metadata": {},
   "outputs": [],
   "source": []
  },
  {
   "cell_type": "code",
   "execution_count": null,
   "id": "8489f312-eefb-4277-adc5-5b17f249519b",
   "metadata": {},
   "outputs": [],
   "source": []
  }
 ],
 "metadata": {
  "kernelspec": {
   "display_name": "Python 3 (ipykernel)",
   "language": "python",
   "name": "python3"
  },
  "language_info": {
   "codemirror_mode": {
    "name": "ipython",
    "version": 3
   },
   "file_extension": ".py",
   "mimetype": "text/x-python",
   "name": "python",
   "nbconvert_exporter": "python",
   "pygments_lexer": "ipython3",
   "version": "3.11.7"
  }
 },
 "nbformat": 4,
 "nbformat_minor": 5
}
