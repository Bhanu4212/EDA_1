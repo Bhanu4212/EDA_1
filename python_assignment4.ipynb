{
 "cells": [
  {
   "cell_type": "code",
   "execution_count": 5,
   "id": "02164888-e8ab-4111-8648-d00c5fc8a00b",
   "metadata": {},
   "outputs": [
    {
     "name": "stdout",
     "output_type": "stream",
     "text": [
      "number is odd\n"
     ]
    }
   ],
   "source": [
    "# wap ask the user enter a number\n",
    "# find it is a even number or odd number\n",
    "# idea: any number divide by 2 , the remiander=0\n",
    "#       it is called as even number\n",
    "\n",
    "import random\n",
    "num=random.randint(1,100)\n",
    "if num%2==0:\n",
    "    print(\"number is even\")\n",
    "else:\n",
    "    print(\"number is odd\")\n"
   ]
  },
  {
   "cell_type": "code",
   "execution_count": 12,
   "id": "e420feba-8d5e-408c-a7d9-4aa5967cc973",
   "metadata": {},
   "outputs": [
    {
     "name": "stdin",
     "output_type": "stream",
     "text": [
      "enter the distance between two cities 50\n"
     ]
    },
    {
     "name": "stdout",
     "output_type": "stream",
     "text": [
      "the charge for the ride\n"
     ]
    },
    {
     "name": "stdin",
     "output_type": "stream",
     "text": [
      "enter the charge 7\n"
     ]
    },
    {
     "name": "stdout",
     "output_type": "stream",
     "text": [
      "the charge of the ride is:350\n"
     ]
    }
   ],
   "source": [
    "# wap ask the user enter the distance\n",
    "# if distance greater than 25km\n",
    "#      then enter the charge\n",
    "#      print the total cost\n",
    "#otherwise\n",
    "#      print free ride\n",
    "\n",
    "num=eval(input('enter the distance between two cities'))\n",
    "if num>25:\n",
    "    print('the charge for the ride')\n",
    "    charge=eval(input('enter the charge'))\n",
    "    cost=num*charge\n",
    "    print(f'the charge of the ride is:{cost}')\n",
    "else:\n",
    "    print('Ride is free')\n"
   ]
  },
  {
   "cell_type": "code",
   "execution_count": 16,
   "id": "a8e73dfc-de1c-418e-90bc-e14678115af3",
   "metadata": {},
   "outputs": [
    {
     "name": "stdin",
     "output_type": "stream",
     "text": [
      "enter the distance 50\n",
      "enter the cutoff_distance 25\n"
     ]
    },
    {
     "name": "stdout",
     "output_type": "stream",
     "text": [
      "good news your charge is aplicable for only remaining of 25\n"
     ]
    },
    {
     "name": "stdin",
     "output_type": "stream",
     "text": [
      "enter the charge 9\n"
     ]
    },
    {
     "name": "stdout",
     "output_type": "stream",
     "text": [
      "the total cost of the ride is:1250\n"
     ]
    }
   ],
   "source": [
    "# wap ask the user enter the distance\n",
    "# cutoff distance enter 25\n",
    "# if distance greater than 25km\n",
    "#      print(\"good news your charge is aplicable for only remaining of 25\")\n",
    "#      chargeble distance= distance-cutoff\n",
    "#      then enter the charge\n",
    "#      print the total cost\n",
    "#otherwise\n",
    "#      print free ride\n",
    "\n",
    "distance=eval(input('enter the distance'))\n",
    "cutoff_distance=eval(input('enter the cutoff_distance'))\n",
    "if distance>25:\n",
    "    print('good news your charge is aplicable for only remaining of 25')\n",
    "    chargeble_distance=distance-cutoff_distance\n",
    "    charge=eval(input('enter the charge'))\n",
    "    cost=distance*cutoff_distance\n",
    "    print(f'the total cost of the ride is:{cost}')\n",
    "else:\n",
    "    print('its a free ride')"
   ]
  },
  {
   "cell_type": "code",
   "execution_count": 17,
   "id": "b323f16b-411b-45b1-a25e-2e5e4341a4bf",
   "metadata": {},
   "outputs": [
    {
     "name": "stdin",
     "output_type": "stream",
     "text": [
      "enter the cousre data science\n",
      "enter the institute nareshit\n"
     ]
    },
    {
     "name": "stdout",
     "output_type": "stream",
     "text": [
      " you are good\n"
     ]
    }
   ],
   "source": [
    "# wap ask the user enter the course\n",
    "# ask the user enter the Institute\n",
    "# if the course equal to data science and institute equal to naresh it\n",
    "#     then you are good\n",
    "# otherwise\n",
    "#     you are bad\n",
    "\n",
    "cousre=input('enter the cousre')\n",
    "institute=input('enter the institute')\n",
    "if cousre=='data science' and 'institute==nareshit':\n",
    "    print(' you are good')\n",
    "else:\n",
    "    print('you are bad')\n",
    "\n"
   ]
  },
  {
   "cell_type": "code",
   "execution_count": 19,
   "id": "be0eaff4-6acf-412e-9523-14a64c5ff1dd",
   "metadata": {},
   "outputs": [
    {
     "name": "stdin",
     "output_type": "stream",
     "text": [
      "enter the num2  5\n"
     ]
    },
    {
     "name": "stdout",
     "output_type": "stream",
     "text": [
      "you lost\n"
     ]
    }
   ],
   "source": [
    "# wap ask the user enter a random number between 1 to 10, treat this as number1\n",
    "# ask the user enter another number from keyboard, treat this as number2\n",
    "# if number1 equal to number2\n",
    "#     print you won\n",
    "# otherwise\n",
    "#     print you lost\n",
    "\n",
    "num1=random.randint(1,10)\n",
    "num2=eval(input('enter the num2 '))\n",
    "if num1==num2:\n",
    "    print('you won')\n",
    "else:\n",
    "    print('you lost')\n"
   ]
  },
  {
   "cell_type": "code",
   "execution_count": 20,
   "id": "0801e673-b849-4386-a481-ade57dac38fd",
   "metadata": {},
   "outputs": [
    {
     "name": "stdin",
     "output_type": "stream",
     "text": [
      "enter the number 3\n"
     ]
    },
    {
     "name": "stdout",
     "output_type": "stream",
     "text": [
      "Three\n"
     ]
    }
   ],
   "source": [
    "# wap ask the user enter number\n",
    "# if number equal to 1 then print one\n",
    "# if number equal to 2 then print two\n",
    "# if number equal to 3 then print three\n",
    "# otherwise  print enter a valid number\n",
    "\n",
    "num=eval(input('enter the number'))\n",
    "if num==1:\n",
    "    print('One')\n",
    "elif num==2:\n",
    "    print('Two')\n",
    "elif num==3:\n",
    "    print('Three')\n",
    "else:\n",
    "    print('enter the valid number')"
   ]
  },
  {
   "cell_type": "code",
   "execution_count": 21,
   "id": "626a5a53-63d0-4cac-bfe5-b782f434248e",
   "metadata": {},
   "outputs": [
    {
     "name": "stdin",
     "output_type": "stream",
     "text": [
      "enter a number 5\n"
     ]
    },
    {
     "name": "stdout",
     "output_type": "stream",
     "text": [
      "positive\n"
     ]
    }
   ],
   "source": [
    "# wap ask the user enter a number\n",
    "# if that number greater than zero print postive\n",
    "# if that number less than zero print negative\n",
    "# otherwise print zero\n",
    "\n",
    "num=eval(input('enter a number'))\n",
    "if num>0:\n",
    "    print('positive')\n",
    "elif num<0:\n",
    "    print('negative')\n",
    "else:\n",
    "    print('zero')"
   ]
  },
  {
   "cell_type": "code",
   "execution_count": 22,
   "id": "6c8c18b8-a290-4840-8422-21726304b490",
   "metadata": {},
   "outputs": [
    {
     "name": "stdin",
     "output_type": "stream",
     "text": [
      "enter the percentage 50\n"
     ]
    },
    {
     "name": "stdout",
     "output_type": "stream",
     "text": [
      "C grade\n"
     ]
    }
   ],
   "source": [
    "# WAP ask the user enter the percentage of marks 0 to 100\n",
    "# if percentagw gretaer than 90  print A garde\n",
    "# if percentage between 75 to 90 print B garde\n",
    "# if percentage between 50 to 75 print C grade\n",
    "# if percentage between 35 to 50 print D grade\n",
    "# if percentage less than 35 print Fail\n",
    "\n",
    "percentage=eval(input('enter the percentage'))\n",
    "if percentage>90:\n",
    "    print('A grade')\n",
    "elif percentage>=75:\n",
    "    print('B grade')\n",
    "elif percentage>=50:\n",
    "    print('C grade')\n",
    "elif percentage>=35:\n",
    "    print('D grade')\n",
    "else:\n",
    "    print('fail')"
   ]
  },
  {
   "cell_type": "code",
   "execution_count": 23,
   "id": "23bbdce9-c81e-44b4-94a4-6a19764c0802",
   "metadata": {},
   "outputs": [
    {
     "name": "stdin",
     "output_type": "stream",
     "text": [
      "enter the age 65\n"
     ]
    },
    {
     "name": "stdout",
     "output_type": "stream",
     "text": [
      "senior citizen\n"
     ]
    }
   ],
   "source": [
    "# WAP ask the user enter the age\n",
    "# if the age greater tahn 100 print you are lucky\n",
    "# if the age gretaer than 75 print old age\n",
    "# if the age  between 50 to 75 print ss\n",
    "# if the age between  30 tp 50 print MA\n",
    "# if the age between  15 to 30 print young age\n",
    "# if the afe between less than 15 print kid\n",
    "\n",
    "\n",
    "age=eval(input('enter the age'))\n",
    "if age>100:\n",
    "    print('you are lucky')\n",
    "elif age>75:\n",
    "    print('old age')\n",
    "elif age>=50:\n",
    "     print('senior citizen')\n",
    "elif age>=35:\n",
    "    print('middile age')\n",
    "else:\n",
    "    print('kid')\n"
   ]
  },
  {
   "cell_type": "code",
   "execution_count": null,
   "id": "054ad277-4600-453c-8816-95cd704418a2",
   "metadata": {},
   "outputs": [],
   "source": []
  }
 ],
 "metadata": {
  "kernelspec": {
   "display_name": "Python 3 (ipykernel)",
   "language": "python",
   "name": "python3"
  },
  "language_info": {
   "codemirror_mode": {
    "name": "ipython",
    "version": 3
   },
   "file_extension": ".py",
   "mimetype": "text/x-python",
   "name": "python",
   "nbconvert_exporter": "python",
   "pygments_lexer": "ipython3",
   "version": "3.11.7"
  }
 },
 "nbformat": 4,
 "nbformat_minor": 5
}
