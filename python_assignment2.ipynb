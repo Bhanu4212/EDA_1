{
 "cells": [
  {
   "cell_type": "code",
   "execution_count": 9,
   "id": "242733ec-ba64-4411-b2ba-612e1568b205",
   "metadata": {},
   "outputs": [
    {
     "name": "stdout",
     "output_type": "stream",
     "text": [
      "the addition of 37 and 125 is:162\n",
      "the subtraction of 37 and 125 is:162\n",
      "the multiplication of 37 and 125 is:4625\n",
      "the division of 37 and 125 is:0\n"
     ]
    }
   ],
   "source": [
    "import random\n",
    "number1=random.randint(20,50)\n",
    "number2=random.randint(100,150)\n",
    "add=number1+number2\n",
    "sub=number1+number2\n",
    "multi=number1*number2\n",
    "div=round(number1/number2)\n",
    "print(f'the addition of {number1} and {number2} is:{add}')\n",
    "print(f'the subtraction of {number1} and {number2} is:{sub}')\n",
    "print(f'the multiplication of {number1} and {number2} is:{multi}')\n",
    "print(f'the division of {number1} and {number2} is:{div}')"
   ]
  },
  {
   "cell_type": "code",
   "execution_count": 4,
   "id": "97a6fd1a-89d0-4e88-a5c4-648b361cabd0",
   "metadata": {},
   "outputs": [
    {
     "name": "stdout",
     "output_type": "stream",
     "text": [
      "the square of number is:460\n"
     ]
    }
   ],
   "source": [
    "number1=random.randint(10,30)\n",
    "number2=number1*number2\n",
    "print(f'the square of number is:{number2}')"
   ]
  },
  {
   "cell_type": "code",
   "execution_count": 5,
   "id": "0159b10f-6fd4-4815-9b46-90c969679438",
   "metadata": {},
   "outputs": [
    {
     "name": "stdout",
     "output_type": "stream",
     "text": [
      "11--->22--->33--->44--->55\n"
     ]
    }
   ],
   "source": [
    "num=random.randint(5,25)\n",
    "print(1*num,2*num,3*num,4*num,5*num,sep='--->')"
   ]
  },
  {
   "cell_type": "code",
   "execution_count": 12,
   "id": "c19e1905-d616-4b9d-915a-223ca6c1edd4",
   "metadata": {},
   "outputs": [
    {
     "name": "stdout",
     "output_type": "stream",
     "text": [
      "the weigth  converted to pound is:24\n"
     ]
    }
   ],
   "source": [
    "weight=random.randint(20,50)\n",
    "pound=round(num*2.2)\n",
    "print(f'the weigth  converted to pound is:{pound}')"
   ]
  },
  {
   "cell_type": "code",
   "execution_count": 14,
   "id": "94d1ede7-7ec6-4b7a-afdf-041cf09a21dd",
   "metadata": {},
   "outputs": [
    {
     "name": "stdout",
     "output_type": "stream",
     "text": [
      "the total of numbers is:138\n",
      "the average of number is:83\n"
     ]
    }
   ],
   "source": [
    "number1=random.randint(20,30)\n",
    "number2=random.randint(30,50)\n",
    "number3=random.randint(20,100)\n",
    "total=number1+number2+number3\n",
    "average=round(number1+number2+number3/3)\n",
    "print(f'the total of numbers is:{total}')\n",
    "print(f'the average of number is:{average}')"
   ]
  },
  {
   "cell_type": "code",
   "execution_count": 15,
   "id": "c5d927e5-7bbf-4d9b-94e6-fc0a7cf975c6",
   "metadata": {},
   "outputs": [
    {
     "name": "stdin",
     "output_type": "stream",
     "text": [
      "enter the number2: 3.14\n"
     ]
    },
    {
     "name": "stdout",
     "output_type": "stream",
     "text": [
      "the area of a circle is:1384.74\n"
     ]
    }
   ],
   "source": [
    "radius=random.randint(5,25)\n",
    "pi_value=eval(input(\"enter the number2:\"))\n",
    "area=radius*radius*pi_value\n",
    "print(f'the area of a circle is:{area}')"
   ]
  },
  {
   "cell_type": "code",
   "execution_count": 18,
   "id": "2e862a91-c487-4a73-8adb-0d3d22cf0839",
   "metadata": {},
   "outputs": [
    {
     "name": "stdout",
     "output_type": "stream",
     "text": [
      " the converted bill amount in dollars to rupees is:3166.6666666666665\n"
     ]
    }
   ],
   "source": [
    "bill_amount=random.randint(10,50)\n",
    "rupees=bill_amount/0.012\n",
    "print(f' the converted bill amount in dollars to rupees is:{rupees}')"
   ]
  },
  {
   "cell_type": "code",
   "execution_count": 19,
   "id": "b130dd22-09eb-4608-8195-6fe3ff0230ef",
   "metadata": {},
   "outputs": [
    {
     "name": "stdout",
     "output_type": "stream",
     "text": [
      "the area of triangle is: 448.0\n"
     ]
    }
   ],
   "source": [
    "base=random.randint(20,30)\n",
    "height=random.randint(25,50)\n",
    "area=0.5*base*height\n",
    "print(f\"the area of triangle is: {area}\")"
   ]
  },
  {
   "cell_type": "code",
   "execution_count": 20,
   "id": "04a3a2fe-cfc4-4d1f-bde8-8eb5d6f804ca",
   "metadata": {},
   "outputs": [
    {
     "name": "stdout",
     "output_type": "stream",
     "text": [
      "the area of rectangle is: 378\n"
     ]
    }
   ],
   "source": [
    "length=random.randint(10,30)\n",
    "width=random.randint(10,25)\n",
    "area=length*width\n",
    "print(f\"the area of rectangle is: {area}\")"
   ]
  },
  {
   "cell_type": "code",
   "execution_count": 1,
   "id": "faf30e31-e803-4f6c-8a85-31cc2e4e2922",
   "metadata": {},
   "outputs": [
    {
     "name": "stdout",
     "output_type": "stream",
     "text": [
      "the tip amount is:362\n",
      "the total meal price is:2775\n"
     ]
    }
   ],
   "source": [
    "import random\n",
    "bill_amount=random.randint(1000,2500)\n",
    "tip_percentage=15\n",
    "tip_amount= round(bill_amount*tip_percentage/100)\n",
    "total_bill=round(bill_amount+tip_amount)\n",
    "print(f\"the tip amount is:{tip_amount}\")\n",
    "print(f\"the total meal price is:{total_bill}\")"
   ]
  },
  {
   "cell_type": "code",
   "execution_count": 15,
   "id": "e0fdd637-026a-434c-8d86-ca7fda66621c",
   "metadata": {},
   "outputs": [
    {
     "name": "stdout",
     "output_type": "stream",
     "text": [
      "Father:Hey Baby!\n",
      "Daughter:hello Dady\n",
      "Father: I heard your exams are over,What about the result\n",
      "Daughter: Yes Dad! Results are out.\n",
      "Father: What is the percentage\n",
      "Daughter: I will give my subject wise marks, you tell me the percentage\n",
      "Father:okay\n",
      "the First Language  is:62\n",
      "the Second Language  is:81\n",
      "the Third Language  is:72\n",
      "the Maths  is:73\n",
      "the Science is:84\n",
      "Daughter:Dad now tell me how much percentage i got\n",
      "Father:Tell me the max marks of each subject\n",
      "max_marks=100\n",
      " the total percentage of daughter is:74.4\n"
     ]
    }
   ],
   "source": [
    "import time\n",
    "print(\"Father:Hey Baby!\")\n",
    "time.sleep(2)\n",
    "print(\"Daughter:hello Dady\")\n",
    "time.sleep(2)\n",
    "print(\"Father: I heard your exams are over,What about the result\")\n",
    "time.sleep(2)\n",
    "print(\"Daughter: Yes Dad! Results are out.\")\n",
    "time.sleep(2)\n",
    "print(\"Father: What is the percentage\")\n",
    "time.sleep(2)\n",
    "print(\"Daughter: I will give my subject wise marks, you tell me the percentage\")\n",
    "time.sleep(2)\n",
    "print(\"Father:okay\")\n",
    "time.sleep(2)\n",
    "sub1=random.randint(50,80)\n",
    "print(f'the First Language  is:{sub1}')\n",
    "time.sleep(2)\n",
    "sub2=random.randint(70,90)\n",
    "print(f'the Second Language  is:{sub2}')\n",
    "time.sleep(2)\n",
    "sub3=random.randint(70,90)\n",
    "print(f'the Third Language  is:{sub3}')\n",
    "time.sleep(2)\n",
    "sub4=random.randint(70,90)\n",
    "print(f'the Maths  is:{sub4}')\n",
    "time.sleep(2)\n",
    "sub5=random.randint(70,90)\n",
    "print(f'the Science is:{sub5}')\n",
    "time.sleep(2)\n",
    "print(\"Daughter:Dad now tell me how much percentage i got\")\n",
    "time.sleep(2)\n",
    "print(\"Father:Tell me the max marks of each subject\")\n",
    "time.sleep(2)\n",
    "max_marks=100\n",
    "print('max_marks=100')\n",
    "time.sleep(2)\n",
    "percentage_marks=(sub1+sub2+sub3+sub4+sub5)/5\n",
    "time.sleep(2)\n",
    "print(f\" the total percentage of daughter is:{percentage_marks}\")"
   ]
  },
  {
   "cell_type": "code",
   "execution_count": null,
   "id": "a2cfc955-dd49-4c77-8df5-21a6c85b52c5",
   "metadata": {},
   "outputs": [],
   "source": []
  }
 ],
 "metadata": {
  "kernelspec": {
   "display_name": "Python 3 (ipykernel)",
   "language": "python",
   "name": "python3"
  },
  "language_info": {
   "codemirror_mode": {
    "name": "ipython",
    "version": 3
   },
   "file_extension": ".py",
   "mimetype": "text/x-python",
   "name": "python",
   "nbconvert_exporter": "python",
   "pygments_lexer": "ipython3",
   "version": "3.11.7"
  }
 },
 "nbformat": 4,
 "nbformat_minor": 5
}
